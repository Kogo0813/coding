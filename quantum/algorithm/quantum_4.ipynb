{
 "cells": [
  {
   "cell_type": "code",
   "execution_count": 1,
   "metadata": {},
   "outputs": [],
   "source": [
    "from qiskit import Aer, execute, QuantumCircuit\n",
    "from math import pi, sqrt\n",
    "from qiskit.visualization import plot_histogram, plot_bloch_multivector\n",
    "\n"
   ]
  },
  {
   "cell_type": "code",
   "execution_count": 4,
   "metadata": {},
   "outputs": [
    {
     "name": "stdout",
     "output_type": "stream",
     "text": [
      "Collecting git+https://github.com/qiskit-community/qiskit-textbook.git#subdirectory=qiskit-textbook-src\n",
      "  Cloning https://github.com/qiskit-community/qiskit-textbook.git to c:\\users\\kyeongtae\\appdata\\local\\temp\\pip-req-build-6xbhc1q2\n",
      "  Resolved https://github.com/qiskit-community/qiskit-textbook.git to commit 85ba91fef057a425cd2cb7ce58999e9334b75f4c\n",
      "  Preparing metadata (setup.py): started\n",
      "  Preparing metadata (setup.py): finished with status 'done'\n",
      "Requirement already satisfied: qiskit in c:\\users\\kyeongtae\\anaconda3\\lib\\site-packages (from qiskit-textbook==0.1.0) (0.39.4)\n",
      "Requirement already satisfied: ipython in c:\\users\\kyeongtae\\anaconda3\\lib\\site-packages (from qiskit-textbook==0.1.0) (7.31.1)\n",
      "Requirement already satisfied: ipywidgets in c:\\users\\kyeongtae\\anaconda3\\lib\\site-packages (from qiskit-textbook==0.1.0) (7.6.5)\n",
      "Requirement already satisfied: numpy in c:\\users\\kyeongtae\\anaconda3\\lib\\site-packages (from qiskit-textbook==0.1.0) (1.23.5)\n",
      "Requirement already satisfied: matplotlib in c:\\users\\kyeongtae\\anaconda3\\lib\\site-packages (from qiskit-textbook==0.1.0) (3.6.2)\n",
      "Requirement already satisfied: numexpr in c:\\users\\kyeongtae\\anaconda3\\lib\\site-packages (from qiskit-textbook==0.1.0) (2.8.4)\n",
      "Requirement already satisfied: pygments in c:\\users\\kyeongtae\\anaconda3\\lib\\site-packages (from ipython->qiskit-textbook==0.1.0) (2.11.2)\n",
      "Requirement already satisfied: prompt-toolkit!=3.0.0,!=3.0.1,<3.1.0,>=2.0.0 in c:\\users\\kyeongtae\\anaconda3\\lib\\site-packages (from ipython->qiskit-textbook==0.1.0) (3.0.36)\n",
      "Requirement already satisfied: setuptools>=18.5 in c:\\users\\kyeongtae\\anaconda3\\lib\\site-packages (from ipython->qiskit-textbook==0.1.0) (65.5.0)\n",
      "Requirement already satisfied: colorama in c:\\users\\kyeongtae\\anaconda3\\lib\\site-packages (from ipython->qiskit-textbook==0.1.0) (0.4.6)\n",
      "Requirement already satisfied: traitlets>=4.2 in c:\\users\\kyeongtae\\anaconda3\\lib\\site-packages (from ipython->qiskit-textbook==0.1.0) (5.7.1)\n",
      "Requirement already satisfied: decorator in c:\\users\\kyeongtae\\anaconda3\\lib\\site-packages (from ipython->qiskit-textbook==0.1.0) (5.1.1)\n",
      "Requirement already satisfied: matplotlib-inline in c:\\users\\kyeongtae\\anaconda3\\lib\\site-packages (from ipython->qiskit-textbook==0.1.0) (0.1.6)\n",
      "Requirement already satisfied: jedi>=0.16 in c:\\users\\kyeongtae\\anaconda3\\lib\\site-packages (from ipython->qiskit-textbook==0.1.0) (0.18.1)\n",
      "Requirement already satisfied: backcall in c:\\users\\kyeongtae\\anaconda3\\lib\\site-packages (from ipython->qiskit-textbook==0.1.0) (0.2.0)\n",
      "Requirement already satisfied: pickleshare in c:\\users\\kyeongtae\\anaconda3\\lib\\site-packages (from ipython->qiskit-textbook==0.1.0) (0.7.5)\n",
      "Requirement already satisfied: ipython-genutils~=0.2.0 in c:\\users\\kyeongtae\\anaconda3\\lib\\site-packages (from ipywidgets->qiskit-textbook==0.1.0) (0.2.0)\n",
      "Requirement already satisfied: jupyterlab-widgets>=1.0.0 in c:\\users\\kyeongtae\\anaconda3\\lib\\site-packages (from ipywidgets->qiskit-textbook==0.1.0) (1.0.0)\n",
      "Requirement already satisfied: widgetsnbextension~=3.5.0 in c:\\users\\kyeongtae\\anaconda3\\lib\\site-packages (from ipywidgets->qiskit-textbook==0.1.0) (3.5.2)\n",
      "Requirement already satisfied: ipykernel>=4.5.1 in c:\\users\\kyeongtae\\anaconda3\\lib\\site-packages (from ipywidgets->qiskit-textbook==0.1.0) (6.15.2)\n",
      "Requirement already satisfied: nbformat>=4.2.0 in c:\\users\\kyeongtae\\anaconda3\\lib\\site-packages (from ipywidgets->qiskit-textbook==0.1.0) (5.7.0)\n",
      "Requirement already satisfied: pyparsing>=2.2.1 in c:\\users\\kyeongtae\\anaconda3\\lib\\site-packages (from matplotlib->qiskit-textbook==0.1.0) (3.0.9)\n",
      "Requirement already satisfied: contourpy>=1.0.1 in c:\\users\\kyeongtae\\anaconda3\\lib\\site-packages (from matplotlib->qiskit-textbook==0.1.0) (1.0.5)\n",
      "Requirement already satisfied: python-dateutil>=2.7 in c:\\users\\kyeongtae\\anaconda3\\lib\\site-packages (from matplotlib->qiskit-textbook==0.1.0) (2.8.2)\n",
      "Requirement already satisfied: cycler>=0.10 in c:\\users\\kyeongtae\\anaconda3\\lib\\site-packages (from matplotlib->qiskit-textbook==0.1.0) (0.11.0)\n",
      "Requirement already satisfied: pillow>=6.2.0 in c:\\users\\kyeongtae\\anaconda3\\lib\\site-packages (from matplotlib->qiskit-textbook==0.1.0) (9.3.0)\n",
      "Requirement already satisfied: fonttools>=4.22.0 in c:\\users\\kyeongtae\\anaconda3\\lib\\site-packages (from matplotlib->qiskit-textbook==0.1.0) (4.25.0)\n",
      "Requirement already satisfied: packaging>=20.0 in c:\\users\\kyeongtae\\anaconda3\\lib\\site-packages (from matplotlib->qiskit-textbook==0.1.0) (22.0)\n",
      "Requirement already satisfied: kiwisolver>=1.0.1 in c:\\users\\kyeongtae\\anaconda3\\lib\\site-packages (from matplotlib->qiskit-textbook==0.1.0) (1.4.4)\n",
      "Requirement already satisfied: qiskit-terra==0.22.3 in c:\\users\\kyeongtae\\anaconda3\\lib\\site-packages (from qiskit->qiskit-textbook==0.1.0) (0.22.3)\n",
      "Requirement already satisfied: qiskit-ibmq-provider==0.19.2 in c:\\users\\kyeongtae\\anaconda3\\lib\\site-packages (from qiskit->qiskit-textbook==0.1.0) (0.19.2)\n",
      "Requirement already satisfied: qiskit-aer==0.11.2 in c:\\users\\kyeongtae\\anaconda3\\lib\\site-packages (from qiskit->qiskit-textbook==0.1.0) (0.11.2)\n",
      "Requirement already satisfied: scipy>=1.0 in c:\\users\\kyeongtae\\anaconda3\\lib\\site-packages (from qiskit-aer==0.11.2->qiskit->qiskit-textbook==0.1.0) (1.9.3)\n",
      "Requirement already satisfied: requests>=2.19 in c:\\users\\kyeongtae\\anaconda3\\lib\\site-packages (from qiskit-ibmq-provider==0.19.2->qiskit->qiskit-textbook==0.1.0) (2.28.1)\n",
      "Requirement already satisfied: websocket-client>=1.0.1 in c:\\users\\kyeongtae\\anaconda3\\lib\\site-packages (from qiskit-ibmq-provider==0.19.2->qiskit->qiskit-textbook==0.1.0) (1.4.2)\n",
      "Requirement already satisfied: urllib3>=1.21.1 in c:\\users\\kyeongtae\\anaconda3\\lib\\site-packages (from qiskit-ibmq-provider==0.19.2->qiskit->qiskit-textbook==0.1.0) (1.26.13)\n",
      "Requirement already satisfied: requests-ntlm>=1.1.0 in c:\\users\\kyeongtae\\anaconda3\\lib\\site-packages (from qiskit-ibmq-provider==0.19.2->qiskit->qiskit-textbook==0.1.0) (1.1.0)\n",
      "Requirement already satisfied: websockets>=10.0 in c:\\users\\kyeongtae\\anaconda3\\lib\\site-packages (from qiskit-ibmq-provider==0.19.2->qiskit->qiskit-textbook==0.1.0) (10.3)\n",
      "Requirement already satisfied: dill>=0.3 in c:\\users\\kyeongtae\\anaconda3\\lib\\site-packages (from qiskit-terra==0.22.3->qiskit->qiskit-textbook==0.1.0) (0.3.6)\n",
      "Requirement already satisfied: tweedledum<2.0,>=1.1 in c:\\users\\kyeongtae\\anaconda3\\lib\\site-packages (from qiskit-terra==0.22.3->qiskit->qiskit-textbook==0.1.0) (1.1.1)\n",
      "Requirement already satisfied: sympy>=1.3 in c:\\users\\kyeongtae\\anaconda3\\lib\\site-packages (from qiskit-terra==0.22.3->qiskit->qiskit-textbook==0.1.0) (1.11.1)\n",
      "Requirement already satisfied: ply>=3.10 in c:\\users\\kyeongtae\\anaconda3\\lib\\site-packages (from qiskit-terra==0.22.3->qiskit->qiskit-textbook==0.1.0) (3.11)\n",
      "Requirement already satisfied: retworkx>=0.11.0 in c:\\users\\kyeongtae\\anaconda3\\lib\\site-packages (from qiskit-terra==0.22.3->qiskit->qiskit-textbook==0.1.0) (0.12.1)\n",
      "Requirement already satisfied: stevedore>=3.0.0 in c:\\users\\kyeongtae\\anaconda3\\lib\\site-packages (from qiskit-terra==0.22.3->qiskit->qiskit-textbook==0.1.0) (4.1.1)\n",
      "Requirement already satisfied: psutil>=5 in c:\\users\\kyeongtae\\anaconda3\\lib\\site-packages (from qiskit-terra==0.22.3->qiskit->qiskit-textbook==0.1.0) (5.9.0)\n",
      "Requirement already satisfied: jupyter-client>=6.1.12 in c:\\users\\kyeongtae\\anaconda3\\lib\\site-packages (from ipykernel>=4.5.1->ipywidgets->qiskit-textbook==0.1.0) (7.4.8)\n",
      "Requirement already satisfied: tornado>=6.1 in c:\\users\\kyeongtae\\anaconda3\\lib\\site-packages (from ipykernel>=4.5.1->ipywidgets->qiskit-textbook==0.1.0) (6.2)\n",
      "Requirement already satisfied: nest-asyncio in c:\\users\\kyeongtae\\anaconda3\\lib\\site-packages (from ipykernel>=4.5.1->ipywidgets->qiskit-textbook==0.1.0) (1.5.6)\n",
      "Requirement already satisfied: pyzmq>=17 in c:\\users\\kyeongtae\\anaconda3\\lib\\site-packages (from ipykernel>=4.5.1->ipywidgets->qiskit-textbook==0.1.0) (23.2.0)\n",
      "Requirement already satisfied: debugpy>=1.0 in c:\\users\\kyeongtae\\anaconda3\\lib\\site-packages (from ipykernel>=4.5.1->ipywidgets->qiskit-textbook==0.1.0) (1.5.1)\n",
      "Requirement already satisfied: parso<0.9.0,>=0.8.0 in c:\\users\\kyeongtae\\anaconda3\\lib\\site-packages (from jedi>=0.16->ipython->qiskit-textbook==0.1.0) (0.8.3)\n",
      "Requirement already satisfied: jupyter-core in c:\\users\\kyeongtae\\anaconda3\\lib\\site-packages (from nbformat>=4.2.0->ipywidgets->qiskit-textbook==0.1.0) (5.1.1)\n",
      "Requirement already satisfied: fastjsonschema in c:\\users\\kyeongtae\\anaconda3\\lib\\site-packages (from nbformat>=4.2.0->ipywidgets->qiskit-textbook==0.1.0) (2.16.2)\n",
      "Requirement already satisfied: jsonschema>=2.6 in c:\\users\\kyeongtae\\anaconda3\\lib\\site-packages (from nbformat>=4.2.0->ipywidgets->qiskit-textbook==0.1.0) (4.16.0)\n",
      "Requirement already satisfied: wcwidth in c:\\users\\kyeongtae\\anaconda3\\lib\\site-packages (from prompt-toolkit!=3.0.0,!=3.0.1,<3.1.0,>=2.0.0->ipython->qiskit-textbook==0.1.0) (0.2.5)\n",
      "Requirement already satisfied: six>=1.5 in c:\\users\\kyeongtae\\anaconda3\\lib\\site-packages (from python-dateutil>=2.7->matplotlib->qiskit-textbook==0.1.0) (1.16.0)\n",
      "Requirement already satisfied: notebook>=4.4.1 in c:\\users\\kyeongtae\\anaconda3\\lib\\site-packages (from widgetsnbextension~=3.5.0->ipywidgets->qiskit-textbook==0.1.0) (6.5.2)\n",
      "Requirement already satisfied: pyrsistent!=0.17.0,!=0.17.1,!=0.17.2,>=0.14.0 in c:\\users\\kyeongtae\\anaconda3\\lib\\site-packages (from jsonschema>=2.6->nbformat>=4.2.0->ipywidgets->qiskit-textbook==0.1.0) (0.18.0)\n",
      "Requirement already satisfied: attrs>=17.4.0 in c:\\users\\kyeongtae\\anaconda3\\lib\\site-packages (from jsonschema>=2.6->nbformat>=4.2.0->ipywidgets->qiskit-textbook==0.1.0) (22.1.0)\n",
      "Requirement already satisfied: entrypoints in c:\\users\\kyeongtae\\anaconda3\\lib\\site-packages (from jupyter-client>=6.1.12->ipykernel>=4.5.1->ipywidgets->qiskit-textbook==0.1.0) (0.4)\n",
      "Requirement already satisfied: pywin32>=1.0 in c:\\users\\kyeongtae\\anaconda3\\lib\\site-packages (from jupyter-core->nbformat>=4.2.0->ipywidgets->qiskit-textbook==0.1.0) (305.1)\n",
      "Requirement already satisfied: platformdirs>=2.5 in c:\\users\\kyeongtae\\anaconda3\\lib\\site-packages (from jupyter-core->nbformat>=4.2.0->ipywidgets->qiskit-textbook==0.1.0) (2.5.2)\n",
      "Requirement already satisfied: nbclassic>=0.4.7 in c:\\users\\kyeongtae\\anaconda3\\lib\\site-packages (from notebook>=4.4.1->widgetsnbextension~=3.5.0->ipywidgets->qiskit-textbook==0.1.0) (0.4.8)\n",
      "Requirement already satisfied: argon2-cffi in c:\\users\\kyeongtae\\anaconda3\\lib\\site-packages (from notebook>=4.4.1->widgetsnbextension~=3.5.0->ipywidgets->qiskit-textbook==0.1.0) (21.3.0)\n",
      "Requirement already satisfied: nbconvert>=5 in c:\\users\\kyeongtae\\anaconda3\\lib\\site-packages (from notebook>=4.4.1->widgetsnbextension~=3.5.0->ipywidgets->qiskit-textbook==0.1.0) (6.5.4)\n",
      "Requirement already satisfied: Send2Trash>=1.8.0 in c:\\users\\kyeongtae\\anaconda3\\lib\\site-packages (from notebook>=4.4.1->widgetsnbextension~=3.5.0->ipywidgets->qiskit-textbook==0.1.0) (1.8.0)\n",
      "Requirement already satisfied: jinja2 in c:\\users\\kyeongtae\\anaconda3\\lib\\site-packages (from notebook>=4.4.1->widgetsnbextension~=3.5.0->ipywidgets->qiskit-textbook==0.1.0) (3.1.2)\n",
      "Requirement already satisfied: terminado>=0.8.3 in c:\\users\\kyeongtae\\anaconda3\\lib\\site-packages (from notebook>=4.4.1->widgetsnbextension~=3.5.0->ipywidgets->qiskit-textbook==0.1.0) (0.17.1)\n",
      "Requirement already satisfied: prometheus-client in c:\\users\\kyeongtae\\anaconda3\\lib\\site-packages (from notebook>=4.4.1->widgetsnbextension~=3.5.0->ipywidgets->qiskit-textbook==0.1.0) (0.14.1)\n",
      "Requirement already satisfied: charset-normalizer<3,>=2 in c:\\users\\kyeongtae\\anaconda3\\lib\\site-packages (from requests>=2.19->qiskit-ibmq-provider==0.19.2->qiskit->qiskit-textbook==0.1.0) (2.0.4)\n",
      "Requirement already satisfied: idna<4,>=2.5 in c:\\users\\kyeongtae\\anaconda3\\lib\\site-packages (from requests>=2.19->qiskit-ibmq-provider==0.19.2->qiskit->qiskit-textbook==0.1.0) (3.4)\n",
      "Requirement already satisfied: certifi>=2017.4.17 in c:\\users\\kyeongtae\\anaconda3\\lib\\site-packages (from requests>=2.19->qiskit-ibmq-provider==0.19.2->qiskit->qiskit-textbook==0.1.0) (2022.12.7)\n",
      "Requirement already satisfied: ntlm-auth>=1.0.2 in c:\\users\\kyeongtae\\anaconda3\\lib\\site-packages (from requests-ntlm>=1.1.0->qiskit-ibmq-provider==0.19.2->qiskit->qiskit-textbook==0.1.0) (1.5.0)\n",
      "Requirement already satisfied: cryptography>=1.3 in c:\\users\\kyeongtae\\anaconda3\\lib\\site-packages (from requests-ntlm>=1.1.0->qiskit-ibmq-provider==0.19.2->qiskit->qiskit-textbook==0.1.0) (38.0.1)\n",
      "Requirement already satisfied: rustworkx==0.12.1 in c:\\users\\kyeongtae\\anaconda3\\lib\\site-packages (from retworkx>=0.11.0->qiskit-terra==0.22.3->qiskit->qiskit-textbook==0.1.0) (0.12.1)\n",
      "Requirement already satisfied: pbr!=2.1.0,>=2.0.0 in c:\\users\\kyeongtae\\anaconda3\\lib\\site-packages (from stevedore>=3.0.0->qiskit-terra==0.22.3->qiskit->qiskit-textbook==0.1.0) (5.11.0)\n",
      "Requirement already satisfied: mpmath>=0.19 in c:\\users\\kyeongtae\\anaconda3\\lib\\site-packages (from sympy>=1.3->qiskit-terra==0.22.3->qiskit->qiskit-textbook==0.1.0) (1.2.1)\n",
      "Requirement already satisfied: cffi>=1.12 in c:\\users\\kyeongtae\\anaconda3\\lib\\site-packages (from cryptography>=1.3->requests-ntlm>=1.1.0->qiskit-ibmq-provider==0.19.2->qiskit->qiskit-textbook==0.1.0) (1.15.1)\n",
      "Requirement already satisfied: jupyter-server>=1.8 in c:\\users\\kyeongtae\\anaconda3\\lib\\site-packages (from nbclassic>=0.4.7->notebook>=4.4.1->widgetsnbextension~=3.5.0->ipywidgets->qiskit-textbook==0.1.0) (1.23.4)\n",
      "Requirement already satisfied: notebook-shim>=0.1.0 in c:\\users\\kyeongtae\\anaconda3\\lib\\site-packages (from nbclassic>=0.4.7->notebook>=4.4.1->widgetsnbextension~=3.5.0->ipywidgets->qiskit-textbook==0.1.0) (0.2.2)\n",
      "Requirement already satisfied: tinycss2 in c:\\users\\kyeongtae\\anaconda3\\lib\\site-packages (from nbconvert>=5->notebook>=4.4.1->widgetsnbextension~=3.5.0->ipywidgets->qiskit-textbook==0.1.0) (1.1.1)\n",
      "Requirement already satisfied: lxml in c:\\users\\kyeongtae\\anaconda3\\lib\\site-packages (from nbconvert>=5->notebook>=4.4.1->widgetsnbextension~=3.5.0->ipywidgets->qiskit-textbook==0.1.0) (4.9.1)\n",
      "Requirement already satisfied: jupyterlab-pygments in c:\\users\\kyeongtae\\anaconda3\\lib\\site-packages (from nbconvert>=5->notebook>=4.4.1->widgetsnbextension~=3.5.0->ipywidgets->qiskit-textbook==0.1.0) (0.1.2)\n",
      "Requirement already satisfied: bleach in c:\\users\\kyeongtae\\anaconda3\\lib\\site-packages (from nbconvert>=5->notebook>=4.4.1->widgetsnbextension~=3.5.0->ipywidgets->qiskit-textbook==0.1.0) (4.1.0)\n",
      "Requirement already satisfied: nbclient>=0.5.0 in c:\\users\\kyeongtae\\anaconda3\\lib\\site-packages (from nbconvert>=5->notebook>=4.4.1->widgetsnbextension~=3.5.0->ipywidgets->qiskit-textbook==0.1.0) (0.5.13)\n",
      "Requirement already satisfied: mistune<2,>=0.8.1 in c:\\users\\kyeongtae\\anaconda3\\lib\\site-packages (from nbconvert>=5->notebook>=4.4.1->widgetsnbextension~=3.5.0->ipywidgets->qiskit-textbook==0.1.0) (0.8.4)\n",
      "Requirement already satisfied: pandocfilters>=1.4.1 in c:\\users\\kyeongtae\\anaconda3\\lib\\site-packages (from nbconvert>=5->notebook>=4.4.1->widgetsnbextension~=3.5.0->ipywidgets->qiskit-textbook==0.1.0) (1.5.0)\n",
      "Requirement already satisfied: defusedxml in c:\\users\\kyeongtae\\anaconda3\\lib\\site-packages (from nbconvert>=5->notebook>=4.4.1->widgetsnbextension~=3.5.0->ipywidgets->qiskit-textbook==0.1.0) (0.7.1)\n",
      "Requirement already satisfied: beautifulsoup4 in c:\\users\\kyeongtae\\anaconda3\\lib\\site-packages (from nbconvert>=5->notebook>=4.4.1->widgetsnbextension~=3.5.0->ipywidgets->qiskit-textbook==0.1.0) (4.11.1)\n",
      "Requirement already satisfied: MarkupSafe>=2.0 in c:\\users\\kyeongtae\\anaconda3\\lib\\site-packages (from nbconvert>=5->notebook>=4.4.1->widgetsnbextension~=3.5.0->ipywidgets->qiskit-textbook==0.1.0) (2.0.1)\n",
      "Requirement already satisfied: pywinpty>=1.1.0 in c:\\users\\kyeongtae\\anaconda3\\lib\\site-packages (from terminado>=0.8.3->notebook>=4.4.1->widgetsnbextension~=3.5.0->ipywidgets->qiskit-textbook==0.1.0) (2.0.2)\n",
      "Requirement already satisfied: argon2-cffi-bindings in c:\\users\\kyeongtae\\anaconda3\\lib\\site-packages (from argon2-cffi->notebook>=4.4.1->widgetsnbextension~=3.5.0->ipywidgets->qiskit-textbook==0.1.0) (21.2.0)\n",
      "Requirement already satisfied: pycparser in c:\\users\\kyeongtae\\anaconda3\\lib\\site-packages (from cffi>=1.12->cryptography>=1.3->requests-ntlm>=1.1.0->qiskit-ibmq-provider==0.19.2->qiskit->qiskit-textbook==0.1.0) (2.21)\n",
      "Requirement already satisfied: anyio<4,>=3.1.0 in c:\\users\\kyeongtae\\anaconda3\\lib\\site-packages (from jupyter-server>=1.8->nbclassic>=0.4.7->notebook>=4.4.1->widgetsnbextension~=3.5.0->ipywidgets->qiskit-textbook==0.1.0) (3.5.0)\n",
      "Requirement already satisfied: soupsieve>1.2 in c:\\users\\kyeongtae\\anaconda3\\lib\\site-packages (from beautifulsoup4->nbconvert>=5->notebook>=4.4.1->widgetsnbextension~=3.5.0->ipywidgets->qiskit-textbook==0.1.0) (2.3.2.post1)\n",
      "Requirement already satisfied: webencodings in c:\\users\\kyeongtae\\anaconda3\\lib\\site-packages (from bleach->nbconvert>=5->notebook>=4.4.1->widgetsnbextension~=3.5.0->ipywidgets->qiskit-textbook==0.1.0) (0.5.1)\n",
      "Requirement already satisfied: sniffio>=1.1 in c:\\users\\kyeongtae\\anaconda3\\lib\\site-packages (from anyio<4,>=3.1.0->jupyter-server>=1.8->nbclassic>=0.4.7->notebook>=4.4.1->widgetsnbextension~=3.5.0->ipywidgets->qiskit-textbook==0.1.0) (1.2.0)\n",
      "Building wheels for collected packages: qiskit-textbook\n",
      "  Building wheel for qiskit-textbook (setup.py): started\n",
      "  Building wheel for qiskit-textbook (setup.py): finished with status 'done'\n",
      "  Created wheel for qiskit-textbook: filename=qiskit_textbook-0.1.0-py3-none-any.whl size=17637 sha256=317093f84bfe3df601bb68bd9e33302126cdaf572b70775a21f2a321fd9fe6f9\n",
      "  Stored in directory: C:\\Users\\kyeongtae\\AppData\\Local\\Temp\\pip-ephem-wheel-cache-5reku4cl\\wheels\\75\\76\\cd\\ff92751b9ab5f2d12c73e551ee92adf4615fb6b7d37b77f0e4\n",
      "Successfully built qiskit-textbook\n",
      "Installing collected packages: qiskit-textbook\n",
      "Successfully installed qiskit-textbook-0.1.0\n",
      "Note: you may need to restart the kernel to use updated packages.\n"
     ]
    },
    {
     "name": "stderr",
     "output_type": "stream",
     "text": [
      "  Running command git clone --filter=blob:none --quiet https://github.com/qiskit-community/qiskit-textbook.git 'C:\\Users\\kyeongtae\\AppData\\Local\\Temp\\pip-req-build-6xbhc1q2'\n"
     ]
    }
   ],
   "source": [
    "pip install git+https://github.com/qiskit-community/qiskit-textbook.git#subdirectory=qiskit-textbook-src"
   ]
  },
  {
   "cell_type": "code",
   "execution_count": 6,
   "metadata": {},
   "outputs": [
    {
     "data": {
      "application/vnd.jupyter.widget-view+json": {
       "model_id": "0bd6b7c8cd834e469ac5806469a1bf66",
       "version_major": 2,
       "version_minor": 0
      },
      "text/plain": [
       "HBox(children=(Button(description='X', layout=Layout(height='3em', width='3em'), style=ButtonStyle()), Button(…"
      ]
     },
     "metadata": {},
     "output_type": "display_data"
    },
    {
     "data": {
      "application/vnd.jupyter.widget-view+json": {
       "model_id": "ebbfc313f7d2414fa3a7b9e2c12639f3",
       "version_major": 2,
       "version_minor": 0
      },
      "text/plain": [
       "Image(value=b'\\x89PNG\\r\\n\\x1a\\n\\x00\\x00\\x00\\rIHDR\\x00\\x00\\x01\\xe0\\x00\\x00\\x01\\xe0\\x08\\x06\\x00\\x00\\x00}\\xd4\\xbe…"
      ]
     },
     "metadata": {},
     "output_type": "display_data"
    }
   ],
   "source": [
    "from qiskit_textbook.widgets import gate_demo\n",
    "gate_demo(gates = 'pauli+h')"
   ]
  },
  {
   "attachments": {},
   "cell_type": "markdown",
   "metadata": {},
   "source": [
    "## 다양한 bases로 측정하는 방법\n",
    "일반적으로 qubit을 측정하면 0과 1 중 하나의 값을 가지게 된다. 하지만 이러한 측정은 qubit의 상태를 파괴시키는 부작용을 가지고 있다. 이러한 부작용을 없애기 위해서는 qubit을 측정하기 전에 다른 basis를 사용하여 측정을 해야 한다. 이러한 방법을 사용하면 qubit의 상태를 파괴시키지 않고도 측정을 할 수 있다. 이번에는 다양한 basis를 사용하여 측정하는 방법에 대해서 알아보도록 하겠다."
   ]
  },
  {
   "cell_type": "code",
   "execution_count": 7,
   "metadata": {},
   "outputs": [
    {
     "data": {
      "text/html": [
       "<pre style=\"word-wrap: normal;white-space: pre;background: #fff0;line-height: 1.1;font-family: &quot;Courier New&quot;,Courier,monospace\">     ┌──────────────────────────────┐┌───┐┌─┐\n",
       "  q: ┤ Initialize(0.70711,-0.70711) ├┤ H ├┤M├\n",
       "     └──────────────────────────────┘└───┘└╥┘\n",
       "c: 1/══════════════════════════════════════╩═\n",
       "                                           0 </pre>"
      ],
      "text/plain": [
       "     ┌──────────────────────────────┐┌───┐┌─┐\n",
       "  q: ┤ Initialize(0.70711,-0.70711) ├┤ H ├┤M├\n",
       "     └──────────────────────────────┘└───┘└╥┘\n",
       "c: 1/══════════════════════════════════════╩═\n",
       "                                           0 "
      ]
     },
     "execution_count": 7,
     "metadata": {},
     "output_type": "execute_result"
    }
   ],
   "source": [
    "# X 기저로 측정하는 함수 정의\n",
    "def x_measurement(qc, qubit, cbit):\n",
    "    # X-basis안의 qubit을 측정하고 그 결과를 cbit에 저장 \n",
    "    qc.h(qubit)\n",
    "    qc.measure(qubit, cbit)\n",
    "    return qc # 양자 회로 구성\n",
    "\n",
    "initial_state = [1/sqrt(2), -1/sqrt(2)]\n",
    "qc = QuantumCircuit(1, 1)\n",
    "qc.initialize(initial_state, 0)\n",
    "x_measurement(qc, 0, 0)\n",
    "qc.draw()\n",
    "    "
   ]
  },
  {
   "cell_type": "code",
   "execution_count": null,
   "metadata": {},
   "outputs": [],
   "source": []
  }
 ],
 "metadata": {
  "kernelspec": {
   "display_name": "base",
   "language": "python",
   "name": "python3"
  },
  "language_info": {
   "codemirror_mode": {
    "name": "ipython",
    "version": 3
   },
   "file_extension": ".py",
   "mimetype": "text/x-python",
   "name": "python",
   "nbconvert_exporter": "python",
   "pygments_lexer": "ipython3",
   "version": "3.9.12"
  },
  "orig_nbformat": 4,
  "vscode": {
   "interpreter": {
    "hash": "109ff4718981d14e91e88418b604cb45990f61d321c861f02a16cf7254a37127"
   }
  }
 },
 "nbformat": 4,
 "nbformat_minor": 2
}
