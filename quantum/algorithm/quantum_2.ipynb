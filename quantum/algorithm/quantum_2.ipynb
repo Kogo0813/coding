{
 "cells": [
  {
   "cell_type": "code",
   "execution_count": 3,
   "metadata": {},
   "outputs": [],
   "source": [
    "from qiskit import QuantumCircuit, Aer, execute\n",
    "from qiskit.visualization import plot_histogram\n",
    "\n",
    "def constant():\n",
    "    circuit = QuantumCircuit(2)\n",
    "    circuit.cx(1, 0)\n",
    "    return circuit\n",
    "\n",
    "def balanced():\n",
    "    circuit = QuantumCircuit(2)\n",
    "    circuit.cx(0, 1)\n",
    "    return circuit"
   ]
  },
  {
   "attachments": {},
   "cell_type": "markdown",
   "metadata": {},
   "source": [
    "## 도이치 알고리즘\n",
    "마법의 동전 실험을 해결할 수 있는 알고리즘"
   ]
  },
  {
   "cell_type": "code",
   "execution_count": 5,
   "metadata": {},
   "outputs": [
    {
     "name": "stderr",
     "output_type": "stream",
     "text": [
      "C:\\Users\\kyeongtae\\AppData\\Local\\Temp\\ipykernel_24692\\1724016949.py:7: DeprecationWarning: The QuantumCircuit.__iadd__() method is being deprecated. Use the compose() (potentially with the inplace=True argument) and tensor() methods which are more flexible w.r.t circuit register compatibility.\n",
      "  circuit += constant() # 오라클 함수로 회로 구현\n"
     ]
    },
    {
     "data": {
      "text/html": [
       "<pre style=\"word-wrap: normal;white-space: pre;background: #fff0;line-height: 1.1;font-family: &quot;Courier New&quot;,Courier,monospace\">     ┌───┐      ░ ┌───┐ ░ ┌───┐┌─┐\n",
       "q_0: ┤ H ├──────░─┤ X ├─░─┤ H ├┤M├\n",
       "     ├───┤┌───┐ ░ └─┬─┘ ░ └───┘└╥┘\n",
       "q_1: ┤ X ├┤ H ├─░───■───░───────╫─\n",
       "     └───┘└───┘ ░       ░       ║ \n",
       "c: 1/═══════════════════════════╩═\n",
       "                                0 </pre>"
      ],
      "text/plain": [
       "     ┌───┐      ░ ┌───┐ ░ ┌───┐┌─┐\n",
       "q_0: ┤ H ├──────░─┤ X ├─░─┤ H ├┤M├\n",
       "     ├───┤┌───┐ ░ └─┬─┘ ░ └───┘└╥┘\n",
       "q_1: ┤ X ├┤ H ├─░───■───░───────╫─\n",
       "     └───┘└───┘ ░       ░       ║ \n",
       "c: 1/═══════════════════════════╩═\n",
       "                                0 "
      ]
     },
     "execution_count": 5,
     "metadata": {},
     "output_type": "execute_result"
    }
   ],
   "source": [
    "## 도이치 알고리즘\n",
    "circuit = QuantumCircuit(2, 1)\n",
    "circuit.h(0)\n",
    "circuit.x(1)\n",
    "circuit.h(1)\n",
    "circuit.barrier()\n",
    "circuit += constant() # 오라클 함수로 회로 구현, f(x)를 생성함수 혹은 오라클 함수라고 함\n",
    "circuit.barrier()\n",
    "circuit.h(0)\n",
    "circuit.measure(0, 0)\n",
    "circuit.draw()\n"
   ]
  },
  {
   "cell_type": "code",
   "execution_count": 6,
   "metadata": {},
   "outputs": [
    {
     "name": "stdout",
     "output_type": "stream",
     "text": [
      "{'0': 1024}\n"
     ]
    },
    {
     "data": {
      "image/png": "[encoded data removed]",
      "text/plain": [
       "<Figure size 504x360 with 1 Axes>"
      ]
     },
     "execution_count": 6,
     "metadata": {},
     "output_type": "execute_result"
    }
   ],
   "source": [
    "backend = Aer.get_backend('qasm_simulator')\n",
    "results = execute(circuit, backend).result()\n",
    "counts = results.get_counts()\n",
    "print(counts)\n",
    "plot_histogram(counts) # f(0) = f(1)을 확인할 수 있음"
   ]
  },
  {
   "cell_type": "code",
   "execution_count": 7,
   "metadata": {},
   "outputs": [
    {
     "name": "stderr",
     "output_type": "stream",
     "text": [
      "C:\\Users\\kyeongtae\\AppData\\Local\\Temp\\ipykernel_24692\\2029892383.py:7: DeprecationWarning: The QuantumCircuit.__iadd__() method is being deprecated. Use the compose() (potentially with the inplace=True argument) and tensor() methods which are more flexible w.r.t circuit register compatibility.\n",
      "  circuit += balanced() # balanced 함수로 회로 구현(f(1) != f(0))\n"
     ]
    },
    {
     "data": {
      "text/html": [
       "<pre style=\"word-wrap: normal;white-space: pre;background: #fff0;line-height: 1.1;font-family: &quot;Courier New&quot;,Courier,monospace\">     ┌───┐      ░       ░ ┌───┐┌─┐\n",
       "q_0: ┤ H ├──────░───■───░─┤ H ├┤M├\n",
       "     ├───┤┌───┐ ░ ┌─┴─┐ ░ └───┘└╥┘\n",
       "q_1: ┤ X ├┤ H ├─░─┤ X ├─░───────╫─\n",
       "     └───┘└───┘ ░ └───┘ ░       ║ \n",
       "c: 1/═══════════════════════════╩═\n",
       "                                0 </pre>"
      ],
      "text/plain": [
       "     ┌───┐      ░       ░ ┌───┐┌─┐\n",
       "q_0: ┤ H ├──────░───■───░─┤ H ├┤M├\n",
       "     ├───┤┌───┐ ░ ┌─┴─┐ ░ └───┘└╥┘\n",
       "q_1: ┤ X ├┤ H ├─░─┤ X ├─░───────╫─\n",
       "     └───┘└───┘ ░ └───┘ ░       ║ \n",
       "c: 1/═══════════════════════════╩═\n",
       "                                0 "
      ]
     },
     "execution_count": 7,
     "metadata": {},
     "output_type": "execute_result"
    }
   ],
   "source": [
    "## 도이치 알고리즘\n",
    "circuit = QuantumCircuit(2, 1)\n",
    "circuit.h(0)\n",
    "circuit.x(1)\n",
    "circuit.h(1)\n",
    "circuit.barrier()\n",
    "circuit += balanced() # balanced 함수로 회로 구현(f(1) != f(0))\n",
    "circuit.barrier()\n",
    "circuit.h(0)\n",
    "circuit.measure(0, 0)\n",
    "circuit.draw()\n"
   ]
  },
  {
   "cell_type": "code",
   "execution_count": 8,
   "metadata": {},
   "outputs": [
    {
     "name": "stdout",
     "output_type": "stream",
     "text": [
      "{'1': 1024}\n"
     ]
    },
    {
     "data": {
      "image/png": "[encoded data removed]",
      "text/plain": [
       "<Figure size 504x360 with 1 Axes>"
      ]
     },
     "execution_count": 8,
     "metadata": {},
     "output_type": "execute_result"
    }
   ],
   "source": [
    "backend = Aer.get_backend('qasm_simulator')\n",
    "results = execute(circuit, backend).result()\n",
    "counts = results.get_counts()\n",
    "print(counts)\n",
    "plot_histogram(counts) # f(0) = f(1)을 확인할 수 있음"
   ]
  }
 ],
 "metadata": {
  "kernelspec": {
   "display_name": "base",
   "language": "python",
   "name": "python3"
  },
  "language_info": {
   "codemirror_mode": {
    "name": "ipython",
    "version": 3
   },
   "file_extension": ".py",
   "mimetype": "text/x-python",
   "name": "python",
   "nbconvert_exporter": "python",
   "pygments_lexer": "ipython3",
   "version": "3.9.12"
  },
  "orig_nbformat": 4,
  "vscode": {
   "interpreter": {
    "hash": "109ff4718981d14e91e88418b604cb45990f61d321c861f02a16cf7254a37127"
   }
  }
 },
 "nbformat": 4,
 "nbformat_minor": 2
}
