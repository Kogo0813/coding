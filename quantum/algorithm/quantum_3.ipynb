{
 "cells": [
  {
   "attachments": {},
   "cell_type": "markdown",
   "metadata": {},
   "source": [
    "## 그로버 알고리즘: 건초더미에서 바늘 찾기\n",
    "Step 1 : 균일한 중첩 확률로 시작하기\n",
    "    $|s> = H^n|0>^n$  \n",
    "\n",
    "Step 2 : 오라클 회로 적용하기\n",
    "    w의 위상이 반전된다.(선형대수)  \n",
    "    \n",
    "Step 3 : 확산 회로로 진폭을 증폭 시키기\n",
    "\n",
    "\n"
   ]
  },
  {
   "cell_type": "code",
   "execution_count": null,
   "metadata": {},
   "outputs": [],
   "source": []
  }
 ],
 "metadata": {
  "language_info": {
   "name": "python"
  },
  "orig_nbformat": 4
 },
 "nbformat": 4,
 "nbformat_minor": 2
}
