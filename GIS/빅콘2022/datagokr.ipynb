{
 "cells": [
  {
   "cell_type": "code",
   "execution_count": 1,
   "metadata": {},
   "outputs": [],
   "source": [
    "import pandas as pd\n",
    "import numpy as np\n",
    "import matplotlib.pyplot as plt"
   ]
  },
  {
   "cell_type": "code",
   "execution_count": 3,
   "metadata": {},
   "outputs": [],
   "source": [
    "df =  pd.read_csv('../01_data/datagokr_charger.csv', index_col=0)"
   ]
  },
  {
   "cell_type": "code",
   "execution_count": 4,
   "metadata": {},
   "outputs": [],
   "source": [
    "df = df.loc[:,['lng', 'lat', 'statId']]"
   ]
  },
  {
   "cell_type": "code",
   "execution_count": 5,
   "metadata": {},
   "outputs": [],
   "source": [
    "df = df.groupby('statId').value_counts()"
   ]
  },
  {
   "cell_type": "code",
   "execution_count": 6,
   "metadata": {},
   "outputs": [],
   "source": [
    "df = pd.DataFrame(df)"
   ]
  },
  {
   "cell_type": "code",
   "execution_count": 7,
   "metadata": {},
   "outputs": [],
   "source": [
    "df.reset_index(inplace=True)"
   ]
  },
  {
   "cell_type": "code",
   "execution_count": 8,
   "metadata": {},
   "outputs": [],
   "source": [
    "df.rename(columns={0:'count'}, inplace=True)"
   ]
  },
  {
   "cell_type": "code",
   "execution_count": 8,
   "metadata": {},
   "outputs": [
    {
     "data": {
      "text/html": [
       "<div>\n",
       "<style scoped>\n",
       "    .dataframe tbody tr th:only-of-type {\n",
       "        vertical-align: middle;\n",
       "    }\n",
       "\n",
       "    .dataframe tbody tr th {\n",
       "        vertical-align: top;\n",
       "    }\n",
       "\n",
       "    .dataframe thead th {\n",
       "        text-align: right;\n",
       "    }\n",
       "</style>\n",
       "<table border=\"1\" class=\"dataframe\">\n",
       "  <thead>\n",
       "    <tr style=\"text-align: right;\">\n",
       "      <th></th>\n",
       "      <th>statId</th>\n",
       "      <th>lng</th>\n",
       "      <th>lat</th>\n",
       "      <th>count</th>\n",
       "    </tr>\n",
       "  </thead>\n",
       "  <tbody>\n",
       "    <tr>\n",
       "      <th>0</th>\n",
       "      <td>CSSGS001</td>\n",
       "      <td>127.160884</td>\n",
       "      <td>37.257835</td>\n",
       "      <td>1</td>\n",
       "    </tr>\n",
       "    <tr>\n",
       "      <th>1</th>\n",
       "      <td>CU310006</td>\n",
       "      <td>127.109405</td>\n",
       "      <td>37.271652</td>\n",
       "      <td>1</td>\n",
       "    </tr>\n",
       "    <tr>\n",
       "      <th>2</th>\n",
       "      <td>CU310022</td>\n",
       "      <td>127.111144</td>\n",
       "      <td>37.320018</td>\n",
       "      <td>4</td>\n",
       "    </tr>\n",
       "    <tr>\n",
       "      <th>3</th>\n",
       "      <td>CU310026</td>\n",
       "      <td>127.160365</td>\n",
       "      <td>37.281677</td>\n",
       "      <td>5</td>\n",
       "    </tr>\n",
       "    <tr>\n",
       "      <th>4</th>\n",
       "      <td>CU310030</td>\n",
       "      <td>127.112783</td>\n",
       "      <td>37.299040</td>\n",
       "      <td>28</td>\n",
       "    </tr>\n",
       "    <tr>\n",
       "      <th>...</th>\n",
       "      <td>...</td>\n",
       "      <td>...</td>\n",
       "      <td>...</td>\n",
       "      <td>...</td>\n",
       "    </tr>\n",
       "    <tr>\n",
       "      <th>1049</th>\n",
       "      <td>TDH00032</td>\n",
       "      <td>127.232383</td>\n",
       "      <td>37.277380</td>\n",
       "      <td>2</td>\n",
       "    </tr>\n",
       "    <tr>\n",
       "      <th>1050</th>\n",
       "      <td>TDH00056</td>\n",
       "      <td>127.110847</td>\n",
       "      <td>37.264701</td>\n",
       "      <td>4</td>\n",
       "    </tr>\n",
       "    <tr>\n",
       "      <th>1051</th>\n",
       "      <td>TDH00058</td>\n",
       "      <td>127.110283</td>\n",
       "      <td>37.298363</td>\n",
       "      <td>1</td>\n",
       "    </tr>\n",
       "    <tr>\n",
       "      <th>1052</th>\n",
       "      <td>TDH79001</td>\n",
       "      <td>127.222609</td>\n",
       "      <td>37.293272</td>\n",
       "      <td>2</td>\n",
       "    </tr>\n",
       "    <tr>\n",
       "      <th>1053</th>\n",
       "      <td>TDH99001</td>\n",
       "      <td>127.222609</td>\n",
       "      <td>37.293272</td>\n",
       "      <td>5</td>\n",
       "    </tr>\n",
       "  </tbody>\n",
       "</table>\n",
       "<p>1054 rows × 4 columns</p>\n",
       "</div>"
      ],
      "text/plain": [
       "        statId         lng        lat  count\n",
       "0     CSSGS001  127.160884  37.257835      1\n",
       "1     CU310006  127.109405  37.271652      1\n",
       "2     CU310022  127.111144  37.320018      4\n",
       "3     CU310026  127.160365  37.281677      5\n",
       "4     CU310030  127.112783  37.299040     28\n",
       "...        ...         ...        ...    ...\n",
       "1049  TDH00032  127.232383  37.277380      2\n",
       "1050  TDH00056  127.110847  37.264701      4\n",
       "1051  TDH00058  127.110283  37.298363      1\n",
       "1052  TDH79001  127.222609  37.293272      2\n",
       "1053  TDH99001  127.222609  37.293272      5\n",
       "\n",
       "[1054 rows x 4 columns]"
      ]
     },
     "execution_count": 8,
     "metadata": {},
     "output_type": "execute_result"
    }
   ],
   "source": [
    "df"
   ]
  },
  {
   "cell_type": "code",
   "execution_count": 58,
   "metadata": {},
   "outputs": [],
   "source": []
  },
  {
   "cell_type": "code",
   "execution_count": 9,
   "metadata": {},
   "outputs": [],
   "source": [
    "df = df.groupby(['lat', 'lng'])['count'].sum()"
   ]
  },
  {
   "cell_type": "code",
   "execution_count": 10,
   "metadata": {},
   "outputs": [],
   "source": [
    "df = pd.DataFrame(df)"
   ]
  },
  {
   "cell_type": "code",
   "execution_count": 11,
   "metadata": {},
   "outputs": [],
   "source": [
    "df.reset_index(inplace=True)"
   ]
  },
  {
   "cell_type": "code",
   "execution_count": 16,
   "metadata": {},
   "outputs": [
    {
     "data": {
      "text/html": [
       "<div>\n",
       "<style scoped>\n",
       "    .dataframe tbody tr th:only-of-type {\n",
       "        vertical-align: middle;\n",
       "    }\n",
       "\n",
       "    .dataframe tbody tr th {\n",
       "        vertical-align: top;\n",
       "    }\n",
       "\n",
       "    .dataframe thead th {\n",
       "        text-align: right;\n",
       "    }\n",
       "</style>\n",
       "<table border=\"1\" class=\"dataframe\">\n",
       "  <thead>\n",
       "    <tr style=\"text-align: right;\">\n",
       "      <th></th>\n",
       "      <th>lat</th>\n",
       "      <th>lng</th>\n",
       "      <th>count</th>\n",
       "    </tr>\n",
       "  </thead>\n",
       "  <tbody>\n",
       "    <tr>\n",
       "      <th>0</th>\n",
       "      <td>35.884990</td>\n",
       "      <td>129.226120</td>\n",
       "      <td>1</td>\n",
       "    </tr>\n",
       "    <tr>\n",
       "      <th>1</th>\n",
       "      <td>37.107781</td>\n",
       "      <td>127.198344</td>\n",
       "      <td>2</td>\n",
       "    </tr>\n",
       "    <tr>\n",
       "      <th>2</th>\n",
       "      <td>37.110667</td>\n",
       "      <td>127.115374</td>\n",
       "      <td>2</td>\n",
       "    </tr>\n",
       "    <tr>\n",
       "      <th>3</th>\n",
       "      <td>37.110733</td>\n",
       "      <td>127.137988</td>\n",
       "      <td>3</td>\n",
       "    </tr>\n",
       "    <tr>\n",
       "      <th>4</th>\n",
       "      <td>37.115997</td>\n",
       "      <td>127.150323</td>\n",
       "      <td>1</td>\n",
       "    </tr>\n",
       "    <tr>\n",
       "      <th>...</th>\n",
       "      <td>...</td>\n",
       "      <td>...</td>\n",
       "      <td>...</td>\n",
       "    </tr>\n",
       "    <tr>\n",
       "      <th>905</th>\n",
       "      <td>37.377175</td>\n",
       "      <td>127.293995</td>\n",
       "      <td>2</td>\n",
       "    </tr>\n",
       "    <tr>\n",
       "      <th>906</th>\n",
       "      <td>37.385400</td>\n",
       "      <td>126.932000</td>\n",
       "      <td>11</td>\n",
       "    </tr>\n",
       "    <tr>\n",
       "      <th>907</th>\n",
       "      <td>37.429233</td>\n",
       "      <td>127.126683</td>\n",
       "      <td>1</td>\n",
       "    </tr>\n",
       "    <tr>\n",
       "      <th>908</th>\n",
       "      <td>37.449717</td>\n",
       "      <td>127.104538</td>\n",
       "      <td>8</td>\n",
       "    </tr>\n",
       "    <tr>\n",
       "      <th>909</th>\n",
       "      <td>37.722760</td>\n",
       "      <td>126.478800</td>\n",
       "      <td>2</td>\n",
       "    </tr>\n",
       "  </tbody>\n",
       "</table>\n",
       "<p>910 rows × 3 columns</p>\n",
       "</div>"
      ],
      "text/plain": [
       "           lat         lng  count\n",
       "0    35.884990  129.226120      1\n",
       "1    37.107781  127.198344      2\n",
       "2    37.110667  127.115374      2\n",
       "3    37.110733  127.137988      3\n",
       "4    37.115997  127.150323      1\n",
       "..         ...         ...    ...\n",
       "905  37.377175  127.293995      2\n",
       "906  37.385400  126.932000     11\n",
       "907  37.429233  127.126683      1\n",
       "908  37.449717  127.104538      8\n",
       "909  37.722760  126.478800      2\n",
       "\n",
       "[910 rows x 3 columns]"
      ]
     },
     "execution_count": 16,
     "metadata": {},
     "output_type": "execute_result"
    }
   ],
   "source": [
    "df"
   ]
  },
  {
   "cell_type": "code",
   "execution_count": 12,
   "metadata": {},
   "outputs": [],
   "source": [
    "df.to_csv('../01_data/charger.csv')"
   ]
  },
  {
   "cell_type": "code",
   "execution_count": 15,
   "metadata": {},
   "outputs": [],
   "source": [
    "# 웹에서 역지오코딩 실행\n",
    "\n",
    "result = pd.read_csv('../01_data/charger_주소변환.csv', index_col=0)"
   ]
  },
  {
   "cell_type": "code",
   "execution_count": 16,
   "metadata": {},
   "outputs": [],
   "source": [
    "charger_suji = result[result['_PARCEL_AD'].str.contains('수지구')]"
   ]
  },
  {
   "cell_type": "code",
   "execution_count": 17,
   "metadata": {},
   "outputs": [
    {
     "data": {
      "text/html": [
       "<div>\n",
       "<style scoped>\n",
       "    .dataframe tbody tr th:only-of-type {\n",
       "        vertical-align: middle;\n",
       "    }\n",
       "\n",
       "    .dataframe tbody tr th {\n",
       "        vertical-align: top;\n",
       "    }\n",
       "\n",
       "    .dataframe thead th {\n",
       "        text-align: right;\n",
       "    }\n",
       "</style>\n",
       "<table border=\"1\" class=\"dataframe\">\n",
       "  <thead>\n",
       "    <tr style=\"text-align: right;\">\n",
       "      <th></th>\n",
       "      <th>lat</th>\n",
       "      <th>lng</th>\n",
       "      <th>count</th>\n",
       "      <th>_PARCEL_AD</th>\n",
       "    </tr>\n",
       "  </thead>\n",
       "  <tbody>\n",
       "    <tr>\n",
       "      <th>0</th>\n",
       "      <td>35.884990</td>\n",
       "      <td>129.226120</td>\n",
       "      <td>1</td>\n",
       "      <td>경상북도 경주시 용강동 1611</td>\n",
       "    </tr>\n",
       "    <tr>\n",
       "      <th>1</th>\n",
       "      <td>37.107781</td>\n",
       "      <td>127.198344</td>\n",
       "      <td>2</td>\n",
       "      <td>경기도 용인시 처인구 이동읍 어비리 807-9</td>\n",
       "    </tr>\n",
       "    <tr>\n",
       "      <th>2</th>\n",
       "      <td>37.110667</td>\n",
       "      <td>127.115374</td>\n",
       "      <td>2</td>\n",
       "      <td>경기도 용인시 처인구 남사읍 봉명리 744-12</td>\n",
       "    </tr>\n",
       "    <tr>\n",
       "      <th>3</th>\n",
       "      <td>37.110733</td>\n",
       "      <td>127.137988</td>\n",
       "      <td>3</td>\n",
       "      <td>경기도 용인시 처인구 남사읍 봉명리 44-1</td>\n",
       "    </tr>\n",
       "    <tr>\n",
       "      <th>4</th>\n",
       "      <td>37.115997</td>\n",
       "      <td>127.150323</td>\n",
       "      <td>1</td>\n",
       "      <td>경기도 용인시 처인구 남사읍 봉무리 산 79-10</td>\n",
       "    </tr>\n",
       "    <tr>\n",
       "      <th>...</th>\n",
       "      <td>...</td>\n",
       "      <td>...</td>\n",
       "      <td>...</td>\n",
       "      <td>...</td>\n",
       "    </tr>\n",
       "    <tr>\n",
       "      <th>905</th>\n",
       "      <td>37.377175</td>\n",
       "      <td>127.293995</td>\n",
       "      <td>2</td>\n",
       "      <td>경기도 광주시 초월읍 쌍동리 392</td>\n",
       "    </tr>\n",
       "    <tr>\n",
       "      <th>906</th>\n",
       "      <td>37.385400</td>\n",
       "      <td>126.932000</td>\n",
       "      <td>11</td>\n",
       "      <td>경기도 안양시 만안구 안양동 548-1</td>\n",
       "    </tr>\n",
       "    <tr>\n",
       "      <th>907</th>\n",
       "      <td>37.429233</td>\n",
       "      <td>127.126683</td>\n",
       "      <td>1</td>\n",
       "      <td>경기도 성남시 중원구 성남동 4931</td>\n",
       "    </tr>\n",
       "    <tr>\n",
       "      <th>908</th>\n",
       "      <td>37.449717</td>\n",
       "      <td>127.104538</td>\n",
       "      <td>8</td>\n",
       "      <td>경기도 성남시 수정구 심곡동 322-1</td>\n",
       "    </tr>\n",
       "    <tr>\n",
       "      <th>909</th>\n",
       "      <td>37.722760</td>\n",
       "      <td>126.478800</td>\n",
       "      <td>2</td>\n",
       "      <td>인천광역시 강화군 선원면 창리 625-40</td>\n",
       "    </tr>\n",
       "  </tbody>\n",
       "</table>\n",
       "<p>910 rows × 4 columns</p>\n",
       "</div>"
      ],
      "text/plain": [
       "           lat         lng  count                   _PARCEL_AD\n",
       "0    35.884990  129.226120      1            경상북도 경주시 용강동 1611\n",
       "1    37.107781  127.198344      2    경기도 용인시 처인구 이동읍 어비리 807-9\n",
       "2    37.110667  127.115374      2   경기도 용인시 처인구 남사읍 봉명리 744-12\n",
       "3    37.110733  127.137988      3     경기도 용인시 처인구 남사읍 봉명리 44-1\n",
       "4    37.115997  127.150323      1  경기도 용인시 처인구 남사읍 봉무리 산 79-10\n",
       "..         ...         ...    ...                          ...\n",
       "905  37.377175  127.293995      2          경기도 광주시 초월읍 쌍동리 392\n",
       "906  37.385400  126.932000     11        경기도 안양시 만안구 안양동 548-1\n",
       "907  37.429233  127.126683      1         경기도 성남시 중원구 성남동 4931\n",
       "908  37.449717  127.104538      8        경기도 성남시 수정구 심곡동 322-1\n",
       "909  37.722760  126.478800      2      인천광역시 강화군 선원면 창리 625-40\n",
       "\n",
       "[910 rows x 4 columns]"
      ]
     },
     "execution_count": 17,
     "metadata": {},
     "output_type": "execute_result"
    }
   ],
   "source": [
    "result"
   ]
  },
  {
   "cell_type": "code",
   "execution_count": 79,
   "metadata": {},
   "outputs": [],
   "source": []
  },
  {
   "cell_type": "code",
   "execution_count": 18,
   "metadata": {},
   "outputs": [],
   "source": [
    "charger_suji = result[result['_PARCEL_AD'].str.contains('수지구')]\n",
    "charger_gihung = result[result['_PARCEL_AD'].str.contains('기흥구')]\n",
    "charger_chuin = result[result['_PARCEL_AD'].str.contains('처인구')]"
   ]
  },
  {
   "cell_type": "code",
   "execution_count": 19,
   "metadata": {},
   "outputs": [
    {
     "name": "stderr",
     "output_type": "stream",
     "text": [
      "C:\\Users\\kyeongtae\\AppData\\Local\\Temp\\ipykernel_22520\\800585732.py:1: SettingWithCopyWarning: \n",
      "A value is trying to be set on a copy of a slice from a DataFrame.\n",
      "Try using .loc[row_indexer,col_indexer] = value instead\n",
      "\n",
      "See the caveats in the documentation: https://pandas.pydata.org/pandas-docs/stable/user_guide/indexing.html#returning-a-view-versus-a-copy\n",
      "  charger_suji['_PARCEL_AD'] = 1\n",
      "C:\\Users\\kyeongtae\\AppData\\Local\\Temp\\ipykernel_22520\\800585732.py:2: SettingWithCopyWarning: \n",
      "A value is trying to be set on a copy of a slice from a DataFrame.\n",
      "Try using .loc[row_indexer,col_indexer] = value instead\n",
      "\n",
      "See the caveats in the documentation: https://pandas.pydata.org/pandas-docs/stable/user_guide/indexing.html#returning-a-view-versus-a-copy\n",
      "  charger_gihung['_PARCEL_AD'] = 2\n",
      "C:\\Users\\kyeongtae\\AppData\\Local\\Temp\\ipykernel_22520\\800585732.py:3: SettingWithCopyWarning: \n",
      "A value is trying to be set on a copy of a slice from a DataFrame.\n",
      "Try using .loc[row_indexer,col_indexer] = value instead\n",
      "\n",
      "See the caveats in the documentation: https://pandas.pydata.org/pandas-docs/stable/user_guide/indexing.html#returning-a-view-versus-a-copy\n",
      "  charger_chuin['_PARCEL_AD'] = 3\n"
     ]
    }
   ],
   "source": [
    "charger_suji['_PARCEL_AD'] = 1\n",
    "charger_gihung['_PARCEL_AD'] = 2\n",
    "charger_chuin['_PARCEL_AD'] = 3\n"
   ]
  },
  {
   "cell_type": "code",
   "execution_count": 20,
   "metadata": {},
   "outputs": [],
   "source": [
    "result = pd.concat([charger_suji, charger_gihung, charger_chuin])"
   ]
  },
  {
   "cell_type": "code",
   "execution_count": 21,
   "metadata": {},
   "outputs": [],
   "source": [
    "result.rename(columns={'_PARCEL_AD' : 'gu'}, inplace=True)"
   ]
  },
  {
   "cell_type": "code",
   "execution_count": 22,
   "metadata": {},
   "outputs": [],
   "source": [
    "result.to_csv('../01_data/charger.csv', encoding = 'utf-8-sig')"
   ]
  },
  {
   "cell_type": "code",
   "execution_count": null,
   "metadata": {},
   "outputs": [],
   "source": []
  }
 ],
 "metadata": {
  "kernelspec": {
   "display_name": "Python 3.9.12 ('base')",
   "language": "python",
   "name": "python3"
  },
  "language_info": {
   "codemirror_mode": {
    "name": "ipython",
    "version": 3
   },
   "file_extension": ".py",
   "mimetype": "text/x-python",
   "name": "python",
   "nbconvert_exporter": "python",
   "pygments_lexer": "ipython3",
   "version": "3.9.12"
  },
  "orig_nbformat": 4,
  "vscode": {
   "interpreter": {
    "hash": "109ff4718981d14e91e88418b604cb45990f61d321c861f02a16cf7254a37127"
   }
  }
 },
 "nbformat": 4,
 "nbformat_minor": 2
}
