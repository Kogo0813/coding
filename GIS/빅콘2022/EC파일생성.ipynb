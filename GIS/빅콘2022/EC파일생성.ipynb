{
 "cells": [
  {
   "cell_type": "code",
   "execution_count": 5,
   "metadata": {},
   "outputs": [],
   "source": [
    "# 필요 데이터 : datagokr_charger.csv, central.csv\n",
    "import pandas as pd\n",
    "import numpy as np\n",
    "\n",
    "central = pd.read_csv('../01_data/central.csv', index_col = 0)"
   ]
  },
  {
   "cell_type": "code",
   "execution_count": 72,
   "metadata": {},
   "outputs": [],
   "source": [
    "# 웹에서 역 지오코딩\n",
    "EC = pd.read_csv('../01_data/EC_주소변환.csv', index_col = 0)"
   ]
  },
  {
   "cell_type": "code",
   "execution_count": 73,
   "metadata": {},
   "outputs": [
    {
     "name": "stderr",
     "output_type": "stream",
     "text": [
      "C:\\Users\\kyeongtae\\AppData\\Local\\Temp\\ipykernel_6528\\2934216039.py:4: SettingWithCopyWarning: \n",
      "A value is trying to be set on a copy of a slice from a DataFrame.\n",
      "Try using .loc[row_indexer,col_indexer] = value instead\n",
      "\n",
      "See the caveats in the documentation: https://pandas.pydata.org/pandas-docs/stable/user_guide/indexing.html#returning-a-view-versus-a-copy\n",
      "  EC_suji['_PARCEL_AD'] = 1\n",
      "C:\\Users\\kyeongtae\\AppData\\Local\\Temp\\ipykernel_6528\\2934216039.py:5: SettingWithCopyWarning: \n",
      "A value is trying to be set on a copy of a slice from a DataFrame.\n",
      "Try using .loc[row_indexer,col_indexer] = value instead\n",
      "\n",
      "See the caveats in the documentation: https://pandas.pydata.org/pandas-docs/stable/user_guide/indexing.html#returning-a-view-versus-a-copy\n",
      "  EC_gihung['_PARCEL_AD'] = 2\n",
      "C:\\Users\\kyeongtae\\AppData\\Local\\Temp\\ipykernel_6528\\2934216039.py:6: SettingWithCopyWarning: \n",
      "A value is trying to be set on a copy of a slice from a DataFrame.\n",
      "Try using .loc[row_indexer,col_indexer] = value instead\n",
      "\n",
      "See the caveats in the documentation: https://pandas.pydata.org/pandas-docs/stable/user_guide/indexing.html#returning-a-view-versus-a-copy\n",
      "  EC_chuin['_PARCEL_AD'] = 3\n"
     ]
    }
   ],
   "source": [
    "EC_suji = EC[EC['_PARCEL_AD'].str.contains('수지구')]\n",
    "EC_gihung = EC[EC['_PARCEL_AD'].str.contains('기흥구')]\n",
    "EC_chuin = EC[EC['_PARCEL_AD'].str.contains('처인구')]\n",
    "EC_suji['_PARCEL_AD'] = 1\n",
    "EC_gihung['_PARCEL_AD'] = 2\n",
    "EC_chuin['_PARCEL_AD'] = 3\n",
    "\n",
    "\n"
   ]
  },
  {
   "cell_type": "code",
   "execution_count": 76,
   "metadata": {},
   "outputs": [],
   "source": [
    "result = pd.concat([EC_suji, EC_gihung, EC_chuin])"
   ]
  },
  {
   "cell_type": "code",
   "execution_count": 78,
   "metadata": {},
   "outputs": [],
   "source": [
    "result.rename(columns={'_PARCEL_AD':'class', 'long' : 'lon'}, inplace=True)"
   ]
  },
  {
   "cell_type": "code",
   "execution_count": 82,
   "metadata": {},
   "outputs": [],
   "source": [
    "result.to_csv('../01_data/EC.csv')\n"
   ]
  },
  {
   "cell_type": "code",
   "execution_count": 80,
   "metadata": {},
   "outputs": [],
   "source": []
  },
  {
   "cell_type": "code",
   "execution_count": null,
   "metadata": {},
   "outputs": [],
   "source": []
  }
 ],
 "metadata": {
  "kernelspec": {
   "display_name": "Python 3.9.12 ('base')",
   "language": "python",
   "name": "python3"
  },
  "language_info": {
   "codemirror_mode": {
    "name": "ipython",
    "version": 3
   },
   "file_extension": ".py",
   "mimetype": "text/x-python",
   "name": "python",
   "nbconvert_exporter": "python",
   "pygments_lexer": "ipython3",
   "version": "3.9.12"
  },
  "orig_nbformat": 4,
  "vscode": {
   "interpreter": {
    "hash": "109ff4718981d14e91e88418b604cb45990f61d321c861f02a16cf7254a37127"
   }
  }
 },
 "nbformat": 4,
 "nbformat_minor": 2
}
