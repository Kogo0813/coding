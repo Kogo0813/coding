{
 "cells": [
  {
   "cell_type": "code",
   "execution_count": 3,
   "metadata": {},
   "outputs": [],
   "source": [
    "import numpy as np\n",
    "import pandas as pd\n",
    "import matplotlib.pyplot as plt\n",
    "from scipy.signal import savgol_filter\n",
    "\n"
   ]
  },
  {
   "cell_type": "code",
   "execution_count": 4,
   "metadata": {},
   "outputs": [
    {
     "name": "stdout",
     "output_type": "stream",
     "text": [
      "Collecting epyestim\n",
      "  Downloading epyestim-0.1-py3-none-any.whl (10 kB)\n",
      "Requirement already satisfied: statsmodels in c:\\users\\kyeongtae\\anaconda3\\lib\\site-packages (from epyestim) (0.13.2)\n",
      "Requirement already satisfied: scipy in c:\\users\\kyeongtae\\anaconda3\\lib\\site-packages (from epyestim) (1.9.3)\n",
      "Requirement already satisfied: pandas in c:\\users\\kyeongtae\\anaconda3\\lib\\site-packages (from epyestim) (1.4.3)\n",
      "Requirement already satisfied: numpy in c:\\users\\kyeongtae\\anaconda3\\lib\\site-packages (from epyestim) (1.21.4)\n",
      "Requirement already satisfied: pytz>=2020.1 in c:\\users\\kyeongtae\\anaconda3\\lib\\site-packages (from pandas->epyestim) (2022.1)\n",
      "Requirement already satisfied: python-dateutil>=2.8.1 in c:\\users\\kyeongtae\\anaconda3\\lib\\site-packages (from pandas->epyestim) (2.8.2)\n",
      "Requirement already satisfied: patsy>=0.5.2 in c:\\users\\kyeongtae\\anaconda3\\lib\\site-packages (from statsmodels->epyestim) (0.5.2)\n",
      "Requirement already satisfied: packaging>=21.3 in c:\\users\\kyeongtae\\anaconda3\\lib\\site-packages (from statsmodels->epyestim) (21.3)\n",
      "Requirement already satisfied: pyparsing!=3.0.5,>=2.0.2 in c:\\users\\kyeongtae\\anaconda3\\lib\\site-packages (from packaging>=21.3->statsmodels->epyestim) (3.0.4)\n",
      "Requirement already satisfied: six in c:\\users\\kyeongtae\\anaconda3\\lib\\site-packages (from patsy>=0.5.2->statsmodels->epyestim) (1.16.0)\n",
      "Installing collected packages: epyestim\n",
      "Successfully installed epyestim-0.1\n",
      "Note: you may need to restart the kernel to use updated packages.\n"
     ]
    }
   ],
   "source": [
    "pip install epyestim"
   ]
  },
  {
   "cell_type": "code",
   "execution_count": 5,
   "metadata": {},
   "outputs": [],
   "source": [
    "import epyestim\n",
    "import epyestim.covid19 as cv19"
   ]
  },
  {
   "cell_type": "code",
   "execution_count": 6,
   "metadata": {},
   "outputs": [],
   "source": [
    "si_distrb = cv19.generate_standard_si_distribution()\n",
    "delay_distrb = cv19.generate_standard_infection_to_reporting_distribution()"
   ]
  },
  {
   "cell_type": "code",
   "execution_count": 8,
   "metadata": {},
   "outputs": [
    {
     "data": {
      "text/plain": [
       "array([1.22264980e-02, 4.12222098e-02, 5.84497968e-02, 6.75027026e-02,\n",
       "       7.10176565e-02, 7.08582088e-02, 6.83434669e-02, 6.44013671e-02,\n",
       "       5.96774825e-02, 5.46138070e-02, 4.95061774e-02, 4.45461893e-02,\n",
       "       3.98517557e-02, 3.54893255e-02, 3.14899668e-02, 2.78609470e-02,\n",
       "       2.45940091e-02, 2.16712332e-02, 1.90691399e-02, 1.67615178e-02,\n",
       "       1.47213334e-02, 1.29219825e-02, 1.13380760e-02, 9.94589888e-03,\n",
       "       8.72364362e-03, 7.65149108e-03, 6.71159076e-03, 5.88797762e-03,\n",
       "       5.16645158e-03, 4.53443736e-03, 3.98083705e-03, 3.49588329e-03,\n",
       "       3.07099829e-03, 2.69866162e-03, 2.37228830e-03, 2.08611812e-03,\n",
       "       1.83511579e-03, 1.61488186e-03, 1.42157351e-03, 1.25183463e-03,\n",
       "       1.10273420e-03, 9.71712167e-04, 8.56532133e-04, 7.55239921e-04,\n",
       "       6.66127434e-04, 5.87701141e-04, 5.18654614e-04, 4.57844611e-04,\n",
       "       4.04270261e-04, 3.57054936e-04, 3.15430482e-04, 2.78723484e-04,\n",
       "       2.46343313e-04, 2.17771707e-04, 1.92553706e-04, 1.70289740e-04,\n",
       "       1.50628730e-04, 1.33262080e-04, 1.17879172e-04, 1.04306438e-04,\n",
       "       9.23169330e-05, 8.17211162e-05, 7.23539562e-05, 6.40707719e-05,\n",
       "       5.67444048e-05, 5.02629495e-05, 4.45278389e-05, 3.94521996e-05,\n",
       "       3.49594254e-05, 3.09819348e-05, 2.74600849e-05, 2.43412217e-05,\n",
       "       2.15788463e-05, 1.91318844e-05, 1.69640433e-05, 1.50432483e-05,\n",
       "       1.33411450e-05, 1.18326632e-05, 1.04956316e-05, 9.31043888e-06,\n",
       "       8.25973502e-06, 7.32816776e-06, 6.50215039e-06, 5.76965675e-06,\n",
       "       5.12004041e-06, 4.54387497e-06, 4.03281310e-06, 3.57946203e-06,\n",
       "       3.17727352e-06, 2.82044669e-06, 2.50384209e-06, 2.22290577e-06,\n",
       "       1.97360212e-06, 1.75235449e-06, 1.55599267e-06, 1.38170641e-06,\n",
       "       1.22700433e-06, 1.08967750e-06, 9.67767258e-07, 8.59536707e-07,\n",
       "       7.63445464e-07, 6.78127316e-07, 6.02370431e-07, 5.35099828e-07,\n",
       "       4.75361850e-07, 4.22310408e-07, 3.75194798e-07, 3.33348896e-07,\n",
       "       2.96181591e-07, 2.57180904e-07, 2.11735714e-07, 1.71536992e-07,\n",
       "       1.37706447e-07, 1.09865341e-07, 8.72536533e-08, 6.90505378e-08,\n",
       "       5.44894803e-08, 4.28979403e-08, 3.37053777e-08, 2.64377328e-08,\n",
       "       2.07065695e-08, 1.61967634e-08, 1.26545583e-08, 9.87678509e-09,\n",
       "       7.70151770e-09, 6.00017824e-09, 4.67098183e-09, 3.63356115e-09,\n",
       "       2.82459915e-09, 2.19430630e-09, 1.70359511e-09, 1.32182434e-09,\n",
       "       1.02500478e-09, 7.94376737e-10, 6.15285188e-10, 4.76292375e-10,\n",
       "       3.68479110e-10, 2.84895612e-10, 2.20130538e-10, 1.69973226e-10,\n",
       "       1.31149310e-10, 1.01113999e-10, 7.78905941e-11, 5.99444625e-11,\n",
       "       4.60847605e-11, 3.53878549e-11, 2.71376918e-11, 2.07793922e-11,\n",
       "       1.58831617e-11, 1.21162375e-11, 9.22109492e-12, 6.99852295e-12,\n",
       "       5.29448947e-12, 3.98995024e-12, 2.99294610e-12, 2.23247679e-12,\n",
       "       1.65375391e-12, 1.21452395e-12, 8.82221151e-13, 6.31763820e-13,\n",
       "       4.43849283e-13, 3.03635092e-13, 1.99719409e-13, 1.23352982e-13,\n",
       "       6.78303474e-14, 2.80197002e-14])"
      ]
     },
     "execution_count": 8,
     "metadata": {},
     "output_type": "execute_result"
    }
   ],
   "source": [
    "delay_distrb"
   ]
  }
 ],
 "metadata": {
  "kernelspec": {
   "display_name": "base",
   "language": "python",
   "name": "python3"
  },
  "language_info": {
   "codemirror_mode": {
    "name": "ipython",
    "version": 3
   },
   "file_extension": ".py",
   "mimetype": "text/x-python",
   "name": "python",
   "nbconvert_exporter": "python",
   "pygments_lexer": "ipython3",
   "version": "3.9.12"
  },
  "orig_nbformat": 4,
  "vscode": {
   "interpreter": {
    "hash": "109ff4718981d14e91e88418b604cb45990f61d321c861f02a16cf7254a37127"
   }
  }
 },
 "nbformat": 4,
 "nbformat_minor": 2
}
