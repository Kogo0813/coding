{
  "cells": [
    {
      "cell_type": "markdown",
      "metadata": {
        "id": "q-Goa5qwBvzW"
      },
      "source": [
        "\n",
        "Author: Eunsuh Kim (POSTECH), Minseok Choi (POSTECH)\n",
        "\n",
        "Contact : s2077@postech.ac.kr\n"
      ]
    },
    {
      "cell_type": "markdown",
      "metadata": {
        "id": "U_EuAw9QBvzX"
      },
      "source": [
        "# Hands-on tutorial on SIR using PINN\n",
        "\n",
        "The tutorial is based on pytorch, an end-to-end platform for machine learning.\n",
        "\n",
        "Please use **Google Colab** [here](https://colab.research.google.com/?utm_source=scs-index) if you don't have python and/or pytorch installed on your local machine. (Read \"colab_how_to_start.pdf\" if you do not know how to start Colab.)\n",
        "\n",
        "To highlight different implementation aspects, let us now consider to train PINN for SIR problem (ODE).\n",
        "\n",
        "All elements defining our neural network implementation can be summarized in the following pytorch class. Here we assume that the reader is familiar with the basic pytorch structure and semantics. For a primer on pytorch please consider the series of tutorials presented [here](https://pytorch.org/tutorials/)."
      ]
    },
    {
      "cell_type": "code",
      "execution_count": 6,
      "metadata": {
        "id": "8SSYlBTVBvzY"
      },
      "outputs": [],
      "source": [
        "import numpy as np\n",
        "import time\n",
        "import matplotlib.pyplot as plt\n",
        "import torch\n",
        "import torch.nn as nn\n",
        "from torch.autograd import grad\n",
        "\n",
        "# Set device : \"cuda\" or \"cpu\"\n",
        "device = torch.device(\"cuda\")\n",
        "\n",
        "# Fix the random seed for reproducibility\n",
        "torch.manual_seed(2021)\n",
        "np.random.seed(2021)\n",
        "\n",
        "# For reference solution\n",
        "from scipy.integrate import odeint"
      ]
    },
    {
      "cell_type": "markdown",
      "metadata": {
        "id": "D5fMx7uJBvzY"
      },
      "source": [
        "# SIR problem\n",
        "\n",
        "Consider the following SIR problem:\n",
        "\n",
        "$$\\frac{dS}{dt}=-\\beta \\frac{SI}{N}, \\quad t \\in [0,20] $$\n",
        "$$\\frac{dI}{dt}=\\beta \\frac{SI}{N}-\\gamma I $$\n",
        "$$\\frac{dR}{dt}=\\gamma I $$\n",
        "with $S(0)=99,I(0)=1,R(0)=0$ and \n",
        "where $S(t)$, $I(t)$ and $R(t)$ denote the population of the Suspective, Infected, and Recovered, respectively."
      ]
    },
    {
      "cell_type": "code",
      "execution_count": 7,
      "metadata": {
        "id": "VnpYqWePBvzZ"
      },
      "outputs": [],
      "source": [
        "# Compute residual for SIR\n",
        "def SIR(net,t,params):\n",
        "    N, beta, gamma = params\n",
        "    u = net.forward(t)\n",
        "    S = u[:,0:1]\n",
        "    I = u[:,1:2]\n",
        "    R = u[:,2:3]\n",
        "    S_t = grad(S.sum(), t, create_graph=True)[0]\n",
        "    I_t = grad(I.sum(), t, create_graph=True)[0]\n",
        "    R_t = grad(R.sum(), t, create_graph=True)[0]\n",
        "    u_t = torch.cat([S_t,I_t,R_t],dim=1)\n",
        "    loss_f = u_t + torch.cat([beta*S*I/N,-beta*S*I/N+gamma*I,-gamma*I],dim=1)\n",
        "    loss_f = torch.mean(torch.square(loss_f))\n",
        "    return loss_f\n",
        "\n",
        "# ODE parameters\n",
        "N = 100        # population\n",
        "beta = 1.0     # infected person infects 1 other person per day\n",
        "D = 4.0        # infections lasts D days\n",
        "gamma = 1.0 / D\n",
        "SIR.params = [N, beta, gamma]\n",
        "\n",
        "# Initial condition\n",
        "S0 = 99\n",
        "I0 = 1\n",
        "R0 = 0\n",
        "\n",
        "# time domain\n",
        "tl = 0 \n",
        "tr = 20"
      ]
    },
    {
      "cell_type": "markdown",
      "metadata": {
        "id": "pwVqCBFcBvzZ"
      },
      "source": [
        "# Making test and training samples\n",
        "In the following cell, we set \n",
        "- the number of collocation points $N_{colloc}$\n",
        "- collocation and initial points $X_{colloc}$, $X_{ic}$, $U_{ic}$\n",
        "- test data (for validation of model) $X_{test}$, $U_{test}$"
      ]
    },
    {
      "cell_type": "code",
      "execution_count": 8,
      "metadata": {
        "id": "ydpXUxjtBvzZ"
      },
      "outputs": [
        {
          "ename": "AssertionError",
          "evalue": "Torch not compiled with CUDA enabled",
          "output_type": "error",
          "traceback": [
            "\u001b[0;31m---------------------------------------------------------------------------\u001b[0m",
            "\u001b[0;31mAssertionError\u001b[0m                            Traceback (most recent call last)",
            "Cell \u001b[0;32mIn[8], line 20\u001b[0m\n\u001b[1;32m     17\u001b[0m u \u001b[39m=\u001b[39m odeint(deriv, u0, t, args\u001b[39m=\u001b[39m(N, beta, gamma))\n\u001b[1;32m     19\u001b[0m \u001b[39m# Make test tensors\u001b[39;00m\n\u001b[0;32m---> 20\u001b[0m X_test \u001b[39m=\u001b[39m torch\u001b[39m.\u001b[39;49mtensor(t,dtype\u001b[39m=\u001b[39;49mtorch\u001b[39m.\u001b[39;49mfloat64,device\u001b[39m=\u001b[39;49mdevice)\u001b[39m.\u001b[39mview(\u001b[39m-\u001b[39m\u001b[39m1\u001b[39m,\u001b[39m1\u001b[39m) \u001b[39m# 시간에 대한 방정식이므로\u001b[39;00m\n\u001b[1;32m     21\u001b[0m U_test \u001b[39m=\u001b[39m torch\u001b[39m.\u001b[39mtensor(u,dtype\u001b[39m=\u001b[39mtorch\u001b[39m.\u001b[39mfloat64,device\u001b[39m=\u001b[39mdevice)\u001b[39m.\u001b[39mview(\u001b[39m-\u001b[39m\u001b[39m1\u001b[39m,\u001b[39m3\u001b[39m) \u001b[39m# S, I, R 3가지 상태가 존재하기 때문에\u001b[39;00m\n\u001b[1;32m     23\u001b[0m \u001b[39m# Set the number of collocation points\u001b[39;00m\n",
            "File \u001b[0;32m~/miniconda/lib/python3.10/site-packages/torch/cuda/__init__.py:221\u001b[0m, in \u001b[0;36m_lazy_init\u001b[0;34m()\u001b[0m\n\u001b[1;32m    217\u001b[0m     \u001b[39mraise\u001b[39;00m \u001b[39mRuntimeError\u001b[39;00m(\n\u001b[1;32m    218\u001b[0m         \u001b[39m\"\u001b[39m\u001b[39mCannot re-initialize CUDA in forked subprocess. To use CUDA with \u001b[39m\u001b[39m\"\u001b[39m\n\u001b[1;32m    219\u001b[0m         \u001b[39m\"\u001b[39m\u001b[39mmultiprocessing, you must use the \u001b[39m\u001b[39m'\u001b[39m\u001b[39mspawn\u001b[39m\u001b[39m'\u001b[39m\u001b[39m start method\u001b[39m\u001b[39m\"\u001b[39m)\n\u001b[1;32m    220\u001b[0m \u001b[39mif\u001b[39;00m \u001b[39mnot\u001b[39;00m \u001b[39mhasattr\u001b[39m(torch\u001b[39m.\u001b[39m_C, \u001b[39m'\u001b[39m\u001b[39m_cuda_getDeviceCount\u001b[39m\u001b[39m'\u001b[39m):\n\u001b[0;32m--> 221\u001b[0m     \u001b[39mraise\u001b[39;00m \u001b[39mAssertionError\u001b[39;00m(\u001b[39m\"\u001b[39m\u001b[39mTorch not compiled with CUDA enabled\u001b[39m\u001b[39m\"\u001b[39m)\n\u001b[1;32m    222\u001b[0m \u001b[39mif\u001b[39;00m _cudart \u001b[39mis\u001b[39;00m \u001b[39mNone\u001b[39;00m:\n\u001b[1;32m    223\u001b[0m     \u001b[39mraise\u001b[39;00m \u001b[39mAssertionError\u001b[39;00m(\n\u001b[1;32m    224\u001b[0m         \u001b[39m\"\u001b[39m\u001b[39mlibcudart functions unavailable. It looks like you have a broken build?\u001b[39m\u001b[39m\"\u001b[39m)\n",
            "\u001b[0;31mAssertionError\u001b[0m: Torch not compiled with CUDA enabled"
          ]
        }
      ],
      "source": [
        "# Make test data\n",
        "\n",
        "def deriv(u, t, N, beta, gamma):\n",
        "    S, I, R = u\n",
        "    dSdt = -beta * S * I / N # 각 시점에서의 변화량\n",
        "    dIdt = beta * S * I / N - gamma * I\n",
        "    dRdt = gamma * I\n",
        "    return dSdt, dIdt, dRdt\n",
        "\n",
        "# Grid of time points (in days)\n",
        "t = np.linspace(tl, tr, 501)\n",
        "\n",
        "# Initial conditions vector \n",
        "u0 = S0, I0, R0 # 초기 값\n",
        "\n",
        "# Integrate the SIR equations over the time\n",
        "u = odeint(deriv, u0, t, args=(N, beta, gamma))\n",
        "\n",
        "# Make test tensors\n",
        "X_test = torch.tensor(t,dtype=torch.float64,device=device).view(-1,1) # 시간에 대한 방정식이므로\n",
        "U_test = torch.tensor(u,dtype=torch.float64,device=device).view(-1,3) # S, I, R 3가지 상태가 존재하기 때문에\n",
        "\n",
        "# Set the number of collocation points\n",
        "N_colloc = 2000 # collocation points에서도 편미분 방정식을 만족시켜야 한다 -> 초기 조건과 경계 조건에서도 만족해야 함\n",
        "\n",
        "# Collocation points\n",
        "X_colloc = torch.rand(N_colloc,dtype=torch.float64,device=device).view(-1,1)*(tr-tl)+tl\n",
        "X_colloc.requires_grad_()\n",
        "\n",
        "# For input normalization\n",
        "X_mean = torch.mean(X_colloc,0).detach() # detach() : 값이 변하지 않음\n",
        "X_std = torch.std(X_colloc,0).detach() \n",
        "\n",
        "# Initial training points\n",
        "X_ic = torch.tensor([0],dtype=torch.float64,device=device).view(-1,1)\n",
        "U_ic = torch.tensor([S0,I0,R0],dtype=torch.float64,device=device).view(-1,3)\n",
        "\n",
        "# For output normalization\n",
        "U_mean = torch.mean(U_ic)\n",
        "U_std = torch.std(U_ic)\n",
        "\n",
        "# Calculate relative L2 error\n",
        "def calculate_relative_err(net):\n",
        "    U_pred = net.predict(X_test)\n",
        "    err = torch.abs(U_pred-U_test)\n",
        "    err = torch.linalg.norm(err)/torch.linalg.norm(U_test)        \n",
        "    return err.item()"
      ]
    },
    {
      "cell_type": "markdown",
      "metadata": {
        "id": "q9vP2mhtBvzZ"
      },
      "source": [
        "# PINN class definition"
      ]
    },
    {
      "cell_type": "code",
      "execution_count": 7,
      "metadata": {
        "id": "Y4eDCKxWBvzZ"
      },
      "outputs": [],
      "source": [
        "# PINN class for BVP and LotkaVolterra\n",
        "class PINN(nn.Module):   \n",
        "    def __init__(self,\n",
        "                governing_eqn = None,\n",
        "                Fourier_embedding = True,\n",
        "                layers = [50,50,50,50],\n",
        "                X_colloc=X_colloc):\n",
        "        \n",
        "        super(PINN, self).__init__()\n",
        "        \n",
        "        # Basic settings\n",
        "        self.Fourier_embedding = Fourier_embedding\n",
        "        self.governing_eqn = governing_eqn\n",
        "        self.params = governing_eqn.params\n",
        "        self.device = device\n",
        "        self.X_colloc=X_colloc\n",
        "\n",
        "        # Input and output dimension\n",
        "        input_dim = 1\n",
        "        output_dim = 3\n",
        "\n",
        "        # For Fourier embedding\n",
        "        if self.Fourier_embedding == True:\n",
        "            sigma = 2\n",
        "            input_dim = 20\n",
        "            self.B = nn.Parameter(sigma*torch.randn(1,int(0.5*input_dim),dtype=torch.float64),requires_grad=False)\n",
        "\n",
        "        # Set neural network structure\n",
        "        hidden = [50,50,50,50]\n",
        "        self.n_hidden = len(hidden) # 은닉층의 수\n",
        "        self.fcs = nn.ModuleList()\n",
        "        for layer in range(self.n_hidden+1):\n",
        "            self.fcs.append(nn.Sequential(*[nn.Linear(in_features = input_dim if layer == 0 else hidden[layer -1],\n",
        "                                                out_features = output_dim if layer == self.n_hidden else hidden[layer],\n",
        "                                                bias = True)])) # 일반적인 층 쌓기를 더 간단하게 표현한 것 \n",
        "            # 즉 input_dim -> hidden_dim, hidden_dim -> hidden_dim, hidden_dim -> output_dim 순으로 쌓는다는 의미\n",
        "        \n",
        "            # Initialization of weights and biases for each layer\n",
        "            nn.init.xavier_normal_(self.fcs[layer][0].weight) # weight는 xavier_normal(정규분포)로 초기화\n",
        "            nn.init.zeros_(self.fcs[layer][0].bias) # bias는 0으로 초기화\n",
        "        \n",
        "    # Fourier Embedding layer funtion\n",
        "    def Fourier(self,X): # 각 층에 푸리에 변환을 적용\n",
        "        X = X@self.B # @: 행렬 곱셈\n",
        "        X = torch.cat((torch.sin(X),torch.cos(X)),-1) # -1: 마지막 차원에 붙이겠다는 의미\n",
        "        return X\n",
        "\n",
        "    # Forward pass function \n",
        "    def forward(self, x):\n",
        "        # Normalization for input\n",
        "        x = (x-X_mean)/X_std # input값 정규화\n",
        "\n",
        "        # If Fourier embedding is used, apply the Fourier embedding layer\n",
        "        if self.Fourier_embedding ==True:\n",
        "            x = self.Fourier(x)\n",
        "\n",
        "        # Pass each layer and apply activation function\n",
        "        for i in range(self.n_hidden):    \n",
        "            x = self.fcs[i](x)\n",
        "            x = torch.sin(x) # 각 층에 x를 통과시키고 sin함수를 적용\n",
        "        # Final layer does not have activation function\n",
        "        x = self.fcs[self.n_hidden](x) # 마지막 층에는 sin함수를 적용하지 않음\n",
        "\n",
        "        # Denormalize for output\n",
        "        x = U_std*x+U_mean # 다시 output값으로 변환\n",
        "        return x\n",
        "\n",
        "    def loss_func(self):\n",
        "        # Residual Loss\n",
        "        loss_colloc = self.governing_eqn(self,self.X_colloc,self.params)\n",
        "        \n",
        "        # Initial Loss\n",
        "        U_ic_pred = self.forward(X_ic)\n",
        "        loss_ic = torch.mean(torch.square(U_ic_pred-U_ic))\n",
        "\n",
        "        return loss_colloc + 100*loss_ic\n",
        "\n",
        "    def train(self,num_iter=10000):\n",
        "        # Initialize history lists\n",
        "        self.loss_history = []\n",
        "        self.l2error_history = []\n",
        "\n",
        "        # Save history for every 50 iteration\n",
        "        self.history_interval = 100\n",
        "\n",
        "        # Set optimizer\n",
        "        optimizer = torch.optim.Adam(self.parameters(),lr = 0.001,betas=(0.999,0.999))\n",
        "        \n",
        "        # Trining time check\n",
        "        start = time.time()\n",
        "        \n",
        "        for count in range(num_iter):\n",
        "            # Zero gradients\n",
        "            optimizer.zero_grad()\n",
        "            \n",
        "            # compute loss\n",
        "            loss = self.loss_func()\n",
        "            \n",
        "            # compute gradients (backward pass)\n",
        "            loss.backward()\n",
        "            \n",
        "            # update parameters using gradients\n",
        "            optimizer.step()\n",
        "\n",
        "            # For loss and l2error history\n",
        "            if count % self.history_interval == 0:\n",
        "                err = calculate_relative_err(net)\n",
        "                self.loss_history.append(loss.detach().item())\n",
        "                self.l2error_history.append(err)\n",
        "\n",
        "            # For loss print\n",
        "            if count % 5000 == 0:\n",
        "                print(f\"Iter: {count}, Loss: {self.loss_history[int(count/self.history_interval)]}\")\n",
        "\n",
        "        end = time.time()\n",
        "        print(f\"Training time: {end-start} seconds\")\n",
        "        \n",
        "    # Predict for a new input\n",
        "    def predict(self,X_new):\n",
        "        pred_outs = self.forward(X_new)\n",
        "        return pred_outs"
      ]
    },
    {
      "cell_type": "markdown",
      "metadata": {
        "id": "tRqfzWd9Bvza"
      },
      "source": [
        "# Training PINN and prediction"
      ]
    },
    {
      "cell_type": "code",
      "execution_count": 8,
      "metadata": {
        "colab": {
          "base_uri": "https://localhost:8080/"
        },
        "id": "FtvV6aWoBvza",
        "outputId": "24f8fc6a-2581-4ec5-c6c0-beeb5b6a599e"
      },
      "outputs": [
        {
          "name": "stdout",
          "output_type": "stream",
          "text": [
            "Iter: 0, Loss: 202720.84010277552\n",
            "Iter: 5000, Loss: 16.42042676630578\n",
            "Iter: 10000, Loss: 0.3495547313576739\n",
            "Iter: 15000, Loss: 0.00454471837970756\n",
            "Training time: 161.76428365707397 seconds\n"
          ]
        }
      ],
      "source": [
        "# Set number of training points\n",
        "# N_colloc = 2000\n",
        "\n",
        "# Make a PINN network\n",
        "net = PINN(governing_eqn=SIR,\n",
        "            Fourier_embedding=True,\n",
        "            layers = [50,50,50,50],X_colloc=X_colloc).to(device).double()\n",
        "# Train PINN\n",
        "net.train(num_iter=20000)\n"
      ]
    },
    {
      "cell_type": "code",
      "execution_count": 9,
      "metadata": {
        "colab": {
          "base_uri": "https://localhost:8080/",
          "height": 281
        },
        "id": "zOG1fMreBvza",
        "outputId": "3680dd01-97bb-4fcc-ee21-1431e169a7ad"
      },
      "outputs": [
        {
          "data": {
            "image/png": "[encoded data removed]",
            "text/plain": [
              "<Figure size 432x288 with 1 Axes>"
            ]
          },
          "metadata": {
            "needs_background": "light"
          },
          "output_type": "display_data"
        }
      ],
      "source": [
        "plt.figure()\n",
        "plt.title(\"Training loss and L2 error\")\n",
        "plt.semilogy(net.history_interval*np.arange(0,int(len(net.loss_history))).reshape(-1,1),net.loss_history,label = \"loss\")\n",
        "plt.semilogy(net.history_interval*np.arange(0,int(len(net.l2error_history))).reshape(-1,1),net.l2error_history,label = 'l2error',alpha=0.7)\n",
        "plt.legend()\n",
        "plt.show()"
      ]
    },
    {
      "cell_type": "code",
      "execution_count": 10,
      "metadata": {
        "colab": {
          "base_uri": "https://localhost:8080/",
          "height": 422
        },
        "id": "uZCvxpsABvza",
        "outputId": "c2230242-e20a-498b-9856-ada1dbfaed9a"
      },
      "outputs": [
        {
          "name": "stdout",
          "output_type": "stream",
          "text": [
            "Relative L2-error norm: 0.0006383550767493106\n"
          ]
        },
        {
          "data": {
            "image/png": "[encoded data removed]",
            "text/plain": [
              "<Figure size 432x432 with 1 Axes>"
            ]
          },
          "metadata": {
            "needs_background": "light"
          },
          "output_type": "display_data"
        }
      ],
      "source": [
        "# Make prediction using learned network\n",
        "U_pred = net.predict(X_test)\n",
        "err = torch.abs(U_pred-U_test)\n",
        "err = torch.linalg.norm(err)/torch.linalg.norm(U_test)\n",
        "print(\"Relative L2-error norm: {}\".format(err))\n",
        "\n",
        "with torch.no_grad():\n",
        "    plt.figure(figsize=(6,6))\n",
        "    plt.title(\"SIR\")\n",
        "    plt.plot(X_test.cpu(),U_test.cpu()[:,0:1],'b', lw=2, label='exact S')\n",
        "    plt.plot(X_test.cpu(),U_test.cpu()[:,1:2],'y', lw=2, label='exact I')\n",
        "    plt.plot(X_test.cpu(),U_test.cpu()[:,2:3],'k', lw=2, label='exact R')\n",
        "    plt.plot(X_test.cpu(),U_pred.cpu()[:,0:1],'c-.', lw=2, label='predicted S')\n",
        "    plt.plot(X_test.cpu(),U_pred.cpu()[:,1:2],'r:', lw=2, label='predicted I')\n",
        "    plt.plot(X_test.cpu(),U_pred.cpu()[:,2:3],'m--', lw=2, label='predicted R')\n",
        "    plt.legend()\n",
        "    plt.xlabel('t')\n",
        "    plt.show()"
      ]
    },
    {
      "cell_type": "code",
      "execution_count": null,
      "metadata": {
        "id": "vDCPTCesD8CI"
      },
      "outputs": [],
      "source": []
    }
  ],
  "metadata": {
    "accelerator": "GPU",
    "colab": {
      "provenance": []
    },
    "gpuClass": "standard",
    "interpreter": {
      "hash": "cf03ba88d096f66e6544b21fcfaadeeb1d2a4673ad1a136e8a8af5ac4048d893"
    },
    "kernelspec": {
      "display_name": "aarch",
      "language": "python",
      "name": "aarch"
    },
    "language_info": {
      "codemirror_mode": {
        "name": "ipython",
        "version": 3
      },
      "file_extension": ".py",
      "mimetype": "text/x-python",
      "name": "python",
      "nbconvert_exporter": "python",
      "pygments_lexer": "ipython3",
      "version": "3.10.9"
    }
  },
  "nbformat": 4,
  "nbformat_minor": 0
}
