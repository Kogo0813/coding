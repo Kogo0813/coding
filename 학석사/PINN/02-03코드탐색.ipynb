{
 "cells": [
  {
   "cell_type": "code",
   "execution_count": 1,
   "metadata": {},
   "outputs": [],
   "source": [
    "import numpy as np\n",
    "import time\n",
    "import matplotlib.pyplot as plt\n",
    "import torch\n",
    "import torch.nn as nn\n",
    "from torch.autograd import grad"
   ]
  },
  {
   "cell_type": "code",
   "execution_count": 2,
   "metadata": {},
   "outputs": [],
   "source": [
    "device = torch.device(\"cuda\")\n",
    "\n",
    "torch.manual_seed(2023)\n",
    "np.random.seed(2023)\n",
    "\n",
    "from scipy.integrate import odeint"
   ]
  },
  {
   "cell_type": "code",
   "execution_count": 6,
   "metadata": {},
   "outputs": [],
   "source": [
    "def SIR(net, t, params):\n",
    "    N, beta, gamma = params\n",
    "    u = net.forward(t)\n",
    "    S = u[:, 0:1]\n",
    "    I = u[:, 1:2]\n",
    "    R = u[:, 2:3]\n",
    "    S_t = grad(S.sum(), t, create_graph=True)[0]\n",
    "    I_t = grad(I.sum(), t, create_graph=True)[0]\n",
    "    R_t = grad(R.sum(), t, create_graph=True)[0]\n",
    "    u_t = torch.cat([S_t, I_t, R_t], dim=1)\n",
    "    loss_f = u_t + torch.cat([beta * S * I/N, -beta * S * I/N + gamma * I, -gamma * I], dim=1)\n",
    "    loss_f = torch.mean(torch.square(loss_f))\n",
    "    return loss_f"
   ]
  },
  {
   "cell_type": "code",
   "execution_count": 7,
   "metadata": {},
   "outputs": [],
   "source": [
    "# ODE parameters\n",
    "N = 100        # population\n",
    "beta = 1.0     # infected person infects 1 other person per day\n",
    "D = 4.0        # infections lasts D days\n",
    "gamma = 1.0 / D\n",
    "SIR.params = [N, beta, gamma]\n",
    "\n",
    "# Initial condition\n",
    "S0 = 99\n",
    "I0 = 1\n",
    "R0 = 0\n",
    "\n",
    "# time domain\n",
    "tl = 0 \n",
    "tr = 20"
   ]
  },
  {
   "cell_type": "code",
   "execution_count": 8,
   "metadata": {},
   "outputs": [],
   "source": [
    "def deriv(u, t, N, beta, gamma):\n",
    "    S, I, R = u\n",
    "    dSdt = -beta * S * I/N\n",
    "    dIdt = beta * S * I/N - gamma * I\n",
    "    dRdt = gamma * I\n",
    "    return dSdt, dIdt, dRdt"
   ]
  },
  {
   "cell_type": "code",
   "execution_count": 10,
   "metadata": {},
   "outputs": [],
   "source": [
    "t = np.linspace(tl, tr, 501)\n",
    "u0 = S0, I0, R0\n",
    "u = odeint(deriv, u0, t, args=(N, beta, gamma))\n",
    "\n",
    "X_test = torch.tensor(t, dtype = torch.float64, device = device).view(-1, 1)\n",
    "U_test = torch.tensor(u, dtype = torch.float64, device = device).view(-1, 3)\n",
    "\n",
    "N_colloc = 2000\n",
    "\n",
    "X_colloc = torch.rand(N_colloc, dtype = torch.float64, device = device).view(-1, 1) * (tr - tl) + tl\n",
    "X_colloc.requires_grad_()\n",
    "\n",
    "x_mean = torch.mean(X_colloc, 0).detach() # detach()를 통해 X_colloc의 gradient를 계산하지 않음\n",
    "X_std = torch.std(X_colloc, 0).detach()\n",
    "\n",
    "X_ic = torch.tensor([0], dtype = torch.float64, device = device).view(-1, 1)\n",
    "U_ic = torch.tensor([S0, I0, R0], dtype = torch.float64, device = device).view(-1, 3)\n",
    "\n",
    "U_mean = torch.mean(U_ic)\n",
    "U_std = torch.std(U_ic)\n",
    "\n",
    "def calculate_relative_err(net):\n",
    "    U_pred = net.predict(X_test)\n",
    "    err = torch.abs(U_pred - U_test)\n",
    "    err = torch.linalg.norm(err)/torch.linalg.norm(U_test)\n",
    "    return err.item()\n",
    "\n"
   ]
  },
  {
   "cell_type": "code",
   "execution_count": 18,
   "metadata": {},
   "outputs": [],
   "source": [
    "x = torch.tensor(1.0, requires_grad=True)\n",
    "\n",
    "y = 2 * x\n",
    "\n",
    "\n"
   ]
  },
  {
   "cell_type": "code",
   "execution_count": 19,
   "metadata": {},
   "outputs": [],
   "source": [
    "z = y.detach()\n",
    "y.backward()"
   ]
  },
  {
   "cell_type": "code",
   "execution_count": 20,
   "metadata": {},
   "outputs": [
    {
     "name": "stdout",
     "output_type": "stream",
     "text": [
      "tensor(2.)\n",
      "None\n"
     ]
    }
   ],
   "source": [
    "print(x.grad)\n",
    "print(z.grad)"
   ]
  },
  {
   "cell_type": "code",
   "execution_count": 21,
   "metadata": {},
   "outputs": [
    {
     "name": "stdout",
     "output_type": "stream",
     "text": [
      "tensor([[1.1558]], grad_fn=<AddmmBackward0>)\n"
     ]
    }
   ],
   "source": [
    "import torch\n",
    "import torch.nn as nn\n",
    "\n",
    "class SimpleNet(nn.Module):\n",
    "    def __init__(self):\n",
    "        super(SimpleNet, self).__init__()\n",
    "        self.fc = nn.Linear(2, 1)\n",
    "\n",
    "    def forward(self, x):\n",
    "        x = self.fc(x)\n",
    "        return x\n",
    "\n",
    "model = SimpleNet()\n",
    "inputs = torch.tensor([[1.0, 2.0]])\n",
    "outputs = model(inputs)\n",
    "print(outputs)\n"
   ]
  },
  {
   "cell_type": "code",
   "execution_count": null,
   "metadata": {},
   "outputs": [],
   "source": []
  }
 ],
 "metadata": {
  "kernelspec": {
   "display_name": "base",
   "language": "python",
   "name": "python3"
  },
  "language_info": {
   "codemirror_mode": {
    "name": "ipython",
    "version": 3
   },
   "file_extension": ".py",
   "mimetype": "text/x-python",
   "name": "python",
   "nbconvert_exporter": "python",
   "pygments_lexer": "ipython3",
   "version": "3.9.12"
  },
  "orig_nbformat": 4,
  "vscode": {
   "interpreter": {
    "hash": "109ff4718981d14e91e88418b604cb45990f61d321c861f02a16cf7254a37127"
   }
  }
 },
 "nbformat": 4,
 "nbformat_minor": 2
}
