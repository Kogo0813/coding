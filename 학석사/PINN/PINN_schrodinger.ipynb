{
 "cells": [
  {
   "cell_type": "code",
   "execution_count": 1,
   "id": "fed93ea0",
   "metadata": {},
   "outputs": [],
   "source": [
    "import numpy as np\n",
    "import time\n",
    "import matplotlib.pyplot as plt\n",
    "import torch\n",
    "import torch.nn as nn\n",
    "from torch.autograd import grad\n",
    "import scipy.io\n",
    "from pyDOE import lhs\n",
    "from scipy.interpolate import griddata\n",
    "import matplotlib.gridspec as gridspec\n",
    "from mpl_toolkits.axes_grid1 import make_axes_locatable"
   ]
  },
  {
   "cell_type": "code",
   "execution_count": 2,
   "id": "36ed9e0d",
   "metadata": {},
   "outputs": [],
   "source": [
    "device=torch.device(\"cpu\")\n",
    "\n",
    "torch.manual_seed(1234)\n",
    "np.random.seed(1234)"
   ]
  },
  {
   "cell_type": "markdown",
   "id": "d6d07e74",
   "metadata": {},
   "source": [
    "## Schrodinger\n",
    "$$ih_t+0.5h_{xx}+|h|^2h=0$$\n",
    "$$x\\in[-5,5],\\quad t\\in[0,\\pi/2]$$\n",
    "$$h(0,x)=2sech(x)$$\n",
    "$$h(t,-5)=h(t,5)$$\n",
    "$$h_x(t,-5)=h_x(t,5)$$"
   ]
  },
  {
   "cell_type": "code",
   "execution_count": 3,
   "id": "6ba39c62",
   "metadata": {},
   "outputs": [],
   "source": [
    "noise=0.0\n",
    "lb=np.array([-5.0, 0.0])\n",
    "ub=np.array([5.0, np.pi/2])"
   ]
  },
  {
   "cell_type": "code",
   "execution_count": 4,
   "id": "4013fa9d",
   "metadata": {},
   "outputs": [],
   "source": [
    "# noise=0.0\n",
    "xl=-5\n",
    "xu=5\n",
    "tl=0\n",
    "tu=np.pi/2"
   ]
  },
  {
   "cell_type": "code",
   "execution_count": 5,
   "id": "8e1faacb",
   "metadata": {},
   "outputs": [],
   "source": [
    "N0=50\n",
    "N_b=50\n",
    "N_f=2000\n",
    "# layers=[2,100,100,100,100,2]\n",
    "layers=[2,100,100,100,100,2]\n",
    "\n",
    "data=scipy.io.loadmat('./data/NLS.mat')"
   ]
  },
  {
   "cell_type": "code",
   "execution_count": 73,
   "id": "7cb311cc",
   "metadata": {},
   "outputs": [],
   "source": [
    "t=data['tt'].flatten()[:,None] # t: 0 ~ pi/2\n",
    "x=data['x'].flatten()[:,None] # x: -5~5\n",
    "Exact=data['uu'] # 정답"
   ]
  },
  {
   "cell_type": "code",
   "execution_count": 102,
   "id": "962f34ae",
   "metadata": {
    "scrolled": false
   },
   "outputs": [
    {
     "data": {
      "text/plain": [
       "(257, 1)"
      ]
     },
     "execution_count": 102,
     "metadata": {},
     "output_type": "execute_result"
    }
   ],
   "source": [
    "x.shape"
   ]
  },
  {
   "cell_type": "code",
   "execution_count": 93,
   "id": "65c5e060",
   "metadata": {},
   "outputs": [],
   "source": [
    "x=np.append(x,np.array([-x[0]]),axis=0)"
   ]
  },
  {
   "cell_type": "code",
   "execution_count": 94,
   "id": "22348529",
   "metadata": {},
   "outputs": [
    {
     "data": {
      "text/plain": [
       "(256, 201)"
      ]
     },
     "execution_count": 94,
     "metadata": {},
     "output_type": "execute_result"
    }
   ],
   "source": [
    "Exact.shape"
   ]
  },
  {
   "cell_type": "code",
   "execution_count": 103,
   "id": "14147100",
   "metadata": {},
   "outputs": [],
   "source": [
    "Exact=np.append(Exact,np.array([Exact[0,:]]),axis=0)"
   ]
  },
  {
   "cell_type": "code",
   "execution_count": 104,
   "id": "f9f86a4f",
   "metadata": {},
   "outputs": [],
   "source": [
    "Exact_u=np.real(Exact) # value의 실수 \n",
    "Exact_v=np.imag(Exact) # value의 허수"
   ]
  },
  {
   "cell_type": "code",
   "execution_count": 105,
   "id": "98d42e1f",
   "metadata": {},
   "outputs": [],
   "source": [
    "Exact_h=np.sqrt(Exact_u**2+Exact_v**2)"
   ]
  },
  {
   "cell_type": "code",
   "execution_count": 106,
   "id": "a74f3db9",
   "metadata": {},
   "outputs": [
    {
     "name": "stdout",
     "output_type": "stream",
     "text": [
      "(0.028270116393807054+0.0014690327316345744j)\n",
      "0.028270116393807054 0.0007991994809193984\n",
      "0.0014690327316345744 2.1580571666137397e-06\n",
      "0.02830825918501546\n",
      "0.02830825918501546\n"
     ]
    }
   ],
   "source": [
    "print(Exact[0,1])\n",
    "print(Exact_u[0,1], Exact_u[0,1]**2)\n",
    "print(Exact_v[0,1], Exact_v[0,1]**2)\n",
    "print(np.sqrt(Exact_u[0,1]**2+Exact_v[0,1]**2))\n",
    "print(Exact_h[0,1])"
   ]
  },
  {
   "cell_type": "code",
   "execution_count": 107,
   "id": "af025cc7",
   "metadata": {},
   "outputs": [
    {
     "name": "stdout",
     "output_type": "stream",
     "text": [
      "(201, 257) (201, 257)\n"
     ]
    }
   ],
   "source": [
    "X,T=np.meshgrid(x,t) # 크기에 맞게 grid 형성\n",
    "print(X.shape,T.shape)"
   ]
  },
  {
   "cell_type": "code",
   "execution_count": 108,
   "id": "f33d8f4d",
   "metadata": {
    "scrolled": true
   },
   "outputs": [
    {
     "data": {
      "text/plain": [
       "(51657, 2)"
      ]
     },
     "execution_count": 108,
     "metadata": {},
     "output_type": "execute_result"
    }
   ],
   "source": [
    "X_star = np.hstack((X.flatten()[:,None], T.flatten()[:,None]))\n",
    "X_star.shape"
   ]
  },
  {
   "cell_type": "code",
   "execution_count": 109,
   "id": "f1cb9761",
   "metadata": {},
   "outputs": [],
   "source": [
    "u_star = Exact_u.T.flatten()[:,None]\n",
    "v_star = Exact_v.T.flatten()[:,None]\n",
    "h_star = Exact_h.T.flatten()[:,None]"
   ]
  },
  {
   "cell_type": "code",
   "execution_count": 110,
   "id": "1a28b038",
   "metadata": {},
   "outputs": [
    {
     "data": {
      "text/plain": [
       "(51657, 1)"
      ]
     },
     "execution_count": 110,
     "metadata": {},
     "output_type": "execute_result"
    }
   ],
   "source": [
    "u_star.shape"
   ]
  },
  {
   "cell_type": "code",
   "execution_count": 111,
   "id": "be50046d",
   "metadata": {},
   "outputs": [],
   "source": [
    "## N0만큼 inital value를 뽑음\n",
    "idx_x = np.random.choice(x.shape[0], N0, replace=False)\n",
    "x0 = x[idx_x,:]\n",
    "u0 = Exact_u[idx_x,0:1]\n",
    "v0 = Exact_v[idx_x,0:1]"
   ]
  },
  {
   "cell_type": "code",
   "execution_count": 112,
   "id": "a165bde2",
   "metadata": {},
   "outputs": [
    {
     "data": {
      "text/plain": [
       "(257, 1)"
      ]
     },
     "execution_count": 112,
     "metadata": {},
     "output_type": "execute_result"
    }
   ],
   "source": [
    "x.shape"
   ]
  },
  {
   "cell_type": "code",
   "execution_count": 113,
   "id": "c1b117e8",
   "metadata": {
    "scrolled": true
   },
   "outputs": [
    {
     "data": {
      "text/plain": [
       "(257, 201)"
      ]
     },
     "execution_count": 113,
     "metadata": {},
     "output_type": "execute_result"
    }
   ],
   "source": [
    "Exact_u.shape"
   ]
  },
  {
   "cell_type": "code",
   "execution_count": 114,
   "id": "a0df0c26",
   "metadata": {},
   "outputs": [
    {
     "name": "stdout",
     "output_type": "stream",
     "text": [
      "(50, 1) (50, 1) (50, 1)\n"
     ]
    }
   ],
   "source": [
    "print(x0.shape, u0.shape, v0.shape)"
   ]
  },
  {
   "cell_type": "code",
   "execution_count": 115,
   "id": "8aae4a4c",
   "metadata": {},
   "outputs": [],
   "source": [
    "X_ic=torch.zeros((N0,2),dtype=torch.float64,device=device)\n",
    "X_ic[:,0:1]=torch.tensor(x0)\n",
    "X_ic[:,1]=tl\n",
    "\n",
    "H_ic=torch.zeros((N0,2),dtype=torch.float64,device=device)\n",
    "H_ic[:,0:1]=torch.tensor(u0)\n",
    "H_ic[:,1:2]=torch.tensor(v0)"
   ]
  },
  {
   "cell_type": "code",
   "execution_count": 118,
   "id": "304937ed",
   "metadata": {
    "scrolled": false
   },
   "outputs": [
    {
     "data": {
      "text/plain": [
       "(torch.Size([50, 2]), torch.Size([50, 2]))"
      ]
     },
     "execution_count": 118,
     "metadata": {},
     "output_type": "execute_result"
    }
   ],
   "source": [
    "X_ic.shape, H_ic.shape"
   ]
  },
  {
   "cell_type": "code",
   "execution_count": 123,
   "id": "8b302a8a",
   "metadata": {},
   "outputs": [],
   "source": [
    "## Nb만큼 boundary value를 뽑음\n",
    "idx_t = np.random.choice(t.shape[0], N_b, replace=False)\n",
    "tb = t[idx_t,:]\n",
    "# u_lb = Exact_u[0:1,idx_t]\n",
    "# v_lb = Exact_v[0:1,idx_t]"
   ]
  },
  {
   "cell_type": "code",
   "execution_count": 130,
   "id": "1954febc",
   "metadata": {},
   "outputs": [],
   "source": [
    "X0 = np.concatenate((x0, 0*x0), 1) # (x0, 0)\n",
    "X_lb = np.concatenate((0*tb + lb[0], tb), 1) # (lb[0], tb)\n",
    "X_ub = np.concatenate((0*tb + ub[0], tb), 1) # (ub[0], tb)"
   ]
  },
  {
   "cell_type": "code",
   "execution_count": 131,
   "id": "1e6ac93e",
   "metadata": {},
   "outputs": [],
   "source": [
    "# H_ubc=torch.zeros((N_b,2),dtype=torch.float64,device=device)\n",
    "\n",
    "# H_ubc[:,0]=torch.tensor(np.reshape(u_lb,-1))\n",
    "# H_ubc[:,1]=torch.tensor(np.reshape(v_lb,-1))\n",
    "\n",
    "# H_lbc=torch.zeros((N_b,2),dtype=torch.float64,device=device)\n",
    "# H_lbc[:,0]=torch.tensor(np.reshape(u_lb,-1))\n",
    "# H_lbc[:,1]=torch.tensor(np.reshape(v_lb,-1))"
   ]
  },
  {
   "cell_type": "code",
   "execution_count": 132,
   "id": "3a5235f9",
   "metadata": {},
   "outputs": [],
   "source": [
    "X_f = lb + (ub-lb)*lhs(2, N_f)"
   ]
  },
  {
   "cell_type": "code",
   "execution_count": 133,
   "id": "b37b0902",
   "metadata": {},
   "outputs": [
    {
     "data": {
      "text/plain": [
       "(2000, 2)"
      ]
     },
     "execution_count": 133,
     "metadata": {},
     "output_type": "execute_result"
    }
   ],
   "source": [
    "X_f.shape"
   ]
  },
  {
   "cell_type": "code",
   "execution_count": 141,
   "id": "dbcad7eb",
   "metadata": {},
   "outputs": [
    {
     "data": {
      "text/plain": [
       "array([[2.18583467, 0.39672505],\n",
       "       [0.95465667, 0.80682603],\n",
       "       [1.44865721, 0.26620616],\n",
       "       ...,\n",
       "       [0.40560812, 1.07052783],\n",
       "       [4.77158591, 1.13830104],\n",
       "       [4.26094079, 0.01677851]])"
      ]
     },
     "execution_count": 141,
     "metadata": {},
     "output_type": "execute_result"
    }
   ],
   "source": [
    "X_f"
   ]
  },
  {
   "cell_type": "code",
   "execution_count": 135,
   "id": "523719a9",
   "metadata": {},
   "outputs": [],
   "source": [
    "# X_colloc=torch.zeros((N_f,2),dtype=torch.float64,device=device)\n",
    "# X_colloc[:,0]=torch.rand(N_f)*(xu-xl)+xl\n",
    "# X_colloc[:,1]=torch.rand(N_f)*(tu-tl)+tl\n",
    "# X_colloc.requires_grad_()"
   ]
  },
  {
   "cell_type": "code",
   "execution_count": 136,
   "id": "5c61b39f",
   "metadata": {},
   "outputs": [],
   "source": [
    "# X_colloc.shape"
   ]
  },
  {
   "cell_type": "code",
   "execution_count": 137,
   "id": "8c4041e3",
   "metadata": {},
   "outputs": [],
   "source": [
    "X_test=torch.tensor(X_star)\n",
    "h_test=torch.tensor(h_star)"
   ]
  },
  {
   "cell_type": "code",
   "execution_count": 155,
   "id": "9bf14120",
   "metadata": {},
   "outputs": [
    {
     "data": {
      "text/plain": [
       "torch.Size([51657, 2])"
      ]
     },
     "execution_count": 155,
     "metadata": {},
     "output_type": "execute_result"
    }
   ],
   "source": [
    "X_test.shape"
   ]
  },
  {
   "cell_type": "code",
   "execution_count": 138,
   "id": "c578bce2",
   "metadata": {},
   "outputs": [],
   "source": [
    "def schrodinger(net, xt):\n",
    "    h=net.forward(xt)\n",
    "    hu, hv=h[:,0:1],h[:,1:2]\n",
    "\n",
    "    Dhu=grad(hu.sum(),xt,create_graph=True)[0]\n",
    "    Dhv=grad(hv.sum(),xt,create_graph=True)[0]\n",
    "\n",
    "    hu_x, hu_t=Dhu[:,0:1], Dhu[:,1:2]\n",
    "    hv_x, hv_t=Dhv[:,0:1], Dhv[:,1:2]\n",
    "    \n",
    "    hu_xx=grad(hu_x.sum(), xt, create_graph=True)[0][:,0:1]\n",
    "    hv_xx=grad(hv_x.sum(), xt, create_graph=True)[0][:,0:1]\n",
    "    loss_fu=hu_t+0.5*hv_xx+(hu**2+hv**2)*hv\n",
    "    loss_fv=hv_t-0.5*hu_xx-(hu**2+hv**2)*hu\n",
    "    \n",
    "    \n",
    "    loss_fu=torch.mean(torch.square(loss_fu))\n",
    "    loss_fv=torch.mean(torch.square(loss_fv))\n",
    "    \n",
    "    return loss_fu+loss_fv"
   ]
  },
  {
   "cell_type": "code",
   "execution_count": 139,
   "id": "3fb6d50d",
   "metadata": {},
   "outputs": [],
   "source": [
    "def boundary(net, x_ubc,x_lbc):\n",
    "    H_ubc=net.forward(x_ubc)\n",
    "    H_lbc=net.forward(x_lbc)\n",
    "    \n",
    "    Hu_ubc,Hv_ubc=H_ubc[:,0:1],H_ubc[:,1:2]\n",
    "    Hu_lbc,Hv_lbc=H_lbc[:,0:1],H_lbc[:,1:2]\n",
    "    \n",
    "    DHu_ubc=grad(Hu_ubc.sum(),x_ubc,create_graph=True)[0]\n",
    "    DHv_ubc=grad(Hv_ubc.sum(),x_ubc,create_graph=True)[0]\n",
    "\n",
    "    DHu_lbc=grad(Hu_lbc.sum(),x_lbc,create_graph=True)[0]\n",
    "    DHv_lbc=grad(Hv_lbc.sum(),x_lbc,create_graph=True)[0]\n",
    "    \n",
    "    Hu_ubc_x=DHu_ubc[:,0:1]\n",
    "    Hv_ubc_x=DHv_ubc[:,0:1]\n",
    "\n",
    "    Hu_lbc_x=DHu_lbc[:,0:1]\n",
    "    Hv_lbc_x=DHv_lbc[:,0:1]\n",
    "    \n",
    "    loss_u=torch.mean(torch.square(Hu_ubc-Hu_lbc))\n",
    "    loss_v=torch.mean(torch.square(Hv_ubc-Hv_lbc))\n",
    "\n",
    "\n",
    "    loss_ux=torch.mean(torch.square(Hu_ubc_x-Hu_lbc_x))\n",
    "    loss_vx=torch.mean(torch.square(Hv_ubc_x-Hv_lbc_x))\n",
    "    \n",
    "    return loss_u+loss_v+loss_ux+loss_vx"
   ]
  },
  {
   "cell_type": "code",
   "execution_count": 140,
   "id": "260e8191",
   "metadata": {},
   "outputs": [],
   "source": [
    "def calculate_relative_err(net):\n",
    "    u_pred=net.predict(X_test)\n",
    "    h_pred=torch.sqrt(u_pred[:,0]**2+u_pred[:,1]**2).view(*(h_test.shape))\n",
    "    err=torch.abs(h_pred-h_test)\n",
    "    err=torch.linalg.norm(err)/torch.linalg.norm(h_test)\n",
    "    return err.item()"
   ]
  },
  {
   "cell_type": "code",
   "execution_count": 149,
   "id": "0c9d8c34",
   "metadata": {},
   "outputs": [],
   "source": [
    "class PINN(nn.Module):\n",
    "    \n",
    "    def __init__(self, X_lb, X_ub, X0, X_f, governing_eqn=None, layers=[100,100,100,100]):\n",
    "        super(PINN, self).__init__()\n",
    "        \n",
    "        # Input variable\n",
    "        self.X0=torch.tensor(X0,dtype=torch.float64,device=device,requires_grad=True)\n",
    "        \n",
    "        self.X_lb=torch.tensor(X_lb,dtype=torch.float64,device=device,requires_grad=True)\n",
    "        self.X_ub=torch.tensor(X_ub,dtype=torch.float64,device=device,requires_grad=True)\n",
    "        self.X_f=torch.tensor(X_f,dtype=torch.float64,device=device,requires_grad=True)\n",
    "        \n",
    "        \n",
    "#         X0 = np.concatenate((x0, 0*x0), 1) # (x0, 0)\n",
    "#         X_lb = np.concatenate((0*tb + lb[0], tb), 1) # (lb[0], tb)\n",
    "#         X_ub = np.concatenate((0*tb + ub[0], tb), 1) # (ub[0], tb)\n",
    "        \n",
    "#         self.lb = lb\n",
    "#         self.ub = ub\n",
    "               \n",
    "#         self.x0 = X0[:,0:1]\n",
    "#         self.t0 = X0[:,1:2]\n",
    "\n",
    "#         self.x_lb = X_lb[:,0:1]\n",
    "#         self.t_lb = X_lb[:,1:2]\n",
    "\n",
    "#         self.x_ub = X_ub[:,0:1]\n",
    "#         self.t_ub = X_ub[:,1:2]\n",
    "        \n",
    "#         self.x_f = X_f[:,0:1]\n",
    "#         self.t_f = X_f[:,1:2]\n",
    "        \n",
    "#         self.u0 = u0\n",
    "#         self.v0 = v0\n",
    "        \n",
    "        # Basic settings\n",
    "        self.governing_eqn=governing_eqn\n",
    "        self.device=device\n",
    "        \n",
    "\n",
    "        # Input and output dimension\n",
    "        input_dim=2\n",
    "        output_dim=2\n",
    "                \n",
    "        # set neural network structure\n",
    "        self.n_hidden=len(layers)\n",
    "        self.fcs=nn.ModuleList()\n",
    "        \n",
    "        for layer in range(self.n_hidden+1):\n",
    "            self.fcs.append(nn.Sequential(*[nn.Linear(in_features = input_dim if layer == 0 else layers[layer -1],\n",
    "                                                  out_features = output_dim if layer == self.n_hidden else layers[layer],\n",
    "                                                  bias = True)]))\n",
    "            nn.init.xavier_normal_(self.fcs[layer][0].weight)\n",
    "            nn.init.zeros_(self.fcs[layer][0].bias)\n",
    "            \n",
    "    \n",
    "    def forward(self,x):\n",
    "               \n",
    "        for i in range(self.n_hidden):\n",
    "            x=self.fcs[i](x)\n",
    "            x=torch.tanh(x)\n",
    "        \n",
    "        x=self.fcs[self.n_hidden](x)\n",
    "        \n",
    "        return x\n",
    "    \n",
    "    def loss_func(self):\n",
    "        \n",
    "        # fn error\n",
    "        loss_colloc=self.governing_eqn(self, self.X_f)\n",
    "           \n",
    "        # initial condition error\n",
    "        H_ic_pred=self.forward(self.X0)\n",
    "        loss_ic=torch.mean(torch.square(H_ic_pred-H_ic))\n",
    "        \n",
    "        # boudary codition error\n",
    "        loss_bc=boundary(self,self.X_ub,self.X_lb)\n",
    "    \n",
    "        return loss_colloc+loss_ic+loss_bc\n",
    "        \n",
    "    def train(self,num_iter=10000):\n",
    "        self.loss_history=[]\n",
    "        self.l2error_history=[]\n",
    "        \n",
    "        self.history_interval=100\n",
    "        \n",
    "        optimizer=torch.optim.LBFGS(self.parameters(),lr=1, max_iter=1, history_size=10, line_search_fn='strong_wolfe' )\n",
    "#         optimizer=torch.optim.Adam(self.parameters())\n",
    "        \n",
    "        start=time.time()\n",
    "        \n",
    "        for count in range(num_iter):\n",
    "            \n",
    "            def closure():\n",
    "                optimizer.zero_grad()\n",
    "                loss=self.loss_func()\n",
    "                loss.backward()\n",
    "                return loss\n",
    "            \n",
    "            optimizer.step(closure)\n",
    "            loss=closure()\n",
    "            \n",
    "            if count % self.history_interval==0:\n",
    "                err=calculate_relative_err(net)\n",
    "                self.loss_history.append(loss.detach().item())\n",
    "                self.l2error_history.append(err)\n",
    "            \n",
    "            if count % 1000==0:\n",
    "                 print(f\"Iter: {count}, Loss: {self.loss_history[int(count/self.history_interval)]}\")\n",
    "            \n",
    "            if count>self.history_interval:\n",
    "                if self.loss_history[-1]==self.loss_history[-2]:\n",
    "                    print(\"Total Iteration:\",count)\n",
    "                    break\n",
    "                    \n",
    "        end=time.time()\n",
    "        print(f\"Traning tiem:{end-start} seconds\")\n",
    "        \n",
    "    def predict(self,X_new):\n",
    "        pred_outs=self.forward(X_new)\n",
    "        return pred_outs"
   ]
  },
  {
   "cell_type": "code",
   "execution_count": 197,
   "id": "b23f30ff",
   "metadata": {},
   "outputs": [],
   "source": [
    "net=PINN(governing_eqn=schrodinger,\n",
    "        layers=[100,100,100,100],\n",
    "        X0=X0,X_f=X_f,X_ub=X_ub,X_lb=X_lb).to(device).double()"
   ]
  },
  {
   "cell_type": "code",
   "execution_count": 189,
   "id": "f43e90c6",
   "metadata": {},
   "outputs": [],
   "source": [
    "# net=PINN(governing_eqn=schrodinger,\n",
    "#         layers=[100,100,100,100],\n",
    "#         X0=X0,X_f=X,X_ub=X_ub,X_lb=X_lb).to(device).double()"
   ]
  },
  {
   "cell_type": "code",
   "execution_count": 152,
   "id": "babd189b",
   "metadata": {},
   "outputs": [],
   "source": [
    "# # Make a PINN network\n",
    "# net = PINN(governing_eqn=schrodinger,\n",
    "#             layers= [100,100,100,100]\n",
    "#             ).to(device).double()"
   ]
  },
  {
   "cell_type": "code",
   "execution_count": 153,
   "id": "611023b7",
   "metadata": {},
   "outputs": [
    {
     "name": "stdout",
     "output_type": "stream",
     "text": [
      "PINN(\n",
      "  (fcs): ModuleList(\n",
      "    (0): Sequential(\n",
      "      (0): Linear(in_features=2, out_features=100, bias=True)\n",
      "    )\n",
      "    (1): Sequential(\n",
      "      (0): Linear(in_features=100, out_features=100, bias=True)\n",
      "    )\n",
      "    (2): Sequential(\n",
      "      (0): Linear(in_features=100, out_features=100, bias=True)\n",
      "    )\n",
      "    (3): Sequential(\n",
      "      (0): Linear(in_features=100, out_features=100, bias=True)\n",
      "    )\n",
      "    (4): Sequential(\n",
      "      (0): Linear(in_features=100, out_features=2, bias=True)\n",
      "    )\n",
      "  )\n",
      ")\n"
     ]
    }
   ],
   "source": [
    "print(net)"
   ]
  },
  {
   "cell_type": "code",
   "execution_count": 211,
   "id": "c1e4027b",
   "metadata": {},
   "outputs": [
    {
     "name": "stdout",
     "output_type": "stream",
     "text": [
      "Iter: 0, Loss: 0.06855938019755045\n",
      "Iter: 1000, Loss: 0.019792378563509926\n",
      "Iter: 2000, Loss: 0.007916289730836574\n",
      "Iter: 3000, Loss: 0.002810310433518898\n",
      "Iter: 4000, Loss: 0.0011065998932617074\n",
      "Iter: 5000, Loss: 0.00046455229561868423\n",
      "Iter: 6000, Loss: 0.00025463487236039155\n",
      "Iter: 7000, Loss: 0.00014027734953650517\n",
      "Iter: 8000, Loss: 9.031301140796617e-05\n",
      "Iter: 9000, Loss: 5.7936601418429634e-05\n",
      "Iter: 10000, Loss: 4.3225718021451026e-05\n",
      "Iter: 11000, Loss: 3.35432260440127e-05\n",
      "Total Iteration: 11800\n",
      "Traning tiem:9191.516466140747 seconds\n"
     ]
    }
   ],
   "source": [
    "# Trint PINN\n",
    "net.train(num_iter=50000)"
   ]
  },
  {
   "cell_type": "code",
   "execution_count": 212,
   "id": "17f0c365",
   "metadata": {},
   "outputs": [
    {
     "name": "stdout",
     "output_type": "stream",
     "text": [
      "Relative L2-error norm: 0.006313147991536304\n"
     ]
    }
   ],
   "source": [
    "u_pred=net.predict(X_test)\n",
    "# h_pred=h_test\n",
    "h_pred=torch.sqrt(u_pred[:,0]**2+u_pred[:,1]**2).view(*(h_test.shape))\n",
    "err=torch.abs(h_pred-h_test)\n",
    "err=torch.linalg.norm(err)/torch.linalg.norm(h_test)\n",
    "print(\"Relative L2-error norm: {}\".format(err))"
   ]
  },
  {
   "cell_type": "code",
   "execution_count": 213,
   "id": "cf472b1c",
   "metadata": {},
   "outputs": [],
   "source": [
    "H_pred = griddata(X_star, h_pred.detach().numpy().flatten(), (X, T), method='cubic')"
   ]
  },
  {
   "cell_type": "code",
   "execution_count": 214,
   "id": "875348da",
   "metadata": {},
   "outputs": [],
   "source": [
    "X0 = np.concatenate((x0, 0*x0), 1) # (x0, 0)\n",
    "X_lb = np.concatenate((0*tb + lb[0], tb), 1) # (lb[0], tb)\n",
    "X_ub = np.concatenate((0*tb + ub[0], tb), 1) # (ub[0], tb)\n",
    "X_u_train = np.vstack([X0, X_lb, X_ub])"
   ]
  },
  {
   "cell_type": "code",
   "execution_count": 215,
   "id": "78410879",
   "metadata": {
    "scrolled": true
   },
   "outputs": [
    {
     "data": {
      "text/plain": [
       "Text(0.5, 1.0, '$|h(t,x)|$')"
      ]
     },
     "execution_count": 215,
     "metadata": {},
     "output_type": "execute_result"
    },
    {
     "data": {
      "image/png": "[encoded data removed]",
      "text/plain": [
       "<Figure size 900x600 with 2 Axes>"
      ]
     },
     "metadata": {},
     "output_type": "display_data"
    }
   ],
   "source": [
    "gs0 = gridspec.GridSpec(1, 2)\n",
    "gs0.update(top=1-0.06, bottom=1-1/3, left=0.15, right=0.85, wspace=0)\n",
    "fig = plt.figure(figsize=(9,6))\n",
    "ax = plt.subplot(gs0[:, :])\n",
    "\n",
    "h = ax.imshow(H_pred.T, interpolation='nearest', cmap='YlGnBu', \n",
    "                  extent=[lb[1], ub[1], lb[0], ub[0]], \n",
    "                  origin='lower', aspect='auto')\n",
    "divider = make_axes_locatable(ax)\n",
    "cax = divider.append_axes(\"right\", size=\"5%\", pad=0.05)\n",
    "fig.colorbar(h, cax=cax)\n",
    "\n",
    "ax.plot(X_u_train[:,1], X_u_train[:,0], 'kx', label = 'Data (%d points)' % (X_u_train.shape[0]), markersize = 4, clip_on = False)\n",
    "line = np.linspace(x.min(), x.max(), 2)[:,None]\n",
    "ax.plot(t[75]*np.ones((2,1)), line, 'k--', linewidth = 1)\n",
    "ax.plot(t[100]*np.ones((2,1)), line, 'k--', linewidth = 1)\n",
    "ax.plot(t[125]*np.ones((2,1)), line, 'k--', linewidth = 1)    \n",
    "\n",
    "ax.set_xlabel('$t$')\n",
    "ax.set_ylabel('$x$')\n",
    "leg = ax.legend(frameon=False, loc = 'best')\n",
    "#    plt.setp(leg.get_texts(), color='w')\n",
    "ax.set_title('$|h(t,x)|$', fontsize = 10)"
   ]
  },
  {
   "cell_type": "code",
   "execution_count": 216,
   "id": "e50e1342",
   "metadata": {
    "scrolled": true
   },
   "outputs": [
    {
     "data": {
      "text/plain": [
       "Text(0.5, 1.0, '$t = 0.98$')"
      ]
     },
     "execution_count": 216,
     "metadata": {},
     "output_type": "execute_result"
    },
    {
     "data": {
      "image/png": "[encoded data removed]",
      "text/plain": [
       "<Figure size 640x480 with 3 Axes>"
      ]
     },
     "metadata": {},
     "output_type": "display_data"
    }
   ],
   "source": [
    "gs1 = gridspec.GridSpec(1, 3)\n",
    "gs1.update(top=1-1/3, bottom=0, left=0.1, right=0.9, wspace=0.5)\n",
    "\n",
    "ax = plt.subplot(gs1[0, 0])\n",
    "ax.plot(x,Exact_h[:,75], 'b-', linewidth = 2, label = 'Exact')       \n",
    "ax.plot(x,H_pred[75,:], 'r--', linewidth = 2, label = 'Prediction')\n",
    "ax.set_xlabel('$x$')\n",
    "ax.set_ylabel('$|h(t,x)|$')    \n",
    "ax.set_title('$t = %.2f$' % (t[75]), fontsize = 10)\n",
    "ax.axis('square')\n",
    "ax.set_xlim([-5.1,5.1])\n",
    "ax.set_ylim([-0.1,5.1])\n",
    "\n",
    "ax = plt.subplot(gs1[0, 1])\n",
    "ax.plot(x,Exact_h[:,100], 'b-', linewidth = 2, label = 'Exact')       \n",
    "ax.plot(x,H_pred[100,:], 'r--', linewidth = 2, label = 'Prediction')\n",
    "ax.set_xlabel('$x$')\n",
    "ax.set_ylabel('$|h(t,x)|$')\n",
    "ax.axis('square')\n",
    "ax.set_xlim([-5.1,5.1])\n",
    "ax.set_ylim([-0.1,5.1])\n",
    "ax.set_title('$t = %.2f$' % (t[100]), fontsize = 10)\n",
    "ax.legend(loc='upper center', bbox_to_anchor=(0.5, -0.8), ncol=5, frameon=False)\n",
    "\n",
    "ax = plt.subplot(gs1[0, 2])\n",
    "ax.plot(x,Exact_h[:,125], 'b-', linewidth = 2, label = 'Exact')       \n",
    "ax.plot(x,H_pred[125,:], 'r--', linewidth = 2, label = 'Prediction')\n",
    "ax.set_xlabel('$x$')\n",
    "ax.set_ylabel('$|h(t,x)|$')\n",
    "ax.axis('square')\n",
    "ax.set_xlim([-5.1,5.1])\n",
    "ax.set_ylim([-0.1,5.1])    \n",
    "ax.set_title('$t = %.2f$' % (t[125]), fontsize = 10)"
   ]
  },
  {
   "cell_type": "code",
   "execution_count": null,
   "id": "4bddda92",
   "metadata": {},
   "outputs": [],
   "source": []
  }
 ],
 "metadata": {
  "kernelspec": {
   "display_name": "Python 3 (ipykernel)",
   "language": "python",
   "name": "python3"
  },
  "language_info": {
   "codemirror_mode": {
    "name": "ipython",
    "version": 3
   },
   "file_extension": ".py",
   "mimetype": "text/x-python",
   "name": "python",
   "nbconvert_exporter": "python",
   "pygments_lexer": "ipython3",
   "version": "3.10.8"
  }
 },
 "nbformat": 4,
 "nbformat_minor": 5
}
