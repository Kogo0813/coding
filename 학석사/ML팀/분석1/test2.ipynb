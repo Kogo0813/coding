{
 "cells": [
  {
   "cell_type": "code",
   "execution_count": null,
   "metadata": {
    "id": "3rY9YAbDhHWc"
   },
   "outputs": [],
   "source": [
    "import pandas as pd # 필요한 모듈 그냥 불러온 것\n",
    "import numpy as np\n",
    "import matplotlib.pyplot as plt\n",
    "import os\n",
    "# plt.rc('font', family='AppleGothic')"
   ]
  },
  {
   "cell_type": "code",
   "execution_count": null,
   "metadata": {
    "id": "IICtPvZZhHWl",
    "outputId": "1bd43fa1-26ed-44db-a63a-4ad7ba3b3656"
   },
   "outputs": [
    {
     "data": {
      "text/plain": [
       "'C:\\\\Users\\\\KO\\\\Dropbox'"
      ]
     },
     "execution_count": 2,
     "metadata": {},
     "output_type": "execute_result"
    }
   ],
   "source": [
    "current = os.getcwd() # 데이터 불러오기\n",
    "folder = os.path.dirname(os.path.abspath(os.path.dirname((current))))\n",
    "folder"
   ]
  },
  {
   "cell_type": "code",
   "execution_count": null,
   "metadata": {
    "id": "HiXp2X4KhHWo",
    "outputId": "b2fd0b51-66c6-4445-c48d-1b86a0c0d52f"
   },
   "outputs": [
    {
     "data": {
      "text/plain": [
       "'C:\\\\Users\\\\KO\\\\Dropbox/ML_code/Data/'"
      ]
     },
     "execution_count": 3,
     "metadata": {},
     "output_type": "execute_result"
    }
   ],
   "source": [
    "# 데이터 불러오기\n",
    "# 데이터 위치에 따른 확인 필요 \n",
    "data_path = folder + '/ML_code/Data/'\n",
    "data_path"
   ]
  },
  {
   "cell_type": "code",
   "execution_count": null,
   "metadata": {
    "id": "sDTDb7E3hHWp",
    "outputId": "3c856cb0-843b-44e4-8fc5-16734dcd188b"
   },
   "outputs": [
    {
     "ename": "FileNotFoundError",
     "evalue": "[Errno 2] No such file or directory: 'C:\\\\Users\\\\KO\\\\Dropbox/ML_code/Data/df_case_clean_0508.xlsx'",
     "output_type": "error",
     "traceback": [
      "\u001b[1;31m---------------------------------------------------------------------------\u001b[0m",
      "\u001b[1;31mFileNotFoundError\u001b[0m                         Traceback (most recent call last)",
      "\u001b[1;32m~\\AppData\\Local\\Temp/ipykernel_51800/3143755426.py\u001b[0m in \u001b[0;36m<module>\u001b[1;34m\u001b[0m\n\u001b[0;32m      1\u001b[0m \u001b[1;31m# 데이터 불러오기\u001b[0m\u001b[1;33m\u001b[0m\u001b[1;33m\u001b[0m\u001b[0m\n\u001b[1;32m----> 2\u001b[1;33m \u001b[0mdata\u001b[0m \u001b[1;33m=\u001b[0m \u001b[0mpd\u001b[0m\u001b[1;33m.\u001b[0m\u001b[0mread_excel\u001b[0m\u001b[1;33m(\u001b[0m\u001b[0mdata_path\u001b[0m \u001b[1;33m+\u001b[0m \u001b[1;34m\"df_case_clean_0508.xlsx\"\u001b[0m\u001b[1;33m)\u001b[0m \u001b[1;31m# dropbox에 있는 엑셀 파일 불러오기\u001b[0m\u001b[1;33m\u001b[0m\u001b[1;33m\u001b[0m\u001b[0m\n\u001b[0m\u001b[0;32m      3\u001b[0m \u001b[0mdata\u001b[0m\u001b[1;33m.\u001b[0m\u001b[0mrename\u001b[0m\u001b[1;33m(\u001b[0m\u001b[0mcolumns\u001b[0m\u001b[1;33m=\u001b[0m\u001b[1;33m{\u001b[0m\u001b[1;34m\"보도일\"\u001b[0m \u001b[1;33m:\u001b[0m \u001b[1;34m\"date\"\u001b[0m\u001b[1;33m}\u001b[0m\u001b[1;33m,\u001b[0m \u001b[0minplace\u001b[0m\u001b[1;33m=\u001b[0m\u001b[1;32mTrue\u001b[0m\u001b[1;33m)\u001b[0m \u001b[1;31m# 보도일을 date로 이름을 바꾸는 함수, inplace 적용하는 것\u001b[0m\u001b[1;33m\u001b[0m\u001b[1;33m\u001b[0m\u001b[0m\n\u001b[0;32m      4\u001b[0m \u001b[1;33m\u001b[0m\u001b[0m\n\u001b[0;32m      5\u001b[0m \u001b[1;31m# data = pd.read_excel(data_path + \"df_death_clean.xlsx\")\u001b[0m\u001b[1;33m\u001b[0m\u001b[1;33m\u001b[0m\u001b[0m\n",
      "\u001b[1;32mC:\\ProgramData\\Anaconda3\\lib\\site-packages\\pandas\\util\\_decorators.py\u001b[0m in \u001b[0;36mwrapper\u001b[1;34m(*args, **kwargs)\u001b[0m\n\u001b[0;32m    309\u001b[0m                     \u001b[0mstacklevel\u001b[0m\u001b[1;33m=\u001b[0m\u001b[0mstacklevel\u001b[0m\u001b[1;33m,\u001b[0m\u001b[1;33m\u001b[0m\u001b[1;33m\u001b[0m\u001b[0m\n\u001b[0;32m    310\u001b[0m                 )\n\u001b[1;32m--> 311\u001b[1;33m             \u001b[1;32mreturn\u001b[0m \u001b[0mfunc\u001b[0m\u001b[1;33m(\u001b[0m\u001b[1;33m*\u001b[0m\u001b[0margs\u001b[0m\u001b[1;33m,\u001b[0m \u001b[1;33m**\u001b[0m\u001b[0mkwargs\u001b[0m\u001b[1;33m)\u001b[0m\u001b[1;33m\u001b[0m\u001b[1;33m\u001b[0m\u001b[0m\n\u001b[0m\u001b[0;32m    312\u001b[0m \u001b[1;33m\u001b[0m\u001b[0m\n\u001b[0;32m    313\u001b[0m         \u001b[1;32mreturn\u001b[0m \u001b[0mwrapper\u001b[0m\u001b[1;33m\u001b[0m\u001b[1;33m\u001b[0m\u001b[0m\n",
      "\u001b[1;32mC:\\ProgramData\\Anaconda3\\lib\\site-packages\\pandas\\io\\excel\\_base.py\u001b[0m in \u001b[0;36mread_excel\u001b[1;34m(io, sheet_name, header, names, index_col, usecols, squeeze, dtype, engine, converters, true_values, false_values, skiprows, nrows, na_values, keep_default_na, na_filter, verbose, parse_dates, date_parser, thousands, comment, skipfooter, convert_float, mangle_dupe_cols, storage_options)\u001b[0m\n\u001b[0;32m    362\u001b[0m     \u001b[1;32mif\u001b[0m \u001b[1;32mnot\u001b[0m \u001b[0misinstance\u001b[0m\u001b[1;33m(\u001b[0m\u001b[0mio\u001b[0m\u001b[1;33m,\u001b[0m \u001b[0mExcelFile\u001b[0m\u001b[1;33m)\u001b[0m\u001b[1;33m:\u001b[0m\u001b[1;33m\u001b[0m\u001b[1;33m\u001b[0m\u001b[0m\n\u001b[0;32m    363\u001b[0m         \u001b[0mshould_close\u001b[0m \u001b[1;33m=\u001b[0m \u001b[1;32mTrue\u001b[0m\u001b[1;33m\u001b[0m\u001b[1;33m\u001b[0m\u001b[0m\n\u001b[1;32m--> 364\u001b[1;33m         \u001b[0mio\u001b[0m \u001b[1;33m=\u001b[0m \u001b[0mExcelFile\u001b[0m\u001b[1;33m(\u001b[0m\u001b[0mio\u001b[0m\u001b[1;33m,\u001b[0m \u001b[0mstorage_options\u001b[0m\u001b[1;33m=\u001b[0m\u001b[0mstorage_options\u001b[0m\u001b[1;33m,\u001b[0m \u001b[0mengine\u001b[0m\u001b[1;33m=\u001b[0m\u001b[0mengine\u001b[0m\u001b[1;33m)\u001b[0m\u001b[1;33m\u001b[0m\u001b[1;33m\u001b[0m\u001b[0m\n\u001b[0m\u001b[0;32m    365\u001b[0m     \u001b[1;32melif\u001b[0m \u001b[0mengine\u001b[0m \u001b[1;32mand\u001b[0m \u001b[0mengine\u001b[0m \u001b[1;33m!=\u001b[0m \u001b[0mio\u001b[0m\u001b[1;33m.\u001b[0m\u001b[0mengine\u001b[0m\u001b[1;33m:\u001b[0m\u001b[1;33m\u001b[0m\u001b[1;33m\u001b[0m\u001b[0m\n\u001b[0;32m    366\u001b[0m         raise ValueError(\n",
      "\u001b[1;32mC:\\ProgramData\\Anaconda3\\lib\\site-packages\\pandas\\io\\excel\\_base.py\u001b[0m in \u001b[0;36m__init__\u001b[1;34m(self, path_or_buffer, engine, storage_options)\u001b[0m\n\u001b[0;32m   1189\u001b[0m                 \u001b[0mext\u001b[0m \u001b[1;33m=\u001b[0m \u001b[1;34m\"xls\"\u001b[0m\u001b[1;33m\u001b[0m\u001b[1;33m\u001b[0m\u001b[0m\n\u001b[0;32m   1190\u001b[0m             \u001b[1;32melse\u001b[0m\u001b[1;33m:\u001b[0m\u001b[1;33m\u001b[0m\u001b[1;33m\u001b[0m\u001b[0m\n\u001b[1;32m-> 1191\u001b[1;33m                 ext = inspect_excel_format(\n\u001b[0m\u001b[0;32m   1192\u001b[0m                     \u001b[0mcontent_or_path\u001b[0m\u001b[1;33m=\u001b[0m\u001b[0mpath_or_buffer\u001b[0m\u001b[1;33m,\u001b[0m \u001b[0mstorage_options\u001b[0m\u001b[1;33m=\u001b[0m\u001b[0mstorage_options\u001b[0m\u001b[1;33m\u001b[0m\u001b[1;33m\u001b[0m\u001b[0m\n\u001b[0;32m   1193\u001b[0m                 )\n",
      "\u001b[1;32mC:\\ProgramData\\Anaconda3\\lib\\site-packages\\pandas\\io\\excel\\_base.py\u001b[0m in \u001b[0;36minspect_excel_format\u001b[1;34m(content_or_path, storage_options)\u001b[0m\n\u001b[0;32m   1068\u001b[0m         \u001b[0mcontent_or_path\u001b[0m \u001b[1;33m=\u001b[0m \u001b[0mBytesIO\u001b[0m\u001b[1;33m(\u001b[0m\u001b[0mcontent_or_path\u001b[0m\u001b[1;33m)\u001b[0m\u001b[1;33m\u001b[0m\u001b[1;33m\u001b[0m\u001b[0m\n\u001b[0;32m   1069\u001b[0m \u001b[1;33m\u001b[0m\u001b[0m\n\u001b[1;32m-> 1070\u001b[1;33m     with get_handle(\n\u001b[0m\u001b[0;32m   1071\u001b[0m         \u001b[0mcontent_or_path\u001b[0m\u001b[1;33m,\u001b[0m \u001b[1;34m\"rb\"\u001b[0m\u001b[1;33m,\u001b[0m \u001b[0mstorage_options\u001b[0m\u001b[1;33m=\u001b[0m\u001b[0mstorage_options\u001b[0m\u001b[1;33m,\u001b[0m \u001b[0mis_text\u001b[0m\u001b[1;33m=\u001b[0m\u001b[1;32mFalse\u001b[0m\u001b[1;33m\u001b[0m\u001b[1;33m\u001b[0m\u001b[0m\n\u001b[0;32m   1072\u001b[0m     ) as handle:\n",
      "\u001b[1;32mC:\\ProgramData\\Anaconda3\\lib\\site-packages\\pandas\\io\\common.py\u001b[0m in \u001b[0;36mget_handle\u001b[1;34m(path_or_buf, mode, encoding, compression, memory_map, is_text, errors, storage_options)\u001b[0m\n\u001b[0;32m    709\u001b[0m         \u001b[1;32melse\u001b[0m\u001b[1;33m:\u001b[0m\u001b[1;33m\u001b[0m\u001b[1;33m\u001b[0m\u001b[0m\n\u001b[0;32m    710\u001b[0m             \u001b[1;31m# Binary mode\u001b[0m\u001b[1;33m\u001b[0m\u001b[1;33m\u001b[0m\u001b[0m\n\u001b[1;32m--> 711\u001b[1;33m             \u001b[0mhandle\u001b[0m \u001b[1;33m=\u001b[0m \u001b[0mopen\u001b[0m\u001b[1;33m(\u001b[0m\u001b[0mhandle\u001b[0m\u001b[1;33m,\u001b[0m \u001b[0mioargs\u001b[0m\u001b[1;33m.\u001b[0m\u001b[0mmode\u001b[0m\u001b[1;33m)\u001b[0m\u001b[1;33m\u001b[0m\u001b[1;33m\u001b[0m\u001b[0m\n\u001b[0m\u001b[0;32m    712\u001b[0m         \u001b[0mhandles\u001b[0m\u001b[1;33m.\u001b[0m\u001b[0mappend\u001b[0m\u001b[1;33m(\u001b[0m\u001b[0mhandle\u001b[0m\u001b[1;33m)\u001b[0m\u001b[1;33m\u001b[0m\u001b[1;33m\u001b[0m\u001b[0m\n\u001b[0;32m    713\u001b[0m \u001b[1;33m\u001b[0m\u001b[0m\n",
      "\u001b[1;31mFileNotFoundError\u001b[0m: [Errno 2] No such file or directory: 'C:\\\\Users\\\\KO\\\\Dropbox/ML_code/Data/df_case_clean_0508.xlsx'"
     ]
    }
   ],
   "source": [
    "# 데이터 불러오기\n",
    "data = pd.read_excel(data_path + \"df_case_clean_0508.xlsx\") # dropbox에 있는 엑셀 파일 불러오기\n",
    "data.rename(columns={\"보도일\" : \"date\"}, inplace=True) # 보도일을 date로 이름을 바꾸는 함수, inplace 적용하는 것\n",
    "\n",
    "# data = pd.read_excel(data_path + \"df_death_clean.xlsx\")\n",
    "# data.rename(columns={\"사망일\" : \"date\"}, inplace=True)"
   ]
  },
  {
   "cell_type": "code",
   "execution_count": null,
   "metadata": {
    "id": "1q3anWVBhHWr"
   },
   "outputs": [],
   "source": [
    "plt.figure(figsize=(12,3)) # 그래프 박스 만들기\n",
    "plt.bar(data.date, data.total) # 막대 그래프, 날짜와 전체 확진자를 표현한 그래프"
   ]
  },
  {
   "cell_type": "code",
   "execution_count": null,
   "metadata": {
    "id": "9Rni4PFQhHWs"
   },
   "outputs": [],
   "source": [
    "df = data.iloc[:200,:].copy() # 200일 까지만 끊어서 df에 넣음"
   ]
  },
  {
   "cell_type": "code",
   "execution_count": null,
   "metadata": {
    "id": "LjlOd9-chHWt",
    "outputId": "55c26012-9222-4299-dde6-ccda1ba095a0"
   },
   "outputs": [
    {
     "data": {
      "text/plain": [
       "<BarContainer object of 200 artists>"
      ]
     },
     "execution_count": 19,
     "metadata": {},
     "output_type": "execute_result"
    },
    {
     "data": {
      "image/png": "[encoded data removed]",
      "text/plain": [
       "<Figure size 864x216 with 1 Axes>"
      ]
     },
     "metadata": {
      "needs_background": "light"
     },
     "output_type": "display_data"
    }
   ],
   "source": [
    "plt.figure(figsize=(12,3)) # 12,3 사이즈의 그래프 박스를 만듦\n",
    "plt.bar(df.date, df.total) # 막대 그래프, 200일와 전체 확진자를 표현한 그래프 "
   ]
  },
  {
   "cell_type": "code",
   "execution_count": null,
   "metadata": {
    "id": "yA6HNZGDhHWv",
    "outputId": "6336256c-b4d8-4154-887e-297e4f31c64b"
   },
   "outputs": [
    {
     "data": {
      "text/plain": [
       "<matplotlib.legend.Legend at 0x218f85878e0>"
      ]
     },
     "execution_count": 20,
     "metadata": {},
     "output_type": "execute_result"
    },
    {
     "data": {
      "image/png": "[encoded data removed]",
      "text/plain": [
       "<Figure size 864x216 with 2 Axes>"
      ]
     },
     "metadata": {
      "needs_background": "light"
     },
     "output_type": "display_data"
    }
   ],
   "source": [
    "D = df.date # 날짜 데이터\n",
    "T = df.total # 전체 확진자 수 데이터\n",
    "y1 = df[\"1\"] # 연령대별로 데이터를 저장\n",
    "y2 = df[\"2\"] \n",
    "y3 = df[\"3\"] \n",
    "y4 = df[\"4\"] \n",
    "y5 = df[\"5\"] \n",
    "\n",
    "plt.figure(figsize=(12,3)) # 그래프 박스 만들기\n",
    "\n",
    "ax = plt.subplot() # 그래프 박스 안에 그래프를 그리겠다?\n",
    "\n",
    "ax.plot(D, T) # 전체 확진자 수에 대한 시간에 대한 그래프\n",
    "\n",
    "ax1 = ax.twinx()\n",
    "ax1.bar(D, y1, label=1, color='r', alpha=0.5) # 각 연령대별로 그린 것\n",
    "ax1.bar(D, y2, label=2, color='orange', alpha=0.5)\n",
    "ax1.bar(D, y3, label=3, color='green', alpha=0.5)\n",
    "ax1.bar(D, y4, label=4, color='b', alpha=0.5)\n",
    "ax1.bar(D, y5, label=5, color='purple', alpha=0.5)\n",
    "\n",
    "ax1.legend() # 범례를 그리는 코드\n",
    "\n",
    "\n",
    "# plt.ylim(0, max(total))"
   ]
  },
  {
   "cell_type": "markdown",
   "metadata": {
    "id": "qfFynQuShHWx"
   },
   "source": [
    "---"
   ]
  },
  {
   "cell_type": "code",
   "execution_count": null,
   "metadata": {
    "id": "C0WP0mM3hHW1"
   },
   "outputs": [],
   "source": [
    "df = data.copy() # 복사\n",
    "# 시간에서 년, 달, 계절로 나눔\n",
    "df[\"year\"] = df.date.dt.year # 년\n",
    "df[\"month\"] = df.date.dt.month # 달\n",
    "df[\"season\"] = (df.month//3) % 4    # {0:겨울, 1:봄, 2:여름, 3:가을} # 계절"
   ]
  },
  {
   "cell_type": "code",
   "execution_count": null,
   "metadata": {
    "id": "BeVSM2WvhHW2"
   },
   "outputs": [],
   "source": [
    "def season_df(DataFrame, season_code):\n",
    "    YEAR = DataFrame.year.unique() # 년도 겹치는 것은 다 삭제 -> 2020, 2021, 2022만 남음 \n",
    "    df_arr = []\n",
    "\n",
    "    for y in YEAR: # 연도별로\n",
    "        df = DataFrame[(DataFrame.season == season_code) & # 계절별로 모으는 것? \n",
    "                  (DataFrame.year == y)].iloc[:,2:7].sum() # 연령별로 모은 것? \n",
    "        df_arr.append(df)\n",
    "    temp = pd.concat(df_arr, axis=1) # concat : 합치는 함수\n",
    "    temp.columns = YEAR # 열을 년도로 설정\n",
    "    return temp.T"
   ]
  },
  {
   "cell_type": "code",
   "execution_count": null,
   "metadata": {
    "id": "zuUnKRC7hHW4",
    "outputId": "55a93131-5918-43e2-9365-9ee9540ec4f4"
   },
   "outputs": [
    {
     "data": {
      "image/png": "[encoded data removed]",
      "text/plain": [
       "<Figure size 432x288 with 1 Axes>"
      ]
     },
     "metadata": {
      "needs_background": "light"
     },
     "output_type": "display_data"
    },
    {
     "data": {
      "image/png": "[encoded data removed]",
      "text/plain": [
       "<Figure size 432x288 with 1 Axes>"
      ]
     },
     "metadata": {
      "needs_background": "light"
     },
     "output_type": "display_data"
    },
    {
     "data": {
      "image/png": "[encoded data removed]",
      "text/plain": [
       "<Figure size 432x288 with 1 Axes>"
      ]
     },
     "metadata": {
      "needs_background": "light"
     },
     "output_type": "display_data"
    },
    {
     "data": {
      "image/png": "[encoded data removed]",
      "text/plain": [
       "<Figure size 432x288 with 1 Axes>"
      ]
     },
     "metadata": {
      "needs_background": "light"
     },
     "output_type": "display_data"
    }
   ],
   "source": [
    "for i in [0,1,2,3]: # 계절별로 그래프를 그림\n",
    "    season_df(df, i).plot(kind='bar') # 연령별로 막대 그래프를 그림"
   ]
  },
  {
   "cell_type": "markdown",
   "metadata": {
    "id": "rQ1Zt_lhhHW5"
   },
   "source": [
    "---"
   ]
  },
  {
   "cell_type": "code",
   "execution_count": null,
   "metadata": {
    "id": "Rd4HqDVThHW6"
   },
   "outputs": [],
   "source": [
    "from sklearn.preprocessing import StandardScaler # 표준 정규화 함수 불러옴\n",
    "from sklearn.preprocessing import MinMaxScaler #  min-max 정규화 함수 불러옴\n",
    "\n",
    "from sklearn.linear_model import LinearRegression  # 선형회귀 메소드 불러옴\n",
    "from sklearn.preprocessing import PolynomialFeatures # 다항회귀 메소드 불러옴\n",
    "from sklearn.pipeline import Pipeline # 전처리, 예측을 편리하게 해주는 메소드\n",
    "from sklearn.model_selection import cross_val_score # 교차검증 메서드 불러옴\n",
    "from sklearn.metrics import accuracy_score, mean_squared_error # 정확도, MSE 평가지표 불러옴\n",
    "from sklearn.model_selection import train_test_split # 훈련용, 테스트용 데이터 분리하는 메소드 불러옴\n",
    "from sklearn.svm import SVR # 서포트 벡터 회귀 메소드 불러옴\n",
    "from sklearn.svm import SVC # 서포트 벡터 분류 메소드 불러옴"
   ]
  },
  {
   "cell_type": "code",
   "execution_count": null,
   "metadata": {
    "id": "tZjQ53YWhHW7"
   },
   "outputs": [],
   "source": [
    "df = data.iloc[:85].copy() # 85행까지 data를 복사해 df 객체에 저장\n",
    "# df = data.copy()\n",
    "df['idx'] = df.index # 현재 index를 idx열에 저장\n",
    "df['total_sum'] = df.total.cumsum() # 누적합\n",
    "df = df[['idx', 'total_sum']] # idx와 누적합이 있는 열만 남기고 제외"
   ]
  },
  {
   "cell_type": "code",
   "execution_count": null,
   "metadata": {
    "id": "YzquOrGMhHW7",
    "tags": []
   },
   "outputs": [],
   "source": [
    "df = df.values\n",
    "\n",
    "y = df[:,1] # 누적합\n",
    "X = df[:,0] # idx\n",
    "\n",
    "\n",
    "X_train, X_test, y_train, y_test = train_test_split(X, y, test_size=0.3,random_state=42) # 7:3비율로 학습데이터와 테스트 데이터 분리\n",
    "\n",
    "X_train = X_train.reshape(-1,1)  # reshape : -1 : 남은 배열의 길이와 차원으로부터 추정해서 알아서 지정/ 뒤에 오는 것이 행 개수\n",
    "X_test = X_test.reshape(-1,1) # 즉 이 데이터들은 한 줄로 밑으로 나열된 형태\n",
    "\n",
    "y_train = y_train.reshape(-1,1)\n",
    "y_test = y_test.reshape(-1,1)"
   ]
  },
  {
   "cell_type": "code",
   "execution_count": null,
   "metadata": {
    "id": "m6cfjdZkhHW8"
   },
   "outputs": [],
   "source": [
    "scaler = StandardScaler() # 정규화 모델적용\n",
    "X = scaler.fit_transform(X.reshape(-1,1)) # x를 정규화하고 학습\n",
    "y = scaler.fit_transform(y.reshape(-1,1)) # fit_Trainsform은 train data에서만 사용한다. test데이터에 적용하는 경우 테스트 데이터까지 학습해버리므로 평가의 의미를 잃어버리게 된다.\n",
    "\n",
    "X_scaled = scaler.fit_transform(X_train)  \n",
    "X_test_scaled = scaler.transform(X_test)\n",
    "\n",
    "\n",
    "y_scaled = scaler.fit_transform(y_train)\n",
    "y_test_scaled = scaler.transform(y_test) # train data로부터 학습한 값을 테스트 데이터에 적용하기 위해서 transform()함수를 사용"
   ]
  },
  {
   "cell_type": "code",
   "execution_count": null,
   "metadata": {
    "id": "hbTxEkkfhHW9"
   },
   "outputs": [],
   "source": [
    "lr = LinearRegression() # 선형회귀 객체 생성\n",
    "lr.fit(X_scaled, y_scaled) # 객체에 두 변수를 fitting\n",
    "y_preds = lr.predict(X_test_scaled)  # fitting 한 객체를 통해 x_test를 넣어 값을 예측"
   ]
  },
  {
   "cell_type": "code",
   "execution_count": null,
   "metadata": {
    "id": "dWVNj38whHW-",
    "outputId": "297299e1-d144-4ecc-e237-10a0034a586c"
   },
   "outputs": [
    {
     "data": {
      "text/plain": [
       "Pipeline(steps=[('polynomial_features',\n",
       "                 PolynomialFeatures(degree=4, include_bias=False)),\n",
       "                ('linear_regression', LinearRegression())])"
      ]
     },
     "execution_count": 29,
     "metadata": {},
     "output_type": "execute_result"
    }
   ],
   "source": [
    "deg = 4\n",
    "polynomial_features = PolynomialFeatures(degree=deg, include_bias=False) # 4차식, 편향 제거한 다항회귀모델적용\n",
    "linear_regression = LinearRegression() # 선형회귀모델 객체 생성\n",
    "pipeline = Pipeline([(\"polynomial_features\", polynomial_features),   # pipeline함수를 통해서 pipeline 객체에 다항회귀와 선형회귀모델을 적용한 객체를 포함시킨다.\n",
    "                        (\"linear_regression\", linear_regression)\n",
    "                        ])\n",
    "pipeline.fit(X,y)"
   ]
  },
  {
   "cell_type": "code",
   "execution_count": null,
   "metadata": {
    "id": "bWE0JH9uhHW_",
    "outputId": "ee7ad1f4-6e6f-4328-b6ad-b259a81208fa"
   },
   "outputs": [
    {
     "name": "stderr",
     "output_type": "stream",
     "text": [
      "C:\\Users\\user\\anaconda3\\lib\\site-packages\\sklearn\\utils\\validation.py:63: DataConversionWarning: A column-vector y was passed when a 1d array was expected. Please change the shape of y to (n_samples, ), for example using ravel().\n",
      "  return f(*args, **kwargs)\n"
     ]
    }
   ],
   "source": [
    "svr = SVR() # SVR 모델 적용 객체 생성\n",
    "svr.fit(X_scaled, y_scaled)\n",
    "y_preds = svr.predict(X_test_scaled)"
   ]
  },
  {
   "cell_type": "code",
   "execution_count": null,
   "metadata": {
    "id": "Tc3YVkw8hHXA",
    "outputId": "790e3008-eaa0-4977-8365-2191880f4485"
   },
   "outputs": [
    {
     "data": {
      "text/plain": [
       "<matplotlib.legend.Legend at 0x218f91c3ac0>"
      ]
     },
     "execution_count": 31,
     "metadata": {},
     "output_type": "execute_result"
    },
    {
     "data": {
      "image/png": "[encoded data removed]",
      "text/plain": [
       "<Figure size 432x288 with 1 Axes>"
      ]
     },
     "metadata": {
      "needs_background": "light"
     },
     "output_type": "display_data"
    }
   ],
   "source": [
    "plt.scatter(X,y, color='orange') # 산점도 생성 (기본 실제값)\n",
    "plt.plot(X,lr.predict(X), label=\"lr\", color='g') # 선형회귀로 예측한 선 생성\n",
    "plt.plot(X,svr.predict(X), label='svr', color='b') # svr모델로 예측한 선 생성\n",
    "plt.plot(X, pipeline.predict(X), label='poly', color='r') # 다항회귀로 예측한 곡선 생성\n",
    "plt.legend() # 범례생성"
   ]
  },
  {
   "cell_type": "markdown",
   "metadata": {
    "id": "vdDyFvERhHXB"
   },
   "source": [
    "---"
   ]
  },
  {
   "cell_type": "code",
   "execution_count": null,
   "metadata": {
    "id": "-CC9LHTWhHXC"
   },
   "outputs": [],
   "source": [
    "df = data.copy()\n",
    "df['idx'] = df.index\n",
    "df['label'] = 0\n",
    "idx = []\n",
    "wave = [('2020-02-18','2020-05-05'), ('2020-08-12','2020-11-12'), ('2020-11-13','2021-01-20')]\n",
    "\n",
    "for w in wave:\n",
    "    temp = df[df.date.between(w[0], w[1])].copy()  # wave안의 각 날짜 사이에 포함되는 날짜를 temp에 저장\n",
    "    idx += list(temp.index) # idx리스트에 temp의 인덱스를 추가\n",
    "\n",
    "df.iloc[idx,-1] = 1 # idx 즉, 위에서 나온 wave의 사이에 포함되는 날짜들에 해당되는 행의 label을 1로 부여"
   ]
  },
  {
   "cell_type": "code",
   "execution_count": null,
   "metadata": {
    "id": "kJJH0j_qhHXD"
   },
   "outputs": [],
   "source": [
    "df = df[['idx', 'total', '1', '2', '3', '4', '5', 'label']]"
   ]
  },
  {
   "cell_type": "code",
   "execution_count": null,
   "metadata": {
    "id": "ZFx2VtZvhHXE",
    "outputId": "93206e95-7ce9-4b9a-9d5a-677575863a97"
   },
   "outputs": [
    {
     "data": {
      "text/plain": [
       "<BarContainer object of 831 artists>"
      ]
     },
     "execution_count": 34,
     "metadata": {},
     "output_type": "execute_result"
    },
    {
     "data": {
      "image/png": "[encoded data removed]",
      "text/plain": [
       "<Figure size 864x216 with 1 Axes>"
      ]
     },
     "metadata": {
      "needs_background": "light"
     },
     "output_type": "display_data"
    }
   ],
   "source": [
    "plt.figure(figsize=(12,3))\n",
    "plt.bar(data.date, df.label)"
   ]
  },
  {
   "cell_type": "code",
   "execution_count": null,
   "metadata": {
    "id": "neDDxTiFhHXF"
   },
   "outputs": [],
   "source": [
    "y = df.iloc[:,-1]\n",
    "X = df.iloc[:,:-1]\n",
    "\n",
    "\n",
    "X_train, X_test, y_train, y_test = train_test_split(X, y, test_size=0.3,random_state=42)\n",
    "\n",
    "# X_train = X_train.reshape(-1,1)\n",
    "# X_test = X_test.reshape(-1,1)\n"
   ]
  },
  {
   "cell_type": "code",
   "execution_count": null,
   "metadata": {
    "id": "X19qBYeVhHXF"
   },
   "outputs": [],
   "source": [
    "scaler = StandardScaler()\n",
    "X = scaler.fit_transform(X)\n",
    "\n",
    "X_scaled = scaler.fit_transform(X_train)\n",
    "X_test_scaled = scaler.transform(X_test)"
   ]
  },
  {
   "cell_type": "code",
   "execution_count": null,
   "metadata": {
    "id": "bS0AoLeehHXG"
   },
   "outputs": [],
   "source": [
    "svm = SVC()\n",
    "svm.fit(X_scaled, y_train)\n",
    "y_preds = svm.predict(X_test_scaled)"
   ]
  },
  {
   "cell_type": "code",
   "execution_count": null,
   "metadata": {
    "id": "iH_QQBHjhHXH",
    "outputId": "9b739adc-f96a-42e2-d0c6-160757a3672e"
   },
   "outputs": [
    {
     "data": {
      "text/plain": [
       "0.88"
      ]
     },
     "execution_count": 38,
     "metadata": {},
     "output_type": "execute_result"
    }
   ],
   "source": [
    "accuracy_score(y_test, y_preds) # y_preds와 실제값 y_test사이의 정확도 ( 지도학습의 평가 지표중 하나)"
   ]
  },
  {
   "cell_type": "code",
   "execution_count": null,
   "metadata": {
    "id": "ihq5u4CGhHXI"
   },
   "outputs": [],
   "source": []
  }
 ],
 "metadata": {
  "colab": {
   "collapsed_sections": [],
   "name": "test2.ipynb",
   "provenance": []
  },
  "interpreter": {
   "hash": "288736cfdf9a2744c493906843af18887f78d3c605aeef42d1a1ad7e111f44dc"
  },
  "kernelspec": {
   "display_name": "Python 3 (ipykernel)",
   "language": "python",
   "name": "python3"
  },
  "language_info": {
   "codemirror_mode": {
    "name": "ipython",
    "version": 3
   },
   "file_extension": ".py",
   "mimetype": "text/x-python",
   "name": "python",
   "nbconvert_exporter": "python",
   "pygments_lexer": "ipython3",
   "version": "3.9.12"
  }
 },
 "nbformat": 4,
 "nbformat_minor": 4
}
