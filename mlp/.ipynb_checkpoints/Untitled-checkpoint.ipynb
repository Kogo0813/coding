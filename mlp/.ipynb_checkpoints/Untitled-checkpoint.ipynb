{
 "cells": [
  {
   "cell_type": "code",
   "execution_count": 4,
   "id": "1e178119-b9b8-46ef-9ee8-228b6d946e1b",
   "metadata": {},
   "outputs": [],
   "source": [
    "import pandas as pd\n",
    "from sklearn.model_selection import train_test_split\n",
    "from sklearn.linear_model import LogisticRegression"
   ]
  },
  {
   "cell_type": "code",
   "execution_count": 2,
   "id": "836a277e-e30d-466a-8bd9-7ae90972dbee",
   "metadata": {},
   "outputs": [],
   "source": [
    "import sklearn"
   ]
  },
  {
   "cell_type": "code",
   "execution_count": 13,
   "id": "bfd264f8-7fd9-4236-9d4d-1b5caa0a20ee",
   "metadata": {},
   "outputs": [],
   "source": [
    "titanic_df = pd.read_csv('C:\\\\Users\\\\User\\\\allcode\\\\rpythoncode\\\\examples\\\\titanic\\\\train.csv')"
   ]
  },
  {
   "cell_type": "code",
   "execution_count": 14,
   "id": "17bafba1-4797-4acd-aea0-ba2011f9f72d",
   "metadata": {},
   "outputs": [],
   "source": [
    "y_titanic_df = titanic_df['Survived']\n",
    "x_titanic_df = titanic_df.drop('Survived', axis = 1)\n"
   ]
  },
  {
   "cell_type": "code",
   "execution_count": 8,
   "id": "fbb1898e-f3e8-40c7-bebd-7d937f1c7761",
   "metadata": {},
   "outputs": [],
   "source": [
    "def drop_features(df):\n",
    "    df.drop(['PassengerId', 'Name', 'Ticket'], axis = 1 , inplace  = True)\n",
    "    return df\n",
    "def fillna(df):\n",
    "    df['Age'].fillna(df['Age'].mean(), inplace = True)\n",
    "    df['Cabin'].fillna('N', inplace = True)\n",
    "    df['Embarked'].fillna('N', inplace = True)\n",
    "    df['Fare'].fillna(0, inplace = True)\n",
    "    return df\n",
    "def format_features(df):\n",
    "    df['Cabin'] = df['Cabin'].str[:1]\n",
    "    features = ['Cabin', 'Sex', 'Embarked']\n",
    "    for feature in features:\n",
    "        le = LabelEncoder()\n",
    "        le = le.fit(df[feature])\n",
    "        df[feature] = le.transform(df[feature])\n",
    "    return df\n",
    "def transform_features(df):\n",
    "    df = fillna(df)\n",
    "    df = drop_features(df)\n",
    "    df = format_features(df)\n",
    "    return df"
   ]
  },
  {
   "cell_type": "code",
   "execution_count": 17,
   "id": "76664357-414f-483d-83db-363f153fda48",
   "metadata": {},
   "outputs": [],
   "source": [
    "x_titanic_df = transform_features(x_titanic_df)"
   ]
  },
  {
   "cell_type": "code",
   "execution_count": 10,
   "id": "cf901248-1a0c-4e73-a7ea-d2fcd1b7a088",
   "metadata": {},
   "outputs": [],
   "source": [
    "from sklearn.preprocessing import LabelEncoder"
   ]
  },
  {
   "cell_type": "code",
   "execution_count": 18,
<<<<<<< HEAD
   "id": "7a18f853-15bb-4c11-9730-3fcb5648dce5",
=======
   "id": "49944a73",
   "metadata": {},
   "outputs": [
    {
     "data": {
      "text/plain": [
       "0.9555555555555556"
      ]
     },
     "execution_count": 18,
     "metadata": {},
     "output_type": "execute_result"
    }
   ],
   "source": [
    "accuracy_score(y_test, pred)"
   ]
  },
  {
   "cell_type": "markdown",
   "id": "866311cb",
   "metadata": {},
   "source": [
    "# 교차검증 \n",
    "### 예측 성능을 향상시키기 위해 필요함. 학습데이터에만 과도하게 최적화 되는 과적합 문제를 피하기 위해서는 교차검증을 통해서 더 다양한 학습과 평가를 수행할 필요가 있음."
   ]
  },
  {
   "cell_type": "markdown",
   "id": "f2b3d90d",
   "metadata": {},
   "source": [
    "KFold , StratifiedKFold 클래스를 제공함"
   ]
  },
  {
   "cell_type": "code",
   "execution_count": 19,
   "id": "7b9b3c00",
   "metadata": {},
   "outputs": [],
   "source": [
    "from sklearn.model_selection import KFold"
   ]
  },
  {
   "cell_type": "code",
   "execution_count": 20,
   "id": "9d8f7fe0",
   "metadata": {},
   "outputs": [],
   "source": [
    "import numpy as np"
   ]
  },
  {
   "cell_type": "code",
   "execution_count": 21,
   "id": "5df69293",
   "metadata": {},
   "outputs": [],
   "source": [
    "iris = load_iris()\n",
    "features = iris.data\n",
    "label = iris.target\n",
    "dt_clf = DecisionTreeClassifier(random_state = 156)"
   ]
  },
  {
   "cell_type": "code",
   "execution_count": 22,
   "id": "2ff8fa44",
   "metadata": {},
   "outputs": [],
   "source": [
    "kfold = KFold(n_splits = 5)\n",
    "cv_accuracy = []"
   ]
  },
  {
   "cell_type": "code",
   "execution_count": 23,
   "id": "428902a7",
   "metadata": {},
   "outputs": [],
   "source": [
    "n_iter = 0"
   ]
  },
  {
   "cell_type": "code",
   "execution_count": 24,
   "id": "42df5cd3",
   "metadata": {},
   "outputs": [
    {
     "name": "stdout",
     "output_type": "stream",
     "text": [
      "\n",
      "#1 교차 검증 정확도 :1.0, 학습 데이터 크기: 120, 검증 데이터 크기: 30\n",
      "\n",
      "#1 검증 세트 인덱스:[ 0  1  2  3  4  5  6  7  8  9 10 11 12 13 14 15 16 17 18 19 20 21 22 23\n",
      " 24 25 26 27 28 29]\n",
      "\n",
      "## 평균 검증 정확도: 1.0\n",
      "\n",
      "#2 교차 검증 정확도 :0.9667, 학습 데이터 크기: 120, 검증 데이터 크기: 30\n",
      "\n",
      "#2 검증 세트 인덱스:[30 31 32 33 34 35 36 37 38 39 40 41 42 43 44 45 46 47 48 49 50 51 52 53\n",
      " 54 55 56 57 58 59]\n",
      "\n",
      "## 평균 검증 정확도: 0.98335\n",
      "\n",
      "#3 교차 검증 정확도 :0.8667, 학습 데이터 크기: 120, 검증 데이터 크기: 30\n",
      "\n",
      "#3 검증 세트 인덱스:[60 61 62 63 64 65 66 67 68 69 70 71 72 73 74 75 76 77 78 79 80 81 82 83\n",
      " 84 85 86 87 88 89]\n",
      "\n",
      "## 평균 검증 정확도: 0.9444666666666667\n",
      "\n",
      "#4 교차 검증 정확도 :0.9333, 학습 데이터 크기: 120, 검증 데이터 크기: 30\n",
      "\n",
      "#4 검증 세트 인덱스:[ 90  91  92  93  94  95  96  97  98  99 100 101 102 103 104 105 106 107\n",
      " 108 109 110 111 112 113 114 115 116 117 118 119]\n",
      "\n",
      "## 평균 검증 정확도: 0.941675\n",
      "\n",
      "#5 교차 검증 정확도 :0.7333, 학습 데이터 크기: 120, 검증 데이터 크기: 30\n",
      "\n",
      "#5 검증 세트 인덱스:[120 121 122 123 124 125 126 127 128 129 130 131 132 133 134 135 136 137\n",
      " 138 139 140 141 142 143 144 145 146 147 148 149]\n",
      "\n",
      "## 평균 검증 정확도: 0.9\n"
     ]
    }
   ],
   "source": [
    "for train_index, test_index in kfold.split(features):\n",
    "    x_train, x_test = features[train_index], features[test_index]\n",
    "    y_train, y_test = label[train_index], label[test_index]\n",
    "    dt_clf.fit(x_train, y_train)\n",
    "    pred = dt_clf.predict(x_test)\n",
    "    n_iter += 1\n",
    "    accuracy = np.round(accuracy_score(y_test, pred), 4)\n",
    "    train_size = x_train.shape[0]\n",
    "    test_size = x_test.shape[0]\n",
    "    print('\\n#{0} 교차 검증 정확도 :{1}, 학습 데이터 크기: {2}, 검증 데이터 크기: {3}'\n",
    "         .format(n_iter, accuracy, train_size, test_size))\n",
    "    print('\\n#{0} 검증 세트 인덱스:{1}'.format(n_iter, test_index))\n",
    "    cv_accuracy.append(accuracy)\n",
    "    print('\\n## 평균 검증 정확도:', np.mean(cv_accuracy))"
   ]
  },
  {
   "cell_type": "code",
   "execution_count": 25,
   "id": "d66ceae2",
   "metadata": {},
   "outputs": [],
   "source": [
    "dt_clf.fit(x_train, y_train)\n",
    "pred = dt_clf.predict(x_test)"
   ]
  },
  {
   "cell_type": "code",
   "execution_count": 26,
   "id": "b9a80a2b",
   "metadata": {},
   "outputs": [],
   "source": [
    "n_iter += 1"
   ]
  },
  {
   "cell_type": "code",
   "execution_count": 27,
   "id": "016b45b5",
   "metadata": {},
   "outputs": [],
   "source": [
    "accuracy = np.round(accuracy_score(y_test, pred), 4)"
   ]
  },
  {
   "cell_type": "code",
   "execution_count": 28,
   "id": "147c1a52",
   "metadata": {},
   "outputs": [],
   "source": [
    "train_size = x_train.shape[0]\n",
    "test_size = x_test.shape[0]"
   ]
  },
  {
   "cell_type": "code",
   "execution_count": 29,
   "id": "50f1c5ce",
   "metadata": {},
   "outputs": [],
   "source": [
    "cv_accuracy.append(accuracy)"
   ]
  },
  {
   "cell_type": "code",
   "execution_count": 30,
   "id": "c5d1fa7b",
   "metadata": {},
   "outputs": [
    {
     "name": "stdout",
     "output_type": "stream",
     "text": [
      "\n",
      "## 평균 검증 정확도: 0.8722166666666666\n"
     ]
    }
   ],
   "source": [
    "print('\\n## 평균 검증 정확도:', np.mean(cv_accuracy))"
   ]
  },
  {
   "cell_type": "code",
   "execution_count": 31,
   "id": "887878b8",
   "metadata": {},
   "outputs": [],
   "source": [
    "import pandas as pd"
   ]
  },
  {
   "cell_type": "code",
   "execution_count": 32,
   "id": "a04ad001",
   "metadata": {},
   "outputs": [
    {
     "data": {
      "text/plain": [
       "0    50\n",
       "1    50\n",
       "2    50\n",
       "Name: label, dtype: int64"
      ]
     },
     "execution_count": 32,
     "metadata": {},
     "output_type": "execute_result"
    }
   ],
   "source": [
    "iris = load_iris()\n",
    "iris_df = pd.DataFrame(data = iris.data, columns = iris.feature_names)\n",
    "iris_df['label'] = iris.target\n",
    "iris_df['label'].value_counts()"
   ]
  },
  {
   "cell_type": "code",
   "execution_count": 33,
   "id": "b47c0019",
   "metadata": {},
   "outputs": [
    {
     "name": "stdout",
     "output_type": "stream",
     "text": [
      "## 교차검증: 1\n",
      "학습 레이블 데이터 분포:\n",
      " 1    50\n",
      "2    50\n",
      "0    20\n",
      "Name: label, dtype: int64\n",
      "검증 레이블 데이터 분포:\n",
      " 0    30\n",
      "Name: label, dtype: int64\n",
      "## 교차검증: 2\n",
      "학습 레이블 데이터 분포:\n",
      " 2    50\n",
      "1    40\n",
      "0    30\n",
      "Name: label, dtype: int64\n",
      "검증 레이블 데이터 분포:\n",
      " 0    20\n",
      "1    10\n",
      "Name: label, dtype: int64\n",
      "## 교차검증: 3\n",
      "학습 레이블 데이터 분포:\n",
      " 0    50\n",
      "2    50\n",
      "1    20\n",
      "Name: label, dtype: int64\n",
      "검증 레이블 데이터 분포:\n",
      " 1    30\n",
      "Name: label, dtype: int64\n",
      "## 교차검증: 4\n",
      "학습 레이블 데이터 분포:\n",
      " 0    50\n",
      "1    40\n",
      "2    30\n",
      "Name: label, dtype: int64\n",
      "검증 레이블 데이터 분포:\n",
      " 2    20\n",
      "1    10\n",
      "Name: label, dtype: int64\n",
      "## 교차검증: 5\n",
      "학습 레이블 데이터 분포:\n",
      " 0    50\n",
      "1    50\n",
      "2    20\n",
      "Name: label, dtype: int64\n",
      "검증 레이블 데이터 분포:\n",
      " 2    30\n",
      "Name: label, dtype: int64\n"
     ]
    }
   ],
   "source": [
    "n_iter = 0\n",
    "for train_index, test_index in kfold.split(iris_df):\n",
    "    n_iter += 1\n",
    "    label_train = iris_df['label'].iloc[train_index]\n",
    "    label_test = iris_df['label'].iloc[test_index]\n",
    "    print('## 교차검증: {0}'.format(n_iter))\n",
    "    print('학습 레이블 데이터 분포:\\n', label_train.value_counts())\n",
    "    print('검증 레이블 데이터 분포:\\n', label_test.value_counts())"
   ]
  },
  {
   "cell_type": "code",
   "execution_count": 34,
   "id": "8e632963",
   "metadata": {},
   "outputs": [],
   "source": [
    "kfold = KFold(n_splits = 3)"
   ]
  },
  {
   "cell_type": "code",
   "execution_count": 35,
   "id": "d1bff259",
   "metadata": {},
   "outputs": [],
   "source": [
    "from sklearn.model_selection import StratifiedKFold"
   ]
  },
  {
   "cell_type": "code",
   "execution_count": 36,
   "id": "6c1914cc",
   "metadata": {},
   "outputs": [],
   "source": [
    "skf = StratifiedKFold(n_splits = 3)\n",
    "n_iter = 0"
   ]
  },
  {
   "cell_type": "code",
   "execution_count": 37,
   "id": "b98d7252",
   "metadata": {},
   "outputs": [
    {
     "name": "stdout",
     "output_type": "stream",
     "text": [
      "## 교차검증: 1\n",
      "학습 레이블 데이터 분포:\n",
      " 2    34\n",
      "0    33\n",
      "1    33\n",
      "Name: label, dtype: int64\n",
      "검증 레이블 데이터 분포:\n",
      " 0    17\n",
      "1    17\n",
      "2    16\n",
      "Name: label, dtype: int64\n",
      "## 교차검증: 2\n",
      "학습 레이블 데이터 분포:\n",
      " 1    34\n",
      "0    33\n",
      "2    33\n",
      "Name: label, dtype: int64\n",
      "검증 레이블 데이터 분포:\n",
      " 0    17\n",
      "2    17\n",
      "1    16\n",
      "Name: label, dtype: int64\n",
      "## 교차검증: 3\n",
      "학습 레이블 데이터 분포:\n",
      " 0    34\n",
      "1    33\n",
      "2    33\n",
      "Name: label, dtype: int64\n",
      "검증 레이블 데이터 분포:\n",
      " 1    17\n",
      "2    17\n",
      "0    16\n",
      "Name: label, dtype: int64\n"
     ]
    }
   ],
   "source": [
    "for train_index, test_index in skf.split(iris_df, iris_df['label']):\n",
    "    n_iter += 1\n",
    "    label_train = iris_df['label'].iloc[train_index]\n",
    "    label_test = iris_df['label'].iloc[test_index]\n",
    "    print('## 교차검증: {0}'.format(n_iter))\n",
    "    print('학습 레이블 데이터 분포:\\n', label_train.value_counts())\n",
    "    print('검증 레이블 데이터 분포:\\n', label_test.value_counts())"
   ]
  },
  {
   "cell_type": "code",
   "execution_count": 38,
   "id": "e5c2433f",
   "metadata": {},
   "outputs": [],
   "source": [
    "skfold = StratifiedKFold(n_splits = 3)\n",
    "n_iter = 0\n",
    "cv_accuracy = []"
   ]
  },
  {
   "cell_type": "code",
   "execution_count": 39,
   "id": "db33e547",
   "metadata": {},
   "outputs": [
    {
     "name": "stdout",
     "output_type": "stream",
     "text": [
      "\n",
      "#1 교차 검증 정확도 :0.98, 학습 데이터 크기: 100, 검증 데이터 크기: 50\n",
      "\n",
      "#1 검증 세트 인덱스:[  0   1   2   3   4   5   6   7   8   9  10  11  12  13  14  15  16  50\n",
      "  51  52  53  54  55  56  57  58  59  60  61  62  63  64  65  66 100 101\n",
      " 102 103 104 105 106 107 108 109 110 111 112 113 114 115]\n",
      "\n",
      "## 평균 검증 정확도: 0.98\n",
      "\n",
      "#2 교차 검증 정확도 :0.94, 학습 데이터 크기: 100, 검증 데이터 크기: 50\n",
      "\n",
      "#2 검증 세트 인덱스:[ 17  18  19  20  21  22  23  24  25  26  27  28  29  30  31  32  33  67\n",
      "  68  69  70  71  72  73  74  75  76  77  78  79  80  81  82 116 117 118\n",
      " 119 120 121 122 123 124 125 126 127 128 129 130 131 132]\n",
      "\n",
      "## 평균 검증 정확도: 0.96\n",
      "\n",
      "#3 교차 검증 정확도 :0.98, 학습 데이터 크기: 100, 검증 데이터 크기: 50\n",
      "\n",
      "#3 검증 세트 인덱스:[ 34  35  36  37  38  39  40  41  42  43  44  45  46  47  48  49  83  84\n",
      "  85  86  87  88  89  90  91  92  93  94  95  96  97  98  99 133 134 135\n",
      " 136 137 138 139 140 141 142 143 144 145 146 147 148 149]\n",
      "\n",
      "## 평균 검증 정확도: 0.9666666666666667\n"
     ]
    }
   ],
   "source": [
    "for train_index, test_index in skfold.split(features, label):\n",
    "    x_train, x_test = features[train_index], features[test_index]\n",
    "    y_train, y_test = label[train_index], label[test_index]\n",
    "    dt_clf.fit(x_train, y_train)\n",
    "    pred = dt_clf.predict(x_test)\n",
    "    n_iter += 1\n",
    "    accuracy = np.round(accuracy_score(y_test, pred), 4)\n",
    "    train_size = x_train.shape[0]\n",
    "    test_size = x_test.shape[0]\n",
    "    print('\\n#{0} 교차 검증 정확도 :{1}, 학습 데이터 크기: {2}, 검증 데이터 크기: {3}'\n",
    "         .format(n_iter, accuracy, train_size, test_size))\n",
    "    print('\\n#{0} 검증 세트 인덱스:{1}'.format(n_iter, test_index))\n",
    "    cv_accuracy.append(accuracy)\n",
    "    print('\\n## 평균 검증 정확도:', np.mean(cv_accuracy))\n",
    "    "
   ]
  },
  {
   "cell_type": "code",
   "execution_count": 40,
   "id": "5f4690e3",
   "metadata": {},
   "outputs": [],
   "source": [
    "from sklearn.model_selection import cross_val_score, cross_validate\n",
    "from sklearn.tree import DecisionTreeClassifier"
   ]
  },
  {
   "cell_type": "code",
   "execution_count": 41,
   "id": "f8c79a16",
   "metadata": {},
   "outputs": [],
   "source": [
    "iris_data = load_iris()"
   ]
  },
  {
   "cell_type": "code",
   "execution_count": 42,
   "id": "5fca7f96",
   "metadata": {},
   "outputs": [
    {
     "data": {
      "text/plain": [
       "{'data': array([[5.1, 3.5, 1.4, 0.2],\n",
       "        [4.9, 3. , 1.4, 0.2],\n",
       "        [4.7, 3.2, 1.3, 0.2],\n",
       "        [4.6, 3.1, 1.5, 0.2],\n",
       "        [5. , 3.6, 1.4, 0.2],\n",
       "        [5.4, 3.9, 1.7, 0.4],\n",
       "        [4.6, 3.4, 1.4, 0.3],\n",
       "        [5. , 3.4, 1.5, 0.2],\n",
       "        [4.4, 2.9, 1.4, 0.2],\n",
       "        [4.9, 3.1, 1.5, 0.1],\n",
       "        [5.4, 3.7, 1.5, 0.2],\n",
       "        [4.8, 3.4, 1.6, 0.2],\n",
       "        [4.8, 3. , 1.4, 0.1],\n",
       "        [4.3, 3. , 1.1, 0.1],\n",
       "        [5.8, 4. , 1.2, 0.2],\n",
       "        [5.7, 4.4, 1.5, 0.4],\n",
       "        [5.4, 3.9, 1.3, 0.4],\n",
       "        [5.1, 3.5, 1.4, 0.3],\n",
       "        [5.7, 3.8, 1.7, 0.3],\n",
       "        [5.1, 3.8, 1.5, 0.3],\n",
       "        [5.4, 3.4, 1.7, 0.2],\n",
       "        [5.1, 3.7, 1.5, 0.4],\n",
       "        [4.6, 3.6, 1. , 0.2],\n",
       "        [5.1, 3.3, 1.7, 0.5],\n",
       "        [4.8, 3.4, 1.9, 0.2],\n",
       "        [5. , 3. , 1.6, 0.2],\n",
       "        [5. , 3.4, 1.6, 0.4],\n",
       "        [5.2, 3.5, 1.5, 0.2],\n",
       "        [5.2, 3.4, 1.4, 0.2],\n",
       "        [4.7, 3.2, 1.6, 0.2],\n",
       "        [4.8, 3.1, 1.6, 0.2],\n",
       "        [5.4, 3.4, 1.5, 0.4],\n",
       "        [5.2, 4.1, 1.5, 0.1],\n",
       "        [5.5, 4.2, 1.4, 0.2],\n",
       "        [4.9, 3.1, 1.5, 0.2],\n",
       "        [5. , 3.2, 1.2, 0.2],\n",
       "        [5.5, 3.5, 1.3, 0.2],\n",
       "        [4.9, 3.6, 1.4, 0.1],\n",
       "        [4.4, 3. , 1.3, 0.2],\n",
       "        [5.1, 3.4, 1.5, 0.2],\n",
       "        [5. , 3.5, 1.3, 0.3],\n",
       "        [4.5, 2.3, 1.3, 0.3],\n",
       "        [4.4, 3.2, 1.3, 0.2],\n",
       "        [5. , 3.5, 1.6, 0.6],\n",
       "        [5.1, 3.8, 1.9, 0.4],\n",
       "        [4.8, 3. , 1.4, 0.3],\n",
       "        [5.1, 3.8, 1.6, 0.2],\n",
       "        [4.6, 3.2, 1.4, 0.2],\n",
       "        [5.3, 3.7, 1.5, 0.2],\n",
       "        [5. , 3.3, 1.4, 0.2],\n",
       "        [7. , 3.2, 4.7, 1.4],\n",
       "        [6.4, 3.2, 4.5, 1.5],\n",
       "        [6.9, 3.1, 4.9, 1.5],\n",
       "        [5.5, 2.3, 4. , 1.3],\n",
       "        [6.5, 2.8, 4.6, 1.5],\n",
       "        [5.7, 2.8, 4.5, 1.3],\n",
       "        [6.3, 3.3, 4.7, 1.6],\n",
       "        [4.9, 2.4, 3.3, 1. ],\n",
       "        [6.6, 2.9, 4.6, 1.3],\n",
       "        [5.2, 2.7, 3.9, 1.4],\n",
       "        [5. , 2. , 3.5, 1. ],\n",
       "        [5.9, 3. , 4.2, 1.5],\n",
       "        [6. , 2.2, 4. , 1. ],\n",
       "        [6.1, 2.9, 4.7, 1.4],\n",
       "        [5.6, 2.9, 3.6, 1.3],\n",
       "        [6.7, 3.1, 4.4, 1.4],\n",
       "        [5.6, 3. , 4.5, 1.5],\n",
       "        [5.8, 2.7, 4.1, 1. ],\n",
       "        [6.2, 2.2, 4.5, 1.5],\n",
       "        [5.6, 2.5, 3.9, 1.1],\n",
       "        [5.9, 3.2, 4.8, 1.8],\n",
       "        [6.1, 2.8, 4. , 1.3],\n",
       "        [6.3, 2.5, 4.9, 1.5],\n",
       "        [6.1, 2.8, 4.7, 1.2],\n",
       "        [6.4, 2.9, 4.3, 1.3],\n",
       "        [6.6, 3. , 4.4, 1.4],\n",
       "        [6.8, 2.8, 4.8, 1.4],\n",
       "        [6.7, 3. , 5. , 1.7],\n",
       "        [6. , 2.9, 4.5, 1.5],\n",
       "        [5.7, 2.6, 3.5, 1. ],\n",
       "        [5.5, 2.4, 3.8, 1.1],\n",
       "        [5.5, 2.4, 3.7, 1. ],\n",
       "        [5.8, 2.7, 3.9, 1.2],\n",
       "        [6. , 2.7, 5.1, 1.6],\n",
       "        [5.4, 3. , 4.5, 1.5],\n",
       "        [6. , 3.4, 4.5, 1.6],\n",
       "        [6.7, 3.1, 4.7, 1.5],\n",
       "        [6.3, 2.3, 4.4, 1.3],\n",
       "        [5.6, 3. , 4.1, 1.3],\n",
       "        [5.5, 2.5, 4. , 1.3],\n",
       "        [5.5, 2.6, 4.4, 1.2],\n",
       "        [6.1, 3. , 4.6, 1.4],\n",
       "        [5.8, 2.6, 4. , 1.2],\n",
       "        [5. , 2.3, 3.3, 1. ],\n",
       "        [5.6, 2.7, 4.2, 1.3],\n",
       "        [5.7, 3. , 4.2, 1.2],\n",
       "        [5.7, 2.9, 4.2, 1.3],\n",
       "        [6.2, 2.9, 4.3, 1.3],\n",
       "        [5.1, 2.5, 3. , 1.1],\n",
       "        [5.7, 2.8, 4.1, 1.3],\n",
       "        [6.3, 3.3, 6. , 2.5],\n",
       "        [5.8, 2.7, 5.1, 1.9],\n",
       "        [7.1, 3. , 5.9, 2.1],\n",
       "        [6.3, 2.9, 5.6, 1.8],\n",
       "        [6.5, 3. , 5.8, 2.2],\n",
       "        [7.6, 3. , 6.6, 2.1],\n",
       "        [4.9, 2.5, 4.5, 1.7],\n",
       "        [7.3, 2.9, 6.3, 1.8],\n",
       "        [6.7, 2.5, 5.8, 1.8],\n",
       "        [7.2, 3.6, 6.1, 2.5],\n",
       "        [6.5, 3.2, 5.1, 2. ],\n",
       "        [6.4, 2.7, 5.3, 1.9],\n",
       "        [6.8, 3. , 5.5, 2.1],\n",
       "        [5.7, 2.5, 5. , 2. ],\n",
       "        [5.8, 2.8, 5.1, 2.4],\n",
       "        [6.4, 3.2, 5.3, 2.3],\n",
       "        [6.5, 3. , 5.5, 1.8],\n",
       "        [7.7, 3.8, 6.7, 2.2],\n",
       "        [7.7, 2.6, 6.9, 2.3],\n",
       "        [6. , 2.2, 5. , 1.5],\n",
       "        [6.9, 3.2, 5.7, 2.3],\n",
       "        [5.6, 2.8, 4.9, 2. ],\n",
       "        [7.7, 2.8, 6.7, 2. ],\n",
       "        [6.3, 2.7, 4.9, 1.8],\n",
       "        [6.7, 3.3, 5.7, 2.1],\n",
       "        [7.2, 3.2, 6. , 1.8],\n",
       "        [6.2, 2.8, 4.8, 1.8],\n",
       "        [6.1, 3. , 4.9, 1.8],\n",
       "        [6.4, 2.8, 5.6, 2.1],\n",
       "        [7.2, 3. , 5.8, 1.6],\n",
       "        [7.4, 2.8, 6.1, 1.9],\n",
       "        [7.9, 3.8, 6.4, 2. ],\n",
       "        [6.4, 2.8, 5.6, 2.2],\n",
       "        [6.3, 2.8, 5.1, 1.5],\n",
       "        [6.1, 2.6, 5.6, 1.4],\n",
       "        [7.7, 3. , 6.1, 2.3],\n",
       "        [6.3, 3.4, 5.6, 2.4],\n",
       "        [6.4, 3.1, 5.5, 1.8],\n",
       "        [6. , 3. , 4.8, 1.8],\n",
       "        [6.9, 3.1, 5.4, 2.1],\n",
       "        [6.7, 3.1, 5.6, 2.4],\n",
       "        [6.9, 3.1, 5.1, 2.3],\n",
       "        [5.8, 2.7, 5.1, 1.9],\n",
       "        [6.8, 3.2, 5.9, 2.3],\n",
       "        [6.7, 3.3, 5.7, 2.5],\n",
       "        [6.7, 3. , 5.2, 2.3],\n",
       "        [6.3, 2.5, 5. , 1.9],\n",
       "        [6.5, 3. , 5.2, 2. ],\n",
       "        [6.2, 3.4, 5.4, 2.3],\n",
       "        [5.9, 3. , 5.1, 1.8]]),\n",
       " 'target': array([0, 0, 0, 0, 0, 0, 0, 0, 0, 0, 0, 0, 0, 0, 0, 0, 0, 0, 0, 0, 0, 0,\n",
       "        0, 0, 0, 0, 0, 0, 0, 0, 0, 0, 0, 0, 0, 0, 0, 0, 0, 0, 0, 0, 0, 0,\n",
       "        0, 0, 0, 0, 0, 0, 1, 1, 1, 1, 1, 1, 1, 1, 1, 1, 1, 1, 1, 1, 1, 1,\n",
       "        1, 1, 1, 1, 1, 1, 1, 1, 1, 1, 1, 1, 1, 1, 1, 1, 1, 1, 1, 1, 1, 1,\n",
       "        1, 1, 1, 1, 1, 1, 1, 1, 1, 1, 1, 1, 2, 2, 2, 2, 2, 2, 2, 2, 2, 2,\n",
       "        2, 2, 2, 2, 2, 2, 2, 2, 2, 2, 2, 2, 2, 2, 2, 2, 2, 2, 2, 2, 2, 2,\n",
       "        2, 2, 2, 2, 2, 2, 2, 2, 2, 2, 2, 2, 2, 2, 2, 2, 2, 2]),\n",
       " 'frame': None,\n",
       " 'target_names': array(['setosa', 'versicolor', 'virginica'], dtype='<U10'),\n",
       " 'DESCR': '.. _iris_dataset:\\n\\nIris plants dataset\\n--------------------\\n\\n**Data Set Characteristics:**\\n\\n    :Number of Instances: 150 (50 in each of three classes)\\n    :Number of Attributes: 4 numeric, predictive attributes and the class\\n    :Attribute Information:\\n        - sepal length in cm\\n        - sepal width in cm\\n        - petal length in cm\\n        - petal width in cm\\n        - class:\\n                - Iris-Setosa\\n                - Iris-Versicolour\\n                - Iris-Virginica\\n                \\n    :Summary Statistics:\\n\\n    ============== ==== ==== ======= ===== ====================\\n                    Min  Max   Mean    SD   Class Correlation\\n    ============== ==== ==== ======= ===== ====================\\n    sepal length:   4.3  7.9   5.84   0.83    0.7826\\n    sepal width:    2.0  4.4   3.05   0.43   -0.4194\\n    petal length:   1.0  6.9   3.76   1.76    0.9490  (high!)\\n    petal width:    0.1  2.5   1.20   0.76    0.9565  (high!)\\n    ============== ==== ==== ======= ===== ====================\\n\\n    :Missing Attribute Values: None\\n    :Class Distribution: 33.3% for each of 3 classes.\\n    :Creator: R.A. Fisher\\n    :Donor: Michael Marshall (MARSHALL%PLU@io.arc.nasa.gov)\\n    :Date: July, 1988\\n\\nThe famous Iris database, first used by Sir R.A. Fisher. The dataset is taken\\nfrom Fisher\\'s paper. Note that it\\'s the same as in R, but not as in the UCI\\nMachine Learning Repository, which has two wrong data points.\\n\\nThis is perhaps the best known database to be found in the\\npattern recognition literature.  Fisher\\'s paper is a classic in the field and\\nis referenced frequently to this day.  (See Duda & Hart, for example.)  The\\ndata set contains 3 classes of 50 instances each, where each class refers to a\\ntype of iris plant.  One class is linearly separable from the other 2; the\\nlatter are NOT linearly separable from each other.\\n\\n.. topic:: References\\n\\n   - Fisher, R.A. \"The use of multiple measurements in taxonomic problems\"\\n     Annual Eugenics, 7, Part II, 179-188 (1936); also in \"Contributions to\\n     Mathematical Statistics\" (John Wiley, NY, 1950).\\n   - Duda, R.O., & Hart, P.E. (1973) Pattern Classification and Scene Analysis.\\n     (Q327.D83) John Wiley & Sons.  ISBN 0-471-22361-1.  See page 218.\\n   - Dasarathy, B.V. (1980) \"Nosing Around the Neighborhood: A New System\\n     Structure and Classification Rule for Recognition in Partially Exposed\\n     Environments\".  IEEE Transactions on Pattern Analysis and Machine\\n     Intelligence, Vol. PAMI-2, No. 1, 67-71.\\n   - Gates, G.W. (1972) \"The Reduced Nearest Neighbor Rule\".  IEEE Transactions\\n     on Information Theory, May 1972, 431-433.\\n   - See also: 1988 MLC Proceedings, 54-64.  Cheeseman et al\"s AUTOCLASS II\\n     conceptual clustering system finds 3 classes in the data.\\n   - Many, many more ...',\n",
       " 'feature_names': ['sepal length (cm)',\n",
       "  'sepal width (cm)',\n",
       "  'petal length (cm)',\n",
       "  'petal width (cm)'],\n",
       " 'filename': 'C:\\\\ProgramData\\\\Anaconda3\\\\lib\\\\site-packages\\\\sklearn\\\\datasets\\\\data\\\\iris.csv'}"
      ]
     },
     "execution_count": 42,
     "metadata": {},
     "output_type": "execute_result"
    }
   ],
   "source": [
    "iris_data"
   ]
  },
  {
   "cell_type": "code",
   "execution_count": 43,
   "id": "63ba865d",
   "metadata": {},
   "outputs": [],
   "source": [
    "dt_clf = DecisionTreeClassifier(random_state = 156)"
   ]
  },
  {
   "cell_type": "code",
   "execution_count": 44,
   "id": "664dc8c4",
   "metadata": {},
   "outputs": [],
   "source": [
    "data = iris_data.data\n",
    "label = iris_data.target"
   ]
  },
  {
   "cell_type": "code",
   "execution_count": 45,
   "id": "61e51221",
   "metadata": {},
   "outputs": [
    {
     "name": "stdout",
     "output_type": "stream",
     "text": [
      "교차 검증별 정확도: [0.98 0.94 0.98]\n",
      "평균 검증별 정확도: 0.9667\n"
     ]
    }
   ],
   "source": [
    "scores = cross_val_score(dt_clf, data, label, scoring = 'accuracy', cv = 3)\n",
    "print('교차 검증별 정확도:', np.round(scores, 4))\n",
    "print('평균 검증별 정확도:', np.round(np.mean(scores), 4))"
   ]
  },
  {
   "cell_type": "code",
   "execution_count": 46,
   "id": "48b6e470",
   "metadata": {},
   "outputs": [],
   "source": [
    "from sklearn.model_selection import GridSearchCV"
   ]
  },
  {
   "cell_type": "code",
   "execution_count": 47,
   "id": "55f41501",
   "metadata": {},
   "outputs": [],
   "source": [
    "x_train, x_test, y_train, y_test = train_test_split(iris_data.data, iris_data.target, test_size = 0.2, random_state = 121)"
   ]
  },
  {
   "cell_type": "code",
   "execution_count": 48,
   "id": "fdc38b4b",
   "metadata": {},
   "outputs": [],
   "source": [
    "dtree = DecisionTreeClassifier()"
   ]
  },
  {
   "cell_type": "code",
   "execution_count": 49,
   "id": "796ab23a",
   "metadata": {},
   "outputs": [],
   "source": [
    "parameters = {'max_depth' : [1, 2, 3], 'min_samples_split' : [2, 3]}"
   ]
  },
  {
   "cell_type": "code",
   "execution_count": 50,
   "id": "e6ab34e6",
   "metadata": {},
   "outputs": [],
   "source": [
    "grid_dtree = GridSearchCV(dtree, param_grid = parameters, cv = 3, refit = True)"
   ]
  },
  {
   "cell_type": "code",
   "execution_count": 51,
   "id": "782614eb",
   "metadata": {},
   "outputs": [
    {
     "data": {
      "text/plain": [
       "GridSearchCV(cv=3, estimator=DecisionTreeClassifier(),\n",
       "             param_grid={'max_depth': [1, 2, 3], 'min_samples_split': [2, 3]})"
      ]
     },
     "execution_count": 51,
     "metadata": {},
     "output_type": "execute_result"
    }
   ],
   "source": [
    "grid_dtree.fit(x_train, y_train)"
   ]
  },
  {
   "cell_type": "code",
   "execution_count": 52,
   "id": "24d52de5",
   "metadata": {},
   "outputs": [],
   "source": [
    "scores_df = pd.DataFrame(grid_dtree.cv_results_)"
   ]
  },
  {
   "cell_type": "code",
   "execution_count": 53,
   "id": "bd5a5e4c",
>>>>>>> be431326c5acb9e6eb4d96be9d6f4d955c4965c8
   "metadata": {},
   "outputs": [
    {
     "data": {
      "text/html": [
       "<div>\n",
       "<style scoped>\n",
       "    .dataframe tbody tr th:only-of-type {\n",
       "        vertical-align: middle;\n",
       "    }\n",
       "\n",
       "    .dataframe tbody tr th {\n",
       "        vertical-align: top;\n",
       "    }\n",
       "\n",
       "    .dataframe thead th {\n",
       "        text-align: right;\n",
       "    }\n",
       "</style>\n",
       "<table border=\"1\" class=\"dataframe\">\n",
       "  <thead>\n",
       "    <tr style=\"text-align: right;\">\n",
       "      <th></th>\n",
       "      <th>Pclass</th>\n",
       "      <th>Sex</th>\n",
       "      <th>Age</th>\n",
       "      <th>SibSp</th>\n",
       "      <th>Parch</th>\n",
       "      <th>Fare</th>\n",
       "      <th>Cabin</th>\n",
       "      <th>Embarked</th>\n",
       "    </tr>\n",
       "  </thead>\n",
       "  <tbody>\n",
       "    <tr>\n",
       "      <th>0</th>\n",
       "      <td>3</td>\n",
       "      <td>1</td>\n",
       "      <td>22.0</td>\n",
       "      <td>1</td>\n",
       "      <td>0</td>\n",
       "      <td>7.2500</td>\n",
       "      <td>7</td>\n",
       "      <td>3</td>\n",
       "    </tr>\n",
       "    <tr>\n",
       "      <th>1</th>\n",
       "      <td>1</td>\n",
       "      <td>0</td>\n",
       "      <td>38.0</td>\n",
       "      <td>1</td>\n",
       "      <td>0</td>\n",
       "      <td>71.2833</td>\n",
       "      <td>2</td>\n",
       "      <td>0</td>\n",
       "    </tr>\n",
       "    <tr>\n",
       "      <th>2</th>\n",
       "      <td>3</td>\n",
       "      <td>0</td>\n",
       "      <td>26.0</td>\n",
       "      <td>0</td>\n",
       "      <td>0</td>\n",
       "      <td>7.9250</td>\n",
       "      <td>7</td>\n",
       "      <td>3</td>\n",
       "    </tr>\n",
       "    <tr>\n",
       "      <th>3</th>\n",
       "      <td>1</td>\n",
       "      <td>0</td>\n",
       "      <td>35.0</td>\n",
       "      <td>1</td>\n",
       "      <td>0</td>\n",
       "      <td>53.1000</td>\n",
       "      <td>2</td>\n",
       "      <td>3</td>\n",
       "    </tr>\n",
       "    <tr>\n",
       "      <th>4</th>\n",
       "      <td>3</td>\n",
       "      <td>1</td>\n",
       "      <td>35.0</td>\n",
       "      <td>0</td>\n",
       "      <td>0</td>\n",
       "      <td>8.0500</td>\n",
       "      <td>7</td>\n",
       "      <td>3</td>\n",
       "    </tr>\n",
       "  </tbody>\n",
       "</table>\n",
       "</div>"
      ],
      "text/plain": [
       "   Pclass  Sex   Age  SibSp  Parch     Fare  Cabin  Embarked\n",
       "0       3    1  22.0      1      0   7.2500      7         3\n",
       "1       1    0  38.0      1      0  71.2833      2         0\n",
       "2       3    0  26.0      0      0   7.9250      7         3\n",
       "3       1    0  35.0      1      0  53.1000      2         3\n",
       "4       3    1  35.0      0      0   8.0500      7         3"
      ]
     },
<<<<<<< HEAD
     "execution_count": 18,
=======
     "execution_count": 53,
>>>>>>> be431326c5acb9e6eb4d96be9d6f4d955c4965c8
     "metadata": {},
     "output_type": "execute_result"
    }
   ],
   "source": [
    "x_titanic_df.head(5)"
   ]
  },
  {
   "cell_type": "code",
<<<<<<< HEAD
   "execution_count": 19,
   "id": "3d8b93d2-77ef-4cb7-a02c-ed0fb86b138e",
   "metadata": {},
   "outputs": [],
   "source": [
    "x_train, x_test, y_train, y_test = train_test_split(x_titanic_df, y_titanic_df, test_size = 0.2, random_state = 11)"
   ]
  },
  {
   "cell_type": "code",
   "execution_count": 20,
   "id": "1bd99145-25af-44c6-ab4c-a52863727401",
   "metadata": {},
   "outputs": [],
   "source": [
    "lr_clf = LogisticRegression()"
   ]
  },
  {
   "cell_type": "code",
   "execution_count": 21,
   "id": "386eeafd-945d-4bdc-8951-112fd16700ec",
   "metadata": {},
   "outputs": [
    {
     "name": "stderr",
     "output_type": "stream",
     "text": [
      "C:\\Users\\User\\anaconda3\\lib\\site-packages\\sklearn\\linear_model\\_logistic.py:763: ConvergenceWarning: lbfgs failed to converge (status=1):\n",
      "STOP: TOTAL NO. of ITERATIONS REACHED LIMIT.\n",
      "\n",
      "Increase the number of iterations (max_iter) or scale the data as shown in:\n",
      "    https://scikit-learn.org/stable/modules/preprocessing.html\n",
      "Please also refer to the documentation for alternative solver options:\n",
      "    https://scikit-learn.org/stable/modules/linear_model.html#logistic-regression\n",
      "  n_iter_i = _check_optimize_result(\n"
     ]
    },
    {
     "data": {
      "text/plain": [
       "LogisticRegression()"
      ]
     },
     "execution_count": 21,
     "metadata": {},
     "output_type": "execute_result"
    }
   ],
   "source": [
    "lr_clf.fit(x_train, y_train)"
   ]
  },
  {
   "cell_type": "code",
   "execution_count": 22,
   "id": "9f29499f-3063-46e5-abbb-26536f87dbb0",
   "metadata": {},
   "outputs": [],
   "source": [
    "pred = lr_clf.predict(x_test)"
   ]
  },
  {
   "cell_type": "code",
   "execution_count": 24,
   "id": "3dd28fff-d1c0-43b0-999e-8e412134561a",
   "metadata": {},
   "outputs": [],
   "source": [
    "from sklearn.metrics import accuracy_score, precision_score, recall_score, confusion_matrix"
   ]
  },
  {
   "cell_type": "code",
   "execution_count": 25,
   "id": "2d102a11-e1b7-437d-95a5-affe518c1da6",
=======
   "execution_count": 54,
   "id": "b4d50c7c",
>>>>>>> be431326c5acb9e6eb4d96be9d6f4d955c4965c8
   "metadata": {},
   "outputs": [
    {
     "data": {
      "text/plain": [
       "array([[104,  14],\n",
       "       [ 13,  48]], dtype=int64)"
      ]
     },
<<<<<<< HEAD
     "execution_count": 25,
=======
     "execution_count": 54,
>>>>>>> be431326c5acb9e6eb4d96be9d6f4d955c4965c8
     "metadata": {},
     "output_type": "execute_result"
    }
   ],
   "source": [
    "confusion_matrix(y_test, pred)"
   ]
  },
  {
   "cell_type": "code",
   "execution_count": 27,
   "id": "b95d563a-e8cc-44ac-86a7-43e255ff8c05",
   "metadata": {},
   "outputs": [
    {
     "data": {
      "text/plain": [
       "0.7868852459016393"
      ]
     },
     "execution_count": 27,
     "metadata": {},
     "output_type": "execute_result"
    }
   ],
   "source": [
    "accuracy_score(y_test, pred);precision_score(y_test, pred);recall_score(y_test, pred)"
   ]
  },
  {
   "cell_type": "code",
   "execution_count": 28,
   "id": "055eba1f-dce0-4bbc-866f-18ebae8b8f20",
   "metadata": {},
   "outputs": [],
   "source": [
    "pred_proba = lr_clf.predict_proba(x_test)"
   ]
  },
  {
   "cell_type": "code",
   "execution_count": 29,
   "id": "7b1ded44-3351-41bb-8629-8589260ec716",
   "metadata": {},
   "outputs": [],
   "source": [
    "pred = lr_clf.predict(x_test)"
   ]
  },
  {
   "cell_type": "code",
   "execution_count": 30,
   "id": "47f5fdb7-ddfa-4579-a8e7-c60e4318d3a9",
   "metadata": {},
   "outputs": [
    {
     "data": {
      "text/plain": [
       "(179, 2)"
      ]
     },
     "execution_count": 30,
     "metadata": {},
     "output_type": "execute_result"
    }
   ],
   "source": [
    "pred_proba.shape"
   ]
  },
  {
   "cell_type": "code",
   "execution_count": 31,
   "id": "d74c0ae3-7974-4421-81b4-8985db1d5019",
   "metadata": {},
   "outputs": [
    {
     "data": {
      "text/plain": [
       "array([[0.46197701, 0.53802299],\n",
       "       [0.87868649, 0.12131351],\n",
       "       [0.87716331, 0.12283669]])"
      ]
     },
     "execution_count": 31,
     "metadata": {},
     "output_type": "execute_result"
    }
   ],
   "source": [
    "pred_proba[:3]"
   ]
  },
  {
   "cell_type": "code",
   "execution_count": 32,
   "id": "2c4b9e61-c879-4898-bf97-08096339d332",
   "metadata": {},
   "outputs": [],
   "source": [
    "from sklearn.preprocessing import Binarizer"
   ]
  },
  {
   "cell_type": "code",
   "execution_count": 33,
   "id": "3b5f08fa-bd3a-420a-b776-553a82cccf61",
   "metadata": {},
   "outputs": [],
   "source": [
    "binarizer = Binarizer(threshold = 1.1)"
   ]
  },
  {
   "cell_type": "code",
   "execution_count": 37,
   "id": "ef21099f-7af5-44ca-aae9-7b0f4cdce656",
   "metadata": {},
   "outputs": [
    {
     "data": {
      "text/plain": [
       "array([[0., 0., 1.],\n",
       "       [1., 0., 0.],\n",
       "       [0., 0., 1.]])"
      ]
     },
     "execution_count": 37,
     "metadata": {},
     "output_type": "execute_result"
    }
   ],
   "source": [
    "binarizer.fit_transform(x)"
   ]
  },
  {
   "cell_type": "code",
   "execution_count": 35,
   "id": "a1877401-d896-4b3a-9eff-0f242c359fd5",
   "metadata": {},
   "outputs": [],
   "source": [
    "x = [[1, -1, 2],\n",
    "     [2, 0, 0 ],\n",
    "     [0, 1.1, 1.2]]"
   ]
  },
  {
   "cell_type": "code",
   "execution_count": 36,
   "id": "bc24374a-d34d-436e-9d1f-168007d4d477",
   "metadata": {},
   "outputs": [
    {
     "data": {
      "text/plain": [
       "[[1, -1, 2], [2, 0, 0], [0, 1.1, 1.2]]"
      ]
     },
     "execution_count": 36,
     "metadata": {},
     "output_type": "execute_result"
    }
   ],
   "source": [
    "x"
   ]
  },
  {
   "cell_type": "code",
   "execution_count": 38,
   "id": "2e3fdb8c-1740-46b9-bd7a-e9ca3a37b33d",
   "metadata": {},
   "outputs": [],
   "source": [
    "custom_threshold = 0.5"
   ]
  },
  {
   "cell_type": "code",
   "execution_count": 41,
   "id": "2e4e3ab6-ef30-4c61-80dd-99612d7ac664",
   "metadata": {},
   "outputs": [],
   "source": [
    "pred_proba_1 = pred_proba[:, 1].reshape(-1, 1)"
   ]
  },
  {
   "cell_type": "code",
   "execution_count": 42,
   "id": "864bf68a-e0b8-4a45-b4d3-90f97a8c5493",
   "metadata": {},
   "outputs": [],
   "source": [
    "binarizer = Binarizer(threshold = custom_threshold).fit(pred_proba_1)\n",
    "custom_predict = binarizer.transform(pred_proba_1)"
   ]
  },
  {
   "cell_type": "code",
   "execution_count": 43,
   "id": "9c0ea503-92a6-4870-a738-6bf3d5c92388",
   "metadata": {},
   "outputs": [],
   "source": [
    "from sklearn.metrics import precision_recall_curve"
   ]
  },
  {
   "cell_type": "code",
   "execution_count": 44,
   "id": "854a9fd0-7c85-4d7a-83af-5cbd271a54b7",
   "metadata": {},
   "outputs": [],
   "source": [
    "precisions, recalls, thresholds = precision_recall_curve(y_test, pred_proba_1)"
   ]
  },
  {
   "cell_type": "code",
   "execution_count": 46,
   "id": "ab27bab9-e287-45ec-b5e5-cef66c8bb8b7",
   "metadata": {},
   "outputs": [
    {
     "data": {
      "text/plain": [
       "0.10390279094769549"
      ]
     },
     "execution_count": 46,
     "metadata": {},
     "output_type": "execute_result"
    }
   ],
   "source": [
    "thresholds[0]"
   ]
  },
  {
   "cell_type": "code",
<<<<<<< HEAD
   "execution_count": null,
   "id": "e0a5dbf3-2445-4f50-b145-a4ada079352c",
=======
   "execution_count": 55,
   "id": "06f1a15d",
>>>>>>> be431326c5acb9e6eb4d96be9d6f4d955c4965c8
   "metadata": {},
   "outputs": [],
   "source": [
    "import sklearn"
   ]
  },
  {
   "cell_type": "code",
   "execution_count": 57,
   "id": "3510eb1d",
   "metadata": {},
   "outputs": [
    {
     "data": {
      "text/plain": [
       "{'data': array([[5.1, 3.5, 1.4, 0.2],\n",
       "        [4.9, 3. , 1.4, 0.2],\n",
       "        [4.7, 3.2, 1.3, 0.2],\n",
       "        [4.6, 3.1, 1.5, 0.2],\n",
       "        [5. , 3.6, 1.4, 0.2],\n",
       "        [5.4, 3.9, 1.7, 0.4],\n",
       "        [4.6, 3.4, 1.4, 0.3],\n",
       "        [5. , 3.4, 1.5, 0.2],\n",
       "        [4.4, 2.9, 1.4, 0.2],\n",
       "        [4.9, 3.1, 1.5, 0.1],\n",
       "        [5.4, 3.7, 1.5, 0.2],\n",
       "        [4.8, 3.4, 1.6, 0.2],\n",
       "        [4.8, 3. , 1.4, 0.1],\n",
       "        [4.3, 3. , 1.1, 0.1],\n",
       "        [5.8, 4. , 1.2, 0.2],\n",
       "        [5.7, 4.4, 1.5, 0.4],\n",
       "        [5.4, 3.9, 1.3, 0.4],\n",
       "        [5.1, 3.5, 1.4, 0.3],\n",
       "        [5.7, 3.8, 1.7, 0.3],\n",
       "        [5.1, 3.8, 1.5, 0.3],\n",
       "        [5.4, 3.4, 1.7, 0.2],\n",
       "        [5.1, 3.7, 1.5, 0.4],\n",
       "        [4.6, 3.6, 1. , 0.2],\n",
       "        [5.1, 3.3, 1.7, 0.5],\n",
       "        [4.8, 3.4, 1.9, 0.2],\n",
       "        [5. , 3. , 1.6, 0.2],\n",
       "        [5. , 3.4, 1.6, 0.4],\n",
       "        [5.2, 3.5, 1.5, 0.2],\n",
       "        [5.2, 3.4, 1.4, 0.2],\n",
       "        [4.7, 3.2, 1.6, 0.2],\n",
       "        [4.8, 3.1, 1.6, 0.2],\n",
       "        [5.4, 3.4, 1.5, 0.4],\n",
       "        [5.2, 4.1, 1.5, 0.1],\n",
       "        [5.5, 4.2, 1.4, 0.2],\n",
       "        [4.9, 3.1, 1.5, 0.2],\n",
       "        [5. , 3.2, 1.2, 0.2],\n",
       "        [5.5, 3.5, 1.3, 0.2],\n",
       "        [4.9, 3.6, 1.4, 0.1],\n",
       "        [4.4, 3. , 1.3, 0.2],\n",
       "        [5.1, 3.4, 1.5, 0.2],\n",
       "        [5. , 3.5, 1.3, 0.3],\n",
       "        [4.5, 2.3, 1.3, 0.3],\n",
       "        [4.4, 3.2, 1.3, 0.2],\n",
       "        [5. , 3.5, 1.6, 0.6],\n",
       "        [5.1, 3.8, 1.9, 0.4],\n",
       "        [4.8, 3. , 1.4, 0.3],\n",
       "        [5.1, 3.8, 1.6, 0.2],\n",
       "        [4.6, 3.2, 1.4, 0.2],\n",
       "        [5.3, 3.7, 1.5, 0.2],\n",
       "        [5. , 3.3, 1.4, 0.2],\n",
       "        [7. , 3.2, 4.7, 1.4],\n",
       "        [6.4, 3.2, 4.5, 1.5],\n",
       "        [6.9, 3.1, 4.9, 1.5],\n",
       "        [5.5, 2.3, 4. , 1.3],\n",
       "        [6.5, 2.8, 4.6, 1.5],\n",
       "        [5.7, 2.8, 4.5, 1.3],\n",
       "        [6.3, 3.3, 4.7, 1.6],\n",
       "        [4.9, 2.4, 3.3, 1. ],\n",
       "        [6.6, 2.9, 4.6, 1.3],\n",
       "        [5.2, 2.7, 3.9, 1.4],\n",
       "        [5. , 2. , 3.5, 1. ],\n",
       "        [5.9, 3. , 4.2, 1.5],\n",
       "        [6. , 2.2, 4. , 1. ],\n",
       "        [6.1, 2.9, 4.7, 1.4],\n",
       "        [5.6, 2.9, 3.6, 1.3],\n",
       "        [6.7, 3.1, 4.4, 1.4],\n",
       "        [5.6, 3. , 4.5, 1.5],\n",
       "        [5.8, 2.7, 4.1, 1. ],\n",
       "        [6.2, 2.2, 4.5, 1.5],\n",
       "        [5.6, 2.5, 3.9, 1.1],\n",
       "        [5.9, 3.2, 4.8, 1.8],\n",
       "        [6.1, 2.8, 4. , 1.3],\n",
       "        [6.3, 2.5, 4.9, 1.5],\n",
       "        [6.1, 2.8, 4.7, 1.2],\n",
       "        [6.4, 2.9, 4.3, 1.3],\n",
       "        [6.6, 3. , 4.4, 1.4],\n",
       "        [6.8, 2.8, 4.8, 1.4],\n",
       "        [6.7, 3. , 5. , 1.7],\n",
       "        [6. , 2.9, 4.5, 1.5],\n",
       "        [5.7, 2.6, 3.5, 1. ],\n",
       "        [5.5, 2.4, 3.8, 1.1],\n",
       "        [5.5, 2.4, 3.7, 1. ],\n",
       "        [5.8, 2.7, 3.9, 1.2],\n",
       "        [6. , 2.7, 5.1, 1.6],\n",
       "        [5.4, 3. , 4.5, 1.5],\n",
       "        [6. , 3.4, 4.5, 1.6],\n",
       "        [6.7, 3.1, 4.7, 1.5],\n",
       "        [6.3, 2.3, 4.4, 1.3],\n",
       "        [5.6, 3. , 4.1, 1.3],\n",
       "        [5.5, 2.5, 4. , 1.3],\n",
       "        [5.5, 2.6, 4.4, 1.2],\n",
       "        [6.1, 3. , 4.6, 1.4],\n",
       "        [5.8, 2.6, 4. , 1.2],\n",
       "        [5. , 2.3, 3.3, 1. ],\n",
       "        [5.6, 2.7, 4.2, 1.3],\n",
       "        [5.7, 3. , 4.2, 1.2],\n",
       "        [5.7, 2.9, 4.2, 1.3],\n",
       "        [6.2, 2.9, 4.3, 1.3],\n",
       "        [5.1, 2.5, 3. , 1.1],\n",
       "        [5.7, 2.8, 4.1, 1.3],\n",
       "        [6.3, 3.3, 6. , 2.5],\n",
       "        [5.8, 2.7, 5.1, 1.9],\n",
       "        [7.1, 3. , 5.9, 2.1],\n",
       "        [6.3, 2.9, 5.6, 1.8],\n",
       "        [6.5, 3. , 5.8, 2.2],\n",
       "        [7.6, 3. , 6.6, 2.1],\n",
       "        [4.9, 2.5, 4.5, 1.7],\n",
       "        [7.3, 2.9, 6.3, 1.8],\n",
       "        [6.7, 2.5, 5.8, 1.8],\n",
       "        [7.2, 3.6, 6.1, 2.5],\n",
       "        [6.5, 3.2, 5.1, 2. ],\n",
       "        [6.4, 2.7, 5.3, 1.9],\n",
       "        [6.8, 3. , 5.5, 2.1],\n",
       "        [5.7, 2.5, 5. , 2. ],\n",
       "        [5.8, 2.8, 5.1, 2.4],\n",
       "        [6.4, 3.2, 5.3, 2.3],\n",
       "        [6.5, 3. , 5.5, 1.8],\n",
       "        [7.7, 3.8, 6.7, 2.2],\n",
       "        [7.7, 2.6, 6.9, 2.3],\n",
       "        [6. , 2.2, 5. , 1.5],\n",
       "        [6.9, 3.2, 5.7, 2.3],\n",
       "        [5.6, 2.8, 4.9, 2. ],\n",
       "        [7.7, 2.8, 6.7, 2. ],\n",
       "        [6.3, 2.7, 4.9, 1.8],\n",
       "        [6.7, 3.3, 5.7, 2.1],\n",
       "        [7.2, 3.2, 6. , 1.8],\n",
       "        [6.2, 2.8, 4.8, 1.8],\n",
       "        [6.1, 3. , 4.9, 1.8],\n",
       "        [6.4, 2.8, 5.6, 2.1],\n",
       "        [7.2, 3. , 5.8, 1.6],\n",
       "        [7.4, 2.8, 6.1, 1.9],\n",
       "        [7.9, 3.8, 6.4, 2. ],\n",
       "        [6.4, 2.8, 5.6, 2.2],\n",
       "        [6.3, 2.8, 5.1, 1.5],\n",
       "        [6.1, 2.6, 5.6, 1.4],\n",
       "        [7.7, 3. , 6.1, 2.3],\n",
       "        [6.3, 3.4, 5.6, 2.4],\n",
       "        [6.4, 3.1, 5.5, 1.8],\n",
       "        [6. , 3. , 4.8, 1.8],\n",
       "        [6.9, 3.1, 5.4, 2.1],\n",
       "        [6.7, 3.1, 5.6, 2.4],\n",
       "        [6.9, 3.1, 5.1, 2.3],\n",
       "        [5.8, 2.7, 5.1, 1.9],\n",
       "        [6.8, 3.2, 5.9, 2.3],\n",
       "        [6.7, 3.3, 5.7, 2.5],\n",
       "        [6.7, 3. , 5.2, 2.3],\n",
       "        [6.3, 2.5, 5. , 1.9],\n",
       "        [6.5, 3. , 5.2, 2. ],\n",
       "        [6.2, 3.4, 5.4, 2.3],\n",
       "        [5.9, 3. , 5.1, 1.8]]),\n",
       " 'target': array([0, 0, 0, 0, 0, 0, 0, 0, 0, 0, 0, 0, 0, 0, 0, 0, 0, 0, 0, 0, 0, 0,\n",
       "        0, 0, 0, 0, 0, 0, 0, 0, 0, 0, 0, 0, 0, 0, 0, 0, 0, 0, 0, 0, 0, 0,\n",
       "        0, 0, 0, 0, 0, 0, 1, 1, 1, 1, 1, 1, 1, 1, 1, 1, 1, 1, 1, 1, 1, 1,\n",
       "        1, 1, 1, 1, 1, 1, 1, 1, 1, 1, 1, 1, 1, 1, 1, 1, 1, 1, 1, 1, 1, 1,\n",
       "        1, 1, 1, 1, 1, 1, 1, 1, 1, 1, 1, 1, 2, 2, 2, 2, 2, 2, 2, 2, 2, 2,\n",
       "        2, 2, 2, 2, 2, 2, 2, 2, 2, 2, 2, 2, 2, 2, 2, 2, 2, 2, 2, 2, 2, 2,\n",
       "        2, 2, 2, 2, 2, 2, 2, 2, 2, 2, 2, 2, 2, 2, 2, 2, 2, 2]),\n",
       " 'frame': None,\n",
       " 'target_names': array(['setosa', 'versicolor', 'virginica'], dtype='<U10'),\n",
       " 'DESCR': '.. _iris_dataset:\\n\\nIris plants dataset\\n--------------------\\n\\n**Data Set Characteristics:**\\n\\n    :Number of Instances: 150 (50 in each of three classes)\\n    :Number of Attributes: 4 numeric, predictive attributes and the class\\n    :Attribute Information:\\n        - sepal length in cm\\n        - sepal width in cm\\n        - petal length in cm\\n        - petal width in cm\\n        - class:\\n                - Iris-Setosa\\n                - Iris-Versicolour\\n                - Iris-Virginica\\n                \\n    :Summary Statistics:\\n\\n    ============== ==== ==== ======= ===== ====================\\n                    Min  Max   Mean    SD   Class Correlation\\n    ============== ==== ==== ======= ===== ====================\\n    sepal length:   4.3  7.9   5.84   0.83    0.7826\\n    sepal width:    2.0  4.4   3.05   0.43   -0.4194\\n    petal length:   1.0  6.9   3.76   1.76    0.9490  (high!)\\n    petal width:    0.1  2.5   1.20   0.76    0.9565  (high!)\\n    ============== ==== ==== ======= ===== ====================\\n\\n    :Missing Attribute Values: None\\n    :Class Distribution: 33.3% for each of 3 classes.\\n    :Creator: R.A. Fisher\\n    :Donor: Michael Marshall (MARSHALL%PLU@io.arc.nasa.gov)\\n    :Date: July, 1988\\n\\nThe famous Iris database, first used by Sir R.A. Fisher. The dataset is taken\\nfrom Fisher\\'s paper. Note that it\\'s the same as in R, but not as in the UCI\\nMachine Learning Repository, which has two wrong data points.\\n\\nThis is perhaps the best known database to be found in the\\npattern recognition literature.  Fisher\\'s paper is a classic in the field and\\nis referenced frequently to this day.  (See Duda & Hart, for example.)  The\\ndata set contains 3 classes of 50 instances each, where each class refers to a\\ntype of iris plant.  One class is linearly separable from the other 2; the\\nlatter are NOT linearly separable from each other.\\n\\n.. topic:: References\\n\\n   - Fisher, R.A. \"The use of multiple measurements in taxonomic problems\"\\n     Annual Eugenics, 7, Part II, 179-188 (1936); also in \"Contributions to\\n     Mathematical Statistics\" (John Wiley, NY, 1950).\\n   - Duda, R.O., & Hart, P.E. (1973) Pattern Classification and Scene Analysis.\\n     (Q327.D83) John Wiley & Sons.  ISBN 0-471-22361-1.  See page 218.\\n   - Dasarathy, B.V. (1980) \"Nosing Around the Neighborhood: A New System\\n     Structure and Classification Rule for Recognition in Partially Exposed\\n     Environments\".  IEEE Transactions on Pattern Analysis and Machine\\n     Intelligence, Vol. PAMI-2, No. 1, 67-71.\\n   - Gates, G.W. (1972) \"The Reduced Nearest Neighbor Rule\".  IEEE Transactions\\n     on Information Theory, May 1972, 431-433.\\n   - See also: 1988 MLC Proceedings, 54-64.  Cheeseman et al\"s AUTOCLASS II\\n     conceptual clustering system finds 3 classes in the data.\\n   - Many, many more ...',\n",
       " 'feature_names': ['sepal length (cm)',\n",
       "  'sepal width (cm)',\n",
       "  'petal length (cm)',\n",
       "  'petal width (cm)'],\n",
       " 'filename': 'C:\\\\ProgramData\\\\Anaconda3\\\\lib\\\\site-packages\\\\sklearn\\\\datasets\\\\data\\\\iris.csv'}"
      ]
     },
     "execution_count": 57,
     "metadata": {},
     "output_type": "execute_result"
    }
   ],
   "source": [
    "iris"
   ]
  },
  {
   "cell_type": "markdown",
   "id": "1ae5ab84",
   "metadata": {},
   "source": [
    "### 데이터 전처리 "
   ]
  },
  {
   "cell_type": "code",
   "execution_count": 58,
   "id": "a947f324",
   "metadata": {},
   "outputs": [],
   "source": [
    "from sklearn.preprocessing import LabelEncoder"
   ]
  },
  {
   "cell_type": "code",
   "execution_count": 59,
   "id": "0db4f381",
   "metadata": {},
   "outputs": [],
   "source": [
    "items = ['tv', '냉장고', '전자레인지', '컴퓨터', '선풍기', '선풍기', '믹서', '믹서']"
   ]
  },
  {
   "cell_type": "code",
   "execution_count": 61,
   "id": "3a606100",
   "metadata": {},
   "outputs": [],
   "source": [
    "encoder = LabelEncoder()"
   ]
  },
  {
   "cell_type": "code",
   "execution_count": 62,
   "id": "68434394",
   "metadata": {},
   "outputs": [
    {
     "data": {
      "text/plain": [
       "LabelEncoder()"
      ]
     },
     "execution_count": 62,
     "metadata": {},
     "output_type": "execute_result"
    }
   ],
   "source": [
    "encoder.fit(items)"
   ]
  },
  {
   "cell_type": "code",
   "execution_count": 63,
   "id": "c8c5f605",
   "metadata": {},
   "outputs": [],
   "source": [
    "labels = encoder.transform(items)"
   ]
  },
  {
   "cell_type": "code",
   "execution_count": 64,
   "id": "511b7dcd",
   "metadata": {},
   "outputs": [
    {
     "name": "stdout",
     "output_type": "stream",
     "text": [
      "[0 1 4 5 3 3 2 2]\n"
     ]
    }
   ],
   "source": [
    "print(labels)"
   ]
  },
  {
   "cell_type": "code",
   "execution_count": 65,
   "id": "52f6a8e5",
   "metadata": {},
   "outputs": [
    {
     "data": {
      "text/plain": [
       "array(['tv', '냉장고', '믹서', '선풍기', '전자레인지', '컴퓨터'], dtype='<U5')"
      ]
     },
     "execution_count": 65,
     "metadata": {},
     "output_type": "execute_result"
    }
   ],
   "source": [
    "encoder.classes_"
   ]
  },
  {
   "cell_type": "code",
   "execution_count": 66,
   "id": "8c88b8b5",
   "metadata": {},
   "outputs": [
    {
     "data": {
      "text/plain": [
       "array(['전자레인지', '컴퓨터', '믹서', 'tv', '냉장고', '냉장고', '선풍기', '선풍기'],\n",
       "      dtype='<U5')"
      ]
     },
     "execution_count": 66,
     "metadata": {},
     "output_type": "execute_result"
    }
   ],
   "source": [
    "encoder.inverse_transform([4,5,2,0,1,1,3,3])"
   ]
  },
  {
   "cell_type": "markdown",
   "id": "f3e3e5df",
   "metadata": {},
   "source": [
    "원핫 인코딩## "
   ]
  },
  {
   "cell_type": "code",
   "execution_count": 67,
   "id": "04576058",
   "metadata": {},
   "outputs": [],
   "source": [
    "from sklearn.preprocessing import OneHotEncoder"
   ]
  },
  {
   "cell_type": "code",
   "execution_count": 68,
   "id": "3b54a968",
   "metadata": {},
   "outputs": [],
   "source": [
    "import numpy as np ; import pandas as pd"
   ]
  },
  {
   "cell_type": "code",
   "execution_count": 69,
   "id": "afc3bfe9",
   "metadata": {},
   "outputs": [
    {
     "data": {
      "text/plain": [
       "['tv', '냉장고', '전자레인지', '컴퓨터', '선풍기', '선풍기', '믹서', '믹서']"
      ]
     },
     "execution_count": 69,
     "metadata": {},
     "output_type": "execute_result"
    }
   ],
   "source": [
    "items"
   ]
  },
  {
   "cell_type": "code",
   "execution_count": 70,
   "id": "e61a94f9",
   "metadata": {},
   "outputs": [],
   "source": [
    "encoder = LabelEncoder()"
   ]
  },
  {
   "cell_type": "code",
   "execution_count": 71,
   "id": "b29fda38",
   "metadata": {},
   "outputs": [
    {
     "data": {
      "text/plain": [
       "LabelEncoder()"
      ]
     },
     "execution_count": 71,
     "metadata": {},
     "output_type": "execute_result"
    }
   ],
   "source": [
    "encoder.fit(items)"
   ]
  },
  {
   "cell_type": "code",
   "execution_count": 72,
   "id": "eb45292f",
   "metadata": {},
   "outputs": [],
   "source": [
    "labels = encoder.transform(items)"
   ]
  },
  {
   "cell_type": "code",
   "execution_count": 73,
   "id": "e8e6de06",
   "metadata": {},
   "outputs": [],
   "source": [
    "labels = labels.reshape(-1, 1)"
   ]
  },
  {
   "cell_type": "code",
   "execution_count": 74,
   "id": "b807e89f",
   "metadata": {},
   "outputs": [],
   "source": [
    "oh_encoder = OneHotEncoder()"
   ]
  },
  {
   "cell_type": "code",
   "execution_count": 75,
   "id": "19576879",
   "metadata": {},
   "outputs": [
    {
     "data": {
      "text/plain": [
       "OneHotEncoder()"
      ]
     },
     "execution_count": 75,
     "metadata": {},
     "output_type": "execute_result"
    }
   ],
   "source": [
    "oh_encoder.fit(labels)"
   ]
  },
  {
   "cell_type": "code",
   "execution_count": 76,
   "id": "16cf5086",
   "metadata": {},
   "outputs": [],
   "source": [
    "oh_labels = oh_encoder.transform(labels)"
   ]
  },
  {
   "cell_type": "code",
   "execution_count": 77,
   "id": "447615ce",
   "metadata": {},
   "outputs": [
    {
     "data": {
      "text/plain": [
       "array([[1., 0., 0., 0., 0., 0.],\n",
       "       [0., 1., 0., 0., 0., 0.],\n",
       "       [0., 0., 0., 0., 1., 0.],\n",
       "       [0., 0., 0., 0., 0., 1.],\n",
       "       [0., 0., 0., 1., 0., 0.],\n",
       "       [0., 0., 0., 1., 0., 0.],\n",
       "       [0., 0., 1., 0., 0., 0.],\n",
       "       [0., 0., 1., 0., 0., 0.]])"
      ]
     },
     "execution_count": 77,
     "metadata": {},
     "output_type": "execute_result"
    }
   ],
   "source": [
    "oh_labels.toarray()"
   ]
  },
  {
   "cell_type": "code",
   "execution_count": 79,
   "id": "e4b7b700",
   "metadata": {},
   "outputs": [
    {
     "data": {
      "text/plain": [
       "(8, 6)"
      ]
     },
     "execution_count": 79,
     "metadata": {},
     "output_type": "execute_result"
    }
   ],
   "source": [
    "oh_labels.shape"
   ]
  },
  {
   "cell_type": "code",
   "execution_count": 81,
   "id": "ad2775e5",
   "metadata": {},
   "outputs": [],
   "source": [
    "df = pd.DataFrame({'item' : ['tv', '냉장고', '전자레인지', '컴퓨터', '선풍기' '선풍기', '믹서', '믹서']})"
   ]
  },
  {
   "cell_type": "code",
   "execution_count": 82,
   "id": "907c023e",
   "metadata": {},
   "outputs": [
    {
     "data": {
      "text/html": [
       "<div>\n",
       "<style scoped>\n",
       "    .dataframe tbody tr th:only-of-type {\n",
       "        vertical-align: middle;\n",
       "    }\n",
       "\n",
       "    .dataframe tbody tr th {\n",
       "        vertical-align: top;\n",
       "    }\n",
       "\n",
       "    .dataframe thead th {\n",
       "        text-align: right;\n",
       "    }\n",
       "</style>\n",
       "<table border=\"1\" class=\"dataframe\">\n",
       "  <thead>\n",
       "    <tr style=\"text-align: right;\">\n",
       "      <th></th>\n",
       "      <th>item_tv</th>\n",
       "      <th>item_냉장고</th>\n",
       "      <th>item_믹서</th>\n",
       "      <th>item_선풍기선풍기</th>\n",
       "      <th>item_전자레인지</th>\n",
       "      <th>item_컴퓨터</th>\n",
       "    </tr>\n",
       "  </thead>\n",
       "  <tbody>\n",
       "    <tr>\n",
       "      <th>0</th>\n",
       "      <td>1</td>\n",
       "      <td>0</td>\n",
       "      <td>0</td>\n",
       "      <td>0</td>\n",
       "      <td>0</td>\n",
       "      <td>0</td>\n",
       "    </tr>\n",
       "    <tr>\n",
       "      <th>1</th>\n",
       "      <td>0</td>\n",
       "      <td>1</td>\n",
       "      <td>0</td>\n",
       "      <td>0</td>\n",
       "      <td>0</td>\n",
       "      <td>0</td>\n",
       "    </tr>\n",
       "    <tr>\n",
       "      <th>2</th>\n",
       "      <td>0</td>\n",
       "      <td>0</td>\n",
       "      <td>0</td>\n",
       "      <td>0</td>\n",
       "      <td>1</td>\n",
       "      <td>0</td>\n",
       "    </tr>\n",
       "    <tr>\n",
       "      <th>3</th>\n",
       "      <td>0</td>\n",
       "      <td>0</td>\n",
       "      <td>0</td>\n",
       "      <td>0</td>\n",
       "      <td>0</td>\n",
       "      <td>1</td>\n",
       "    </tr>\n",
       "    <tr>\n",
       "      <th>4</th>\n",
       "      <td>0</td>\n",
       "      <td>0</td>\n",
       "      <td>0</td>\n",
       "      <td>1</td>\n",
       "      <td>0</td>\n",
       "      <td>0</td>\n",
       "    </tr>\n",
       "    <tr>\n",
       "      <th>5</th>\n",
       "      <td>0</td>\n",
       "      <td>0</td>\n",
       "      <td>1</td>\n",
       "      <td>0</td>\n",
       "      <td>0</td>\n",
       "      <td>0</td>\n",
       "    </tr>\n",
       "    <tr>\n",
       "      <th>6</th>\n",
       "      <td>0</td>\n",
       "      <td>0</td>\n",
       "      <td>1</td>\n",
       "      <td>0</td>\n",
       "      <td>0</td>\n",
       "      <td>0</td>\n",
       "    </tr>\n",
       "  </tbody>\n",
       "</table>\n",
       "</div>"
      ],
      "text/plain": [
       "   item_tv  item_냉장고  item_믹서  item_선풍기선풍기  item_전자레인지  item_컴퓨터\n",
       "0        1         0        0            0           0         0\n",
       "1        0         1        0            0           0         0\n",
       "2        0         0        0            0           1         0\n",
       "3        0         0        0            0           0         1\n",
       "4        0         0        0            1           0         0\n",
       "5        0         0        1            0           0         0\n",
       "6        0         0        1            0           0         0"
      ]
     },
     "execution_count": 82,
     "metadata": {},
     "output_type": "execute_result"
    }
   ],
   "source": [
    "pd.get_dummies(df)"
   ]
  },
  {
   "cell_type": "code",
   "execution_count": 83,
   "id": "28494d3b",
   "metadata": {},
   "outputs": [],
   "source": [
    "from sklearn.datasets import load_iris"
   ]
  },
  {
   "cell_type": "code",
   "execution_count": 84,
   "id": "ee9d8b3f",
   "metadata": {},
   "outputs": [],
   "source": [
    "iris = load_iris()"
   ]
  },
  {
   "cell_type": "code",
   "execution_count": 85,
   "id": "b1df8ebd",
   "metadata": {},
   "outputs": [],
   "source": [
    "iris_data = iris.data"
   ]
  },
  {
   "cell_type": "code",
   "execution_count": 86,
   "id": "f807f6ac",
   "metadata": {},
   "outputs": [],
   "source": [
    "iris_df = pd.DataFrame(data = iris_data, columns = iris.feature_names)"
   ]
  },
  {
   "cell_type": "code",
   "execution_count": 89,
   "id": "2262376e",
   "metadata": {},
   "outputs": [
    {
     "data": {
      "text/plain": [
       "sepal length (cm)    5.843333\n",
       "sepal width (cm)     3.057333\n",
       "petal length (cm)    3.758000\n",
       "petal width (cm)     1.199333\n",
       "dtype: float64"
      ]
     },
     "execution_count": 89,
     "metadata": {},
     "output_type": "execute_result"
    }
   ],
   "source": [
    "iris_df.mean()"
   ]
  },
  {
   "cell_type": "code",
   "execution_count": 90,
   "id": "29443e14",
   "metadata": {},
   "outputs": [
    {
     "data": {
      "text/plain": [
       "sepal length (cm)    0.685694\n",
       "sepal width (cm)     0.189979\n",
       "petal length (cm)    3.116278\n",
       "petal width (cm)     0.581006\n",
       "dtype: float64"
      ]
     },
     "execution_count": 90,
     "metadata": {},
     "output_type": "execute_result"
    }
   ],
   "source": [
    "iris_df.var()"
   ]
  },
  {
   "cell_type": "code",
   "execution_count": 91,
   "id": "19b33572",
   "metadata": {},
   "outputs": [],
   "source": [
    "from sklearn.preprocessing import StandardScaler"
   ]
  },
  {
   "cell_type": "code",
   "execution_count": 92,
   "id": "22edfe8c",
   "metadata": {},
   "outputs": [],
   "source": [
    "scaler = StandardScaler()"
   ]
  },
  {
   "cell_type": "code",
   "execution_count": 93,
   "id": "1db01b80",
   "metadata": {},
   "outputs": [
    {
     "data": {
      "text/html": [
       "<div>\n",
       "<style scoped>\n",
       "    .dataframe tbody tr th:only-of-type {\n",
       "        vertical-align: middle;\n",
       "    }\n",
       "\n",
       "    .dataframe tbody tr th {\n",
       "        vertical-align: top;\n",
       "    }\n",
       "\n",
       "    .dataframe thead th {\n",
       "        text-align: right;\n",
       "    }\n",
       "</style>\n",
       "<table border=\"1\" class=\"dataframe\">\n",
       "  <thead>\n",
       "    <tr style=\"text-align: right;\">\n",
       "      <th></th>\n",
       "      <th>sepal length (cm)</th>\n",
       "      <th>sepal width (cm)</th>\n",
       "      <th>petal length (cm)</th>\n",
       "      <th>petal width (cm)</th>\n",
       "    </tr>\n",
       "  </thead>\n",
       "  <tbody>\n",
       "    <tr>\n",
       "      <th>0</th>\n",
       "      <td>5.1</td>\n",
       "      <td>3.5</td>\n",
       "      <td>1.4</td>\n",
       "      <td>0.2</td>\n",
       "    </tr>\n",
       "    <tr>\n",
       "      <th>1</th>\n",
       "      <td>4.9</td>\n",
       "      <td>3.0</td>\n",
       "      <td>1.4</td>\n",
       "      <td>0.2</td>\n",
       "    </tr>\n",
       "    <tr>\n",
       "      <th>2</th>\n",
       "      <td>4.7</td>\n",
       "      <td>3.2</td>\n",
       "      <td>1.3</td>\n",
       "      <td>0.2</td>\n",
       "    </tr>\n",
       "    <tr>\n",
       "      <th>3</th>\n",
       "      <td>4.6</td>\n",
       "      <td>3.1</td>\n",
       "      <td>1.5</td>\n",
       "      <td>0.2</td>\n",
       "    </tr>\n",
       "    <tr>\n",
       "      <th>4</th>\n",
       "      <td>5.0</td>\n",
       "      <td>3.6</td>\n",
       "      <td>1.4</td>\n",
       "      <td>0.2</td>\n",
       "    </tr>\n",
       "    <tr>\n",
       "      <th>...</th>\n",
       "      <td>...</td>\n",
       "      <td>...</td>\n",
       "      <td>...</td>\n",
       "      <td>...</td>\n",
       "    </tr>\n",
       "    <tr>\n",
       "      <th>145</th>\n",
       "      <td>6.7</td>\n",
       "      <td>3.0</td>\n",
       "      <td>5.2</td>\n",
       "      <td>2.3</td>\n",
       "    </tr>\n",
       "    <tr>\n",
       "      <th>146</th>\n",
       "      <td>6.3</td>\n",
       "      <td>2.5</td>\n",
       "      <td>5.0</td>\n",
       "      <td>1.9</td>\n",
       "    </tr>\n",
       "    <tr>\n",
       "      <th>147</th>\n",
       "      <td>6.5</td>\n",
       "      <td>3.0</td>\n",
       "      <td>5.2</td>\n",
       "      <td>2.0</td>\n",
       "    </tr>\n",
       "    <tr>\n",
       "      <th>148</th>\n",
       "      <td>6.2</td>\n",
       "      <td>3.4</td>\n",
       "      <td>5.4</td>\n",
       "      <td>2.3</td>\n",
       "    </tr>\n",
       "    <tr>\n",
       "      <th>149</th>\n",
       "      <td>5.9</td>\n",
       "      <td>3.0</td>\n",
       "      <td>5.1</td>\n",
       "      <td>1.8</td>\n",
       "    </tr>\n",
       "  </tbody>\n",
       "</table>\n",
       "<p>150 rows × 4 columns</p>\n",
       "</div>"
      ],
      "text/plain": [
       "     sepal length (cm)  sepal width (cm)  petal length (cm)  petal width (cm)\n",
       "0                  5.1               3.5                1.4               0.2\n",
       "1                  4.9               3.0                1.4               0.2\n",
       "2                  4.7               3.2                1.3               0.2\n",
       "3                  4.6               3.1                1.5               0.2\n",
       "4                  5.0               3.6                1.4               0.2\n",
       "..                 ...               ...                ...               ...\n",
       "145                6.7               3.0                5.2               2.3\n",
       "146                6.3               2.5                5.0               1.9\n",
       "147                6.5               3.0                5.2               2.0\n",
       "148                6.2               3.4                5.4               2.3\n",
       "149                5.9               3.0                5.1               1.8\n",
       "\n",
       "[150 rows x 4 columns]"
      ]
     },
     "execution_count": 93,
     "metadata": {},
     "output_type": "execute_result"
    }
   ],
   "source": [
    "iris_df"
   ]
  },
  {
   "cell_type": "code",
   "execution_count": 94,
   "id": "900aac29",
   "metadata": {},
   "outputs": [
    {
     "data": {
      "text/plain": [
       "StandardScaler()"
      ]
     },
     "execution_count": 94,
     "metadata": {},
     "output_type": "execute_result"
    }
   ],
   "source": [
    "scaler.fit(iris_df)"
   ]
  },
  {
   "cell_type": "code",
   "execution_count": 95,
   "id": "3bb027bf",
   "metadata": {},
   "outputs": [],
   "source": [
    "iris_scaled = scaler.transform(iris_df)"
   ]
  },
  {
   "cell_type": "code",
   "execution_count": 96,
   "id": "cd98f7b9",
   "metadata": {},
   "outputs": [
    {
     "data": {
      "text/plain": [
       "array([[-9.00681170e-01,  1.01900435e+00, -1.34022653e+00,\n",
       "        -1.31544430e+00],\n",
       "       [-1.14301691e+00, -1.31979479e-01, -1.34022653e+00,\n",
       "        -1.31544430e+00],\n",
       "       [-1.38535265e+00,  3.28414053e-01, -1.39706395e+00,\n",
       "        -1.31544430e+00],\n",
       "       [-1.50652052e+00,  9.82172869e-02, -1.28338910e+00,\n",
       "        -1.31544430e+00],\n",
       "       [-1.02184904e+00,  1.24920112e+00, -1.34022653e+00,\n",
       "        -1.31544430e+00],\n",
       "       [-5.37177559e-01,  1.93979142e+00, -1.16971425e+00,\n",
       "        -1.05217993e+00],\n",
       "       [-1.50652052e+00,  7.88807586e-01, -1.34022653e+00,\n",
       "        -1.18381211e+00],\n",
       "       [-1.02184904e+00,  7.88807586e-01, -1.28338910e+00,\n",
       "        -1.31544430e+00],\n",
       "       [-1.74885626e+00, -3.62176246e-01, -1.34022653e+00,\n",
       "        -1.31544430e+00],\n",
       "       [-1.14301691e+00,  9.82172869e-02, -1.28338910e+00,\n",
       "        -1.44707648e+00],\n",
       "       [-5.37177559e-01,  1.47939788e+00, -1.28338910e+00,\n",
       "        -1.31544430e+00],\n",
       "       [-1.26418478e+00,  7.88807586e-01, -1.22655167e+00,\n",
       "        -1.31544430e+00],\n",
       "       [-1.26418478e+00, -1.31979479e-01, -1.34022653e+00,\n",
       "        -1.44707648e+00],\n",
       "       [-1.87002413e+00, -1.31979479e-01, -1.51073881e+00,\n",
       "        -1.44707648e+00],\n",
       "       [-5.25060772e-02,  2.16998818e+00, -1.45390138e+00,\n",
       "        -1.31544430e+00],\n",
       "       [-1.73673948e-01,  3.09077525e+00, -1.28338910e+00,\n",
       "        -1.05217993e+00],\n",
       "       [-5.37177559e-01,  1.93979142e+00, -1.39706395e+00,\n",
       "        -1.05217993e+00],\n",
       "       [-9.00681170e-01,  1.01900435e+00, -1.34022653e+00,\n",
       "        -1.18381211e+00],\n",
       "       [-1.73673948e-01,  1.70959465e+00, -1.16971425e+00,\n",
       "        -1.18381211e+00],\n",
       "       [-9.00681170e-01,  1.70959465e+00, -1.28338910e+00,\n",
       "        -1.18381211e+00],\n",
       "       [-5.37177559e-01,  7.88807586e-01, -1.16971425e+00,\n",
       "        -1.31544430e+00],\n",
       "       [-9.00681170e-01,  1.47939788e+00, -1.28338910e+00,\n",
       "        -1.05217993e+00],\n",
       "       [-1.50652052e+00,  1.24920112e+00, -1.56757623e+00,\n",
       "        -1.31544430e+00],\n",
       "       [-9.00681170e-01,  5.58610819e-01, -1.16971425e+00,\n",
       "        -9.20547742e-01],\n",
       "       [-1.26418478e+00,  7.88807586e-01, -1.05603939e+00,\n",
       "        -1.31544430e+00],\n",
       "       [-1.02184904e+00, -1.31979479e-01, -1.22655167e+00,\n",
       "        -1.31544430e+00],\n",
       "       [-1.02184904e+00,  7.88807586e-01, -1.22655167e+00,\n",
       "        -1.05217993e+00],\n",
       "       [-7.79513300e-01,  1.01900435e+00, -1.28338910e+00,\n",
       "        -1.31544430e+00],\n",
       "       [-7.79513300e-01,  7.88807586e-01, -1.34022653e+00,\n",
       "        -1.31544430e+00],\n",
       "       [-1.38535265e+00,  3.28414053e-01, -1.22655167e+00,\n",
       "        -1.31544430e+00],\n",
       "       [-1.26418478e+00,  9.82172869e-02, -1.22655167e+00,\n",
       "        -1.31544430e+00],\n",
       "       [-5.37177559e-01,  7.88807586e-01, -1.28338910e+00,\n",
       "        -1.05217993e+00],\n",
       "       [-7.79513300e-01,  2.40018495e+00, -1.28338910e+00,\n",
       "        -1.44707648e+00],\n",
       "       [-4.16009689e-01,  2.63038172e+00, -1.34022653e+00,\n",
       "        -1.31544430e+00],\n",
       "       [-1.14301691e+00,  9.82172869e-02, -1.28338910e+00,\n",
       "        -1.31544430e+00],\n",
       "       [-1.02184904e+00,  3.28414053e-01, -1.45390138e+00,\n",
       "        -1.31544430e+00],\n",
       "       [-4.16009689e-01,  1.01900435e+00, -1.39706395e+00,\n",
       "        -1.31544430e+00],\n",
       "       [-1.14301691e+00,  1.24920112e+00, -1.34022653e+00,\n",
       "        -1.44707648e+00],\n",
       "       [-1.74885626e+00, -1.31979479e-01, -1.39706395e+00,\n",
       "        -1.31544430e+00],\n",
       "       [-9.00681170e-01,  7.88807586e-01, -1.28338910e+00,\n",
       "        -1.31544430e+00],\n",
       "       [-1.02184904e+00,  1.01900435e+00, -1.39706395e+00,\n",
       "        -1.18381211e+00],\n",
       "       [-1.62768839e+00, -1.74335684e+00, -1.39706395e+00,\n",
       "        -1.18381211e+00],\n",
       "       [-1.74885626e+00,  3.28414053e-01, -1.39706395e+00,\n",
       "        -1.31544430e+00],\n",
       "       [-1.02184904e+00,  1.01900435e+00, -1.22655167e+00,\n",
       "        -7.88915558e-01],\n",
       "       [-9.00681170e-01,  1.70959465e+00, -1.05603939e+00,\n",
       "        -1.05217993e+00],\n",
       "       [-1.26418478e+00, -1.31979479e-01, -1.34022653e+00,\n",
       "        -1.18381211e+00],\n",
       "       [-9.00681170e-01,  1.70959465e+00, -1.22655167e+00,\n",
       "        -1.31544430e+00],\n",
       "       [-1.50652052e+00,  3.28414053e-01, -1.34022653e+00,\n",
       "        -1.31544430e+00],\n",
       "       [-6.58345429e-01,  1.47939788e+00, -1.28338910e+00,\n",
       "        -1.31544430e+00],\n",
       "       [-1.02184904e+00,  5.58610819e-01, -1.34022653e+00,\n",
       "        -1.31544430e+00],\n",
       "       [ 1.40150837e+00,  3.28414053e-01,  5.35408562e-01,\n",
       "         2.64141916e-01],\n",
       "       [ 6.74501145e-01,  3.28414053e-01,  4.21733708e-01,\n",
       "         3.95774101e-01],\n",
       "       [ 1.28034050e+00,  9.82172869e-02,  6.49083415e-01,\n",
       "         3.95774101e-01],\n",
       "       [-4.16009689e-01, -1.74335684e+00,  1.37546573e-01,\n",
       "         1.32509732e-01],\n",
       "       [ 7.95669016e-01, -5.92373012e-01,  4.78571135e-01,\n",
       "         3.95774101e-01],\n",
       "       [-1.73673948e-01, -5.92373012e-01,  4.21733708e-01,\n",
       "         1.32509732e-01],\n",
       "       [ 5.53333275e-01,  5.58610819e-01,  5.35408562e-01,\n",
       "         5.27406285e-01],\n",
       "       [-1.14301691e+00, -1.51316008e+00, -2.60315415e-01,\n",
       "        -2.62386821e-01],\n",
       "       [ 9.16836886e-01, -3.62176246e-01,  4.78571135e-01,\n",
       "         1.32509732e-01],\n",
       "       [-7.79513300e-01, -8.22569778e-01,  8.07091462e-02,\n",
       "         2.64141916e-01],\n",
       "       [-1.02184904e+00, -2.43394714e+00, -1.46640561e-01,\n",
       "        -2.62386821e-01],\n",
       "       [ 6.86617933e-02, -1.31979479e-01,  2.51221427e-01,\n",
       "         3.95774101e-01],\n",
       "       [ 1.89829664e-01, -1.97355361e+00,  1.37546573e-01,\n",
       "        -2.62386821e-01],\n",
       "       [ 3.10997534e-01, -3.62176246e-01,  5.35408562e-01,\n",
       "         2.64141916e-01],\n",
       "       [-2.94841818e-01, -3.62176246e-01, -8.98031345e-02,\n",
       "         1.32509732e-01],\n",
       "       [ 1.03800476e+00,  9.82172869e-02,  3.64896281e-01,\n",
       "         2.64141916e-01],\n",
       "       [-2.94841818e-01, -1.31979479e-01,  4.21733708e-01,\n",
       "         3.95774101e-01],\n",
       "       [-5.25060772e-02, -8.22569778e-01,  1.94384000e-01,\n",
       "        -2.62386821e-01],\n",
       "       [ 4.32165405e-01, -1.97355361e+00,  4.21733708e-01,\n",
       "         3.95774101e-01],\n",
       "       [-2.94841818e-01, -1.28296331e+00,  8.07091462e-02,\n",
       "        -1.30754636e-01],\n",
       "       [ 6.86617933e-02,  3.28414053e-01,  5.92245988e-01,\n",
       "         7.90670654e-01],\n",
       "       [ 3.10997534e-01, -5.92373012e-01,  1.37546573e-01,\n",
       "         1.32509732e-01],\n",
       "       [ 5.53333275e-01, -1.28296331e+00,  6.49083415e-01,\n",
       "         3.95774101e-01],\n",
       "       [ 3.10997534e-01, -5.92373012e-01,  5.35408562e-01,\n",
       "         8.77547895e-04],\n",
       "       [ 6.74501145e-01, -3.62176246e-01,  3.08058854e-01,\n",
       "         1.32509732e-01],\n",
       "       [ 9.16836886e-01, -1.31979479e-01,  3.64896281e-01,\n",
       "         2.64141916e-01],\n",
       "       [ 1.15917263e+00, -5.92373012e-01,  5.92245988e-01,\n",
       "         2.64141916e-01],\n",
       "       [ 1.03800476e+00, -1.31979479e-01,  7.05920842e-01,\n",
       "         6.59038469e-01],\n",
       "       [ 1.89829664e-01, -3.62176246e-01,  4.21733708e-01,\n",
       "         3.95774101e-01],\n",
       "       [-1.73673948e-01, -1.05276654e+00, -1.46640561e-01,\n",
       "        -2.62386821e-01],\n",
       "       [-4.16009689e-01, -1.51316008e+00,  2.38717193e-02,\n",
       "        -1.30754636e-01],\n",
       "       [-4.16009689e-01, -1.51316008e+00, -3.29657076e-02,\n",
       "        -2.62386821e-01],\n",
       "       [-5.25060772e-02, -8.22569778e-01,  8.07091462e-02,\n",
       "         8.77547895e-04],\n",
       "       [ 1.89829664e-01, -8.22569778e-01,  7.62758269e-01,\n",
       "         5.27406285e-01],\n",
       "       [-5.37177559e-01, -1.31979479e-01,  4.21733708e-01,\n",
       "         3.95774101e-01],\n",
       "       [ 1.89829664e-01,  7.88807586e-01,  4.21733708e-01,\n",
       "         5.27406285e-01],\n",
       "       [ 1.03800476e+00,  9.82172869e-02,  5.35408562e-01,\n",
       "         3.95774101e-01],\n",
       "       [ 5.53333275e-01, -1.74335684e+00,  3.64896281e-01,\n",
       "         1.32509732e-01],\n",
       "       [-2.94841818e-01, -1.31979479e-01,  1.94384000e-01,\n",
       "         1.32509732e-01],\n",
       "       [-4.16009689e-01, -1.28296331e+00,  1.37546573e-01,\n",
       "         1.32509732e-01],\n",
       "       [-4.16009689e-01, -1.05276654e+00,  3.64896281e-01,\n",
       "         8.77547895e-04],\n",
       "       [ 3.10997534e-01, -1.31979479e-01,  4.78571135e-01,\n",
       "         2.64141916e-01],\n",
       "       [-5.25060772e-02, -1.05276654e+00,  1.37546573e-01,\n",
       "         8.77547895e-04],\n",
       "       [-1.02184904e+00, -1.74335684e+00, -2.60315415e-01,\n",
       "        -2.62386821e-01],\n",
       "       [-2.94841818e-01, -8.22569778e-01,  2.51221427e-01,\n",
       "         1.32509732e-01],\n",
       "       [-1.73673948e-01, -1.31979479e-01,  2.51221427e-01,\n",
       "         8.77547895e-04],\n",
       "       [-1.73673948e-01, -3.62176246e-01,  2.51221427e-01,\n",
       "         1.32509732e-01],\n",
       "       [ 4.32165405e-01, -3.62176246e-01,  3.08058854e-01,\n",
       "         1.32509732e-01],\n",
       "       [-9.00681170e-01, -1.28296331e+00, -4.30827696e-01,\n",
       "        -1.30754636e-01],\n",
       "       [-1.73673948e-01, -5.92373012e-01,  1.94384000e-01,\n",
       "         1.32509732e-01],\n",
       "       [ 5.53333275e-01,  5.58610819e-01,  1.27429511e+00,\n",
       "         1.71209594e+00],\n",
       "       [-5.25060772e-02, -8.22569778e-01,  7.62758269e-01,\n",
       "         9.22302838e-01],\n",
       "       [ 1.52267624e+00, -1.31979479e-01,  1.21745768e+00,\n",
       "         1.18556721e+00],\n",
       "       [ 5.53333275e-01, -3.62176246e-01,  1.04694540e+00,\n",
       "         7.90670654e-01],\n",
       "       [ 7.95669016e-01, -1.31979479e-01,  1.16062026e+00,\n",
       "         1.31719939e+00],\n",
       "       [ 2.12851559e+00, -1.31979479e-01,  1.61531967e+00,\n",
       "         1.18556721e+00],\n",
       "       [-1.14301691e+00, -1.28296331e+00,  4.21733708e-01,\n",
       "         6.59038469e-01],\n",
       "       [ 1.76501198e+00, -3.62176246e-01,  1.44480739e+00,\n",
       "         7.90670654e-01],\n",
       "       [ 1.03800476e+00, -1.28296331e+00,  1.16062026e+00,\n",
       "         7.90670654e-01],\n",
       "       [ 1.64384411e+00,  1.24920112e+00,  1.33113254e+00,\n",
       "         1.71209594e+00],\n",
       "       [ 7.95669016e-01,  3.28414053e-01,  7.62758269e-01,\n",
       "         1.05393502e+00],\n",
       "       [ 6.74501145e-01, -8.22569778e-01,  8.76433123e-01,\n",
       "         9.22302838e-01],\n",
       "       [ 1.15917263e+00, -1.31979479e-01,  9.90107977e-01,\n",
       "         1.18556721e+00],\n",
       "       [-1.73673948e-01, -1.28296331e+00,  7.05920842e-01,\n",
       "         1.05393502e+00],\n",
       "       [-5.25060772e-02, -5.92373012e-01,  7.62758269e-01,\n",
       "         1.58046376e+00],\n",
       "       [ 6.74501145e-01,  3.28414053e-01,  8.76433123e-01,\n",
       "         1.44883158e+00],\n",
       "       [ 7.95669016e-01, -1.31979479e-01,  9.90107977e-01,\n",
       "         7.90670654e-01],\n",
       "       [ 2.24968346e+00,  1.70959465e+00,  1.67215710e+00,\n",
       "         1.31719939e+00],\n",
       "       [ 2.24968346e+00, -1.05276654e+00,  1.78583195e+00,\n",
       "         1.44883158e+00],\n",
       "       [ 1.89829664e-01, -1.97355361e+00,  7.05920842e-01,\n",
       "         3.95774101e-01],\n",
       "       [ 1.28034050e+00,  3.28414053e-01,  1.10378283e+00,\n",
       "         1.44883158e+00],\n",
       "       [-2.94841818e-01, -5.92373012e-01,  6.49083415e-01,\n",
       "         1.05393502e+00],\n",
       "       [ 2.24968346e+00, -5.92373012e-01,  1.67215710e+00,\n",
       "         1.05393502e+00],\n",
       "       [ 5.53333275e-01, -8.22569778e-01,  6.49083415e-01,\n",
       "         7.90670654e-01],\n",
       "       [ 1.03800476e+00,  5.58610819e-01,  1.10378283e+00,\n",
       "         1.18556721e+00],\n",
       "       [ 1.64384411e+00,  3.28414053e-01,  1.27429511e+00,\n",
       "         7.90670654e-01],\n",
       "       [ 4.32165405e-01, -5.92373012e-01,  5.92245988e-01,\n",
       "         7.90670654e-01],\n",
       "       [ 3.10997534e-01, -1.31979479e-01,  6.49083415e-01,\n",
       "         7.90670654e-01],\n",
       "       [ 6.74501145e-01, -5.92373012e-01,  1.04694540e+00,\n",
       "         1.18556721e+00],\n",
       "       [ 1.64384411e+00, -1.31979479e-01,  1.16062026e+00,\n",
       "         5.27406285e-01],\n",
       "       [ 1.88617985e+00, -5.92373012e-01,  1.33113254e+00,\n",
       "         9.22302838e-01],\n",
       "       [ 2.49201920e+00,  1.70959465e+00,  1.50164482e+00,\n",
       "         1.05393502e+00],\n",
       "       [ 6.74501145e-01, -5.92373012e-01,  1.04694540e+00,\n",
       "         1.31719939e+00],\n",
       "       [ 5.53333275e-01, -5.92373012e-01,  7.62758269e-01,\n",
       "         3.95774101e-01],\n",
       "       [ 3.10997534e-01, -1.05276654e+00,  1.04694540e+00,\n",
       "         2.64141916e-01],\n",
       "       [ 2.24968346e+00, -1.31979479e-01,  1.33113254e+00,\n",
       "         1.44883158e+00],\n",
       "       [ 5.53333275e-01,  7.88807586e-01,  1.04694540e+00,\n",
       "         1.58046376e+00],\n",
       "       [ 6.74501145e-01,  9.82172869e-02,  9.90107977e-01,\n",
       "         7.90670654e-01],\n",
       "       [ 1.89829664e-01, -1.31979479e-01,  5.92245988e-01,\n",
       "         7.90670654e-01],\n",
       "       [ 1.28034050e+00,  9.82172869e-02,  9.33270550e-01,\n",
       "         1.18556721e+00],\n",
       "       [ 1.03800476e+00,  9.82172869e-02,  1.04694540e+00,\n",
       "         1.58046376e+00],\n",
       "       [ 1.28034050e+00,  9.82172869e-02,  7.62758269e-01,\n",
       "         1.44883158e+00],\n",
       "       [-5.25060772e-02, -8.22569778e-01,  7.62758269e-01,\n",
       "         9.22302838e-01],\n",
       "       [ 1.15917263e+00,  3.28414053e-01,  1.21745768e+00,\n",
       "         1.44883158e+00],\n",
       "       [ 1.03800476e+00,  5.58610819e-01,  1.10378283e+00,\n",
       "         1.71209594e+00],\n",
       "       [ 1.03800476e+00, -1.31979479e-01,  8.19595696e-01,\n",
       "         1.44883158e+00],\n",
       "       [ 5.53333275e-01, -1.28296331e+00,  7.05920842e-01,\n",
       "         9.22302838e-01],\n",
       "       [ 7.95669016e-01, -1.31979479e-01,  8.19595696e-01,\n",
       "         1.05393502e+00],\n",
       "       [ 4.32165405e-01,  7.88807586e-01,  9.33270550e-01,\n",
       "         1.44883158e+00],\n",
       "       [ 6.86617933e-02, -1.31979479e-01,  7.62758269e-01,\n",
       "         7.90670654e-01]])"
      ]
     },
     "execution_count": 96,
     "metadata": {},
     "output_type": "execute_result"
    }
   ],
   "source": [
    "iris_scaled"
   ]
  },
  {
   "cell_type": "code",
   "execution_count": 97,
   "id": "7297ce41",
   "metadata": {},
   "outputs": [],
   "source": [
    "iris_df_scaled = pd.DataFrame(data = iris_scaled, columns = iris.feature_names)"
   ]
  },
  {
   "cell_type": "code",
   "execution_count": 100,
   "id": "f1a23f90",
   "metadata": {},
   "outputs": [
    {
     "name": "stdout",
     "output_type": "stream",
     "text": [
      "sepal length (cm)   -1.690315e-15\n",
      "sepal width (cm)    -1.842970e-15\n",
      "petal length (cm)   -1.698641e-15\n",
      "petal width (cm)    -1.409243e-15\n",
      "dtype: float64\n"
     ]
    }
   ],
   "source": [
    "print(iris_df_scaled.mean())"
   ]
  },
  {
   "cell_type": "code",
   "execution_count": 101,
   "id": "bbdc08ed",
   "metadata": {},
   "outputs": [
    {
     "data": {
      "text/plain": [
       "sepal length (cm)    1.006711\n",
       "sepal width (cm)     1.006711\n",
       "petal length (cm)    1.006711\n",
       "petal width (cm)     1.006711\n",
       "dtype: float64"
      ]
     },
     "execution_count": 101,
     "metadata": {},
     "output_type": "execute_result"
    }
   ],
   "source": [
    "iris_df_scaled.var()"
   ]
  },
  {
   "cell_type": "code",
   "execution_count": 102,
   "id": "64b00824",
   "metadata": {},
   "outputs": [],
   "source": [
    "from sklearn.preprocessing import MinMaxScaler"
   ]
  },
  {
   "cell_type": "code",
   "execution_count": 104,
   "id": "16942152",
   "metadata": {},
   "outputs": [],
   "source": [
    "scaler = MinMaxScaler()"
   ]
  },
  {
   "cell_type": "code",
   "execution_count": 105,
   "id": "c5f97371",
   "metadata": {},
   "outputs": [
    {
     "data": {
      "text/plain": [
       "MinMaxScaler()"
      ]
     },
     "execution_count": 105,
     "metadata": {},
     "output_type": "execute_result"
    }
   ],
   "source": [
    "scaler.fit(iris_df)"
   ]
  },
  {
   "cell_type": "code",
   "execution_count": 106,
   "id": "7c6b6f6f",
   "metadata": {},
   "outputs": [],
   "source": [
    "iris_scaled = scaler.transform(iris_df)"
   ]
  },
  {
   "cell_type": "code",
   "execution_count": 108,
   "id": "390817bc",
   "metadata": {},
   "outputs": [],
   "source": [
    "iris_df_scaled = pd.DataFrame(data = iris_scaled, columns = iris.feature_names)"
   ]
  },
  {
   "cell_type": "code",
   "execution_count": 111,
   "id": "4d029255",
   "metadata": {},
   "outputs": [
    {
     "data": {
      "text/plain": [
       "sepal length (cm)    1.0\n",
       "sepal width (cm)     1.0\n",
       "petal length (cm)    1.0\n",
       "petal width (cm)     1.0\n",
       "dtype: float64"
      ]
     },
     "execution_count": 111,
     "metadata": {},
     "output_type": "execute_result"
    }
   ],
   "source": [
    "iris_df_scaled.max()"
   ]
  },
  {
   "cell_type": "code",
   "execution_count": 113,
   "id": "f2ebda47",
   "metadata": {},
   "outputs": [],
   "source": [
    "train_array = np.arange(11).reshape(-1, 1)\n",
    "test_array = np.arange(6).reshape(-1, 1)"
   ]
  },
  {
   "cell_type": "code",
   "execution_count": 114,
   "id": "b3ce366e",
   "metadata": {},
   "outputs": [],
   "source": [
    "scaler = MinMaxScaler()"
   ]
  },
  {
   "cell_type": "code",
   "execution_count": 115,
   "id": "95de9652",
   "metadata": {},
   "outputs": [
    {
     "data": {
      "text/plain": [
       "MinMaxScaler()"
      ]
     },
     "execution_count": 115,
     "metadata": {},
     "output_type": "execute_result"
    }
   ],
   "source": [
    "scaler.fit(train_array)"
   ]
  },
  {
   "cell_type": "code",
   "execution_count": 116,
   "id": "70f13055",
   "metadata": {},
   "outputs": [],
   "source": [
    "train_scaled = scaler.transform(train_array)"
   ]
  },
  {
   "cell_type": "code",
   "execution_count": 117,
   "id": "c8ec57bb",
   "metadata": {},
   "outputs": [
    {
     "name": "stdout",
     "output_type": "stream",
     "text": [
      "[ 0  1  2  3  4  5  6  7  8  9 10]\n",
      "[0.  0.1 0.2 0.3 0.4 0.5 0.6 0.7 0.8 0.9 1. ]\n"
     ]
    }
   ],
   "source": [
    "print(np.round(train_array.reshape(-1), 2))\n",
    "print(np.round(train_scaled.reshape(-1),2))"
   ]
  },
  {
   "cell_type": "code",
   "execution_count": 118,
   "id": "64fea578",
   "metadata": {},
   "outputs": [
    {
     "data": {
      "text/plain": [
       "MinMaxScaler()"
      ]
     },
     "execution_count": 118,
     "metadata": {},
     "output_type": "execute_result"
    }
   ],
   "source": [
    "scaler.fit(test_array)"
   ]
  },
  {
   "cell_type": "code",
   "execution_count": 120,
   "id": "2242a13c",
   "metadata": {},
   "outputs": [],
   "source": [
    "test_scaled = scaler.transform(test_array)"
   ]
  },
  {
   "cell_type": "code",
   "execution_count": 121,
   "id": "ad200f8d",
   "metadata": {},
   "outputs": [],
   "source": [
    "import matplotlib.pyplot as plt\n",
    "import seaborn as sns"
   ]
  },
  {
   "cell_type": "code",
   "execution_count": 122,
   "id": "c75d17c7",
   "metadata": {},
   "outputs": [],
   "source": [
    "titanic_df = pd.read_csv('C:/Users/KO/all code/mlp/titanic/train.csv')"
   ]
  },
  {
   "cell_type": "code",
   "execution_count": 123,
   "id": "8825b63f",
   "metadata": {},
   "outputs": [
    {
     "data": {
      "text/html": [
       "<div>\n",
       "<style scoped>\n",
       "    .dataframe tbody tr th:only-of-type {\n",
       "        vertical-align: middle;\n",
       "    }\n",
       "\n",
       "    .dataframe tbody tr th {\n",
       "        vertical-align: top;\n",
       "    }\n",
       "\n",
       "    .dataframe thead th {\n",
       "        text-align: right;\n",
       "    }\n",
       "</style>\n",
       "<table border=\"1\" class=\"dataframe\">\n",
       "  <thead>\n",
       "    <tr style=\"text-align: right;\">\n",
       "      <th></th>\n",
       "      <th>PassengerId</th>\n",
       "      <th>Survived</th>\n",
       "      <th>Pclass</th>\n",
       "      <th>Name</th>\n",
       "      <th>Sex</th>\n",
       "      <th>Age</th>\n",
       "      <th>SibSp</th>\n",
       "      <th>Parch</th>\n",
       "      <th>Ticket</th>\n",
       "      <th>Fare</th>\n",
       "      <th>Cabin</th>\n",
       "      <th>Embarked</th>\n",
       "    </tr>\n",
       "  </thead>\n",
       "  <tbody>\n",
       "    <tr>\n",
       "      <th>0</th>\n",
       "      <td>1</td>\n",
       "      <td>0</td>\n",
       "      <td>3</td>\n",
       "      <td>Braund, Mr. Owen Harris</td>\n",
       "      <td>male</td>\n",
       "      <td>22.0</td>\n",
       "      <td>1</td>\n",
       "      <td>0</td>\n",
       "      <td>A/5 21171</td>\n",
       "      <td>7.2500</td>\n",
       "      <td>NaN</td>\n",
       "      <td>S</td>\n",
       "    </tr>\n",
       "    <tr>\n",
       "      <th>1</th>\n",
       "      <td>2</td>\n",
       "      <td>1</td>\n",
       "      <td>1</td>\n",
       "      <td>Cumings, Mrs. John Bradley (Florence Briggs Th...</td>\n",
       "      <td>female</td>\n",
       "      <td>38.0</td>\n",
       "      <td>1</td>\n",
       "      <td>0</td>\n",
       "      <td>PC 17599</td>\n",
       "      <td>71.2833</td>\n",
       "      <td>C85</td>\n",
       "      <td>C</td>\n",
       "    </tr>\n",
       "    <tr>\n",
       "      <th>2</th>\n",
       "      <td>3</td>\n",
       "      <td>1</td>\n",
       "      <td>3</td>\n",
       "      <td>Heikkinen, Miss. Laina</td>\n",
       "      <td>female</td>\n",
       "      <td>26.0</td>\n",
       "      <td>0</td>\n",
       "      <td>0</td>\n",
       "      <td>STON/O2. 3101282</td>\n",
       "      <td>7.9250</td>\n",
       "      <td>NaN</td>\n",
       "      <td>S</td>\n",
       "    </tr>\n",
       "  </tbody>\n",
       "</table>\n",
       "</div>"
      ],
      "text/plain": [
       "   PassengerId  Survived  Pclass  \\\n",
       "0            1         0       3   \n",
       "1            2         1       1   \n",
       "2            3         1       3   \n",
       "\n",
       "                                                Name     Sex   Age  SibSp  \\\n",
       "0                            Braund, Mr. Owen Harris    male  22.0      1   \n",
       "1  Cumings, Mrs. John Bradley (Florence Briggs Th...  female  38.0      1   \n",
       "2                             Heikkinen, Miss. Laina  female  26.0      0   \n",
       "\n",
       "   Parch            Ticket     Fare Cabin Embarked  \n",
       "0      0         A/5 21171   7.2500   NaN        S  \n",
       "1      0          PC 17599  71.2833   C85        C  \n",
       "2      0  STON/O2. 3101282   7.9250   NaN        S  "
      ]
     },
     "execution_count": 123,
     "metadata": {},
     "output_type": "execute_result"
    }
   ],
   "source": [
    "titanic_df.head(3)"
   ]
  },
  {
   "cell_type": "code",
   "execution_count": 124,
   "id": "8710c718",
   "metadata": {},
   "outputs": [
    {
     "name": "stdout",
     "output_type": "stream",
     "text": [
      "<class 'pandas.core.frame.DataFrame'>\n",
      "RangeIndex: 891 entries, 0 to 890\n",
      "Data columns (total 12 columns):\n",
      " #   Column       Non-Null Count  Dtype  \n",
      "---  ------       --------------  -----  \n",
      " 0   PassengerId  891 non-null    int64  \n",
      " 1   Survived     891 non-null    int64  \n",
      " 2   Pclass       891 non-null    int64  \n",
      " 3   Name         891 non-null    object \n",
      " 4   Sex          891 non-null    object \n",
      " 5   Age          714 non-null    float64\n",
      " 6   SibSp        891 non-null    int64  \n",
      " 7   Parch        891 non-null    int64  \n",
      " 8   Ticket       891 non-null    object \n",
      " 9   Fare         891 non-null    float64\n",
      " 10  Cabin        204 non-null    object \n",
      " 11  Embarked     889 non-null    object \n",
      "dtypes: float64(2), int64(5), object(5)\n",
      "memory usage: 83.7+ KB\n"
     ]
    }
   ],
   "source": [
    "titanic_df.info()"
   ]
  },
  {
   "cell_type": "code",
   "execution_count": 126,
   "id": "9db5e391",
   "metadata": {},
   "outputs": [],
   "source": [
    "titanic_df['Age'].fillna(titanic_df['Age'].mean(), inplace = True)"
   ]
  },
  {
   "cell_type": "code",
   "execution_count": 127,
   "id": "249854c9",
   "metadata": {},
   "outputs": [],
   "source": [
    "titanic_df['Cabin'].fillna('N', inplace = True)"
   ]
  },
  {
   "cell_type": "code",
   "execution_count": 128,
   "id": "32bc6238",
   "metadata": {},
   "outputs": [],
   "source": [
    "titanic_df['Embarked'].fillna('N', inplace = True)"
   ]
  },
  {
   "cell_type": "code",
   "execution_count": 130,
   "id": "9364c40f",
   "metadata": {},
   "outputs": [
    {
     "data": {
      "text/plain": [
       "0"
      ]
     },
     "execution_count": 130,
     "metadata": {},
     "output_type": "execute_result"
    }
   ],
   "source": [
    "titanic_df.isnull().sum().sum()"
   ]
  },
  {
   "cell_type": "code",
   "execution_count": 131,
   "id": "2801cb01",
   "metadata": {},
   "outputs": [],
   "source": [
    "titanic_df['Cabin'] = titanic_df['Cabin'].str[1]"
   ]
  },
  {
   "cell_type": "code",
   "execution_count": 132,
   "id": "5d75623f",
   "metadata": {},
   "outputs": [
    {
     "data": {
      "text/plain": [
       "Sex     Survived\n",
       "female  0            81\n",
       "        1           233\n",
       "male    0           468\n",
       "        1           109\n",
       "Name: Survived, dtype: int64"
      ]
     },
     "execution_count": 132,
     "metadata": {},
     "output_type": "execute_result"
    }
   ],
   "source": [
    "titanic_df.groupby(['Sex', 'Survived'])['Survived'].count()"
   ]
  },
  {
   "cell_type": "code",
   "execution_count": 134,
   "id": "56ba785b",
   "metadata": {},
   "outputs": [
    {
     "data": {
      "text/plain": [
       "<pandas.core.groupby.generic.DataFrameGroupBy object at 0x0000012DE76595E0>"
      ]
     },
     "execution_count": 134,
     "metadata": {},
     "output_type": "execute_result"
    }
   ],
   "source": [
    "titanic_df.groupby(['Sex', 'Survived'])"
   ]
  },
  {
   "cell_type": "code",
   "execution_count": 135,
   "id": "cee703c0",
   "metadata": {},
   "outputs": [
    {
     "data": {
      "text/plain": [
       "<AxesSubplot:xlabel='Sex', ylabel='Survived'>"
      ]
     },
     "execution_count": 135,
     "metadata": {},
     "output_type": "execute_result"
    },
    {
     "data": {
      "image/png": "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\n",
      "text/plain": [
       "<Figure size 432x288 with 1 Axes>"
      ]
     },
     "metadata": {
      "needs_background": "light"
     },
     "output_type": "display_data"
    }
   ],
   "source": [
    "sns.barplot(x = 'Sex', y = 'Survived', data = titanic_df)"
   ]
  },
  {
   "cell_type": "code",
   "execution_count": 137,
   "id": "4402be5d",
   "metadata": {},
   "outputs": [
    {
     "data": {
      "text/plain": [
       "<AxesSubplot:xlabel='Pclass', ylabel='Survived'>"
      ]
     },
     "execution_count": 137,
     "metadata": {},
     "output_type": "execute_result"
    },
    {
     "data": {
      "image/png": "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\n",
      "text/plain": [
       "<Figure size 432x288 with 1 Axes>"
      ]
     },
     "metadata": {
      "needs_background": "light"
     },
     "output_type": "display_data"
    }
   ],
   "source": [
    "sns.barplot(x = 'Pclass', y = 'Survived', hue = 'Sex', data = titanic_df)"
   ]
  },
  {
   "cell_type": "code",
   "execution_count": 14,
   "id": "dfcbeda9",
   "metadata": {},
   "outputs": [],
   "source": [
    "def get_category(age):\n",
    "    cat = ''\n",
    "    if age <= 1: cat = 'unknown',\n",
    "    elif age <= 5 : cat = 'baby',\n",
    "    elif age <= 12 : cat = 'child',\n",
    "    elif age <= 18 : cat = 'teenager',\n",
    "    elif age <= 25 : cat = 'student',\n",
    "    elif age <= 35 : cat = 'young adult',\n",
    "    elif age <= 60 : cat = 'adult',\n",
    "    else : cat = 'elderly'\n",
    "        \n",
    "    return cat"
   ]
  },
  {
   "cell_type": "code",
   "execution_count": 140,
   "id": "daf363e4",
   "metadata": {},
   "outputs": [
    {
     "data": {
      "text/plain": [
       "<Figure size 720x432 with 0 Axes>"
      ]
     },
     "execution_count": 140,
     "metadata": {},
     "output_type": "execute_result"
    },
    {
     "data": {
      "text/plain": [
       "<Figure size 720x432 with 0 Axes>"
      ]
     },
     "metadata": {},
     "output_type": "display_data"
    }
   ],
   "source": [
    "plt.figure(figsize = (10, 6))"
   ]
  },
  {
   "cell_type": "code",
   "execution_count": 150,
   "id": "1c2164f9",
   "metadata": {},
   "outputs": [],
   "source": [
    "group_names = ['unknown', 'baby' 'child', 'teenager', 'student', 'young adult', 'adult', 'elderly']"
   ]
  },
  {
   "cell_type": "code",
   "execution_count": 162,
   "id": "1fd0f169",
   "metadata": {},
   "outputs": [],
   "source": [
    "titanic_df['Age_cat'] = titanic_df['Age'].apply(lambda x : get_category(x))"
   ]
  },
  {
   "cell_type": "code",
   "execution_count": 161,
   "id": "b90ebb50",
   "metadata": {},
   "outputs": [
    {
     "ename": "ValueError",
     "evalue": "must supply a tuple to get_group with multiple grouping keys",
     "output_type": "error",
     "traceback": [
      "\u001b[1;31m---------------------------------------------------------------------------\u001b[0m",
      "\u001b[1;31mValueError\u001b[0m                                Traceback (most recent call last)",
      "\u001b[1;32m~\\AppData\\Local\\Temp/ipykernel_40004/416686660.py\u001b[0m in \u001b[0;36m<module>\u001b[1;34m\u001b[0m\n\u001b[1;32m----> 1\u001b[1;33m \u001b[0msns\u001b[0m\u001b[1;33m.\u001b[0m\u001b[0mbarplot\u001b[0m\u001b[1;33m(\u001b[0m\u001b[0mx\u001b[0m \u001b[1;33m=\u001b[0m \u001b[1;34m'Age_cat'\u001b[0m\u001b[1;33m,\u001b[0m \u001b[0my\u001b[0m \u001b[1;33m=\u001b[0m \u001b[1;34m'Survived'\u001b[0m\u001b[1;33m,\u001b[0m \u001b[0mhue\u001b[0m \u001b[1;33m=\u001b[0m \u001b[1;34m'Sex'\u001b[0m\u001b[1;33m,\u001b[0m \u001b[0mdata\u001b[0m \u001b[1;33m=\u001b[0m \u001b[0mtitanic_df\u001b[0m\u001b[1;33m,\u001b[0m \u001b[0morder\u001b[0m \u001b[1;33m=\u001b[0m \u001b[0mgroup_names\u001b[0m\u001b[1;33m)\u001b[0m\u001b[1;33m\u001b[0m\u001b[1;33m\u001b[0m\u001b[0m\n\u001b[0m",
      "\u001b[1;32mC:\\ProgramData\\Anaconda3\\lib\\site-packages\\seaborn\\_decorators.py\u001b[0m in \u001b[0;36minner_f\u001b[1;34m(*args, **kwargs)\u001b[0m\n\u001b[0;32m     44\u001b[0m             )\n\u001b[0;32m     45\u001b[0m         \u001b[0mkwargs\u001b[0m\u001b[1;33m.\u001b[0m\u001b[0mupdate\u001b[0m\u001b[1;33m(\u001b[0m\u001b[1;33m{\u001b[0m\u001b[0mk\u001b[0m\u001b[1;33m:\u001b[0m \u001b[0marg\u001b[0m \u001b[1;32mfor\u001b[0m \u001b[0mk\u001b[0m\u001b[1;33m,\u001b[0m \u001b[0marg\u001b[0m \u001b[1;32min\u001b[0m \u001b[0mzip\u001b[0m\u001b[1;33m(\u001b[0m\u001b[0msig\u001b[0m\u001b[1;33m.\u001b[0m\u001b[0mparameters\u001b[0m\u001b[1;33m,\u001b[0m \u001b[0margs\u001b[0m\u001b[1;33m)\u001b[0m\u001b[1;33m}\u001b[0m\u001b[1;33m)\u001b[0m\u001b[1;33m\u001b[0m\u001b[1;33m\u001b[0m\u001b[0m\n\u001b[1;32m---> 46\u001b[1;33m         \u001b[1;32mreturn\u001b[0m \u001b[0mf\u001b[0m\u001b[1;33m(\u001b[0m\u001b[1;33m**\u001b[0m\u001b[0mkwargs\u001b[0m\u001b[1;33m)\u001b[0m\u001b[1;33m\u001b[0m\u001b[1;33m\u001b[0m\u001b[0m\n\u001b[0m\u001b[0;32m     47\u001b[0m     \u001b[1;32mreturn\u001b[0m \u001b[0minner_f\u001b[0m\u001b[1;33m\u001b[0m\u001b[1;33m\u001b[0m\u001b[0m\n\u001b[0;32m     48\u001b[0m \u001b[1;33m\u001b[0m\u001b[0m\n",
      "\u001b[1;32mC:\\ProgramData\\Anaconda3\\lib\\site-packages\\seaborn\\categorical.py\u001b[0m in \u001b[0;36mbarplot\u001b[1;34m(x, y, hue, data, order, hue_order, estimator, ci, n_boot, units, seed, orient, color, palette, saturation, errcolor, errwidth, capsize, dodge, ax, **kwargs)\u001b[0m\n\u001b[0;32m   3180\u001b[0m ):\n\u001b[0;32m   3181\u001b[0m \u001b[1;33m\u001b[0m\u001b[0m\n\u001b[1;32m-> 3182\u001b[1;33m     plotter = _BarPlotter(x, y, hue, data, order, hue_order,\n\u001b[0m\u001b[0;32m   3183\u001b[0m                           \u001b[0mestimator\u001b[0m\u001b[1;33m,\u001b[0m \u001b[0mci\u001b[0m\u001b[1;33m,\u001b[0m \u001b[0mn_boot\u001b[0m\u001b[1;33m,\u001b[0m \u001b[0munits\u001b[0m\u001b[1;33m,\u001b[0m \u001b[0mseed\u001b[0m\u001b[1;33m,\u001b[0m\u001b[1;33m\u001b[0m\u001b[1;33m\u001b[0m\u001b[0m\n\u001b[0;32m   3184\u001b[0m                           \u001b[0morient\u001b[0m\u001b[1;33m,\u001b[0m \u001b[0mcolor\u001b[0m\u001b[1;33m,\u001b[0m \u001b[0mpalette\u001b[0m\u001b[1;33m,\u001b[0m \u001b[0msaturation\u001b[0m\u001b[1;33m,\u001b[0m\u001b[1;33m\u001b[0m\u001b[1;33m\u001b[0m\u001b[0m\n",
      "\u001b[1;32mC:\\ProgramData\\Anaconda3\\lib\\site-packages\\seaborn\\categorical.py\u001b[0m in \u001b[0;36m__init__\u001b[1;34m(self, x, y, hue, data, order, hue_order, estimator, ci, n_boot, units, seed, orient, color, palette, saturation, errcolor, errwidth, capsize, dodge)\u001b[0m\n\u001b[0;32m   1582\u001b[0m                  errwidth, capsize, dodge):\n\u001b[0;32m   1583\u001b[0m         \u001b[1;34m\"\"\"Initialize the plotter.\"\"\"\u001b[0m\u001b[1;33m\u001b[0m\u001b[1;33m\u001b[0m\u001b[0m\n\u001b[1;32m-> 1584\u001b[1;33m         self.establish_variables(x, y, hue, data, orient,\n\u001b[0m\u001b[0;32m   1585\u001b[0m                                  order, hue_order, units)\n\u001b[0;32m   1586\u001b[0m         \u001b[0mself\u001b[0m\u001b[1;33m.\u001b[0m\u001b[0mestablish_colors\u001b[0m\u001b[1;33m(\u001b[0m\u001b[0mcolor\u001b[0m\u001b[1;33m,\u001b[0m \u001b[0mpalette\u001b[0m\u001b[1;33m,\u001b[0m \u001b[0msaturation\u001b[0m\u001b[1;33m)\u001b[0m\u001b[1;33m\u001b[0m\u001b[1;33m\u001b[0m\u001b[0m\n",
      "\u001b[1;32mC:\\ProgramData\\Anaconda3\\lib\\site-packages\\seaborn\\categorical.py\u001b[0m in \u001b[0;36mestablish_variables\u001b[1;34m(self, x, y, hue, data, orient, order, hue_order, units)\u001b[0m\n\u001b[0;32m    204\u001b[0m \u001b[1;33m\u001b[0m\u001b[0m\n\u001b[0;32m    205\u001b[0m                 \u001b[1;31m# Group the numeric data\u001b[0m\u001b[1;33m\u001b[0m\u001b[1;33m\u001b[0m\u001b[0m\n\u001b[1;32m--> 206\u001b[1;33m                 plot_data, value_label = self._group_longform(vals, groups,\n\u001b[0m\u001b[0;32m    207\u001b[0m                                                               group_names)\n\u001b[0;32m    208\u001b[0m \u001b[1;33m\u001b[0m\u001b[0m\n",
      "\u001b[1;32mC:\\ProgramData\\Anaconda3\\lib\\site-packages\\seaborn\\categorical.py\u001b[0m in \u001b[0;36m_group_longform\u001b[1;34m(self, vals, grouper, order)\u001b[0m\n\u001b[0;32m    255\u001b[0m         \u001b[1;32mfor\u001b[0m \u001b[0mg\u001b[0m \u001b[1;32min\u001b[0m \u001b[0morder\u001b[0m\u001b[1;33m:\u001b[0m\u001b[1;33m\u001b[0m\u001b[1;33m\u001b[0m\u001b[0m\n\u001b[0;32m    256\u001b[0m             \u001b[1;32mtry\u001b[0m\u001b[1;33m:\u001b[0m\u001b[1;33m\u001b[0m\u001b[1;33m\u001b[0m\u001b[0m\n\u001b[1;32m--> 257\u001b[1;33m                 \u001b[0mg_vals\u001b[0m \u001b[1;33m=\u001b[0m \u001b[0mgrouped_vals\u001b[0m\u001b[1;33m.\u001b[0m\u001b[0mget_group\u001b[0m\u001b[1;33m(\u001b[0m\u001b[0mg\u001b[0m\u001b[1;33m)\u001b[0m\u001b[1;33m\u001b[0m\u001b[1;33m\u001b[0m\u001b[0m\n\u001b[0m\u001b[0;32m    258\u001b[0m             \u001b[1;32mexcept\u001b[0m \u001b[0mKeyError\u001b[0m\u001b[1;33m:\u001b[0m\u001b[1;33m\u001b[0m\u001b[1;33m\u001b[0m\u001b[0m\n\u001b[0;32m    259\u001b[0m                 \u001b[0mg_vals\u001b[0m \u001b[1;33m=\u001b[0m \u001b[0mnp\u001b[0m\u001b[1;33m.\u001b[0m\u001b[0marray\u001b[0m\u001b[1;33m(\u001b[0m\u001b[1;33m[\u001b[0m\u001b[1;33m]\u001b[0m\u001b[1;33m)\u001b[0m\u001b[1;33m\u001b[0m\u001b[1;33m\u001b[0m\u001b[0m\n",
      "\u001b[1;32mC:\\ProgramData\\Anaconda3\\lib\\site-packages\\pandas\\core\\groupby\\groupby.py\u001b[0m in \u001b[0;36mget_group\u001b[1;34m(self, name, obj)\u001b[0m\n\u001b[0;32m    750\u001b[0m             \u001b[0mobj\u001b[0m \u001b[1;33m=\u001b[0m \u001b[0mself\u001b[0m\u001b[1;33m.\u001b[0m\u001b[0m_selected_obj\u001b[0m\u001b[1;33m\u001b[0m\u001b[1;33m\u001b[0m\u001b[0m\n\u001b[0;32m    751\u001b[0m \u001b[1;33m\u001b[0m\u001b[0m\n\u001b[1;32m--> 752\u001b[1;33m         \u001b[0minds\u001b[0m \u001b[1;33m=\u001b[0m \u001b[0mself\u001b[0m\u001b[1;33m.\u001b[0m\u001b[0m_get_index\u001b[0m\u001b[1;33m(\u001b[0m\u001b[0mname\u001b[0m\u001b[1;33m)\u001b[0m\u001b[1;33m\u001b[0m\u001b[1;33m\u001b[0m\u001b[0m\n\u001b[0m\u001b[0;32m    753\u001b[0m         \u001b[1;32mif\u001b[0m \u001b[1;32mnot\u001b[0m \u001b[0mlen\u001b[0m\u001b[1;33m(\u001b[0m\u001b[0minds\u001b[0m\u001b[1;33m)\u001b[0m\u001b[1;33m:\u001b[0m\u001b[1;33m\u001b[0m\u001b[1;33m\u001b[0m\u001b[0m\n\u001b[0;32m    754\u001b[0m             \u001b[1;32mraise\u001b[0m \u001b[0mKeyError\u001b[0m\u001b[1;33m(\u001b[0m\u001b[0mname\u001b[0m\u001b[1;33m)\u001b[0m\u001b[1;33m\u001b[0m\u001b[1;33m\u001b[0m\u001b[0m\n",
      "\u001b[1;32mC:\\ProgramData\\Anaconda3\\lib\\site-packages\\pandas\\core\\groupby\\groupby.py\u001b[0m in \u001b[0;36m_get_index\u001b[1;34m(self, name)\u001b[0m\n\u001b[0;32m    678\u001b[0m         \u001b[0mSafe\u001b[0m \u001b[0mget\u001b[0m \u001b[0mindex\u001b[0m\u001b[1;33m,\u001b[0m \u001b[0mtranslate\u001b[0m \u001b[0mkeys\u001b[0m \u001b[1;32mfor\u001b[0m \u001b[0mdatelike\u001b[0m \u001b[0mto\u001b[0m \u001b[0munderlying\u001b[0m \u001b[0mrepr\u001b[0m\u001b[1;33m.\u001b[0m\u001b[1;33m\u001b[0m\u001b[1;33m\u001b[0m\u001b[0m\n\u001b[0;32m    679\u001b[0m         \"\"\"\n\u001b[1;32m--> 680\u001b[1;33m         \u001b[1;32mreturn\u001b[0m \u001b[0mself\u001b[0m\u001b[1;33m.\u001b[0m\u001b[0m_get_indices\u001b[0m\u001b[1;33m(\u001b[0m\u001b[1;33m[\u001b[0m\u001b[0mname\u001b[0m\u001b[1;33m]\u001b[0m\u001b[1;33m)\u001b[0m\u001b[1;33m[\u001b[0m\u001b[1;36m0\u001b[0m\u001b[1;33m]\u001b[0m\u001b[1;33m\u001b[0m\u001b[1;33m\u001b[0m\u001b[0m\n\u001b[0m\u001b[0;32m    681\u001b[0m \u001b[1;33m\u001b[0m\u001b[0m\n\u001b[0;32m    682\u001b[0m     \u001b[1;33m@\u001b[0m\u001b[0mfinal\u001b[0m\u001b[1;33m\u001b[0m\u001b[1;33m\u001b[0m\u001b[0m\n",
      "\u001b[1;32mC:\\ProgramData\\Anaconda3\\lib\\site-packages\\pandas\\core\\groupby\\groupby.py\u001b[0m in \u001b[0;36m_get_indices\u001b[1;34m(self, names)\u001b[0m\n\u001b[0;32m    651\u001b[0m             \u001b[1;32mif\u001b[0m \u001b[1;32mnot\u001b[0m \u001b[0misinstance\u001b[0m\u001b[1;33m(\u001b[0m\u001b[0mname_sample\u001b[0m\u001b[1;33m,\u001b[0m \u001b[0mtuple\u001b[0m\u001b[1;33m)\u001b[0m\u001b[1;33m:\u001b[0m\u001b[1;33m\u001b[0m\u001b[1;33m\u001b[0m\u001b[0m\n\u001b[0;32m    652\u001b[0m                 \u001b[0mmsg\u001b[0m \u001b[1;33m=\u001b[0m \u001b[1;34m\"must supply a tuple to get_group with multiple grouping keys\"\u001b[0m\u001b[1;33m\u001b[0m\u001b[1;33m\u001b[0m\u001b[0m\n\u001b[1;32m--> 653\u001b[1;33m                 \u001b[1;32mraise\u001b[0m \u001b[0mValueError\u001b[0m\u001b[1;33m(\u001b[0m\u001b[0mmsg\u001b[0m\u001b[1;33m)\u001b[0m\u001b[1;33m\u001b[0m\u001b[1;33m\u001b[0m\u001b[0m\n\u001b[0m\u001b[0;32m    654\u001b[0m             \u001b[1;32mif\u001b[0m \u001b[1;32mnot\u001b[0m \u001b[0mlen\u001b[0m\u001b[1;33m(\u001b[0m\u001b[0mname_sample\u001b[0m\u001b[1;33m)\u001b[0m \u001b[1;33m==\u001b[0m \u001b[0mlen\u001b[0m\u001b[1;33m(\u001b[0m\u001b[0mindex_sample\u001b[0m\u001b[1;33m)\u001b[0m\u001b[1;33m:\u001b[0m\u001b[1;33m\u001b[0m\u001b[1;33m\u001b[0m\u001b[0m\n\u001b[0;32m    655\u001b[0m                 \u001b[1;32mtry\u001b[0m\u001b[1;33m:\u001b[0m\u001b[1;33m\u001b[0m\u001b[1;33m\u001b[0m\u001b[0m\n",
      "\u001b[1;31mValueError\u001b[0m: must supply a tuple to get_group with multiple grouping keys"
     ]
    }
   ],
   "source": [
    "sns.barplot(x = 'Age_cat', y = 'Survived', hue = 'Sex', data = titanic_df, order = group_names)"
   ]
  },
  {
   "cell_type": "code",
   "execution_count": 165,
   "id": "ddba7201",
   "metadata": {},
   "outputs": [],
   "source": [
    "titanic_df[['Age_cat']] = list(titanic_df[['Age_cat']])"
   ]
  },
  {
   "cell_type": "code",
   "execution_count": 153,
   "id": "24680624",
   "metadata": {},
   "outputs": [
    {
     "data": {
      "text/plain": [
       "('baby',)"
      ]
     },
     "execution_count": 153,
     "metadata": {},
     "output_type": "execute_result"
    }
   ],
   "source": [
    "get_category(3)"
   ]
  },
  {
   "cell_type": "code",
   "execution_count": 166,
   "id": "7eff8b99",
   "metadata": {},
   "outputs": [
    {
     "data": {
      "text/html": [
       "<div>\n",
       "<style scoped>\n",
       "    .dataframe tbody tr th:only-of-type {\n",
       "        vertical-align: middle;\n",
       "    }\n",
       "\n",
       "    .dataframe tbody tr th {\n",
       "        vertical-align: top;\n",
       "    }\n",
       "\n",
       "    .dataframe thead th {\n",
       "        text-align: right;\n",
       "    }\n",
       "</style>\n",
       "<table border=\"1\" class=\"dataframe\">\n",
       "  <thead>\n",
       "    <tr style=\"text-align: right;\">\n",
       "      <th></th>\n",
       "      <th>PassengerId</th>\n",
       "      <th>Survived</th>\n",
       "      <th>Pclass</th>\n",
       "      <th>Name</th>\n",
       "      <th>Sex</th>\n",
       "      <th>Age</th>\n",
       "      <th>SibSp</th>\n",
       "      <th>Parch</th>\n",
       "      <th>Ticket</th>\n",
       "      <th>Fare</th>\n",
       "      <th>Cabin</th>\n",
       "      <th>Embarked</th>\n",
       "      <th>Age_cat</th>\n",
       "    </tr>\n",
       "  </thead>\n",
       "  <tbody>\n",
       "    <tr>\n",
       "      <th>0</th>\n",
       "      <td>1</td>\n",
       "      <td>0</td>\n",
       "      <td>3</td>\n",
       "      <td>Braund, Mr. Owen Harris</td>\n",
       "      <td>male</td>\n",
       "      <td>22.0</td>\n",
       "      <td>1</td>\n",
       "      <td>0</td>\n",
       "      <td>A/5 21171</td>\n",
       "      <td>7.2500</td>\n",
       "      <td>NaN</td>\n",
       "      <td>S</td>\n",
       "      <td>Age_cat</td>\n",
       "    </tr>\n",
       "    <tr>\n",
       "      <th>1</th>\n",
       "      <td>2</td>\n",
       "      <td>1</td>\n",
       "      <td>1</td>\n",
       "      <td>Cumings, Mrs. John Bradley (Florence Briggs Th...</td>\n",
       "      <td>female</td>\n",
       "      <td>38.0</td>\n",
       "      <td>1</td>\n",
       "      <td>0</td>\n",
       "      <td>PC 17599</td>\n",
       "      <td>71.2833</td>\n",
       "      <td>8</td>\n",
       "      <td>C</td>\n",
       "      <td>Age_cat</td>\n",
       "    </tr>\n",
       "    <tr>\n",
       "      <th>2</th>\n",
       "      <td>3</td>\n",
       "      <td>1</td>\n",
       "      <td>3</td>\n",
       "      <td>Heikkinen, Miss. Laina</td>\n",
       "      <td>female</td>\n",
       "      <td>26.0</td>\n",
       "      <td>0</td>\n",
       "      <td>0</td>\n",
       "      <td>STON/O2. 3101282</td>\n",
       "      <td>7.9250</td>\n",
       "      <td>NaN</td>\n",
       "      <td>S</td>\n",
       "      <td>Age_cat</td>\n",
       "    </tr>\n",
       "  </tbody>\n",
       "</table>\n",
       "</div>"
      ],
      "text/plain": [
       "   PassengerId  Survived  Pclass  \\\n",
       "0            1         0       3   \n",
       "1            2         1       1   \n",
       "2            3         1       3   \n",
       "\n",
       "                                                Name     Sex   Age  SibSp  \\\n",
       "0                            Braund, Mr. Owen Harris    male  22.0      1   \n",
       "1  Cumings, Mrs. John Bradley (Florence Briggs Th...  female  38.0      1   \n",
       "2                             Heikkinen, Miss. Laina  female  26.0      0   \n",
       "\n",
       "   Parch            Ticket     Fare Cabin Embarked  Age_cat  \n",
       "0      0         A/5 21171   7.2500   NaN        S  Age_cat  \n",
       "1      0          PC 17599  71.2833     8        C  Age_cat  \n",
       "2      0  STON/O2. 3101282   7.9250   NaN        S  Age_cat  "
      ]
     },
     "execution_count": 166,
     "metadata": {},
     "output_type": "execute_result"
    }
   ],
   "source": [
    "titanic_df.head(3)"
   ]
  },
  {
   "cell_type": "code",
   "execution_count": 1,
   "id": "aae3d221",
   "metadata": {},
   "outputs": [],
   "source": [
    "import numpy as np\n",
    "import pandas as pd\n",
    "import sklearn\n",
    "import matplotlib.pyplot as plt\n",
    "import seaborn as sns"
   ]
  },
  {
   "cell_type": "code",
   "execution_count": 89,
   "id": "fc4e06dc",
   "metadata": {},
   "outputs": [],
   "source": [
    "titanic_df = pd.read_csv('C:/Users/KO/all code/mlp/titanic/train.csv')"
   ]
  },
  {
   "cell_type": "code",
   "execution_count": 3,
   "id": "70d987dc",
   "metadata": {},
   "outputs": [
    {
     "data": {
      "text/html": [
       "<div>\n",
       "<style scoped>\n",
       "    .dataframe tbody tr th:only-of-type {\n",
       "        vertical-align: middle;\n",
       "    }\n",
       "\n",
       "    .dataframe tbody tr th {\n",
       "        vertical-align: top;\n",
       "    }\n",
       "\n",
       "    .dataframe thead th {\n",
       "        text-align: right;\n",
       "    }\n",
       "</style>\n",
       "<table border=\"1\" class=\"dataframe\">\n",
       "  <thead>\n",
       "    <tr style=\"text-align: right;\">\n",
       "      <th></th>\n",
       "      <th>PassengerId</th>\n",
       "      <th>Survived</th>\n",
       "      <th>Pclass</th>\n",
       "      <th>Name</th>\n",
       "      <th>Sex</th>\n",
       "      <th>Age</th>\n",
       "      <th>SibSp</th>\n",
       "      <th>Parch</th>\n",
       "      <th>Ticket</th>\n",
       "      <th>Fare</th>\n",
       "      <th>Cabin</th>\n",
       "      <th>Embarked</th>\n",
       "    </tr>\n",
       "  </thead>\n",
       "  <tbody>\n",
       "    <tr>\n",
       "      <th>0</th>\n",
       "      <td>1</td>\n",
       "      <td>0</td>\n",
       "      <td>3</td>\n",
       "      <td>Braund, Mr. Owen Harris</td>\n",
       "      <td>male</td>\n",
       "      <td>22.0</td>\n",
       "      <td>1</td>\n",
       "      <td>0</td>\n",
       "      <td>A/5 21171</td>\n",
       "      <td>7.2500</td>\n",
       "      <td>NaN</td>\n",
       "      <td>S</td>\n",
       "    </tr>\n",
       "    <tr>\n",
       "      <th>1</th>\n",
       "      <td>2</td>\n",
       "      <td>1</td>\n",
       "      <td>1</td>\n",
       "      <td>Cumings, Mrs. John Bradley (Florence Briggs Th...</td>\n",
       "      <td>female</td>\n",
       "      <td>38.0</td>\n",
       "      <td>1</td>\n",
       "      <td>0</td>\n",
       "      <td>PC 17599</td>\n",
       "      <td>71.2833</td>\n",
       "      <td>C85</td>\n",
       "      <td>C</td>\n",
       "    </tr>\n",
       "    <tr>\n",
       "      <th>2</th>\n",
       "      <td>3</td>\n",
       "      <td>1</td>\n",
       "      <td>3</td>\n",
       "      <td>Heikkinen, Miss. Laina</td>\n",
       "      <td>female</td>\n",
       "      <td>26.0</td>\n",
       "      <td>0</td>\n",
       "      <td>0</td>\n",
       "      <td>STON/O2. 3101282</td>\n",
       "      <td>7.9250</td>\n",
       "      <td>NaN</td>\n",
       "      <td>S</td>\n",
       "    </tr>\n",
       "  </tbody>\n",
       "</table>\n",
       "</div>"
      ],
      "text/plain": [
       "   PassengerId  Survived  Pclass  \\\n",
       "0            1         0       3   \n",
       "1            2         1       1   \n",
       "2            3         1       3   \n",
       "\n",
       "                                                Name     Sex   Age  SibSp  \\\n",
       "0                            Braund, Mr. Owen Harris    male  22.0      1   \n",
       "1  Cumings, Mrs. John Bradley (Florence Briggs Th...  female  38.0      1   \n",
       "2                             Heikkinen, Miss. Laina  female  26.0      0   \n",
       "\n",
       "   Parch            Ticket     Fare Cabin Embarked  \n",
       "0      0         A/5 21171   7.2500   NaN        S  \n",
       "1      0          PC 17599  71.2833   C85        C  \n",
       "2      0  STON/O2. 3101282   7.9250   NaN        S  "
      ]
     },
     "execution_count": 3,
     "metadata": {},
     "output_type": "execute_result"
    }
   ],
   "source": [
    "titanic_df.head(3)"
   ]
  },
  {
   "cell_type": "code",
   "execution_count": null,
   "id": "2ad1288e",
   "metadata": {},
   "outputs": [],
   "source": []
  },
  {
   "cell_type": "code",
   "execution_count": null,
   "id": "f479d9af",
   "metadata": {},
   "outputs": [],
   "source": []
  },
  {
   "cell_type": "code",
   "execution_count": null,
   "id": "9880cd6e",
   "metadata": {},
   "outputs": [],
   "source": []
  },
  {
   "cell_type": "code",
   "execution_count": null,
   "id": "092f28f7",
   "metadata": {},
   "outputs": [],
   "source": []
  },
  {
   "cell_type": "code",
   "execution_count": 4,
   "id": "6bbb5ebb",
   "metadata": {},
   "outputs": [
    {
     "data": {
      "text/plain": [
       "866"
      ]
     },
     "execution_count": 4,
     "metadata": {},
     "output_type": "execute_result"
    }
   ],
   "source": [
    "titanic_df.isnull().sum().sum()"
   ]
  },
  {
   "cell_type": "code",
   "execution_count": 5,
   "id": "f0c0e609",
   "metadata": {},
   "outputs": [
    {
     "name": "stdout",
     "output_type": "stream",
     "text": [
      "<class 'pandas.core.frame.DataFrame'>\n",
      "RangeIndex: 891 entries, 0 to 890\n",
      "Data columns (total 12 columns):\n",
      " #   Column       Non-Null Count  Dtype  \n",
      "---  ------       --------------  -----  \n",
      " 0   PassengerId  891 non-null    int64  \n",
      " 1   Survived     891 non-null    int64  \n",
      " 2   Pclass       891 non-null    int64  \n",
      " 3   Name         891 non-null    object \n",
      " 4   Sex          891 non-null    object \n",
      " 5   Age          714 non-null    float64\n",
      " 6   SibSp        891 non-null    int64  \n",
      " 7   Parch        891 non-null    int64  \n",
      " 8   Ticket       891 non-null    object \n",
      " 9   Fare         891 non-null    float64\n",
      " 10  Cabin        204 non-null    object \n",
      " 11  Embarked     889 non-null    object \n",
      "dtypes: float64(2), int64(5), object(5)\n",
      "memory usage: 83.7+ KB\n"
     ]
    }
   ],
   "source": [
    "titanic_df.info()\n"
   ]
  },
  {
   "cell_type": "markdown",
   "id": "69bbe8ff",
   "metadata": {},
   "source": [
    "### age, cabin embarkded 변수데이터에 결측치가 존재함 "
   ]
  },
  {
   "cell_type": "code",
   "execution_count": 6,
   "id": "175a5dd3",
   "metadata": {},
   "outputs": [],
   "source": [
    "titanic_df['Age'].fillna(titanic_df['Age'].mean())\n",
    "titanic_df['Cabin'].fillna('N', inplace = True)\n",
    "titanic_df['Embarked'].fillna('N', inplace = True)"
   ]
  },
  {
   "cell_type": "code",
   "execution_count": 7,
   "id": "be933b6a",
   "metadata": {},
   "outputs": [
    {
     "data": {
      "text/plain": [
       "male      577\n",
       "female    314\n",
       "Name: Sex, dtype: int64"
      ]
     },
     "execution_count": 7,
     "metadata": {},
     "output_type": "execute_result"
    }
   ],
   "source": [
    "titanic_df['Sex'].value_counts()"
   ]
  },
  {
   "cell_type": "code",
   "execution_count": 8,
   "id": "fe7f19fc",
   "metadata": {},
   "outputs": [
    {
     "data": {
      "text/plain": [
       "N              687\n",
       "C23 C25 C27      4\n",
       "G6               4\n",
       "B96 B98          4\n",
       "C22 C26          3\n",
       "              ... \n",
       "E34              1\n",
       "C7               1\n",
       "C54              1\n",
       "E36              1\n",
       "C148             1\n",
       "Name: Cabin, Length: 148, dtype: int64"
      ]
     },
     "execution_count": 8,
     "metadata": {},
     "output_type": "execute_result"
    }
   ],
   "source": [
    "titanic_df['Cabin'].value_counts()"
   ]
  },
  {
   "cell_type": "code",
   "execution_count": 9,
   "id": "b96afffa",
   "metadata": {},
   "outputs": [],
   "source": [
    "titanic_df['Cabin'] = titanic_df['Cabin'].str[0]"
   ]
  },
  {
   "cell_type": "code",
   "execution_count": 10,
   "id": "650f09c4",
   "metadata": {},
   "outputs": [
    {
     "data": {
      "text/html": [
       "<div>\n",
       "<style scoped>\n",
       "    .dataframe tbody tr th:only-of-type {\n",
       "        vertical-align: middle;\n",
       "    }\n",
       "\n",
       "    .dataframe tbody tr th {\n",
       "        vertical-align: top;\n",
       "    }\n",
       "\n",
       "    .dataframe thead th {\n",
       "        text-align: right;\n",
       "    }\n",
       "</style>\n",
       "<table border=\"1\" class=\"dataframe\">\n",
       "  <thead>\n",
       "    <tr style=\"text-align: right;\">\n",
       "      <th></th>\n",
       "      <th>PassengerId</th>\n",
       "      <th>Survived</th>\n",
       "      <th>Pclass</th>\n",
       "      <th>Name</th>\n",
       "      <th>Sex</th>\n",
       "      <th>Age</th>\n",
       "      <th>SibSp</th>\n",
       "      <th>Parch</th>\n",
       "      <th>Ticket</th>\n",
       "      <th>Fare</th>\n",
       "      <th>Cabin</th>\n",
       "      <th>Embarked</th>\n",
       "    </tr>\n",
       "  </thead>\n",
       "  <tbody>\n",
       "    <tr>\n",
       "      <th>0</th>\n",
       "      <td>1</td>\n",
       "      <td>0</td>\n",
       "      <td>3</td>\n",
       "      <td>Braund, Mr. Owen Harris</td>\n",
       "      <td>male</td>\n",
       "      <td>22.0</td>\n",
       "      <td>1</td>\n",
       "      <td>0</td>\n",
       "      <td>A/5 21171</td>\n",
       "      <td>7.2500</td>\n",
       "      <td>N</td>\n",
       "      <td>S</td>\n",
       "    </tr>\n",
       "    <tr>\n",
       "      <th>1</th>\n",
       "      <td>2</td>\n",
       "      <td>1</td>\n",
       "      <td>1</td>\n",
       "      <td>Cumings, Mrs. John Bradley (Florence Briggs Th...</td>\n",
       "      <td>female</td>\n",
       "      <td>38.0</td>\n",
       "      <td>1</td>\n",
       "      <td>0</td>\n",
       "      <td>PC 17599</td>\n",
       "      <td>71.2833</td>\n",
       "      <td>C</td>\n",
       "      <td>C</td>\n",
       "    </tr>\n",
       "    <tr>\n",
       "      <th>2</th>\n",
       "      <td>3</td>\n",
       "      <td>1</td>\n",
       "      <td>3</td>\n",
       "      <td>Heikkinen, Miss. Laina</td>\n",
       "      <td>female</td>\n",
       "      <td>26.0</td>\n",
       "      <td>0</td>\n",
       "      <td>0</td>\n",
       "      <td>STON/O2. 3101282</td>\n",
       "      <td>7.9250</td>\n",
       "      <td>N</td>\n",
       "      <td>S</td>\n",
       "    </tr>\n",
       "  </tbody>\n",
       "</table>\n",
       "</div>"
      ],
      "text/plain": [
       "   PassengerId  Survived  Pclass  \\\n",
       "0            1         0       3   \n",
       "1            2         1       1   \n",
       "2            3         1       3   \n",
       "\n",
       "                                                Name     Sex   Age  SibSp  \\\n",
       "0                            Braund, Mr. Owen Harris    male  22.0      1   \n",
       "1  Cumings, Mrs. John Bradley (Florence Briggs Th...  female  38.0      1   \n",
       "2                             Heikkinen, Miss. Laina  female  26.0      0   \n",
       "\n",
       "   Parch            Ticket     Fare Cabin Embarked  \n",
       "0      0         A/5 21171   7.2500     N        S  \n",
       "1      0          PC 17599  71.2833     C        C  \n",
       "2      0  STON/O2. 3101282   7.9250     N        S  "
      ]
     },
     "execution_count": 10,
     "metadata": {},
     "output_type": "execute_result"
    }
   ],
   "source": [
    "titanic_df.head(3)"
   ]
  },
  {
   "cell_type": "code",
   "execution_count": 11,
   "id": "756866e4",
   "metadata": {},
   "outputs": [
    {
     "data": {
      "text/plain": [
       "Sex     Survived\n",
       "female  0            81\n",
       "        1           233\n",
       "male    0           468\n",
       "        1           109\n",
       "Name: Survived, dtype: int64"
      ]
     },
     "execution_count": 11,
     "metadata": {},
     "output_type": "execute_result"
    }
   ],
   "source": [
    "titanic_df.groupby(['Sex', 'Survived'])['Survived'].count()"
   ]
  },
  {
   "cell_type": "code",
   "execution_count": 12,
   "id": "5835faf4",
   "metadata": {},
   "outputs": [
    {
     "data": {
      "text/plain": [
       "<AxesSubplot:xlabel='Sex', ylabel='Survived'>"
      ]
     },
     "execution_count": 12,
     "metadata": {},
     "output_type": "execute_result"
    },
    {
     "data": {
      "image/png": "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\n",
      "text/plain": [
       "<Figure size 432x288 with 1 Axes>"
      ]
     },
     "metadata": {
      "needs_background": "light"
     },
     "output_type": "display_data"
    }
   ],
   "source": [
    "sns.barplot(x = 'Sex', y = 'Survived', data = titanic_df)"
   ]
  },
  {
   "cell_type": "code",
   "execution_count": 13,
   "id": "c5e8d762",
   "metadata": {},
   "outputs": [
    {
     "data": {
      "text/plain": [
       "<AxesSubplot:xlabel='Pclass', ylabel='Survived'>"
      ]
     },
     "execution_count": 13,
     "metadata": {},
     "output_type": "execute_result"
    },
    {
     "data": {
      "image/png": "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\n",
      "text/plain": [
       "<Figure size 432x288 with 1 Axes>"
      ]
     },
     "metadata": {
      "needs_background": "light"
     },
     "output_type": "display_data"
    }
   ],
   "source": [
    "sns.barplot(x = 'Pclass', y = 'Survived', hue = 'Sex', data = titanic_df)"
   ]
  },
  {
   "cell_type": "code",
   "execution_count": 15,
   "id": "3d214bdf",
   "metadata": {},
   "outputs": [
    {
     "data": {
      "text/plain": [
       "<Figure size 720x432 with 0 Axes>"
      ]
     },
     "execution_count": 15,
     "metadata": {},
     "output_type": "execute_result"
    },
    {
     "data": {
      "text/plain": [
       "<Figure size 720x432 with 0 Axes>"
      ]
     },
     "metadata": {},
     "output_type": "display_data"
    }
   ],
   "source": [
    "plt.figure(figsize = (10, 6))"
   ]
  },
  {
   "cell_type": "code",
   "execution_count": 16,
   "id": "9525e195",
   "metadata": {},
   "outputs": [],
   "source": [
    "group_names = ['unknown', 'baby', 'child', 'teenager', 'student', 'young adult', 'adult', 'elderly']"
   ]
  },
  {
   "cell_type": "code",
   "execution_count": 17,
   "id": "964ccff7",
   "metadata": {},
   "outputs": [],
   "source": [
    "titanic_df['Age_cat'] = titanic_df['Age'].apply(lambda x : get_category(x))"
   ]
  },
  {
   "cell_type": "code",
   "execution_count": 18,
   "id": "f250bc1e",
   "metadata": {},
   "outputs": [
    {
     "ename": "ValueError",
     "evalue": "must supply a tuple to get_group with multiple grouping keys",
     "output_type": "error",
     "traceback": [
      "\u001b[1;31m---------------------------------------------------------------------------\u001b[0m",
      "\u001b[1;31mValueError\u001b[0m                                Traceback (most recent call last)",
      "\u001b[1;32m~\\AppData\\Local\\Temp/ipykernel_42012/416686660.py\u001b[0m in \u001b[0;36m<module>\u001b[1;34m\u001b[0m\n\u001b[1;32m----> 1\u001b[1;33m \u001b[0msns\u001b[0m\u001b[1;33m.\u001b[0m\u001b[0mbarplot\u001b[0m\u001b[1;33m(\u001b[0m\u001b[0mx\u001b[0m \u001b[1;33m=\u001b[0m \u001b[1;34m'Age_cat'\u001b[0m\u001b[1;33m,\u001b[0m \u001b[0my\u001b[0m \u001b[1;33m=\u001b[0m \u001b[1;34m'Survived'\u001b[0m\u001b[1;33m,\u001b[0m \u001b[0mhue\u001b[0m \u001b[1;33m=\u001b[0m \u001b[1;34m'Sex'\u001b[0m\u001b[1;33m,\u001b[0m \u001b[0mdata\u001b[0m \u001b[1;33m=\u001b[0m \u001b[0mtitanic_df\u001b[0m\u001b[1;33m,\u001b[0m \u001b[0morder\u001b[0m \u001b[1;33m=\u001b[0m \u001b[0mgroup_names\u001b[0m\u001b[1;33m)\u001b[0m\u001b[1;33m\u001b[0m\u001b[1;33m\u001b[0m\u001b[0m\n\u001b[0m",
      "\u001b[1;32mC:\\ProgramData\\Anaconda3\\lib\\site-packages\\seaborn\\_decorators.py\u001b[0m in \u001b[0;36minner_f\u001b[1;34m(*args, **kwargs)\u001b[0m\n\u001b[0;32m     44\u001b[0m             )\n\u001b[0;32m     45\u001b[0m         \u001b[0mkwargs\u001b[0m\u001b[1;33m.\u001b[0m\u001b[0mupdate\u001b[0m\u001b[1;33m(\u001b[0m\u001b[1;33m{\u001b[0m\u001b[0mk\u001b[0m\u001b[1;33m:\u001b[0m \u001b[0marg\u001b[0m \u001b[1;32mfor\u001b[0m \u001b[0mk\u001b[0m\u001b[1;33m,\u001b[0m \u001b[0marg\u001b[0m \u001b[1;32min\u001b[0m \u001b[0mzip\u001b[0m\u001b[1;33m(\u001b[0m\u001b[0msig\u001b[0m\u001b[1;33m.\u001b[0m\u001b[0mparameters\u001b[0m\u001b[1;33m,\u001b[0m \u001b[0margs\u001b[0m\u001b[1;33m)\u001b[0m\u001b[1;33m}\u001b[0m\u001b[1;33m)\u001b[0m\u001b[1;33m\u001b[0m\u001b[1;33m\u001b[0m\u001b[0m\n\u001b[1;32m---> 46\u001b[1;33m         \u001b[1;32mreturn\u001b[0m \u001b[0mf\u001b[0m\u001b[1;33m(\u001b[0m\u001b[1;33m**\u001b[0m\u001b[0mkwargs\u001b[0m\u001b[1;33m)\u001b[0m\u001b[1;33m\u001b[0m\u001b[1;33m\u001b[0m\u001b[0m\n\u001b[0m\u001b[0;32m     47\u001b[0m     \u001b[1;32mreturn\u001b[0m \u001b[0minner_f\u001b[0m\u001b[1;33m\u001b[0m\u001b[1;33m\u001b[0m\u001b[0m\n\u001b[0;32m     48\u001b[0m \u001b[1;33m\u001b[0m\u001b[0m\n",
      "\u001b[1;32mC:\\ProgramData\\Anaconda3\\lib\\site-packages\\seaborn\\categorical.py\u001b[0m in \u001b[0;36mbarplot\u001b[1;34m(x, y, hue, data, order, hue_order, estimator, ci, n_boot, units, seed, orient, color, palette, saturation, errcolor, errwidth, capsize, dodge, ax, **kwargs)\u001b[0m\n\u001b[0;32m   3180\u001b[0m ):\n\u001b[0;32m   3181\u001b[0m \u001b[1;33m\u001b[0m\u001b[0m\n\u001b[1;32m-> 3182\u001b[1;33m     plotter = _BarPlotter(x, y, hue, data, order, hue_order,\n\u001b[0m\u001b[0;32m   3183\u001b[0m                           \u001b[0mestimator\u001b[0m\u001b[1;33m,\u001b[0m \u001b[0mci\u001b[0m\u001b[1;33m,\u001b[0m \u001b[0mn_boot\u001b[0m\u001b[1;33m,\u001b[0m \u001b[0munits\u001b[0m\u001b[1;33m,\u001b[0m \u001b[0mseed\u001b[0m\u001b[1;33m,\u001b[0m\u001b[1;33m\u001b[0m\u001b[1;33m\u001b[0m\u001b[0m\n\u001b[0;32m   3184\u001b[0m                           \u001b[0morient\u001b[0m\u001b[1;33m,\u001b[0m \u001b[0mcolor\u001b[0m\u001b[1;33m,\u001b[0m \u001b[0mpalette\u001b[0m\u001b[1;33m,\u001b[0m \u001b[0msaturation\u001b[0m\u001b[1;33m,\u001b[0m\u001b[1;33m\u001b[0m\u001b[1;33m\u001b[0m\u001b[0m\n",
      "\u001b[1;32mC:\\ProgramData\\Anaconda3\\lib\\site-packages\\seaborn\\categorical.py\u001b[0m in \u001b[0;36m__init__\u001b[1;34m(self, x, y, hue, data, order, hue_order, estimator, ci, n_boot, units, seed, orient, color, palette, saturation, errcolor, errwidth, capsize, dodge)\u001b[0m\n\u001b[0;32m   1582\u001b[0m                  errwidth, capsize, dodge):\n\u001b[0;32m   1583\u001b[0m         \u001b[1;34m\"\"\"Initialize the plotter.\"\"\"\u001b[0m\u001b[1;33m\u001b[0m\u001b[1;33m\u001b[0m\u001b[0m\n\u001b[1;32m-> 1584\u001b[1;33m         self.establish_variables(x, y, hue, data, orient,\n\u001b[0m\u001b[0;32m   1585\u001b[0m                                  order, hue_order, units)\n\u001b[0;32m   1586\u001b[0m         \u001b[0mself\u001b[0m\u001b[1;33m.\u001b[0m\u001b[0mestablish_colors\u001b[0m\u001b[1;33m(\u001b[0m\u001b[0mcolor\u001b[0m\u001b[1;33m,\u001b[0m \u001b[0mpalette\u001b[0m\u001b[1;33m,\u001b[0m \u001b[0msaturation\u001b[0m\u001b[1;33m)\u001b[0m\u001b[1;33m\u001b[0m\u001b[1;33m\u001b[0m\u001b[0m\n",
      "\u001b[1;32mC:\\ProgramData\\Anaconda3\\lib\\site-packages\\seaborn\\categorical.py\u001b[0m in \u001b[0;36mestablish_variables\u001b[1;34m(self, x, y, hue, data, orient, order, hue_order, units)\u001b[0m\n\u001b[0;32m    204\u001b[0m \u001b[1;33m\u001b[0m\u001b[0m\n\u001b[0;32m    205\u001b[0m                 \u001b[1;31m# Group the numeric data\u001b[0m\u001b[1;33m\u001b[0m\u001b[1;33m\u001b[0m\u001b[0m\n\u001b[1;32m--> 206\u001b[1;33m                 plot_data, value_label = self._group_longform(vals, groups,\n\u001b[0m\u001b[0;32m    207\u001b[0m                                                               group_names)\n\u001b[0;32m    208\u001b[0m \u001b[1;33m\u001b[0m\u001b[0m\n",
      "\u001b[1;32mC:\\ProgramData\\Anaconda3\\lib\\site-packages\\seaborn\\categorical.py\u001b[0m in \u001b[0;36m_group_longform\u001b[1;34m(self, vals, grouper, order)\u001b[0m\n\u001b[0;32m    255\u001b[0m         \u001b[1;32mfor\u001b[0m \u001b[0mg\u001b[0m \u001b[1;32min\u001b[0m \u001b[0morder\u001b[0m\u001b[1;33m:\u001b[0m\u001b[1;33m\u001b[0m\u001b[1;33m\u001b[0m\u001b[0m\n\u001b[0;32m    256\u001b[0m             \u001b[1;32mtry\u001b[0m\u001b[1;33m:\u001b[0m\u001b[1;33m\u001b[0m\u001b[1;33m\u001b[0m\u001b[0m\n\u001b[1;32m--> 257\u001b[1;33m                 \u001b[0mg_vals\u001b[0m \u001b[1;33m=\u001b[0m \u001b[0mgrouped_vals\u001b[0m\u001b[1;33m.\u001b[0m\u001b[0mget_group\u001b[0m\u001b[1;33m(\u001b[0m\u001b[0mg\u001b[0m\u001b[1;33m)\u001b[0m\u001b[1;33m\u001b[0m\u001b[1;33m\u001b[0m\u001b[0m\n\u001b[0m\u001b[0;32m    258\u001b[0m             \u001b[1;32mexcept\u001b[0m \u001b[0mKeyError\u001b[0m\u001b[1;33m:\u001b[0m\u001b[1;33m\u001b[0m\u001b[1;33m\u001b[0m\u001b[0m\n\u001b[0;32m    259\u001b[0m                 \u001b[0mg_vals\u001b[0m \u001b[1;33m=\u001b[0m \u001b[0mnp\u001b[0m\u001b[1;33m.\u001b[0m\u001b[0marray\u001b[0m\u001b[1;33m(\u001b[0m\u001b[1;33m[\u001b[0m\u001b[1;33m]\u001b[0m\u001b[1;33m)\u001b[0m\u001b[1;33m\u001b[0m\u001b[1;33m\u001b[0m\u001b[0m\n",
      "\u001b[1;32mC:\\ProgramData\\Anaconda3\\lib\\site-packages\\pandas\\core\\groupby\\groupby.py\u001b[0m in \u001b[0;36mget_group\u001b[1;34m(self, name, obj)\u001b[0m\n\u001b[0;32m    750\u001b[0m             \u001b[0mobj\u001b[0m \u001b[1;33m=\u001b[0m \u001b[0mself\u001b[0m\u001b[1;33m.\u001b[0m\u001b[0m_selected_obj\u001b[0m\u001b[1;33m\u001b[0m\u001b[1;33m\u001b[0m\u001b[0m\n\u001b[0;32m    751\u001b[0m \u001b[1;33m\u001b[0m\u001b[0m\n\u001b[1;32m--> 752\u001b[1;33m         \u001b[0minds\u001b[0m \u001b[1;33m=\u001b[0m \u001b[0mself\u001b[0m\u001b[1;33m.\u001b[0m\u001b[0m_get_index\u001b[0m\u001b[1;33m(\u001b[0m\u001b[0mname\u001b[0m\u001b[1;33m)\u001b[0m\u001b[1;33m\u001b[0m\u001b[1;33m\u001b[0m\u001b[0m\n\u001b[0m\u001b[0;32m    753\u001b[0m         \u001b[1;32mif\u001b[0m \u001b[1;32mnot\u001b[0m \u001b[0mlen\u001b[0m\u001b[1;33m(\u001b[0m\u001b[0minds\u001b[0m\u001b[1;33m)\u001b[0m\u001b[1;33m:\u001b[0m\u001b[1;33m\u001b[0m\u001b[1;33m\u001b[0m\u001b[0m\n\u001b[0;32m    754\u001b[0m             \u001b[1;32mraise\u001b[0m \u001b[0mKeyError\u001b[0m\u001b[1;33m(\u001b[0m\u001b[0mname\u001b[0m\u001b[1;33m)\u001b[0m\u001b[1;33m\u001b[0m\u001b[1;33m\u001b[0m\u001b[0m\n",
      "\u001b[1;32mC:\\ProgramData\\Anaconda3\\lib\\site-packages\\pandas\\core\\groupby\\groupby.py\u001b[0m in \u001b[0;36m_get_index\u001b[1;34m(self, name)\u001b[0m\n\u001b[0;32m    678\u001b[0m         \u001b[0mSafe\u001b[0m \u001b[0mget\u001b[0m \u001b[0mindex\u001b[0m\u001b[1;33m,\u001b[0m \u001b[0mtranslate\u001b[0m \u001b[0mkeys\u001b[0m \u001b[1;32mfor\u001b[0m \u001b[0mdatelike\u001b[0m \u001b[0mto\u001b[0m \u001b[0munderlying\u001b[0m \u001b[0mrepr\u001b[0m\u001b[1;33m.\u001b[0m\u001b[1;33m\u001b[0m\u001b[1;33m\u001b[0m\u001b[0m\n\u001b[0;32m    679\u001b[0m         \"\"\"\n\u001b[1;32m--> 680\u001b[1;33m         \u001b[1;32mreturn\u001b[0m \u001b[0mself\u001b[0m\u001b[1;33m.\u001b[0m\u001b[0m_get_indices\u001b[0m\u001b[1;33m(\u001b[0m\u001b[1;33m[\u001b[0m\u001b[0mname\u001b[0m\u001b[1;33m]\u001b[0m\u001b[1;33m)\u001b[0m\u001b[1;33m[\u001b[0m\u001b[1;36m0\u001b[0m\u001b[1;33m]\u001b[0m\u001b[1;33m\u001b[0m\u001b[1;33m\u001b[0m\u001b[0m\n\u001b[0m\u001b[0;32m    681\u001b[0m \u001b[1;33m\u001b[0m\u001b[0m\n\u001b[0;32m    682\u001b[0m     \u001b[1;33m@\u001b[0m\u001b[0mfinal\u001b[0m\u001b[1;33m\u001b[0m\u001b[1;33m\u001b[0m\u001b[0m\n",
      "\u001b[1;32mC:\\ProgramData\\Anaconda3\\lib\\site-packages\\pandas\\core\\groupby\\groupby.py\u001b[0m in \u001b[0;36m_get_indices\u001b[1;34m(self, names)\u001b[0m\n\u001b[0;32m    651\u001b[0m             \u001b[1;32mif\u001b[0m \u001b[1;32mnot\u001b[0m \u001b[0misinstance\u001b[0m\u001b[1;33m(\u001b[0m\u001b[0mname_sample\u001b[0m\u001b[1;33m,\u001b[0m \u001b[0mtuple\u001b[0m\u001b[1;33m)\u001b[0m\u001b[1;33m:\u001b[0m\u001b[1;33m\u001b[0m\u001b[1;33m\u001b[0m\u001b[0m\n\u001b[0;32m    652\u001b[0m                 \u001b[0mmsg\u001b[0m \u001b[1;33m=\u001b[0m \u001b[1;34m\"must supply a tuple to get_group with multiple grouping keys\"\u001b[0m\u001b[1;33m\u001b[0m\u001b[1;33m\u001b[0m\u001b[0m\n\u001b[1;32m--> 653\u001b[1;33m                 \u001b[1;32mraise\u001b[0m \u001b[0mValueError\u001b[0m\u001b[1;33m(\u001b[0m\u001b[0mmsg\u001b[0m\u001b[1;33m)\u001b[0m\u001b[1;33m\u001b[0m\u001b[1;33m\u001b[0m\u001b[0m\n\u001b[0m\u001b[0;32m    654\u001b[0m             \u001b[1;32mif\u001b[0m \u001b[1;32mnot\u001b[0m \u001b[0mlen\u001b[0m\u001b[1;33m(\u001b[0m\u001b[0mname_sample\u001b[0m\u001b[1;33m)\u001b[0m \u001b[1;33m==\u001b[0m \u001b[0mlen\u001b[0m\u001b[1;33m(\u001b[0m\u001b[0mindex_sample\u001b[0m\u001b[1;33m)\u001b[0m\u001b[1;33m:\u001b[0m\u001b[1;33m\u001b[0m\u001b[1;33m\u001b[0m\u001b[0m\n\u001b[0;32m    655\u001b[0m                 \u001b[1;32mtry\u001b[0m\u001b[1;33m:\u001b[0m\u001b[1;33m\u001b[0m\u001b[1;33m\u001b[0m\u001b[0m\n",
      "\u001b[1;31mValueError\u001b[0m: must supply a tuple to get_group with multiple grouping keys"
     ]
    }
   ],
   "source": [
    "sns.barplot(x = 'Age_cat', y = 'Survived', hue = 'Sex', data = titanic_df, order = group_names)"
   ]
  },
  {
   "cell_type": "code",
   "execution_count": 19,
   "id": "847579d6",
   "metadata": {},
   "outputs": [],
   "source": [
    "titanic_df.drop('Age_cat', axis = 1, inplace = True)"
   ]
  },
  {
   "cell_type": "code",
   "execution_count": 20,
   "id": "d10809d2",
   "metadata": {},
   "outputs": [],
   "source": [
    "from sklearn import preprocessing"
   ]
  },
  {
   "cell_type": "code",
   "execution_count": 21,
   "id": "5b2db098",
   "metadata": {},
   "outputs": [],
   "source": [
    "def encode_features(dataDF):\n",
    "    features = ['Cabin', 'Sex', 'Embarked']\n",
    "    for feature in features:\n",
    "        le = preprocessing.LabelEncoder()\n",
    "        le = le.fit(dataDF[feature])\n",
    "        dataDF[feature] = le.transform(dataDF[feature])\n",
    "    return dataDF"
   ]
  },
  {
   "cell_type": "code",
   "execution_count": 24,
   "id": "fab6934b",
   "metadata": {},
   "outputs": [
    {
     "data": {
      "text/html": [
       "<div>\n",
       "<style scoped>\n",
       "    .dataframe tbody tr th:only-of-type {\n",
       "        vertical-align: middle;\n",
       "    }\n",
       "\n",
       "    .dataframe tbody tr th {\n",
       "        vertical-align: top;\n",
       "    }\n",
       "\n",
       "    .dataframe thead th {\n",
       "        text-align: right;\n",
       "    }\n",
       "</style>\n",
       "<table border=\"1\" class=\"dataframe\">\n",
       "  <thead>\n",
       "    <tr style=\"text-align: right;\">\n",
       "      <th></th>\n",
       "      <th>PassengerId</th>\n",
       "      <th>Survived</th>\n",
       "      <th>Pclass</th>\n",
       "      <th>Name</th>\n",
       "      <th>Sex</th>\n",
       "      <th>Age</th>\n",
       "      <th>SibSp</th>\n",
       "      <th>Parch</th>\n",
       "      <th>Ticket</th>\n",
       "      <th>Fare</th>\n",
       "      <th>Cabin</th>\n",
       "      <th>Embarked</th>\n",
       "    </tr>\n",
       "  </thead>\n",
       "  <tbody>\n",
       "    <tr>\n",
       "      <th>0</th>\n",
       "      <td>1</td>\n",
       "      <td>0</td>\n",
       "      <td>3</td>\n",
       "      <td>Braund, Mr. Owen Harris</td>\n",
       "      <td>1</td>\n",
       "      <td>22.0</td>\n",
       "      <td>1</td>\n",
       "      <td>0</td>\n",
       "      <td>A/5 21171</td>\n",
       "      <td>7.2500</td>\n",
       "      <td>7</td>\n",
       "      <td>3</td>\n",
       "    </tr>\n",
       "    <tr>\n",
       "      <th>1</th>\n",
       "      <td>2</td>\n",
       "      <td>1</td>\n",
       "      <td>1</td>\n",
       "      <td>Cumings, Mrs. John Bradley (Florence Briggs Th...</td>\n",
       "      <td>0</td>\n",
       "      <td>38.0</td>\n",
       "      <td>1</td>\n",
       "      <td>0</td>\n",
       "      <td>PC 17599</td>\n",
       "      <td>71.2833</td>\n",
       "      <td>2</td>\n",
       "      <td>0</td>\n",
       "    </tr>\n",
       "    <tr>\n",
       "      <th>2</th>\n",
       "      <td>3</td>\n",
       "      <td>1</td>\n",
       "      <td>3</td>\n",
       "      <td>Heikkinen, Miss. Laina</td>\n",
       "      <td>0</td>\n",
       "      <td>26.0</td>\n",
       "      <td>0</td>\n",
       "      <td>0</td>\n",
       "      <td>STON/O2. 3101282</td>\n",
       "      <td>7.9250</td>\n",
       "      <td>7</td>\n",
       "      <td>3</td>\n",
       "    </tr>\n",
       "    <tr>\n",
       "      <th>3</th>\n",
       "      <td>4</td>\n",
       "      <td>1</td>\n",
       "      <td>1</td>\n",
       "      <td>Futrelle, Mrs. Jacques Heath (Lily May Peel)</td>\n",
       "      <td>0</td>\n",
       "      <td>35.0</td>\n",
       "      <td>1</td>\n",
       "      <td>0</td>\n",
       "      <td>113803</td>\n",
       "      <td>53.1000</td>\n",
       "      <td>2</td>\n",
       "      <td>3</td>\n",
       "    </tr>\n",
       "    <tr>\n",
       "      <th>4</th>\n",
       "      <td>5</td>\n",
       "      <td>0</td>\n",
       "      <td>3</td>\n",
       "      <td>Allen, Mr. William Henry</td>\n",
       "      <td>1</td>\n",
       "      <td>35.0</td>\n",
       "      <td>0</td>\n",
       "      <td>0</td>\n",
       "      <td>373450</td>\n",
       "      <td>8.0500</td>\n",
       "      <td>7</td>\n",
       "      <td>3</td>\n",
       "    </tr>\n",
       "  </tbody>\n",
       "</table>\n",
       "</div>"
      ],
      "text/plain": [
       "   PassengerId  Survived  Pclass  \\\n",
       "0            1         0       3   \n",
       "1            2         1       1   \n",
       "2            3         1       3   \n",
       "3            4         1       1   \n",
       "4            5         0       3   \n",
       "\n",
       "                                                Name  Sex   Age  SibSp  Parch  \\\n",
       "0                            Braund, Mr. Owen Harris    1  22.0      1      0   \n",
       "1  Cumings, Mrs. John Bradley (Florence Briggs Th...    0  38.0      1      0   \n",
       "2                             Heikkinen, Miss. Laina    0  26.0      0      0   \n",
       "3       Futrelle, Mrs. Jacques Heath (Lily May Peel)    0  35.0      1      0   \n",
       "4                           Allen, Mr. William Henry    1  35.0      0      0   \n",
       "\n",
       "             Ticket     Fare  Cabin  Embarked  \n",
       "0         A/5 21171   7.2500      7         3  \n",
       "1          PC 17599  71.2833      2         0  \n",
       "2  STON/O2. 3101282   7.9250      7         3  \n",
       "3            113803  53.1000      2         3  \n",
       "4            373450   8.0500      7         3  "
      ]
     },
     "execution_count": 24,
     "metadata": {},
     "output_type": "execute_result"
    }
   ],
   "source": [
    "titanic_df = encode_features(titanic_df)\n",
    "titanic_df.head()"
   ]
  },
  {
   "cell_type": "code",
   "execution_count": 28,
   "id": "574379de",
   "metadata": {},
   "outputs": [],
   "source": [
    "def drop_features(df):\n",
    "    df.drop(['PassengerId', 'Name', 'Ticket'], axis = 1 , inplace  = True)\n",
    "    return df"
   ]
  },
  {
   "cell_type": "code",
   "execution_count": 29,
   "id": "36eea8a6",
   "metadata": {},
   "outputs": [
    {
     "data": {
      "text/html": [
       "<div>\n",
       "<style scoped>\n",
       "    .dataframe tbody tr th:only-of-type {\n",
       "        vertical-align: middle;\n",
       "    }\n",
       "\n",
       "    .dataframe tbody tr th {\n",
       "        vertical-align: top;\n",
       "    }\n",
       "\n",
       "    .dataframe thead th {\n",
       "        text-align: right;\n",
       "    }\n",
       "</style>\n",
       "<table border=\"1\" class=\"dataframe\">\n",
       "  <thead>\n",
       "    <tr style=\"text-align: right;\">\n",
       "      <th></th>\n",
       "      <th>Survived</th>\n",
       "      <th>Pclass</th>\n",
       "      <th>Sex</th>\n",
       "      <th>Age</th>\n",
       "      <th>SibSp</th>\n",
       "      <th>Parch</th>\n",
       "      <th>Fare</th>\n",
       "      <th>Cabin</th>\n",
       "      <th>Embarked</th>\n",
       "    </tr>\n",
       "  </thead>\n",
       "  <tbody>\n",
       "    <tr>\n",
       "      <th>0</th>\n",
       "      <td>0</td>\n",
       "      <td>3</td>\n",
       "      <td>1</td>\n",
       "      <td>22.0</td>\n",
       "      <td>1</td>\n",
       "      <td>0</td>\n",
       "      <td>7.2500</td>\n",
       "      <td>7</td>\n",
       "      <td>3</td>\n",
       "    </tr>\n",
       "    <tr>\n",
       "      <th>1</th>\n",
       "      <td>1</td>\n",
       "      <td>1</td>\n",
       "      <td>0</td>\n",
       "      <td>38.0</td>\n",
       "      <td>1</td>\n",
       "      <td>0</td>\n",
       "      <td>71.2833</td>\n",
       "      <td>2</td>\n",
       "      <td>0</td>\n",
       "    </tr>\n",
       "    <tr>\n",
       "      <th>2</th>\n",
       "      <td>1</td>\n",
       "      <td>3</td>\n",
       "      <td>0</td>\n",
       "      <td>26.0</td>\n",
       "      <td>0</td>\n",
       "      <td>0</td>\n",
       "      <td>7.9250</td>\n",
       "      <td>7</td>\n",
       "      <td>3</td>\n",
       "    </tr>\n",
       "    <tr>\n",
       "      <th>3</th>\n",
       "      <td>1</td>\n",
       "      <td>1</td>\n",
       "      <td>0</td>\n",
       "      <td>35.0</td>\n",
       "      <td>1</td>\n",
       "      <td>0</td>\n",
       "      <td>53.1000</td>\n",
       "      <td>2</td>\n",
       "      <td>3</td>\n",
       "    </tr>\n",
       "    <tr>\n",
       "      <th>4</th>\n",
       "      <td>0</td>\n",
       "      <td>3</td>\n",
       "      <td>1</td>\n",
       "      <td>35.0</td>\n",
       "      <td>0</td>\n",
       "      <td>0</td>\n",
       "      <td>8.0500</td>\n",
       "      <td>7</td>\n",
       "      <td>3</td>\n",
       "    </tr>\n",
       "    <tr>\n",
       "      <th>...</th>\n",
       "      <td>...</td>\n",
       "      <td>...</td>\n",
       "      <td>...</td>\n",
       "      <td>...</td>\n",
       "      <td>...</td>\n",
       "      <td>...</td>\n",
       "      <td>...</td>\n",
       "      <td>...</td>\n",
       "      <td>...</td>\n",
       "    </tr>\n",
       "    <tr>\n",
       "      <th>886</th>\n",
       "      <td>0</td>\n",
       "      <td>2</td>\n",
       "      <td>1</td>\n",
       "      <td>27.0</td>\n",
       "      <td>0</td>\n",
       "      <td>0</td>\n",
       "      <td>13.0000</td>\n",
       "      <td>7</td>\n",
       "      <td>3</td>\n",
       "    </tr>\n",
       "    <tr>\n",
       "      <th>887</th>\n",
       "      <td>1</td>\n",
       "      <td>1</td>\n",
       "      <td>0</td>\n",
       "      <td>19.0</td>\n",
       "      <td>0</td>\n",
       "      <td>0</td>\n",
       "      <td>30.0000</td>\n",
       "      <td>1</td>\n",
       "      <td>3</td>\n",
       "    </tr>\n",
       "    <tr>\n",
       "      <th>888</th>\n",
       "      <td>0</td>\n",
       "      <td>3</td>\n",
       "      <td>0</td>\n",
       "      <td>NaN</td>\n",
       "      <td>1</td>\n",
       "      <td>2</td>\n",
       "      <td>23.4500</td>\n",
       "      <td>7</td>\n",
       "      <td>3</td>\n",
       "    </tr>\n",
       "    <tr>\n",
       "      <th>889</th>\n",
       "      <td>1</td>\n",
       "      <td>1</td>\n",
       "      <td>1</td>\n",
       "      <td>26.0</td>\n",
       "      <td>0</td>\n",
       "      <td>0</td>\n",
       "      <td>30.0000</td>\n",
       "      <td>2</td>\n",
       "      <td>0</td>\n",
       "    </tr>\n",
       "    <tr>\n",
       "      <th>890</th>\n",
       "      <td>0</td>\n",
       "      <td>3</td>\n",
       "      <td>1</td>\n",
       "      <td>32.0</td>\n",
       "      <td>0</td>\n",
       "      <td>0</td>\n",
       "      <td>7.7500</td>\n",
       "      <td>7</td>\n",
       "      <td>2</td>\n",
       "    </tr>\n",
       "  </tbody>\n",
       "</table>\n",
       "<p>891 rows × 9 columns</p>\n",
       "</div>"
      ],
      "text/plain": [
       "     Survived  Pclass  Sex   Age  SibSp  Parch     Fare  Cabin  Embarked\n",
       "0           0       3    1  22.0      1      0   7.2500      7         3\n",
       "1           1       1    0  38.0      1      0  71.2833      2         0\n",
       "2           1       3    0  26.0      0      0   7.9250      7         3\n",
       "3           1       1    0  35.0      1      0  53.1000      2         3\n",
       "4           0       3    1  35.0      0      0   8.0500      7         3\n",
       "..        ...     ...  ...   ...    ...    ...      ...    ...       ...\n",
       "886         0       2    1  27.0      0      0  13.0000      7         3\n",
       "887         1       1    0  19.0      0      0  30.0000      1         3\n",
       "888         0       3    0   NaN      1      2  23.4500      7         3\n",
       "889         1       1    1  26.0      0      0  30.0000      2         0\n",
       "890         0       3    1  32.0      0      0   7.7500      7         2\n",
       "\n",
       "[891 rows x 9 columns]"
      ]
     },
     "execution_count": 29,
     "metadata": {},
     "output_type": "execute_result"
    }
   ],
   "source": [
    "drop_features(titanic_df)"
   ]
  },
  {
   "cell_type": "code",
   "execution_count": 30,
   "id": "3ca76c02",
   "metadata": {},
   "outputs": [],
   "source": [
    "def fillna(df):\n",
    "    df['Age'].fillna(df['Age'].mean(), inplace = True)\n",
    "    df['Cabin'].fillna('N', inplace = True)\n",
    "    df['Embarked'].fillna('N', inplace = True)\n",
    "    df['Fare'].fillna(0, inplace = True)\n",
    "    return df"
   ]
  },
  {
   "cell_type": "code",
   "execution_count": 39,
   "id": "5ad4bcc4",
   "metadata": {},
   "outputs": [],
   "source": [
    "def format_features(df):\n",
    "    df['Cabin'] = df['Cabin'].str[:1]\n",
    "    features = ['Cabin', 'Sex', 'Embarked']\n",
    "    for feature in features:\n",
    "        le = LabelEncoder()\n",
    "        le = le.fit(df[feature])\n",
    "        df[feature] = le.transform(df[feature])\n",
    "    return df"
   ]
  },
  {
   "cell_type": "code",
   "execution_count": 40,
   "id": "49abc7d7",
   "metadata": {},
   "outputs": [],
   "source": [
    "def transform_features(df):\n",
    "    df = fillna(df)\n",
    "    df = drop_features(df)\n",
    "    df = format_features(df)\n",
    "    return df"
   ]
  },
  {
   "cell_type": "code",
   "execution_count": 41,
   "id": "3192a451",
   "metadata": {},
   "outputs": [],
   "source": [
    "y_titanic_df = titanic_df['Survived']"
   ]
  },
  {
   "cell_type": "code",
   "execution_count": 42,
   "id": "1515c861",
   "metadata": {},
   "outputs": [],
   "source": [
    "x_titanic_df = titanic_df.drop('Survived', axis = 1)"
   ]
  },
  {
   "cell_type": "code",
   "execution_count": 43,
   "id": "b1abc327",
   "metadata": {},
   "outputs": [],
   "source": [
    "x_titanic_df = transform_features(x_titanic_df)"
   ]
  },
  {
   "cell_type": "code",
   "execution_count": 38,
   "id": "72f61612",
   "metadata": {},
   "outputs": [],
   "source": [
    "from sklearn.preprocessing import LabelEncoder"
   ]
  },
  {
   "cell_type": "code",
   "execution_count": 44,
   "id": "7f576617",
   "metadata": {},
   "outputs": [],
   "source": [
    "from sklearn.model_selection import train_test_split"
   ]
  },
  {
   "cell_type": "code",
   "execution_count": 45,
   "id": "1590cb46",
   "metadata": {},
   "outputs": [],
   "source": [
    "x_train, x_test, y_train, y_test = train_test_split(x_titanic_df, y_titanic_df, test_size = 0.2, random_state = 11)"
   ]
  },
  {
   "cell_type": "code",
   "execution_count": 46,
   "id": "0d0009db",
   "metadata": {},
   "outputs": [],
   "source": [
    "from sklearn.tree import DecisionTreeClassifier\n",
    "from sklearn.ensemble import RandomForestClassifier\n",
    "from sklearn.linear_model import LogisticRegression\n",
    "from sklearn.metrics import accuracy_score"
   ]
  },
  {
   "cell_type": "code",
   "execution_count": 47,
   "id": "af2ec34e",
   "metadata": {},
   "outputs": [],
   "source": [
    "dt_clf = DecisionTreeClassifier()\n",
    "rf_clf = RandomForestClassifier()\n",
    "lr_clf = LogisticRegression()"
   ]
  },
  {
   "cell_type": "code",
   "execution_count": 50,
   "id": "8b6e0123",
   "metadata": {},
   "outputs": [
    {
     "name": "stdout",
     "output_type": "stream",
     "text": [
      "의사결정나무의 정확도는 0.782123 이다.\n",
      "랜덤포레스트의 정확도는 0.849162 이다\n",
      "로지스틱회귀분석의 정확도는 0.849162 이다\n"
     ]
    },
    {
     "name": "stderr",
     "output_type": "stream",
     "text": [
      "C:\\ProgramData\\Anaconda3\\lib\\site-packages\\sklearn\\linear_model\\_logistic.py:763: ConvergenceWarning: lbfgs failed to converge (status=1):\n",
      "STOP: TOTAL NO. of ITERATIONS REACHED LIMIT.\n",
      "\n",
      "Increase the number of iterations (max_iter) or scale the data as shown in:\n",
      "    https://scikit-learn.org/stable/modules/preprocessing.html\n",
      "Please also refer to the documentation for alternative solver options:\n",
      "    https://scikit-learn.org/stable/modules/linear_model.html#logistic-regression\n",
      "  n_iter_i = _check_optimize_result(\n"
     ]
    }
   ],
   "source": [
    "dt_clf.fit(x_train, y_train)\n",
    "dt_pred = dt_clf.predict(x_test)\n",
    "print('의사결정나무의 정확도는 {0:4f} 이다.'.format(accuracy_score(y_test, dt_pred)))\n",
    "rf_clf.fit(x_train, y_train)\n",
    "rf_pred = rf_clf.predict(x_test)\n",
    "print('랜덤포레스트의 정확도는 {0:4f} 이다'.format(accuracy_score(y_test, rf_pred)))\n",
    "lr_clf.fit(x_train, y_train)\n",
    "lr_pred = lr_clf.predict(x_test)\n",
    "print('로지스틱회귀분석의 정확도는 {0:4f} 이다'.format(accuracy_score(y_test, lr_pred)))"
   ]
  },
  {
   "cell_type": "code",
   "execution_count": 52,
   "id": "b990237a",
   "metadata": {},
   "outputs": [],
   "source": [
    "from sklearn.model_selection import KFold"
   ]
  },
  {
   "cell_type": "code",
   "execution_count": 55,
   "id": "2663b54e",
   "metadata": {},
   "outputs": [],
   "source": [
    "def exec_fold(clf, folds = 5):\n",
    "    kfold = KFold(n_splits = folds)\n",
    "    scores = []\n",
    "    for iter_count, (train_index, test_index) in enumerate(kfold.split(x_titanic_df)):\n",
    "        x_train, x_test = x_titanic_df.values[train_index], x_titanic_df.values[test_index]\n",
    "        y_train, y_test = y_titanic_df.values[train_index], y_titanic_df.values[test_index]\n",
    "        clf.fit(x_train, y_train)\n",
    "        clf.pred = clf.predict(x_test)\n",
    "        accuracy = accuracy_score(y_test, clf.pred)\n",
    "        scores.append(accuracy)\n",
    "        print('교차검증 {0} 정확도: {1:4f}'.format(iter_count, accuracy))\n",
    "    mean_score = np.mean(scores)\n",
    "    print('평균정확도 {0:4f}'.format(mean_score))\n",
    "    "
   ]
  },
  {
   "cell_type": "code",
   "execution_count": 56,
   "id": "0f68fb3f",
   "metadata": {},
   "outputs": [
    {
     "name": "stdout",
     "output_type": "stream",
     "text": [
      "교차검증 0 정확도: 0.759777\n",
      "교차검증 1 정확도: 0.764045\n",
      "교차검증 2 정확도: 0.792135\n",
      "교차검증 3 정확도: 0.764045\n",
      "교차검증 4 정확도: 0.820225\n",
      "평균정확도 0.780045\n"
     ]
    }
   ],
   "source": [
    "exec_fold(dt_clf, folds = 5)"
   ]
  },
  {
   "cell_type": "code",
   "execution_count": 57,
   "id": "df966840",
   "metadata": {},
   "outputs": [],
   "source": [
    "from sklearn.model_selection import cross_val_score"
   ]
  },
  {
   "cell_type": "code",
   "execution_count": 58,
   "id": "b7bf65c2",
   "metadata": {},
   "outputs": [],
   "source": [
    "scores = cross_val_score(dt_clf, x_titanic_df, y_titanic_df, cv = 5)"
   ]
  },
  {
   "cell_type": "code",
   "execution_count": 61,
   "id": "0c1386c4",
   "metadata": {},
   "outputs": [
    {
     "name": "stdout",
     "output_type": "stream",
     "text": [
      "교차검증 0 정확도: 0.765363\n",
      "교차검증 1 정확도: 0.775281\n",
      "교차검증 2 정확도: 0.803371\n",
      "교차검증 3 정확도: 0.775281\n",
      "교차검증 4 정확도: 0.820225\n"
     ]
    }
   ],
   "source": [
    "for iter_count, accuracy in enumerate(scores):\n",
    "    print('교차검증 {0} 정확도: {1:4f}'.format(iter_count, accuracy))"
   ]
  },
  {
   "cell_type": "code",
   "execution_count": 62,
   "id": "0eb981e1",
   "metadata": {},
   "outputs": [
    {
     "data": {
      "text/plain": [
       "0.7879040863724813"
      ]
     },
     "execution_count": 62,
     "metadata": {},
     "output_type": "execute_result"
    }
   ],
   "source": [
    "np.mean(scores)"
   ]
  },
  {
   "cell_type": "code",
   "execution_count": 63,
   "id": "6a6ed6f1",
   "metadata": {},
   "outputs": [],
   "source": [
    "from sklearn.model_selection import GridSearchCV"
   ]
  },
  {
   "cell_type": "code",
   "execution_count": 67,
   "id": "9d81ae1d",
   "metadata": {},
   "outputs": [],
   "source": [
    "parameters = {'max_depth' : [2, 3, 5, 10], 'min_samples_split' : [2, 3, 5], 'min_samples_leaf' :[1, 5, 8]}"
   ]
  },
  {
   "cell_type": "code",
   "execution_count": 68,
   "id": "82f777b3",
   "metadata": {},
   "outputs": [],
   "source": [
    "grid_dclf = GridSearchCV(dt_clf, param_grid = parameters, scoring = 'accuracy', cv = 5)"
   ]
  },
  {
   "cell_type": "code",
   "execution_count": 69,
   "id": "94df6183",
   "metadata": {},
   "outputs": [
    {
     "data": {
      "text/plain": [
       "GridSearchCV(cv=5, estimator=DecisionTreeClassifier(),\n",
       "             param_grid={'max_depth': [2, 3, 5, 10],\n",
       "                         'min_samples_leaf': [1, 5, 8],\n",
       "                         'min_samples_split': [2, 3, 5]},\n",
       "             scoring='accuracy')"
      ]
     },
     "execution_count": 69,
     "metadata": {},
     "output_type": "execute_result"
    }
   ],
   "source": [
    "grid_dclf.fit(x_train, y_train)"
   ]
  },
  {
   "cell_type": "code",
   "execution_count": 73,
   "id": "3cc2dbb9",
   "metadata": {},
   "outputs": [
    {
     "data": {
      "text/plain": [
       "0.7991825076332119"
      ]
     },
     "execution_count": 73,
     "metadata": {},
     "output_type": "execute_result"
    }
   ],
   "source": [
    "grid_dclf.best_params_\n",
    "grid_dclf.best_score_"
   ]
  },
  {
   "cell_type": "code",
   "execution_count": 74,
   "id": "2f38a002",
   "metadata": {},
   "outputs": [],
   "source": [
    "best_dclf = grid_dclf.best_estimator_"
   ]
  },
  {
   "cell_type": "code",
   "execution_count": 75,
   "id": "dbec5381",
   "metadata": {},
   "outputs": [],
   "source": [
    "dpredictions = best_dclf.predict(x_test)"
   ]
  },
  {
   "cell_type": "code",
   "execution_count": 77,
   "id": "01e841cc",
   "metadata": {},
   "outputs": [
    {
     "data": {
      "text/plain": [
       "0.8715083798882681"
      ]
     },
     "execution_count": 77,
     "metadata": {},
     "output_type": "execute_result"
    }
   ],
   "source": [
    "accuracy_score(y_test, dpredictions)"
   ]
  },
  {
   "cell_type": "code",
   "execution_count": 79,
   "id": "0aa4283c",
   "metadata": {},
   "outputs": [],
   "source": [
    "from sklearn.base import BaseEstimator"
   ]
  },
  {
   "cell_type": "code",
   "execution_count": 88,
   "id": "93a7b119",
   "metadata": {},
   "outputs": [],
   "source": [
    "class mydummyclassifier(BaseEstimator):\n",
    "    def fit(self, X, y = None):\n",
    "        pass\n",
    "    def predict(self, X):\n",
    "        pred = np.zeros((X.shape[0], 1))\n",
    "        for i in range(X.shape[0]):\n",
    "            if X['Sex'].iloc[i] == 1:\n",
    "                pred[i] = 0\n",
    "            else :\n",
    "                pred[i] = 1\n",
    "        return pred"
   ]
  },
  {
   "cell_type": "code",
   "execution_count": 91,
   "id": "c43451c8",
   "metadata": {},
   "outputs": [
    {
     "data": {
      "text/plain": [
       "0      0\n",
       "1      1\n",
       "2      1\n",
       "3      1\n",
       "4      0\n",
       "      ..\n",
       "886    0\n",
       "887    1\n",
       "888    0\n",
       "889    1\n",
       "890    0\n",
       "Name: Survived, Length: 891, dtype: int64"
      ]
     },
     "execution_count": 91,
     "metadata": {},
     "output_type": "execute_result"
    }
   ],
   "source": [
    "y_titanic_df"
   ]
  },
  {
   "cell_type": "code",
   "execution_count": 92,
   "id": "24baacfa",
   "metadata": {},
   "outputs": [],
   "source": [
    "x_train, x_test, y_train, y_test = train_test_split(x_titanic_df, y_titanic_df, test_size = 0.2, random_state = 0)"
   ]
  },
  {
   "cell_type": "code",
   "execution_count": 93,
   "id": "e149ff55",
   "metadata": {},
   "outputs": [],
   "source": [
    "myclf = mydummyclassifier()"
   ]
  },
  {
   "cell_type": "code",
   "execution_count": 94,
   "id": "f7196e2a",
   "metadata": {},
   "outputs": [],
   "source": [
    "myclf.fit(x_train, y_train)"
   ]
  },
  {
   "cell_type": "code",
   "execution_count": 95,
   "id": "1aaf58e5",
   "metadata": {},
   "outputs": [],
   "source": [
    "mypred = myclf.predict(x_test)"
   ]
  },
  {
   "cell_type": "code",
   "execution_count": 96,
   "id": "873b519e",
   "metadata": {},
   "outputs": [
    {
     "data": {
      "text/plain": [
       "0.7877094972067039"
      ]
     },
     "execution_count": 96,
     "metadata": {},
     "output_type": "execute_result"
    }
   ],
   "source": [
    "accuracy_score(y_test, mypred)"
   ]
  },
  {
   "cell_type": "code",
   "execution_count": 97,
   "id": "cc5d7081",
   "metadata": {},
   "outputs": [],
   "source": [
    "from sklearn.datasets import load_digits\n"
   ]
  },
  {
   "cell_type": "code",
   "execution_count": 98,
   "id": "454280b6",
   "metadata": {},
   "outputs": [],
   "source": [
    "class myfake(BaseEstimator):\n",
    "    def fit(self, X, y):\n",
    "        pass\n",
    "    def predict(self, X):\n",
    "        return np.zeros((len(X), 1), dtype = bool)\n",
    "digits = load_digits()"
   ]
  },
  {
   "cell_type": "code",
   "execution_count": 99,
   "id": "eae928fa",
   "metadata": {},
   "outputs": [],
   "source": [
    "y = (digits.target == 7).astype(int)\n",
    "x_train, y_train, x_test, y_test = train_test_split(digits.data, y, random_state = 11)"
   ]
  },
  {
   "cell_type": "code",
   "execution_count": null,
   "id": "7d910fd3",
   "metadata": {},
   "outputs": [],
   "source": []
  }
 ],
 "metadata": {
  "kernelspec": {
   "display_name": "Python 3",
   "language": "python",
   "name": "python3"
  },
  "language_info": {
   "codemirror_mode": {
    "name": "ipython",
    "version": 3
   },
   "file_extension": ".py",
   "mimetype": "text/x-python",
   "name": "python",
   "nbconvert_exporter": "python",
   "pygments_lexer": "ipython3",
   "version": "3.8.8"
  }
 },
 "nbformat": 4,
 "nbformat_minor": 5
}
