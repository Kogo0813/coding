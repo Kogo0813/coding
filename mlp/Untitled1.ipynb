{
 "cells": [
  {
   "cell_type": "code",
<<<<<<< HEAD
   "execution_count": 2,
   "id": "c8082fb5-7238-4eee-b26a-a90dfa8f056b",
   "metadata": {},
   "outputs": [],
   "source": [
    "from sklearn.ensemble import RandomForestClassifier\n",
    "from sklearn.metrics import accuracy_score\n",
    "import pandas as pd\n",
    "import warnings\n",
    "warnings.filterwarnings('ignore')"
=======
   "execution_count": 1,
   "id": "34c03021",
   "metadata": {},
   "outputs": [],
   "source": [
    "import pandas as pd\n",
    "import numpy as np\n",
    "import matplotlib.pyplot as plt\n",
    "import sklearn\n",
    "from sklearn.metrics import accuracy_score, precision_score, confusion_matrix"
   ]
  },
  {
   "cell_type": "code",
   "execution_count": 4,
   "id": "f6ea6048",
   "metadata": {},
   "outputs": [],
   "source": [
    "from sklearn.model_selection import train_test_split"
   ]
  },
  {
   "cell_type": "code",
   "execution_count": 6,
   "id": "0ea7a0d0",
   "metadata": {},
   "outputs": [],
   "source": [
    "from sklearn.preprocessing import LabelEncoder, OneHotEncoder"
   ]
  },
  {
   "cell_type": "code",
   "execution_count": 7,
   "id": "af5bb2e8",
   "metadata": {},
   "outputs": [],
   "source": [
    "from sklearn.metrics import f1_score"
   ]
  },
  {
   "cell_type": "code",
   "execution_count": 8,
   "id": "49c41493",
   "metadata": {},
   "outputs": [],
   "source": [
    "from sklearn.metrics import recall_score, roc_auc_score\n",
    "from sklearn.preprocessing import StandardScaler"
   ]
  },
  {
   "cell_type": "code",
   "execution_count": 9,
   "id": "0a2ef1d8",
   "metadata": {},
   "outputs": [],
   "source": [
    "from sklearn.linear_model import LogisticRegression"
   ]
  },
  {
   "cell_type": "code",
   "execution_count": 62,
   "id": "2b74fba9",
   "metadata": {},
   "outputs": [],
   "source": [
    "diabetes_data = pd.read_csv('C:\\\\Users\\\\KO\\\\all code\\\\mlp\\\\diabetes.csv')"
   ]
  },
  {
   "cell_type": "code",
   "execution_count": 13,
   "id": "415b96e5",
   "metadata": {},
   "outputs": [
    {
     "data": {
      "text/plain": [
       "0    500\n",
       "1    268\n",
       "Name: Outcome, dtype: int64"
      ]
     },
     "execution_count": 13,
     "metadata": {},
     "output_type": "execute_result"
    }
   ],
   "source": [
    "diabetes_data['Outcome'].value_counts()   # 당뇨병이 아닌 사람이 500명 , 당뇨병인 사람이 268명이다 in 트레이닝 데이터"
   ]
  },
  {
   "cell_type": "code",
   "execution_count": 14,
   "id": "0aebb8d1",
   "metadata": {},
   "outputs": [
    {
     "data": {
      "text/html": [
       "<div>\n",
       "<style scoped>\n",
       "    .dataframe tbody tr th:only-of-type {\n",
       "        vertical-align: middle;\n",
       "    }\n",
       "\n",
       "    .dataframe tbody tr th {\n",
       "        vertical-align: top;\n",
       "    }\n",
       "\n",
       "    .dataframe thead th {\n",
       "        text-align: right;\n",
       "    }\n",
       "</style>\n",
       "<table border=\"1\" class=\"dataframe\">\n",
       "  <thead>\n",
       "    <tr style=\"text-align: right;\">\n",
       "      <th></th>\n",
       "      <th>Pregnancies</th>\n",
       "      <th>Glucose</th>\n",
       "      <th>BloodPressure</th>\n",
       "      <th>SkinThickness</th>\n",
       "      <th>Insulin</th>\n",
       "      <th>BMI</th>\n",
       "      <th>DiabetesPedigreeFunction</th>\n",
       "      <th>Age</th>\n",
       "      <th>Outcome</th>\n",
       "    </tr>\n",
       "  </thead>\n",
       "  <tbody>\n",
       "    <tr>\n",
       "      <th>0</th>\n",
       "      <td>6</td>\n",
       "      <td>148</td>\n",
       "      <td>72</td>\n",
       "      <td>35</td>\n",
       "      <td>0</td>\n",
       "      <td>33.6</td>\n",
       "      <td>0.627</td>\n",
       "      <td>50</td>\n",
       "      <td>1</td>\n",
       "    </tr>\n",
       "    <tr>\n",
       "      <th>1</th>\n",
       "      <td>1</td>\n",
       "      <td>85</td>\n",
       "      <td>66</td>\n",
       "      <td>29</td>\n",
       "      <td>0</td>\n",
       "      <td>26.6</td>\n",
       "      <td>0.351</td>\n",
       "      <td>31</td>\n",
       "      <td>0</td>\n",
       "    </tr>\n",
       "    <tr>\n",
       "      <th>2</th>\n",
       "      <td>8</td>\n",
       "      <td>183</td>\n",
       "      <td>64</td>\n",
       "      <td>0</td>\n",
       "      <td>0</td>\n",
       "      <td>23.3</td>\n",
       "      <td>0.672</td>\n",
       "      <td>32</td>\n",
       "      <td>1</td>\n",
       "    </tr>\n",
       "  </tbody>\n",
       "</table>\n",
       "</div>"
      ],
      "text/plain": [
       "   Pregnancies  Glucose  BloodPressure  SkinThickness  Insulin   BMI  \\\n",
       "0            6      148             72             35        0  33.6   \n",
       "1            1       85             66             29        0  26.6   \n",
       "2            8      183             64              0        0  23.3   \n",
       "\n",
       "   DiabetesPedigreeFunction  Age  Outcome  \n",
       "0                     0.627   50        1  \n",
       "1                     0.351   31        0  \n",
       "2                     0.672   32        1  "
      ]
     },
     "execution_count": 14,
     "metadata": {},
     "output_type": "execute_result"
    }
   ],
   "source": [
    "diabetes_data.head(3)"
   ]
  },
  {
   "cell_type": "code",
   "execution_count": 15,
   "id": "ddedd91c",
   "metadata": {},
   "outputs": [
    {
     "name": "stdout",
     "output_type": "stream",
     "text": [
      "<class 'pandas.core.frame.DataFrame'>\n",
      "RangeIndex: 768 entries, 0 to 767\n",
      "Data columns (total 9 columns):\n",
      " #   Column                    Non-Null Count  Dtype  \n",
      "---  ------                    --------------  -----  \n",
      " 0   Pregnancies               768 non-null    int64  \n",
      " 1   Glucose                   768 non-null    int64  \n",
      " 2   BloodPressure             768 non-null    int64  \n",
      " 3   SkinThickness             768 non-null    int64  \n",
      " 4   Insulin                   768 non-null    int64  \n",
      " 5   BMI                       768 non-null    float64\n",
      " 6   DiabetesPedigreeFunction  768 non-null    float64\n",
      " 7   Age                       768 non-null    int64  \n",
      " 8   Outcome                   768 non-null    int64  \n",
      "dtypes: float64(2), int64(7)\n",
      "memory usage: 54.1 KB\n"
     ]
    }
   ],
   "source": [
    "diabetes_data.info()  #null값이 존재하지 않음, 문자도없어 encoder할 필요가 없음"
   ]
  },
  {
   "cell_type": "code",
   "execution_count": 16,
   "id": "0c2a8946",
   "metadata": {},
   "outputs": [],
   "source": [
    "x = diabetes_data.drop('Outcome', axis = 1)  # 피처데이터와 레이블 데이터로 구분지었음.\n",
    "y = diabetes_data['Outcome']"
   ]
  },
  {
   "cell_type": "code",
   "execution_count": 18,
   "id": "f453ba7b",
   "metadata": {},
   "outputs": [],
   "source": [
    "x_train, x_test, y_train, y_test = train_test_split(x, y, test_size = 0.2 , random_state = 11, stratify = y)"
   ]
  },
  {
   "cell_type": "code",
   "execution_count": 21,
   "id": "71a7315a",
   "metadata": {},
   "outputs": [
    {
     "name": "stdout",
     "output_type": "stream",
     "text": [
      "오차행렬\n",
      "[[89 11]\n",
      " [24 30]]\n",
      "정확도 : 0.7727, 정밀도 : 0.7317, 재현율 : 0.5556,        F1 : 0.6316, AUC : 0.8461\n"
     ]
    },
    {
     "name": "stderr",
     "output_type": "stream",
     "text": [
      "C:\\ProgramData\\Anaconda3\\lib\\site-packages\\sklearn\\linear_model\\_logistic.py:763: ConvergenceWarning: lbfgs failed to converge (status=1):\n",
      "STOP: TOTAL NO. of ITERATIONS REACHED LIMIT.\n",
      "\n",
      "Increase the number of iterations (max_iter) or scale the data as shown in:\n",
      "    https://scikit-learn.org/stable/modules/preprocessing.html\n",
      "Please also refer to the documentation for alternative solver options:\n",
      "    https://scikit-learn.org/stable/modules/linear_model.html#logistic-regression\n",
      "  n_iter_i = _check_optimize_result(\n"
     ]
    }
   ],
   "source": [
    "lr_clf = LogisticRegression()\n",
    "lr_clf.fit(x_train, y_train)\n",
    "pred = lr_clf.predict(x_test)\n",
    "pred_proba = lr_clf.predict_proba(x_test)[:,1]\n",
    "get_clf_eval(y_test, pred, pred_proba)\n"
   ]
  },
  {
   "cell_type": "code",
   "execution_count": 19,
   "id": "b4e6a66e",
   "metadata": {},
   "outputs": [],
   "source": [
    "def get_clf_eval(y_test, pred = None, pred_proba = None):\n",
    "    confusion = confusion_matrix(y_test, pred)\n",
    "    accuracy = accuracy_score(y_test, pred)\n",
    "    precision = precision_score(y_test, pred)\n",
    "    recall = recall_score(y_test, pred)\n",
    "    f1 = f1_score(y_test, pred)\n",
    "    roc_auc = roc_auc_score(y_test, pred_proba)\n",
    "    print('오차행렬')\n",
    "    print(confusion)\n",
    "    print('정확도 : {0:.4f}, 정밀도 : {1:.4f}, 재현율 : {2:.4f},\\\n",
    "        F1 : {3:.4f}, AUC : {4:.4f}'.format(accuracy, precision, recall, f1, roc_auc))"
   ]
  },
  {
   "cell_type": "code",
   "execution_count": 23,
   "id": "6c0ccd46",
   "metadata": {},
   "outputs": [],
   "source": [
    "pred_proba_c1 = lr_clf.predict_proba(x_test)[:,1]"
   ]
  },
  {
   "cell_type": "code",
   "execution_count": 24,
   "id": "18b521b8",
   "metadata": {},
   "outputs": [
    {
     "ename": "NameError",
     "evalue": "name 'precision_recall_curve_plot' is not defined",
     "output_type": "error",
     "traceback": [
      "\u001b[1;31m---------------------------------------------------------------------------\u001b[0m",
      "\u001b[1;31mNameError\u001b[0m                                 Traceback (most recent call last)",
      "\u001b[1;32m~\\AppData\\Local\\Temp/ipykernel_46388/1511238272.py\u001b[0m in \u001b[0;36m<module>\u001b[1;34m\u001b[0m\n\u001b[1;32m----> 1\u001b[1;33m \u001b[0mprecision_recall_curve_plot\u001b[0m\u001b[1;33m(\u001b[0m\u001b[0my_test\u001b[0m\u001b[1;33m,\u001b[0m \u001b[0mpred_proba_c1\u001b[0m\u001b[1;33m)\u001b[0m\u001b[1;33m\u001b[0m\u001b[1;33m\u001b[0m\u001b[0m\n\u001b[0m",
      "\u001b[1;31mNameError\u001b[0m: name 'precision_recall_curve_plot' is not defined"
     ]
    }
   ],
   "source": [
    "precision_recall_curve_plot(y_test, pred_proba_c1)"
   ]
  },
  {
   "cell_type": "code",
   "execution_count": 27,
   "id": "41efd8a4",
   "metadata": {},
   "outputs": [
    {
     "ename": "ImportError",
     "evalue": "cannot import name 'precision_recall_curve_plot' from 'sklearn.metrics' (C:\\ProgramData\\Anaconda3\\lib\\site-packages\\sklearn\\metrics\\__init__.py)",
     "output_type": "error",
     "traceback": [
      "\u001b[1;31m---------------------------------------------------------------------------\u001b[0m",
      "\u001b[1;31mImportError\u001b[0m                               Traceback (most recent call last)",
      "\u001b[1;32m~\\AppData\\Local\\Temp/ipykernel_46388/3791551410.py\u001b[0m in \u001b[0;36m<module>\u001b[1;34m\u001b[0m\n\u001b[1;32m----> 1\u001b[1;33m \u001b[1;32mfrom\u001b[0m \u001b[0msklearn\u001b[0m\u001b[1;33m.\u001b[0m\u001b[0mmetrics\u001b[0m \u001b[1;32mimport\u001b[0m \u001b[0mprecision_recall_curve_plot\u001b[0m\u001b[1;33m\u001b[0m\u001b[1;33m\u001b[0m\u001b[0m\n\u001b[0m",
      "\u001b[1;31mImportError\u001b[0m: cannot import name 'precision_recall_curve_plot' from 'sklearn.metrics' (C:\\ProgramData\\Anaconda3\\lib\\site-packages\\sklearn\\metrics\\__init__.py)"
     ]
    }
   ],
   "source": [
    "from sklearn.metrics import precision_recall_curve_plot"
   ]
  },
  {
   "cell_type": "code",
   "execution_count": 26,
   "id": "6dfd050e",
   "metadata": {},
   "outputs": [],
   "source": [
    "from sklearn.metrics import roc_curve"
   ]
  },
  {
   "cell_type": "code",
   "execution_count": 34,
   "id": "022e5745",
   "metadata": {},
   "outputs": [],
   "source": [
    "def precision_recall_curve_plot(y_test, pred_proba_c1):\n",
    "    precisions, recalls, thresholds = precision_recall_curve(y_test, pred_proba_c1)\n",
    "    plt.figure(figsize = (8, 6))\n",
    "    threshold_boundary = thresholds.shape[0]\n",
    "    plt.plot(thresholds, precisions[0:threshold_boundary], linestyle = '--', label = 'precision')\n",
    "    plt.plot(thresholds, recalls[0:threshold_boundary], label = 'recall')\n",
    "    start, end = plt.xlim()\n",
    "    plt.xticks(np.round(np.arange(start, end, 0.1),2))\n",
    "    plt.xlabel('threshold value'); plt.ylabel('precision and recall value')\n",
    "    plt.legend(); plt.grid()\n",
    "    plt.show()"
   ]
  },
  {
   "cell_type": "code",
   "execution_count": 35,
   "id": "19ba39bd",
   "metadata": {},
   "outputs": [
    {
     "data": {
      "image/png": "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\n",
      "text/plain": [
       "<Figure size 576x432 with 1 Axes>"
      ]
     },
     "metadata": {
      "needs_background": "light"
     },
     "output_type": "display_data"
    }
   ],
   "source": [
    "precision_recall_curve_plot (y_test, pred_proba_c1)"
   ]
  },
  {
   "cell_type": "code",
   "execution_count": 36,
   "id": "a2b10eb0",
   "metadata": {},
   "outputs": [],
   "source": [
    "from sklearn.metrics import precision_recall_curve"
   ]
  },
  {
   "cell_type": "code",
   "execution_count": 37,
   "id": "129c05aa",
   "metadata": {},
   "outputs": [
    {
     "data": {
      "text/html": [
       "<div>\n",
       "<style scoped>\n",
       "    .dataframe tbody tr th:only-of-type {\n",
       "        vertical-align: middle;\n",
       "    }\n",
       "\n",
       "    .dataframe tbody tr th {\n",
       "        vertical-align: top;\n",
       "    }\n",
       "\n",
       "    .dataframe thead th {\n",
       "        text-align: right;\n",
       "    }\n",
       "</style>\n",
       "<table border=\"1\" class=\"dataframe\">\n",
       "  <thead>\n",
       "    <tr style=\"text-align: right;\">\n",
       "      <th></th>\n",
       "      <th>Pregnancies</th>\n",
       "      <th>Glucose</th>\n",
       "      <th>BloodPressure</th>\n",
       "      <th>SkinThickness</th>\n",
       "      <th>Insulin</th>\n",
       "      <th>BMI</th>\n",
       "      <th>DiabetesPedigreeFunction</th>\n",
       "      <th>Age</th>\n",
       "      <th>Outcome</th>\n",
       "    </tr>\n",
       "  </thead>\n",
       "  <tbody>\n",
       "    <tr>\n",
       "      <th>count</th>\n",
       "      <td>768.000000</td>\n",
       "      <td>768.000000</td>\n",
       "      <td>768.000000</td>\n",
       "      <td>768.000000</td>\n",
       "      <td>768.000000</td>\n",
       "      <td>768.000000</td>\n",
       "      <td>768.000000</td>\n",
       "      <td>768.000000</td>\n",
       "      <td>768.000000</td>\n",
       "    </tr>\n",
       "    <tr>\n",
       "      <th>mean</th>\n",
       "      <td>3.845052</td>\n",
       "      <td>120.894531</td>\n",
       "      <td>69.105469</td>\n",
       "      <td>20.536458</td>\n",
       "      <td>79.799479</td>\n",
       "      <td>31.992578</td>\n",
       "      <td>0.471876</td>\n",
       "      <td>33.240885</td>\n",
       "      <td>0.348958</td>\n",
       "    </tr>\n",
       "    <tr>\n",
       "      <th>std</th>\n",
       "      <td>3.369578</td>\n",
       "      <td>31.972618</td>\n",
       "      <td>19.355807</td>\n",
       "      <td>15.952218</td>\n",
       "      <td>115.244002</td>\n",
       "      <td>7.884160</td>\n",
       "      <td>0.331329</td>\n",
       "      <td>11.760232</td>\n",
       "      <td>0.476951</td>\n",
       "    </tr>\n",
       "    <tr>\n",
       "      <th>min</th>\n",
       "      <td>0.000000</td>\n",
       "      <td>0.000000</td>\n",
       "      <td>0.000000</td>\n",
       "      <td>0.000000</td>\n",
       "      <td>0.000000</td>\n",
       "      <td>0.000000</td>\n",
       "      <td>0.078000</td>\n",
       "      <td>21.000000</td>\n",
       "      <td>0.000000</td>\n",
       "    </tr>\n",
       "    <tr>\n",
       "      <th>25%</th>\n",
       "      <td>1.000000</td>\n",
       "      <td>99.000000</td>\n",
       "      <td>62.000000</td>\n",
       "      <td>0.000000</td>\n",
       "      <td>0.000000</td>\n",
       "      <td>27.300000</td>\n",
       "      <td>0.243750</td>\n",
       "      <td>24.000000</td>\n",
       "      <td>0.000000</td>\n",
       "    </tr>\n",
       "    <tr>\n",
       "      <th>50%</th>\n",
       "      <td>3.000000</td>\n",
       "      <td>117.000000</td>\n",
       "      <td>72.000000</td>\n",
       "      <td>23.000000</td>\n",
       "      <td>30.500000</td>\n",
       "      <td>32.000000</td>\n",
       "      <td>0.372500</td>\n",
       "      <td>29.000000</td>\n",
       "      <td>0.000000</td>\n",
       "    </tr>\n",
       "    <tr>\n",
       "      <th>75%</th>\n",
       "      <td>6.000000</td>\n",
       "      <td>140.250000</td>\n",
       "      <td>80.000000</td>\n",
       "      <td>32.000000</td>\n",
       "      <td>127.250000</td>\n",
       "      <td>36.600000</td>\n",
       "      <td>0.626250</td>\n",
       "      <td>41.000000</td>\n",
       "      <td>1.000000</td>\n",
       "    </tr>\n",
       "    <tr>\n",
       "      <th>max</th>\n",
       "      <td>17.000000</td>\n",
       "      <td>199.000000</td>\n",
       "      <td>122.000000</td>\n",
       "      <td>99.000000</td>\n",
       "      <td>846.000000</td>\n",
       "      <td>67.100000</td>\n",
       "      <td>2.420000</td>\n",
       "      <td>81.000000</td>\n",
       "      <td>1.000000</td>\n",
       "    </tr>\n",
       "  </tbody>\n",
       "</table>\n",
       "</div>"
      ],
      "text/plain": [
       "       Pregnancies     Glucose  BloodPressure  SkinThickness     Insulin  \\\n",
       "count   768.000000  768.000000     768.000000     768.000000  768.000000   \n",
       "mean      3.845052  120.894531      69.105469      20.536458   79.799479   \n",
       "std       3.369578   31.972618      19.355807      15.952218  115.244002   \n",
       "min       0.000000    0.000000       0.000000       0.000000    0.000000   \n",
       "25%       1.000000   99.000000      62.000000       0.000000    0.000000   \n",
       "50%       3.000000  117.000000      72.000000      23.000000   30.500000   \n",
       "75%       6.000000  140.250000      80.000000      32.000000  127.250000   \n",
       "max      17.000000  199.000000     122.000000      99.000000  846.000000   \n",
       "\n",
       "              BMI  DiabetesPedigreeFunction         Age     Outcome  \n",
       "count  768.000000                768.000000  768.000000  768.000000  \n",
       "mean    31.992578                  0.471876   33.240885    0.348958  \n",
       "std      7.884160                  0.331329   11.760232    0.476951  \n",
       "min      0.000000                  0.078000   21.000000    0.000000  \n",
       "25%     27.300000                  0.243750   24.000000    0.000000  \n",
       "50%     32.000000                  0.372500   29.000000    0.000000  \n",
       "75%     36.600000                  0.626250   41.000000    1.000000  \n",
       "max     67.100000                  2.420000   81.000000    1.000000  "
      ]
     },
     "execution_count": 37,
     "metadata": {},
     "output_type": "execute_result"
    }
   ],
   "source": [
    "diabetes_data.describe()"
   ]
  },
  {
   "cell_type": "code",
   "execution_count": 38,
   "id": "9dd0221b",
   "metadata": {},
   "outputs": [
    {
     "data": {
      "text/plain": [
       "(array([  5.,   0.,   4.,  32., 156., 211., 163.,  95.,  56.,  46.]),\n",
       " array([  0. ,  19.9,  39.8,  59.7,  79.6,  99.5, 119.4, 139.3, 159.2,\n",
       "        179.1, 199. ]),\n",
       " <BarContainer object of 10 artists>)"
      ]
     },
     "execution_count": 38,
     "metadata": {},
     "output_type": "execute_result"
    },
    {
     "data": {
      "image/png": "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\n",
      "text/plain": [
       "<Figure size 432x288 with 1 Axes>"
      ]
     },
     "metadata": {
      "needs_background": "light"
     },
     "output_type": "display_data"
    }
   ],
   "source": [
    "plt.hist(diabetes_data['Glucose'], bins = 10)"
   ]
  },
  {
   "cell_type": "code",
   "execution_count": 45,
   "id": "f88b2bd7",
   "metadata": {},
   "outputs": [],
   "source": [
    "zero_features = ['Glucose', 'BloodPressure', 'SkinThickness', 'Insulin', 'BMI']"
   ]
  },
  {
   "cell_type": "code",
   "execution_count": 46,
   "id": "571b84f5",
   "metadata": {},
   "outputs": [],
   "source": [
    "total_count = diabetes_data['Glucose'].count()"
   ]
  },
  {
   "cell_type": "code",
   "execution_count": 47,
   "id": "2a4aeebe",
   "metadata": {},
   "outputs": [
    {
     "data": {
      "text/plain": [
       "768"
      ]
     },
     "execution_count": 47,
     "metadata": {},
     "output_type": "execute_result"
    }
   ],
   "source": [
    "total_count"
   ]
  },
  {
   "cell_type": "code",
   "execution_count": 52,
   "id": "be058501",
   "metadata": {},
   "outputs": [
    {
     "name": "stdout",
     "output_type": "stream",
     "text": [
      "Glucose 데이터 건수는 0, 퍼센트는 0.00\n",
      "BloodPressure 데이터 건수는 0, 퍼센트는 0.00\n",
      "SkinThickness 데이터 건수는 0, 퍼센트는 0.00\n",
      "Insulin 데이터 건수는 0, 퍼센트는 0.00\n",
      "BMI 데이터 건수는 0, 퍼센트는 0.00\n"
     ]
    }
   ],
   "source": [
    "# 피쳐별로 반복하면서 데이터 값이 0인 데이터건수를 추출하고 퍼센트 계산\n",
    "for feature in zero_features:\n",
    "    zero_count = diabetes_data[diabetes_data[feature] == 0][feature].count()\n",
    "    print('{0} 데이터 건수는 {1}, 퍼센트는 {2:.2f}'.format(feature, zero_count, zero_count / total_count * 100))"
   ]
  },
  {
   "cell_type": "code",
   "execution_count": 50,
   "id": "708289f4",
   "metadata": {},
   "outputs": [],
   "source": [
    "mean_zero_features = diabetes_data[zero_features].mean()"
   ]
  },
  {
   "cell_type": "code",
   "execution_count": 63,
   "id": "bdf91b45",
   "metadata": {},
   "outputs": [],
   "source": [
    "diabetes_data[zero_features] = diabetes_data[zero_features].replace(0, mean_zero_features)"
   ]
  },
  {
   "cell_type": "code",
   "execution_count": 64,
   "id": "36e03188",
   "metadata": {},
   "outputs": [],
   "source": [
    "x = diabetes_data.drop('Outcome', axis = 1)\n",
    "y = diabetes_data['Outcome']"
   ]
  },
  {
   "cell_type": "code",
   "execution_count": 65,
   "id": "07cfe546",
   "metadata": {},
   "outputs": [
    {
     "data": {
      "text/html": [
       "<div>\n",
       "<style scoped>\n",
       "    .dataframe tbody tr th:only-of-type {\n",
       "        vertical-align: middle;\n",
       "    }\n",
       "\n",
       "    .dataframe tbody tr th {\n",
       "        vertical-align: top;\n",
       "    }\n",
       "\n",
       "    .dataframe thead th {\n",
       "        text-align: right;\n",
       "    }\n",
       "</style>\n",
       "<table border=\"1\" class=\"dataframe\">\n",
       "  <thead>\n",
       "    <tr style=\"text-align: right;\">\n",
       "      <th></th>\n",
       "      <th>Pregnancies</th>\n",
       "      <th>Glucose</th>\n",
       "      <th>BloodPressure</th>\n",
       "      <th>SkinThickness</th>\n",
       "      <th>Insulin</th>\n",
       "      <th>BMI</th>\n",
       "      <th>DiabetesPedigreeFunction</th>\n",
       "      <th>Age</th>\n",
       "      <th>Outcome</th>\n",
       "    </tr>\n",
       "  </thead>\n",
       "  <tbody>\n",
       "    <tr>\n",
       "      <th>0</th>\n",
       "      <td>6</td>\n",
       "      <td>148.0</td>\n",
       "      <td>72.0</td>\n",
       "      <td>35.000000</td>\n",
       "      <td>79.799479</td>\n",
       "      <td>33.6</td>\n",
       "      <td>0.627</td>\n",
       "      <td>50</td>\n",
       "      <td>1</td>\n",
       "    </tr>\n",
       "    <tr>\n",
       "      <th>1</th>\n",
       "      <td>1</td>\n",
       "      <td>85.0</td>\n",
       "      <td>66.0</td>\n",
       "      <td>29.000000</td>\n",
       "      <td>79.799479</td>\n",
       "      <td>26.6</td>\n",
       "      <td>0.351</td>\n",
       "      <td>31</td>\n",
       "      <td>0</td>\n",
       "    </tr>\n",
       "    <tr>\n",
       "      <th>2</th>\n",
       "      <td>8</td>\n",
       "      <td>183.0</td>\n",
       "      <td>64.0</td>\n",
       "      <td>20.536458</td>\n",
       "      <td>79.799479</td>\n",
       "      <td>23.3</td>\n",
       "      <td>0.672</td>\n",
       "      <td>32</td>\n",
       "      <td>1</td>\n",
       "    </tr>\n",
       "    <tr>\n",
       "      <th>3</th>\n",
       "      <td>1</td>\n",
       "      <td>89.0</td>\n",
       "      <td>66.0</td>\n",
       "      <td>23.000000</td>\n",
       "      <td>94.000000</td>\n",
       "      <td>28.1</td>\n",
       "      <td>0.167</td>\n",
       "      <td>21</td>\n",
       "      <td>0</td>\n",
       "    </tr>\n",
       "    <tr>\n",
       "      <th>4</th>\n",
       "      <td>0</td>\n",
       "      <td>137.0</td>\n",
       "      <td>40.0</td>\n",
       "      <td>35.000000</td>\n",
       "      <td>168.000000</td>\n",
       "      <td>43.1</td>\n",
       "      <td>2.288</td>\n",
       "      <td>33</td>\n",
       "      <td>1</td>\n",
       "    </tr>\n",
       "  </tbody>\n",
       "</table>\n",
       "</div>"
      ],
      "text/plain": [
       "   Pregnancies  Glucose  BloodPressure  SkinThickness     Insulin   BMI  \\\n",
       "0            6    148.0           72.0      35.000000   79.799479  33.6   \n",
       "1            1     85.0           66.0      29.000000   79.799479  26.6   \n",
       "2            8    183.0           64.0      20.536458   79.799479  23.3   \n",
       "3            1     89.0           66.0      23.000000   94.000000  28.1   \n",
       "4            0    137.0           40.0      35.000000  168.000000  43.1   \n",
       "\n",
       "   DiabetesPedigreeFunction  Age  Outcome  \n",
       "0                     0.627   50        1  \n",
       "1                     0.351   31        0  \n",
       "2                     0.672   32        1  \n",
       "3                     0.167   21        0  \n",
       "4                     2.288   33        1  "
      ]
     },
     "execution_count": 65,
     "metadata": {},
     "output_type": "execute_result"
    }
   ],
   "source": [
    "diabetes_data.head(5)"
   ]
  },
  {
   "cell_type": "code",
   "execution_count": 66,
   "id": "1160c7b1",
   "metadata": {},
   "outputs": [],
   "source": [
    "scaler = StandardScaler()"
   ]
  },
  {
   "cell_type": "code",
   "execution_count": 67,
   "id": "363d1463",
   "metadata": {},
   "outputs": [],
   "source": [
    "x_scaled = scaler.fit_transform(x)"
   ]
  },
  {
   "cell_type": "code",
   "execution_count": 71,
   "id": "a070a242",
   "metadata": {},
   "outputs": [],
   "source": [
    "x_train, x_test, y_train, y_test = train_test_split(x_scaled, y, test_size = 0.2, random_state = 11, stratify = y)"
   ]
  },
  {
   "cell_type": "code",
   "execution_count": 101,
   "id": "477958ac",
   "metadata": {},
   "outputs": [],
   "source": [
    "lr_clf = LogisticRegression()\n",
    "lr_clf.fit(x_train, y_train)\n",
    "pred = lr_clf.predict(x_test)\n",
    "pred_proba = lr_clf.predict_proba(x_test)[:, 1]"
   ]
  },
  {
   "cell_type": "code",
   "execution_count": 102,
   "id": "264b64ad",
   "metadata": {},
   "outputs": [
    {
     "name": "stdout",
     "output_type": "stream",
     "text": [
      "오차행렬\n",
      "[[88 12]\n",
      " [25 29]]\n",
      "정확도 : 0.7597, 정밀도 : 0.7073, 재현율 : 0.5370,        F1 : 0.6105, AUC : 0.8461\n"
     ]
    }
   ],
   "source": [
    "get_clf_eval(y_test, pred, pred_proba)"
   ]
  },
  {
   "cell_type": "code",
   "execution_count": 103,
   "id": "aacdaf5e",
   "metadata": {},
   "outputs": [],
   "source": [
    "def get_eval_by_threshold(y_test, pred_proba_c1, thresholds):\n",
    "    for custom_threshold in thresholds:\n",
    "        binarizer = Binarizer(threshold = custom_threshold).fit(pred_proba_c1)\n",
    "        custom_predict = binarizer.transform(pred_proba_c1)\n",
    "        print('임곗값:', custom_threshold)\n",
    "        get_clf_eval(y_test, custom_predict)\n",
    "        "
   ]
  },
  {
   "cell_type": "code",
   "execution_count": 110,
   "id": "e53111c0",
   "metadata": {},
   "outputs": [
    {
     "name": "stdout",
     "output_type": "stream",
     "text": [
      "임곗값: 0.3\n"
     ]
    },
    {
     "name": "stderr",
     "output_type": "stream",
     "text": [
      "C:\\ProgramData\\Anaconda3\\lib\\site-packages\\sklearn\\utils\\validation.py:63: FutureWarning: Arrays of bytes/strings is being converted to decimal numbers if dtype='numeric'. This behavior is deprecated in 0.24 and will be removed in 1.1 (renaming of 0.26). Please convert your data to numeric values explicitly instead.\n",
      "  return f(*args, **kwargs)\n"
     ]
    },
    {
     "ename": "ValueError",
     "evalue": "Input contains NaN, infinity or a value too large for dtype('float64').",
     "output_type": "error",
     "traceback": [
      "\u001b[1;31m---------------------------------------------------------------------------\u001b[0m",
      "\u001b[1;31mValueError\u001b[0m                                Traceback (most recent call last)",
      "\u001b[1;32m~\\AppData\\Local\\Temp/ipykernel_46388/2250145880.py\u001b[0m in \u001b[0;36m<module>\u001b[1;34m\u001b[0m\n\u001b[0;32m      1\u001b[0m \u001b[1;32mfrom\u001b[0m \u001b[0msklearn\u001b[0m\u001b[1;33m.\u001b[0m\u001b[0mpreprocessing\u001b[0m \u001b[1;32mimport\u001b[0m \u001b[0mBinarizer\u001b[0m\u001b[1;33m\u001b[0m\u001b[1;33m\u001b[0m\u001b[0m\n\u001b[0;32m      2\u001b[0m \u001b[0mthresholds\u001b[0m \u001b[1;33m=\u001b[0m \u001b[1;33m[\u001b[0m\u001b[1;36m0.3\u001b[0m\u001b[1;33m,\u001b[0m \u001b[1;36m0.33\u001b[0m\u001b[1;33m,\u001b[0m \u001b[1;36m0.36\u001b[0m\u001b[1;33m,\u001b[0m \u001b[1;36m0.39\u001b[0m\u001b[1;33m,\u001b[0m \u001b[1;36m0.42\u001b[0m\u001b[1;33m,\u001b[0m \u001b[1;36m0.45\u001b[0m\u001b[1;33m,\u001b[0m \u001b[1;36m0.48\u001b[0m\u001b[1;33m,\u001b[0m \u001b[1;36m0.50\u001b[0m\u001b[1;33m]\u001b[0m\u001b[1;33m\u001b[0m\u001b[1;33m\u001b[0m\u001b[0m\n\u001b[1;32m----> 3\u001b[1;33m \u001b[0mget_eval_by_threshold\u001b[0m\u001b[1;33m(\u001b[0m\u001b[0my_test\u001b[0m\u001b[1;33m,\u001b[0m \u001b[0mpred_proba\u001b[0m\u001b[1;33m[\u001b[0m\u001b[1;33m:\u001b[0m\u001b[1;33m,\u001b[0m\u001b[1;36m1\u001b[0m\u001b[1;33m]\u001b[0m\u001b[1;33m.\u001b[0m\u001b[0mreshape\u001b[0m\u001b[1;33m(\u001b[0m\u001b[1;33m-\u001b[0m\u001b[1;36m1\u001b[0m\u001b[1;33m,\u001b[0m \u001b[1;36m1\u001b[0m\u001b[1;33m)\u001b[0m\u001b[1;33m,\u001b[0m \u001b[0mthresholds\u001b[0m\u001b[1;33m)\u001b[0m\u001b[1;33m\u001b[0m\u001b[1;33m\u001b[0m\u001b[0m\n\u001b[0m",
      "\u001b[1;32m~\\AppData\\Local\\Temp/ipykernel_46388/183229885.py\u001b[0m in \u001b[0;36mget_eval_by_threshold\u001b[1;34m(y_test, pred_proba_c1, thresholds)\u001b[0m\n\u001b[0;32m      4\u001b[0m         \u001b[0mcustom_predict\u001b[0m \u001b[1;33m=\u001b[0m \u001b[0mbinarizer\u001b[0m\u001b[1;33m.\u001b[0m\u001b[0mtransform\u001b[0m\u001b[1;33m(\u001b[0m\u001b[0mpred_proba_c1\u001b[0m\u001b[1;33m)\u001b[0m\u001b[1;33m\u001b[0m\u001b[1;33m\u001b[0m\u001b[0m\n\u001b[0;32m      5\u001b[0m         \u001b[0mprint\u001b[0m\u001b[1;33m(\u001b[0m\u001b[1;34m'임곗값:'\u001b[0m\u001b[1;33m,\u001b[0m \u001b[0mcustom_threshold\u001b[0m\u001b[1;33m)\u001b[0m\u001b[1;33m\u001b[0m\u001b[1;33m\u001b[0m\u001b[0m\n\u001b[1;32m----> 6\u001b[1;33m         \u001b[0mget_clf_eval\u001b[0m\u001b[1;33m(\u001b[0m\u001b[0my_test\u001b[0m\u001b[1;33m,\u001b[0m \u001b[0mcustom_predict\u001b[0m\u001b[1;33m)\u001b[0m\u001b[1;33m\u001b[0m\u001b[1;33m\u001b[0m\u001b[0m\n\u001b[0m\u001b[0;32m      7\u001b[0m \u001b[1;33m\u001b[0m\u001b[0m\n",
      "\u001b[1;32m~\\AppData\\Local\\Temp/ipykernel_46388/3849723483.py\u001b[0m in \u001b[0;36mget_clf_eval\u001b[1;34m(y_test, pred, pred_proba)\u001b[0m\n\u001b[0;32m      5\u001b[0m     \u001b[0mrecall\u001b[0m \u001b[1;33m=\u001b[0m \u001b[0mrecall_score\u001b[0m\u001b[1;33m(\u001b[0m\u001b[0my_test\u001b[0m\u001b[1;33m,\u001b[0m \u001b[0mpred\u001b[0m\u001b[1;33m)\u001b[0m\u001b[1;33m\u001b[0m\u001b[1;33m\u001b[0m\u001b[0m\n\u001b[0;32m      6\u001b[0m     \u001b[0mf1\u001b[0m \u001b[1;33m=\u001b[0m \u001b[0mf1_score\u001b[0m\u001b[1;33m(\u001b[0m\u001b[0my_test\u001b[0m\u001b[1;33m,\u001b[0m \u001b[0mpred\u001b[0m\u001b[1;33m)\u001b[0m\u001b[1;33m\u001b[0m\u001b[1;33m\u001b[0m\u001b[0m\n\u001b[1;32m----> 7\u001b[1;33m     \u001b[0mroc_auc\u001b[0m \u001b[1;33m=\u001b[0m \u001b[0mroc_auc_score\u001b[0m\u001b[1;33m(\u001b[0m\u001b[0my_test\u001b[0m\u001b[1;33m,\u001b[0m \u001b[0mpred_proba\u001b[0m\u001b[1;33m)\u001b[0m\u001b[1;33m\u001b[0m\u001b[1;33m\u001b[0m\u001b[0m\n\u001b[0m\u001b[0;32m      8\u001b[0m     \u001b[0mprint\u001b[0m\u001b[1;33m(\u001b[0m\u001b[1;34m'오차행렬'\u001b[0m\u001b[1;33m)\u001b[0m\u001b[1;33m\u001b[0m\u001b[1;33m\u001b[0m\u001b[0m\n\u001b[0;32m      9\u001b[0m     \u001b[0mprint\u001b[0m\u001b[1;33m(\u001b[0m\u001b[0mconfusion\u001b[0m\u001b[1;33m)\u001b[0m\u001b[1;33m\u001b[0m\u001b[1;33m\u001b[0m\u001b[0m\n",
      "\u001b[1;32mC:\\ProgramData\\Anaconda3\\lib\\site-packages\\sklearn\\utils\\validation.py\u001b[0m in \u001b[0;36minner_f\u001b[1;34m(*args, **kwargs)\u001b[0m\n\u001b[0;32m     61\u001b[0m             \u001b[0mextra_args\u001b[0m \u001b[1;33m=\u001b[0m \u001b[0mlen\u001b[0m\u001b[1;33m(\u001b[0m\u001b[0margs\u001b[0m\u001b[1;33m)\u001b[0m \u001b[1;33m-\u001b[0m \u001b[0mlen\u001b[0m\u001b[1;33m(\u001b[0m\u001b[0mall_args\u001b[0m\u001b[1;33m)\u001b[0m\u001b[1;33m\u001b[0m\u001b[1;33m\u001b[0m\u001b[0m\n\u001b[0;32m     62\u001b[0m             \u001b[1;32mif\u001b[0m \u001b[0mextra_args\u001b[0m \u001b[1;33m<=\u001b[0m \u001b[1;36m0\u001b[0m\u001b[1;33m:\u001b[0m\u001b[1;33m\u001b[0m\u001b[1;33m\u001b[0m\u001b[0m\n\u001b[1;32m---> 63\u001b[1;33m                 \u001b[1;32mreturn\u001b[0m \u001b[0mf\u001b[0m\u001b[1;33m(\u001b[0m\u001b[1;33m*\u001b[0m\u001b[0margs\u001b[0m\u001b[1;33m,\u001b[0m \u001b[1;33m**\u001b[0m\u001b[0mkwargs\u001b[0m\u001b[1;33m)\u001b[0m\u001b[1;33m\u001b[0m\u001b[1;33m\u001b[0m\u001b[0m\n\u001b[0m\u001b[0;32m     64\u001b[0m \u001b[1;33m\u001b[0m\u001b[0m\n\u001b[0;32m     65\u001b[0m             \u001b[1;31m# extra_args > 0\u001b[0m\u001b[1;33m\u001b[0m\u001b[1;33m\u001b[0m\u001b[0m\n",
      "\u001b[1;32mC:\\ProgramData\\Anaconda3\\lib\\site-packages\\sklearn\\metrics\\_ranking.py\u001b[0m in \u001b[0;36mroc_auc_score\u001b[1;34m(y_true, y_score, average, sample_weight, max_fpr, multi_class, labels)\u001b[0m\n\u001b[0;32m    522\u001b[0m     \u001b[0my_type\u001b[0m \u001b[1;33m=\u001b[0m \u001b[0mtype_of_target\u001b[0m\u001b[1;33m(\u001b[0m\u001b[0my_true\u001b[0m\u001b[1;33m)\u001b[0m\u001b[1;33m\u001b[0m\u001b[1;33m\u001b[0m\u001b[0m\n\u001b[0;32m    523\u001b[0m     \u001b[0my_true\u001b[0m \u001b[1;33m=\u001b[0m \u001b[0mcheck_array\u001b[0m\u001b[1;33m(\u001b[0m\u001b[0my_true\u001b[0m\u001b[1;33m,\u001b[0m \u001b[0mensure_2d\u001b[0m\u001b[1;33m=\u001b[0m\u001b[1;32mFalse\u001b[0m\u001b[1;33m,\u001b[0m \u001b[0mdtype\u001b[0m\u001b[1;33m=\u001b[0m\u001b[1;32mNone\u001b[0m\u001b[1;33m)\u001b[0m\u001b[1;33m\u001b[0m\u001b[1;33m\u001b[0m\u001b[0m\n\u001b[1;32m--> 524\u001b[1;33m     \u001b[0my_score\u001b[0m \u001b[1;33m=\u001b[0m \u001b[0mcheck_array\u001b[0m\u001b[1;33m(\u001b[0m\u001b[0my_score\u001b[0m\u001b[1;33m,\u001b[0m \u001b[0mensure_2d\u001b[0m\u001b[1;33m=\u001b[0m\u001b[1;32mFalse\u001b[0m\u001b[1;33m)\u001b[0m\u001b[1;33m\u001b[0m\u001b[1;33m\u001b[0m\u001b[0m\n\u001b[0m\u001b[0;32m    525\u001b[0m \u001b[1;33m\u001b[0m\u001b[0m\n\u001b[0;32m    526\u001b[0m     if y_type == \"multiclass\" or (y_type == \"binary\" and\n",
      "\u001b[1;32mC:\\ProgramData\\Anaconda3\\lib\\site-packages\\sklearn\\utils\\validation.py\u001b[0m in \u001b[0;36minner_f\u001b[1;34m(*args, **kwargs)\u001b[0m\n\u001b[0;32m     61\u001b[0m             \u001b[0mextra_args\u001b[0m \u001b[1;33m=\u001b[0m \u001b[0mlen\u001b[0m\u001b[1;33m(\u001b[0m\u001b[0margs\u001b[0m\u001b[1;33m)\u001b[0m \u001b[1;33m-\u001b[0m \u001b[0mlen\u001b[0m\u001b[1;33m(\u001b[0m\u001b[0mall_args\u001b[0m\u001b[1;33m)\u001b[0m\u001b[1;33m\u001b[0m\u001b[1;33m\u001b[0m\u001b[0m\n\u001b[0;32m     62\u001b[0m             \u001b[1;32mif\u001b[0m \u001b[0mextra_args\u001b[0m \u001b[1;33m<=\u001b[0m \u001b[1;36m0\u001b[0m\u001b[1;33m:\u001b[0m\u001b[1;33m\u001b[0m\u001b[1;33m\u001b[0m\u001b[0m\n\u001b[1;32m---> 63\u001b[1;33m                 \u001b[1;32mreturn\u001b[0m \u001b[0mf\u001b[0m\u001b[1;33m(\u001b[0m\u001b[1;33m*\u001b[0m\u001b[0margs\u001b[0m\u001b[1;33m,\u001b[0m \u001b[1;33m**\u001b[0m\u001b[0mkwargs\u001b[0m\u001b[1;33m)\u001b[0m\u001b[1;33m\u001b[0m\u001b[1;33m\u001b[0m\u001b[0m\n\u001b[0m\u001b[0;32m     64\u001b[0m \u001b[1;33m\u001b[0m\u001b[0m\n\u001b[0;32m     65\u001b[0m             \u001b[1;31m# extra_args > 0\u001b[0m\u001b[1;33m\u001b[0m\u001b[1;33m\u001b[0m\u001b[0m\n",
      "\u001b[1;32mC:\\ProgramData\\Anaconda3\\lib\\site-packages\\sklearn\\utils\\validation.py\u001b[0m in \u001b[0;36mcheck_array\u001b[1;34m(array, accept_sparse, accept_large_sparse, dtype, order, copy, force_all_finite, ensure_2d, allow_nd, ensure_min_samples, ensure_min_features, estimator)\u001b[0m\n\u001b[0;32m    718\u001b[0m \u001b[1;33m\u001b[0m\u001b[0m\n\u001b[0;32m    719\u001b[0m         \u001b[1;32mif\u001b[0m \u001b[0mforce_all_finite\u001b[0m\u001b[1;33m:\u001b[0m\u001b[1;33m\u001b[0m\u001b[1;33m\u001b[0m\u001b[0m\n\u001b[1;32m--> 720\u001b[1;33m             _assert_all_finite(array,\n\u001b[0m\u001b[0;32m    721\u001b[0m                                allow_nan=force_all_finite == 'allow-nan')\n\u001b[0;32m    722\u001b[0m \u001b[1;33m\u001b[0m\u001b[0m\n",
      "\u001b[1;32mC:\\ProgramData\\Anaconda3\\lib\\site-packages\\sklearn\\utils\\validation.py\u001b[0m in \u001b[0;36m_assert_all_finite\u001b[1;34m(X, allow_nan, msg_dtype)\u001b[0m\n\u001b[0;32m    101\u001b[0m                 not allow_nan and not np.isfinite(X).all()):\n\u001b[0;32m    102\u001b[0m             \u001b[0mtype_err\u001b[0m \u001b[1;33m=\u001b[0m \u001b[1;34m'infinity'\u001b[0m \u001b[1;32mif\u001b[0m \u001b[0mallow_nan\u001b[0m \u001b[1;32melse\u001b[0m \u001b[1;34m'NaN, infinity'\u001b[0m\u001b[1;33m\u001b[0m\u001b[1;33m\u001b[0m\u001b[0m\n\u001b[1;32m--> 103\u001b[1;33m             raise ValueError(\n\u001b[0m\u001b[0;32m    104\u001b[0m                     \u001b[0mmsg_err\u001b[0m\u001b[1;33m.\u001b[0m\u001b[0mformat\u001b[0m\u001b[1;33m\u001b[0m\u001b[1;33m\u001b[0m\u001b[0m\n\u001b[0;32m    105\u001b[0m                     (type_err,\n",
      "\u001b[1;31mValueError\u001b[0m: Input contains NaN, infinity or a value too large for dtype('float64')."
     ]
    }
   ],
   "source": [
    "from sklearn.preprocessing import Binarizer\n",
    "thresholds = [0.3, 0.33, 0.36, 0.39, 0.42, 0.45, 0.48, 0.50]\n",
    "get_eval_by_threshold(y_test, pred_proba[:,1].reshape(-1, 1), thresholds)"
   ]
  },
  {
   "cell_type": "code",
   "execution_count": 82,
   "id": "81a617d0",
   "metadata": {},
   "outputs": [
    {
     "data": {
      "text/plain": [
       "array([0.99605082, 0.19415761, 0.79258598, 0.78996331, 0.10983144,\n",
       "       0.48091712, 0.05003624, 0.92184291, 0.87705131, 0.63238325,\n",
       "       0.04884537, 0.77931873, 0.30664733, 0.22670575, 0.23236086,\n",
       "       0.76440936, 0.71821084, 0.87145064, 0.49532617, 0.36505328,\n",
       "       0.08642931, 0.04379543, 0.30396788, 0.15991736, 0.2656472 ,\n",
       "       0.2114223 , 0.4445626 , 0.20605311, 0.32796549, 0.08382304,\n",
       "       0.42415278, 0.93566347, 0.10454079, 0.31320377, 0.63754058,\n",
       "       0.41679927, 0.25642075, 0.47584585, 0.03405143, 0.04434636,\n",
       "       0.08739619, 0.43085758, 0.83270604, 0.26889758, 0.22732792,\n",
       "       0.79093404, 0.09083302, 0.47383669, 0.09063675, 0.01208786,\n",
       "       0.07488135, 0.1149499 , 0.0020269 , 0.16884165, 0.00895417,\n",
       "       0.20175908, 0.1565616 , 0.09885339, 0.70213188, 0.04796737,\n",
       "       0.55440756, 0.44588964, 0.03668637, 0.93008224, 0.06331201,\n",
       "       0.21116107, 0.09896955, 0.10814449, 0.40216751, 0.11656036,\n",
       "       0.4774456 , 0.18822591, 0.30153988, 0.92762485, 0.08683734,\n",
       "       0.50805624, 0.556698  , 0.73913245, 0.12788883, 0.94271143,\n",
       "       0.11241426, 0.19082417, 0.04326439, 0.07325947, 0.77269028,\n",
       "       0.33172806, 0.14088814, 0.19717181, 0.75916794, 0.35388633,\n",
       "       0.19319397, 0.10387984, 0.36566781, 0.25896373, 0.67348962,\n",
       "       0.53608853, 0.43876295, 0.57026493, 0.61739287, 0.07013643,\n",
       "       0.04539393, 0.28005434, 0.20760464, 0.05559254, 0.96848219,\n",
       "       0.24116349, 0.22983882, 0.08676214, 0.73518186, 0.35244374,\n",
       "       0.02334433, 0.30771471, 0.84617747, 0.28254896, 0.26861378,\n",
       "       0.12337048, 0.17422931, 0.86274431, 0.03743693, 0.64862747,\n",
       "       0.32212443, 0.56567415, 0.56108218, 0.24632101, 0.71821212,\n",
       "       0.01698172, 0.0609672 , 0.97550131, 0.71154873, 0.44604374,\n",
       "       0.19012833, 0.12680012, 0.2048805 , 0.23936479, 0.47019773,\n",
       "       0.11498219, 0.16683513, 0.69735974, 0.48465052, 0.12623935,\n",
       "       0.08284562, 0.22660192, 0.05692356, 0.2254221 , 0.26857525,\n",
       "       0.14399534, 0.81892829, 0.21563003, 0.09059591, 0.59061363,\n",
       "       0.07801479, 0.42834029, 0.05586843, 0.1024016 ])"
      ]
     },
     "execution_count": 82,
     "metadata": {},
     "output_type": "execute_result"
    }
   ],
   "source": [
    "pred_proba_c1"
   ]
  },
  {
   "cell_type": "code",
   "execution_count": 105,
   "id": "888cb1a7",
   "metadata": {},
   "outputs": [
    {
     "data": {
      "text/plain": [
       "array([[0.99444024],\n",
       "       [0.16024478],\n",
       "       [0.80380298],\n",
       "       [0.792367  ],\n",
       "       [0.03982618],\n",
       "       [0.52247632],\n",
       "       [0.04425754],\n",
       "       [0.92908034],\n",
       "       [0.85061868],\n",
       "       [0.68132797],\n",
       "       [0.03339697],\n",
       "       [0.80039946],\n",
       "       [0.32320464],\n",
       "       [0.25441518],\n",
       "       [0.22225795],\n",
       "       [0.81979791],\n",
       "       [0.76081831],\n",
       "       [0.89579055],\n",
       "       [0.44953591],\n",
       "       [0.37312721],\n",
       "       [0.08422004],\n",
       "       [0.01241444],\n",
       "       [0.34076835],\n",
       "       [0.18644551],\n",
       "       [0.23041407],\n",
       "       [0.22403132],\n",
       "       [0.48195188],\n",
       "       [0.19331687],\n",
       "       [0.27739601],\n",
       "       [0.068702  ],\n",
       "       [0.41854702],\n",
       "       [0.81657785],\n",
       "       [0.09570861],\n",
       "       [0.29350802],\n",
       "       [0.65204945],\n",
       "       [0.47211704],\n",
       "       [0.25546373],\n",
       "       [0.43317833],\n",
       "       [0.02794601],\n",
       "       [0.04335974],\n",
       "       [0.07548422],\n",
       "       [0.45176905],\n",
       "       [0.83795559],\n",
       "       [0.24581658],\n",
       "       [0.24767427],\n",
       "       [0.80400841],\n",
       "       [0.07735071],\n",
       "       [0.50115774],\n",
       "       [0.08047413],\n",
       "       [0.10785696],\n",
       "       [0.0617696 ],\n",
       "       [0.11713441],\n",
       "       [0.12696228],\n",
       "       [0.17079562],\n",
       "       [0.03604824],\n",
       "       [0.22195157],\n",
       "       [0.13737693],\n",
       "       [0.10702922],\n",
       "       [0.75944456],\n",
       "       [0.04185289],\n",
       "       [0.39597495],\n",
       "       [0.46036716],\n",
       "       [0.03060092],\n",
       "       [0.9274826 ],\n",
       "       [0.05442859],\n",
       "       [0.16702648],\n",
       "       [0.09948941],\n",
       "       [0.09508402],\n",
       "       [0.3292328 ],\n",
       "       [0.12588279],\n",
       "       [0.38881249],\n",
       "       [0.1868754 ],\n",
       "       [0.31657823],\n",
       "       [0.95189142],\n",
       "       [0.07053423],\n",
       "       [0.55424595],\n",
       "       [0.31630031],\n",
       "       [0.7480464 ],\n",
       "       [0.13491229],\n",
       "       [0.96873717],\n",
       "       [0.10665955],\n",
       "       [0.18803783],\n",
       "       [0.03623705],\n",
       "       [0.08225675],\n",
       "       [0.79241277],\n",
       "       [0.3529907 ],\n",
       "       [0.14489693],\n",
       "       [0.13630441],\n",
       "       [0.81358539],\n",
       "       [0.39754971],\n",
       "       [0.19054703],\n",
       "       [0.12326435],\n",
       "       [0.1275286 ],\n",
       "       [0.22425658],\n",
       "       [0.6865819 ],\n",
       "       [0.53510438],\n",
       "       [0.46632981],\n",
       "       [0.65398688],\n",
       "       [0.62140379],\n",
       "       [0.24880031],\n",
       "       [0.04241685],\n",
       "       [0.29205795],\n",
       "       [0.16730272],\n",
       "       [0.05699845],\n",
       "       [0.92946825],\n",
       "       [0.200611  ],\n",
       "       [0.22825212],\n",
       "       [0.06713212],\n",
       "       [0.75285669],\n",
       "       [0.39158725],\n",
       "       [0.01450989],\n",
       "       [0.38373061],\n",
       "       [0.86055984],\n",
       "       [0.28486111],\n",
       "       [0.2016601 ],\n",
       "       [0.12496181],\n",
       "       [0.19970387],\n",
       "       [0.89737389],\n",
       "       [0.03445784],\n",
       "       [0.67424369],\n",
       "       [0.27385379],\n",
       "       [0.63717577],\n",
       "       [0.61974702],\n",
       "       [0.33191429],\n",
       "       [0.77533946],\n",
       "       [0.01839869],\n",
       "       [0.05648844],\n",
       "       [0.97327511],\n",
       "       [0.77345645],\n",
       "       [0.47994365],\n",
       "       [0.1649253 ],\n",
       "       [0.09228439],\n",
       "       [0.18176292],\n",
       "       [0.26132813],\n",
       "       [0.41906457],\n",
       "       [0.10207824],\n",
       "       [0.14260741],\n",
       "       [0.75003451],\n",
       "       [0.49229565],\n",
       "       [0.12292074],\n",
       "       [0.07568039],\n",
       "       [0.23424902],\n",
       "       [0.0394122 ],\n",
       "       [0.23944593],\n",
       "       [0.26873136],\n",
       "       [0.1467258 ],\n",
       "       [0.78510862],\n",
       "       [0.26094749],\n",
       "       [0.10642613],\n",
       "       [0.61334787],\n",
       "       [0.06878511],\n",
       "       [0.47875303],\n",
       "       [0.05601759],\n",
       "       [0.08927239]])"
      ]
     },
     "execution_count": 105,
     "metadata": {},
     "output_type": "execute_result"
    }
   ],
   "source": [
    "pred_proba.reshape(-1, 1)"
   ]
  },
  {
   "cell_type": "code",
   "execution_count": 107,
   "id": "f8547848",
   "metadata": {},
   "outputs": [],
   "source": [
    "pred_proba = lr_clf.predict_proba(x_test)"
   ]
  },
  {
   "cell_type": "code",
   "execution_count": 108,
   "id": "1f967b64",
   "metadata": {},
   "outputs": [
    {
     "data": {
      "text/plain": [
       "array([[0.00555976, 0.99444024],\n",
       "       [0.83975522, 0.16024478],\n",
       "       [0.19619702, 0.80380298],\n",
       "       [0.207633  , 0.792367  ],\n",
       "       [0.96017382, 0.03982618],\n",
       "       [0.47752368, 0.52247632],\n",
       "       [0.95574246, 0.04425754],\n",
       "       [0.07091966, 0.92908034],\n",
       "       [0.14938132, 0.85061868],\n",
       "       [0.31867203, 0.68132797],\n",
       "       [0.96660303, 0.03339697],\n",
       "       [0.19960054, 0.80039946],\n",
       "       [0.67679536, 0.32320464],\n",
       "       [0.74558482, 0.25441518],\n",
       "       [0.77774205, 0.22225795],\n",
       "       [0.18020209, 0.81979791],\n",
       "       [0.23918169, 0.76081831],\n",
       "       [0.10420945, 0.89579055],\n",
       "       [0.55046409, 0.44953591],\n",
       "       [0.62687279, 0.37312721],\n",
       "       [0.91577996, 0.08422004],\n",
       "       [0.98758556, 0.01241444],\n",
       "       [0.65923165, 0.34076835],\n",
       "       [0.81355449, 0.18644551],\n",
       "       [0.76958593, 0.23041407],\n",
       "       [0.77596868, 0.22403132],\n",
       "       [0.51804812, 0.48195188],\n",
       "       [0.80668313, 0.19331687],\n",
       "       [0.72260399, 0.27739601],\n",
       "       [0.931298  , 0.068702  ],\n",
       "       [0.58145298, 0.41854702],\n",
       "       [0.18342215, 0.81657785],\n",
       "       [0.90429139, 0.09570861],\n",
       "       [0.70649198, 0.29350802],\n",
       "       [0.34795055, 0.65204945],\n",
       "       [0.52788296, 0.47211704],\n",
       "       [0.74453627, 0.25546373],\n",
       "       [0.56682167, 0.43317833],\n",
       "       [0.97205399, 0.02794601],\n",
       "       [0.95664026, 0.04335974],\n",
       "       [0.92451578, 0.07548422],\n",
       "       [0.54823095, 0.45176905],\n",
       "       [0.16204441, 0.83795559],\n",
       "       [0.75418342, 0.24581658],\n",
       "       [0.75232573, 0.24767427],\n",
       "       [0.19599159, 0.80400841],\n",
       "       [0.92264929, 0.07735071],\n",
       "       [0.49884226, 0.50115774],\n",
       "       [0.91952587, 0.08047413],\n",
       "       [0.89214304, 0.10785696],\n",
       "       [0.9382304 , 0.0617696 ],\n",
       "       [0.88286559, 0.11713441],\n",
       "       [0.87303772, 0.12696228],\n",
       "       [0.82920438, 0.17079562],\n",
       "       [0.96395176, 0.03604824],\n",
       "       [0.77804843, 0.22195157],\n",
       "       [0.86262307, 0.13737693],\n",
       "       [0.89297078, 0.10702922],\n",
       "       [0.24055544, 0.75944456],\n",
       "       [0.95814711, 0.04185289],\n",
       "       [0.60402505, 0.39597495],\n",
       "       [0.53963284, 0.46036716],\n",
       "       [0.96939908, 0.03060092],\n",
       "       [0.0725174 , 0.9274826 ],\n",
       "       [0.94557141, 0.05442859],\n",
       "       [0.83297352, 0.16702648],\n",
       "       [0.90051059, 0.09948941],\n",
       "       [0.90491598, 0.09508402],\n",
       "       [0.6707672 , 0.3292328 ],\n",
       "       [0.87411721, 0.12588279],\n",
       "       [0.61118751, 0.38881249],\n",
       "       [0.8131246 , 0.1868754 ],\n",
       "       [0.68342177, 0.31657823],\n",
       "       [0.04810858, 0.95189142],\n",
       "       [0.92946577, 0.07053423],\n",
       "       [0.44575405, 0.55424595],\n",
       "       [0.68369969, 0.31630031],\n",
       "       [0.2519536 , 0.7480464 ],\n",
       "       [0.86508771, 0.13491229],\n",
       "       [0.03126283, 0.96873717],\n",
       "       [0.89334045, 0.10665955],\n",
       "       [0.81196217, 0.18803783],\n",
       "       [0.96376295, 0.03623705],\n",
       "       [0.91774325, 0.08225675],\n",
       "       [0.20758723, 0.79241277],\n",
       "       [0.6470093 , 0.3529907 ],\n",
       "       [0.85510307, 0.14489693],\n",
       "       [0.86369559, 0.13630441],\n",
       "       [0.18641461, 0.81358539],\n",
       "       [0.60245029, 0.39754971],\n",
       "       [0.80945297, 0.19054703],\n",
       "       [0.87673565, 0.12326435],\n",
       "       [0.8724714 , 0.1275286 ],\n",
       "       [0.77574342, 0.22425658],\n",
       "       [0.3134181 , 0.6865819 ],\n",
       "       [0.46489562, 0.53510438],\n",
       "       [0.53367019, 0.46632981],\n",
       "       [0.34601312, 0.65398688],\n",
       "       [0.37859621, 0.62140379],\n",
       "       [0.75119969, 0.24880031],\n",
       "       [0.95758315, 0.04241685],\n",
       "       [0.70794205, 0.29205795],\n",
       "       [0.83269728, 0.16730272],\n",
       "       [0.94300155, 0.05699845],\n",
       "       [0.07053175, 0.92946825],\n",
       "       [0.799389  , 0.200611  ],\n",
       "       [0.77174788, 0.22825212],\n",
       "       [0.93286788, 0.06713212],\n",
       "       [0.24714331, 0.75285669],\n",
       "       [0.60841275, 0.39158725],\n",
       "       [0.98549011, 0.01450989],\n",
       "       [0.61626939, 0.38373061],\n",
       "       [0.13944016, 0.86055984],\n",
       "       [0.71513889, 0.28486111],\n",
       "       [0.7983399 , 0.2016601 ],\n",
       "       [0.87503819, 0.12496181],\n",
       "       [0.80029613, 0.19970387],\n",
       "       [0.10262611, 0.89737389],\n",
       "       [0.96554216, 0.03445784],\n",
       "       [0.32575631, 0.67424369],\n",
       "       [0.72614621, 0.27385379],\n",
       "       [0.36282423, 0.63717577],\n",
       "       [0.38025298, 0.61974702],\n",
       "       [0.66808571, 0.33191429],\n",
       "       [0.22466054, 0.77533946],\n",
       "       [0.98160131, 0.01839869],\n",
       "       [0.94351156, 0.05648844],\n",
       "       [0.02672489, 0.97327511],\n",
       "       [0.22654355, 0.77345645],\n",
       "       [0.52005635, 0.47994365],\n",
       "       [0.8350747 , 0.1649253 ],\n",
       "       [0.90771561, 0.09228439],\n",
       "       [0.81823708, 0.18176292],\n",
       "       [0.73867187, 0.26132813],\n",
       "       [0.58093543, 0.41906457],\n",
       "       [0.89792176, 0.10207824],\n",
       "       [0.85739259, 0.14260741],\n",
       "       [0.24996549, 0.75003451],\n",
       "       [0.50770435, 0.49229565],\n",
       "       [0.87707926, 0.12292074],\n",
       "       [0.92431961, 0.07568039],\n",
       "       [0.76575098, 0.23424902],\n",
       "       [0.9605878 , 0.0394122 ],\n",
       "       [0.76055407, 0.23944593],\n",
       "       [0.73126864, 0.26873136],\n",
       "       [0.8532742 , 0.1467258 ],\n",
       "       [0.21489138, 0.78510862],\n",
       "       [0.73905251, 0.26094749],\n",
       "       [0.89357387, 0.10642613],\n",
       "       [0.38665213, 0.61334787],\n",
       "       [0.93121489, 0.06878511],\n",
       "       [0.52124697, 0.47875303],\n",
       "       [0.94398241, 0.05601759],\n",
       "       [0.91072761, 0.08927239]])"
      ]
     },
     "execution_count": 108,
     "metadata": {},
     "output_type": "execute_result"
    }
   ],
   "source": [
    "pred_proba"
   ]
  },
  {
   "cell_type": "code",
   "execution_count": 109,
   "id": "ac05c343",
   "metadata": {},
   "outputs": [
    {
     "data": {
      "text/plain": [
       "array([[0.99444024],\n",
       "       [0.16024478],\n",
       "       [0.80380298],\n",
       "       [0.792367  ],\n",
       "       [0.03982618],\n",
       "       [0.52247632],\n",
       "       [0.04425754],\n",
       "       [0.92908034],\n",
       "       [0.85061868],\n",
       "       [0.68132797],\n",
       "       [0.03339697],\n",
       "       [0.80039946],\n",
       "       [0.32320464],\n",
       "       [0.25441518],\n",
       "       [0.22225795],\n",
       "       [0.81979791],\n",
       "       [0.76081831],\n",
       "       [0.89579055],\n",
       "       [0.44953591],\n",
       "       [0.37312721],\n",
       "       [0.08422004],\n",
       "       [0.01241444],\n",
       "       [0.34076835],\n",
       "       [0.18644551],\n",
       "       [0.23041407],\n",
       "       [0.22403132],\n",
       "       [0.48195188],\n",
       "       [0.19331687],\n",
       "       [0.27739601],\n",
       "       [0.068702  ],\n",
       "       [0.41854702],\n",
       "       [0.81657785],\n",
       "       [0.09570861],\n",
       "       [0.29350802],\n",
       "       [0.65204945],\n",
       "       [0.47211704],\n",
       "       [0.25546373],\n",
       "       [0.43317833],\n",
       "       [0.02794601],\n",
       "       [0.04335974],\n",
       "       [0.07548422],\n",
       "       [0.45176905],\n",
       "       [0.83795559],\n",
       "       [0.24581658],\n",
       "       [0.24767427],\n",
       "       [0.80400841],\n",
       "       [0.07735071],\n",
       "       [0.50115774],\n",
       "       [0.08047413],\n",
       "       [0.10785696],\n",
       "       [0.0617696 ],\n",
       "       [0.11713441],\n",
       "       [0.12696228],\n",
       "       [0.17079562],\n",
       "       [0.03604824],\n",
       "       [0.22195157],\n",
       "       [0.13737693],\n",
       "       [0.10702922],\n",
       "       [0.75944456],\n",
       "       [0.04185289],\n",
       "       [0.39597495],\n",
       "       [0.46036716],\n",
       "       [0.03060092],\n",
       "       [0.9274826 ],\n",
       "       [0.05442859],\n",
       "       [0.16702648],\n",
       "       [0.09948941],\n",
       "       [0.09508402],\n",
       "       [0.3292328 ],\n",
       "       [0.12588279],\n",
       "       [0.38881249],\n",
       "       [0.1868754 ],\n",
       "       [0.31657823],\n",
       "       [0.95189142],\n",
       "       [0.07053423],\n",
       "       [0.55424595],\n",
       "       [0.31630031],\n",
       "       [0.7480464 ],\n",
       "       [0.13491229],\n",
       "       [0.96873717],\n",
       "       [0.10665955],\n",
       "       [0.18803783],\n",
       "       [0.03623705],\n",
       "       [0.08225675],\n",
       "       [0.79241277],\n",
       "       [0.3529907 ],\n",
       "       [0.14489693],\n",
       "       [0.13630441],\n",
       "       [0.81358539],\n",
       "       [0.39754971],\n",
       "       [0.19054703],\n",
       "       [0.12326435],\n",
       "       [0.1275286 ],\n",
       "       [0.22425658],\n",
       "       [0.6865819 ],\n",
       "       [0.53510438],\n",
       "       [0.46632981],\n",
       "       [0.65398688],\n",
       "       [0.62140379],\n",
       "       [0.24880031],\n",
       "       [0.04241685],\n",
       "       [0.29205795],\n",
       "       [0.16730272],\n",
       "       [0.05699845],\n",
       "       [0.92946825],\n",
       "       [0.200611  ],\n",
       "       [0.22825212],\n",
       "       [0.06713212],\n",
       "       [0.75285669],\n",
       "       [0.39158725],\n",
       "       [0.01450989],\n",
       "       [0.38373061],\n",
       "       [0.86055984],\n",
       "       [0.28486111],\n",
       "       [0.2016601 ],\n",
       "       [0.12496181],\n",
       "       [0.19970387],\n",
       "       [0.89737389],\n",
       "       [0.03445784],\n",
       "       [0.67424369],\n",
       "       [0.27385379],\n",
       "       [0.63717577],\n",
       "       [0.61974702],\n",
       "       [0.33191429],\n",
       "       [0.77533946],\n",
       "       [0.01839869],\n",
       "       [0.05648844],\n",
       "       [0.97327511],\n",
       "       [0.77345645],\n",
       "       [0.47994365],\n",
       "       [0.1649253 ],\n",
       "       [0.09228439],\n",
       "       [0.18176292],\n",
       "       [0.26132813],\n",
       "       [0.41906457],\n",
       "       [0.10207824],\n",
       "       [0.14260741],\n",
       "       [0.75003451],\n",
       "       [0.49229565],\n",
       "       [0.12292074],\n",
       "       [0.07568039],\n",
       "       [0.23424902],\n",
       "       [0.0394122 ],\n",
       "       [0.23944593],\n",
       "       [0.26873136],\n",
       "       [0.1467258 ],\n",
       "       [0.78510862],\n",
       "       [0.26094749],\n",
       "       [0.10642613],\n",
       "       [0.61334787],\n",
       "       [0.06878511],\n",
       "       [0.47875303],\n",
       "       [0.05601759],\n",
       "       [0.08927239]])"
      ]
     },
     "execution_count": 109,
     "metadata": {},
     "output_type": "execute_result"
    }
   ],
   "source": [
    "pred_proba[:, 1].reshape(-1, 1)"
   ]
  },
  {
   "cell_type": "code",
   "execution_count": 111,
   "id": "090c5bc6",
   "metadata": {},
   "outputs": [
    {
     "data": {
      "text/plain": [
       "0"
      ]
     },
     "execution_count": 111,
     "metadata": {},
     "output_type": "execute_result"
    }
   ],
   "source": [
    "y_test.isna().sum()"
   ]
  },
  {
   "cell_type": "code",
   "execution_count": 112,
   "id": "e3bc470a",
   "metadata": {},
   "outputs": [],
   "source": [
    "binarizer = Binarizer(threshold = 0.48)"
   ]
  },
  {
   "cell_type": "code",
   "execution_count": 113,
   "id": "fcc15610",
   "metadata": {},
   "outputs": [
    {
     "name": "stdout",
     "output_type": "stream",
     "text": [
      "오차행렬\n",
      "[[87 13]\n",
      " [24 30]]\n",
      "정확도 : 0.7597, 정밀도 : 0.6977, 재현율 : 0.5556,        F1 : 0.6186, AUC : 0.8461\n"
     ]
    }
   ],
   "source": [
    "pred_th_048 = binarizer.fit_transform(pred_proba[:, 1].reshape(-1, 1))\n",
    "get_clf_eval(y_test, pred_th_048, pred_proba[:,1])"
>>>>>>> be431326c5acb9e6eb4d96be9d6f4d955c4965c8
   ]
  },
  {
   "cell_type": "code",
   "execution_count": null,
<<<<<<< HEAD
   "id": "1c77aa7c-1fd4-43d8-b02f-d7b4a93a274c",
=======
   "id": "e9effff1",
>>>>>>> be431326c5acb9e6eb4d96be9d6f4d955c4965c8
   "metadata": {},
   "outputs": [],
   "source": []
  }
 ],
 "metadata": {
  "kernelspec": {
<<<<<<< HEAD
   "display_name": "Python 3",
=======
   "display_name": "Python 3 (ipykernel)",
>>>>>>> be431326c5acb9e6eb4d96be9d6f4d955c4965c8
   "language": "python",
   "name": "python3"
  },
  "language_info": {
   "codemirror_mode": {
    "name": "ipython",
    "version": 3
   },
   "file_extension": ".py",
   "mimetype": "text/x-python",
   "name": "python",
   "nbconvert_exporter": "python",
   "pygments_lexer": "ipython3",
<<<<<<< HEAD
   "version": "3.8.8"
=======
   "version": "3.9.7"
>>>>>>> be431326c5acb9e6eb4d96be9d6f4d955c4965c8
  }
 },
 "nbformat": 4,
 "nbformat_minor": 5
}
