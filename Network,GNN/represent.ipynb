{
 "cells": [
  {
   "cell_type": "code",
   "execution_count": 26,
   "id": "4dcce448-00fb-4eaa-9c0f-3f848268fdd3",
   "metadata": {},
   "outputs": [
    {
     "data": {
      "text/html": [
       "<div>\n",
       "<style scoped>\n",
       "    .dataframe tbody tr th:only-of-type {\n",
       "        vertical-align: middle;\n",
       "    }\n",
       "\n",
       "    .dataframe tbody tr th {\n",
       "        vertical-align: top;\n",
       "    }\n",
       "\n",
       "    .dataframe thead th {\n",
       "        text-align: right;\n",
       "    }\n",
       "</style>\n",
       "<table border=\"1\" class=\"dataframe\">\n",
       "  <thead>\n",
       "    <tr style=\"text-align: right;\">\n",
       "      <th></th>\n",
       "      <th>보도일</th>\n",
       "      <th>total</th>\n",
       "      <th>1</th>\n",
       "      <th>2</th>\n",
       "      <th>3</th>\n",
       "      <th>4</th>\n",
       "      <th>5</th>\n",
       "    </tr>\n",
       "  </thead>\n",
       "  <tbody>\n",
       "    <tr>\n",
       "      <th>0</th>\n",
       "      <td>2020-01-30</td>\n",
       "      <td>1</td>\n",
       "      <td>0</td>\n",
       "      <td>0</td>\n",
       "      <td>0</td>\n",
       "      <td>1</td>\n",
       "      <td>0</td>\n",
       "    </tr>\n",
       "    <tr>\n",
       "      <th>1</th>\n",
       "      <td>2020-01-31</td>\n",
       "      <td>3</td>\n",
       "      <td>0</td>\n",
       "      <td>2</td>\n",
       "      <td>0</td>\n",
       "      <td>1</td>\n",
       "      <td>0</td>\n",
       "    </tr>\n",
       "    <tr>\n",
       "      <th>2</th>\n",
       "      <td>2020-02-01</td>\n",
       "      <td>0</td>\n",
       "      <td>0</td>\n",
       "      <td>0</td>\n",
       "      <td>0</td>\n",
       "      <td>0</td>\n",
       "      <td>0</td>\n",
       "    </tr>\n",
       "    <tr>\n",
       "      <th>3</th>\n",
       "      <td>2020-02-02</td>\n",
       "      <td>1</td>\n",
       "      <td>0</td>\n",
       "      <td>0</td>\n",
       "      <td>1</td>\n",
       "      <td>0</td>\n",
       "      <td>0</td>\n",
       "    </tr>\n",
       "    <tr>\n",
       "      <th>4</th>\n",
       "      <td>2020-02-03</td>\n",
       "      <td>0</td>\n",
       "      <td>0</td>\n",
       "      <td>0</td>\n",
       "      <td>0</td>\n",
       "      <td>0</td>\n",
       "      <td>0</td>\n",
       "    </tr>\n",
       "    <tr>\n",
       "      <th>...</th>\n",
       "      <td>...</td>\n",
       "      <td>...</td>\n",
       "      <td>...</td>\n",
       "      <td>...</td>\n",
       "      <td>...</td>\n",
       "      <td>...</td>\n",
       "      <td>...</td>\n",
       "    </tr>\n",
       "    <tr>\n",
       "      <th>826</th>\n",
       "      <td>2022-05-05</td>\n",
       "      <td>42268</td>\n",
       "      <td>8316</td>\n",
       "      <td>9771</td>\n",
       "      <td>9269</td>\n",
       "      <td>8267</td>\n",
       "      <td>6645</td>\n",
       "    </tr>\n",
       "    <tr>\n",
       "      <th>827</th>\n",
       "      <td>2022-05-06</td>\n",
       "      <td>26686</td>\n",
       "      <td>5648</td>\n",
       "      <td>6204</td>\n",
       "      <td>5719</td>\n",
       "      <td>5273</td>\n",
       "      <td>3842</td>\n",
       "    </tr>\n",
       "    <tr>\n",
       "      <th>828</th>\n",
       "      <td>2022-05-07</td>\n",
       "      <td>39574</td>\n",
       "      <td>7683</td>\n",
       "      <td>8916</td>\n",
       "      <td>8535</td>\n",
       "      <td>8189</td>\n",
       "      <td>6251</td>\n",
       "    </tr>\n",
       "    <tr>\n",
       "      <th>829</th>\n",
       "      <td>2022-05-08</td>\n",
       "      <td>40048</td>\n",
       "      <td>7875</td>\n",
       "      <td>8680</td>\n",
       "      <td>8483</td>\n",
       "      <td>8237</td>\n",
       "      <td>6773</td>\n",
       "    </tr>\n",
       "    <tr>\n",
       "      <th>830</th>\n",
       "      <td>2022-05-09</td>\n",
       "      <td>20582</td>\n",
       "      <td>5109</td>\n",
       "      <td>4800</td>\n",
       "      <td>4757</td>\n",
       "      <td>3463</td>\n",
       "      <td>2453</td>\n",
       "    </tr>\n",
       "  </tbody>\n",
       "</table>\n",
       "<p>831 rows × 7 columns</p>\n",
       "</div>"
      ],
      "text/plain": [
       "           보도일  total     1     2     3     4     5\n",
       "0   2020-01-30      1     0     0     0     1     0\n",
       "1   2020-01-31      3     0     2     0     1     0\n",
       "2   2020-02-01      0     0     0     0     0     0\n",
       "3   2020-02-02      1     0     0     1     0     0\n",
       "4   2020-02-03      0     0     0     0     0     0\n",
       "..         ...    ...   ...   ...   ...   ...   ...\n",
       "826 2022-05-05  42268  8316  9771  9269  8267  6645\n",
       "827 2022-05-06  26686  5648  6204  5719  5273  3842\n",
       "828 2022-05-07  39574  7683  8916  8535  8189  6251\n",
       "829 2022-05-08  40048  7875  8680  8483  8237  6773\n",
       "830 2022-05-09  20582  5109  4800  4757  3463  2453\n",
       "\n",
       "[831 rows x 7 columns]"
      ]
     },
     "execution_count": 26,
     "metadata": {},
     "output_type": "execute_result"
    }
   ],
   "source": [
    "import pandas as pd\n",
    "import networkx as nx\n",
    "import numpy as np\n",
    "import matplotlib.pyplot as plt\n",
    "\n",
    "df = pd.read_excel('G:/다른 컴퓨터/내 컴퓨터/구글 드라이브 백업/학석사/부산대 금융 공동연구/df_case_clean_0508.xlsx')\n",
    "df = df.iloc[:,:7]\n",
    "df"
   ]
  },
  {
   "cell_type": "code",
   "execution_count": 27,
   "id": "c9887842-3253-4eb7-a1de-71d45f8cbf24",
   "metadata": {},
   "outputs": [
    {
     "data": {
      "image/png": "[encoded data removed]",
      "text/plain": [
       "<Figure size 432x288 with 1 Axes>"
      ]
     },
     "metadata": {
      "needs_background": "light"
     },
     "output_type": "display_data"
    }
   ],
   "source": [
    "plt.plot(df.iloc[:,2], label = '10')\n",
    "plt.plot(df.iloc[:,3], label = '20')\n",
    "plt.plot(df.iloc[:,4], label = '30')\n",
    "plt.plot(df.iloc[:,5], label = '40')\n",
    "plt.plot(df.iloc[:,6], label = '50')\n",
    "plt.legend()\n",
    "plt.show()"
   ]
  },
  {
   "cell_type": "code",
   "execution_count": 28,
   "id": "59e2def4-82a3-48af-a189-07d223db4c05",
   "metadata": {},
   "outputs": [
    {
     "data": {
      "image/png": "[encoded data removed]",
      "text/plain": [
       "<Figure size 432x288 with 1 Axes>"
      ]
     },
     "metadata": {
      "needs_background": "light"
     },
     "output_type": "display_data"
    }
   ],
   "source": [
    "plt.plot(df.iloc[700:,2], label = '10')\n",
    "plt.plot(df.iloc[700:,3], label = '20')\n",
    "plt.plot(df.iloc[700:,4], label = '30')\n",
    "plt.plot(df.iloc[700:,5], label = '40')\n",
    "plt.plot(df.iloc[700:,6], label = '50')\n",
    "plt.legend()\n",
    "plt.show()"
   ]
  },
  {
   "cell_type": "code",
   "execution_count": 29,
   "id": "ec3d4b08-2ac8-4ba8-8ccf-e76d099d4219",
   "metadata": {},
   "outputs": [],
   "source": [
    "new_df = df.iloc[700:,2:].reset_index()\n",
    "new_df = new_df.iloc[:,1:]  # 보도일 날림"
   ]
  },
  {
   "cell_type": "code",
   "execution_count": 56,
   "id": "b5d5624b-349f-42b7-b383-7ad8787d8886",
   "metadata": {},
   "outputs": [],
   "source": [
    "# 10대의 영향(7일별)\n",
    "cor_10 = []\n",
    "cor_20 = []\n",
    "cor_30 = []\n",
    "cor_40 = []\n",
    "\n",
    "for i in range(120):\n",
    "        cor_10.append(np.corrcoef(new_df.iloc[i:i+6,0], new_df.iloc[i+5:i+11, 1])[1][0])\n",
    "        cor_10.append(np.corrcoef(new_df.iloc[i:i+6,0], new_df.iloc[i+5:i+11, 2])[1][0])\n",
    "        cor_10.append(np.corrcoef(new_df.iloc[i:i+6,0], new_df.iloc[i+5:i+11, 3])[1][0])\n",
    "        cor_10.append(np.corrcoef(new_df.iloc[i:i+6,0], new_df.iloc[i+5:i+11, 4])[1][0])\n",
    "\n",
    "for i in range(120):\n",
    "    cor_20.append(np.corrcoef(new_df.iloc[i:i+6,1], new_df.iloc[i+5:i+11, 2])[1][0])\n",
    "    cor_20.append(np.corrcoef(new_df.iloc[i:i+6,1], new_df.iloc[i+5:i+11, 3])[1][0])\n",
    "    cor_20.append(np.corrcoef(new_df.iloc[i:i+6,1], new_df.iloc[i+5:i+11, 4])[1][0])\n",
    "    \n",
    "for i in range(120):\n",
    "    cor_30.append(np.corrcoef(new_df.iloc[i:i+6,2], new_df.iloc[i+5:i+11, 3])[1][0])\n",
    "    cor_30.append(np.corrcoef(new_df.iloc[i:i+6,2], new_df.iloc[i+5:i+11, 4])[1][0])\n",
    "    \n",
    "for i in range(120):\n",
    "    cor_40.append(np.corrcoef(new_df.iloc[i:i+6, 3], new_df.iloc[i+5:i+11, 4])[1][0])\n",
    " "
   ]
  },
  {
   "cell_type": "code",
   "execution_count": 57,
   "id": "81b63d08-f854-4ddb-89ba-ad36490dd496",
   "metadata": {},
   "outputs": [],
   "source": [
    "cor_10 = np.array(cor_10).reshape(-1,4)\n",
    "cor_20 = np.array(cor_20).reshape(-1,3)\n",
    "cor_30 = np.array(cor_30).reshape(-1,2)\n",
    "cor_40 = np.array(cor_40).reshape(-1,1)\n",
    "\n",
    "cor_10 = pd.DataFrame(cor_10, columns = [12,13,14,15])\n",
    "cor_20 = pd.DataFrame(cor_20, columns = [23,24,25])\n",
    "cor_30 = pd.DataFrame(cor_30, columns = [34, 35])\n",
    "cor_40 = pd.DataFrame(cor_40, columns = [45])"
   ]
  },
  {
   "cell_type": "code",
   "execution_count": 58,
   "id": "bb76e8e6-d9db-498d-a33a-8b876a4f75a8",
   "metadata": {},
   "outputs": [],
   "source": [
    "cor_20 = cor_20.join(cor_10, how = 'inner')\n",
    "cor_30 = cor_30.join(cor_20, how = 'inner')\n",
    "cor_40 = cor_40.join(cor_30, how = 'inner')\n",
    "cor_40 = np.abs(cor_40)"
   ]
  },
  {
   "cell_type": "code",
   "execution_count": 59,
   "id": "4b85acb2-df5f-41d9-b97e-e057ac8b0f61",
   "metadata": {},
   "outputs": [
    {
     "data": {
      "text/plain": [
       "array([18., 31., 21., 28., 26., 12., 35., 50., 44., 30.])"
      ]
     },
     "execution_count": 59,
     "metadata": {},
     "output_type": "execute_result"
    }
   ],
   "source": [
    "for i in range(len(cor_40)):\n",
    "    for j in range(len(cor_40.columns)):\n",
    "        if cor_40.iat[i,j] > 0.9:\n",
    "            cor_40.iat[i,j] = 2\n",
    "\n",
    "        elif cor_40.iat[i,j] > 0.7:\n",
    "            cor_40.iat[i,j] = 1\n",
    "        \n",
    "        else:\n",
    "            cor_40.iat[i,j] = 0\n",
    "            \n",
    "cordf = cor_40\n",
    "lst = np.array(np.sum(cordf));lst"
   ]
  },
  {
   "cell_type": "code",
   "execution_count": 63,
   "id": "f7708756-ffee-4949-9bce-ff7917b558b9",
   "metadata": {},
   "outputs": [],
   "source": [
    "graph_lst = []\n",
    "for i in range(0,111,10):\n",
    "    result = np.array(np.sum(cordf.iloc[i:i+10,:]))\n",
    "    g = nx.Graph()\n",
    "    g.add_edges_from([(1,2),(1,3),(1,4),(1,5),(2,3),(2,4),(2,5),(3,4),(3,5),(4,5)])\n",
    "    \n",
    "    pos = {}\n",
    "    pos[1] = (0,0)\n",
    "    pos[2] = (2,0)\n",
    "    pos[3] = (1,1)\n",
    "    pos[4] = (0,2)\n",
    "    pos[5] = (2,2)\n",
    "    graph_lst.append(g)"
   ]
  },
  {
   "cell_type": "code",
   "execution_count": 61,
   "id": "0b17b918-f86f-4385-b92f-dadd061bb3ac",
   "metadata": {},
   "outputs": [
    {
     "data": {
      "image/png": "[encoded data removed]",
      "text/plain": [
       "<Figure size 432x288 with 1 Axes>"
      ]
     },
     "metadata": {},
     "output_type": "display_data"
    }
   ],
   "source": [
    "g = nx.Graph()\n",
    "g.add_edges_from([(1,2),(1,3),(1,4),(1,5),(2,3),(2,4),(2,5),(3,4),(3,5),(4,5)])\n",
    "pos = {}\n",
    "pos[1] = (0,0)\n",
    "pos[2] = (2,0)\n",
    "pos[3] = (1,1)\n",
    "pos[4] = (0,2)\n",
    "pos[5] = (2,2)\n",
    "nx.draw(g, pos, with_labels = True, font_size = 16, node_size = 2000, width = lst/7)"
   ]
  },
  {
   "cell_type": "code",
   "execution_count": 51,
   "id": "27542165-6e2f-4ea5-b05f-beee21eb9fc9",
   "metadata": {},
   "outputs": [],
   "source": [
    "nx.write_gexf(g,'gephi_covid.gexf')"
   ]
  },
  {
   "cell_type": "code",
   "execution_count": 64,
   "id": "ae7a89f9-b30c-4844-8efe-71ee0bff7834",
   "metadata": {},
   "outputs": [
    {
     "data": {
      "text/plain": [
       "[<networkx.classes.graph.Graph at 0x202569314f0>,\n",
       " <networkx.classes.graph.Graph at 0x202569315e0>,\n",
       " <networkx.classes.graph.Graph at 0x20256931cd0>,\n",
       " <networkx.classes.graph.Graph at 0x20256931c40>,\n",
       " <networkx.classes.graph.Graph at 0x20256931f70>,\n",
       " <networkx.classes.graph.Graph at 0x20256931370>,\n",
       " <networkx.classes.graph.Graph at 0x20256931af0>,\n",
       " <networkx.classes.graph.Graph at 0x20256931340>,\n",
       " <networkx.classes.graph.Graph at 0x20256931c10>,\n",
       " <networkx.classes.graph.Graph at 0x20256931160>,\n",
       " <networkx.classes.graph.Graph at 0x20256931310>,\n",
       " <networkx.classes.graph.Graph at 0x20256931f40>]"
      ]
     },
     "execution_count": 64,
     "metadata": {},
     "output_type": "execute_result"
    }
   ],
   "source": [
    "graph_lst"
   ]
  },
  {
   "cell_type": "code",
   "execution_count": null,
   "id": "3d5aece2-e922-4aa1-a9a2-acc75acfc6bc",
   "metadata": {},
   "outputs": [],
   "source": []
  }
 ],
 "metadata": {
  "kernelspec": {
   "display_name": "Python 3 (ipykernel)",
   "language": "python",
   "name": "python3"
  },
  "language_info": {
   "codemirror_mode": {
    "name": "ipython",
    "version": 3
   },
   "file_extension": ".py",
   "mimetype": "text/x-python",
   "name": "python",
   "nbconvert_exporter": "python",
   "pygments_lexer": "ipython3",
   "version": "3.9.12"
  }
 },
 "nbformat": 4,
 "nbformat_minor": 5
}
