{
 "cells": [
  {
   "cell_type": "markdown",
   "id": "b41e2524",
   "metadata": {},
   "source": [
    "Pytorch-Geometric은 pytorch, cudatoolkit 등 버전 충돌로 설치가 꽤나 까다롭습니다. 환경 구축이 어렵다면 간단히 colab을 사용하시는 게 제일 좋습니다."
   ]
  },
  {
   "cell_type": "markdown",
   "id": "b18f3204",
   "metadata": {},
   "source": [
    "환경 정보를 먼저 체크하겠습니다."
   ]
  },
  {
   "cell_type": "code",
   "execution_count": 1,
   "id": "abb12288",
   "metadata": {},
   "outputs": [],
   "source": [
    "import sys"
   ]
  },
  {
   "cell_type": "code",
   "execution_count": 2,
   "id": "01fe1c4f",
   "metadata": {},
   "outputs": [
    {
     "data": {
      "text/plain": [
       "sys.version_info(major=3, minor=8, micro=13, releaselevel='final', serial=0)"
      ]
     },
     "execution_count": 2,
     "metadata": {},
     "output_type": "execute_result"
    }
   ],
   "source": [
    "sys.version_info"
   ]
  },
  {
   "cell_type": "code",
   "execution_count": 3,
   "id": "31ae56fa",
   "metadata": {},
   "outputs": [
    {
     "name": "stdout",
     "output_type": "stream",
     "text": [
      "pytorch 1.10.1\n"
     ]
    }
   ],
   "source": [
    "import os\n",
    "import torch\n",
    "os.environ['TORCH'] = torch.__version__\n",
    "print(\"pytorch\", torch.__version__)"
   ]
  },
  {
   "cell_type": "markdown",
   "id": "34032228",
   "metadata": {},
   "source": [
    "만약 PyG가 없다면 pytorch_geometric를 구동하기 위한 라이브러리들을 설치해 줍니다.  \n",
    "https://pytorch-geometric.readthedocs.io/en/latest/notes/installation.html"
   ]
  },
  {
   "cell_type": "code",
   "execution_count": null,
   "id": "557d38a8",
   "metadata": {},
   "outputs": [],
   "source": [
    "!pip install torch-scatter -f https://data.pyg.org/whl/torch-1.12.0+cu113.html\n",
    "!pip install torch-sparse -f https://data.pyg.org/whl/torch-torch-1.12.0+cu113.html\n",
    "!pip install torch-geometric"
   ]
  },
  {
   "cell_type": "markdown",
   "id": "86f4b21a",
   "metadata": {},
   "source": [
    "# Networkx G 만들기"
   ]
  },
  {
   "cell_type": "markdown",
   "id": "b06a6dff",
   "metadata": {},
   "source": [
    "networkx와 matplotlib 등 기본적인 라이브러리들을 불러오겠습니다."
   ]
  },
  {
   "cell_type": "code",
   "execution_count": 4,
   "id": "62b33db6",
   "metadata": {},
   "outputs": [],
   "source": [
    "%matplotlib inline\n",
    "import networkx as nx\n",
    "import matplotlib.pyplot as plt\n",
    "import time\n",
    "import numpy as np\n",
    "from IPython.display import display, clear_output"
   ]
  },
  {
   "cell_type": "code",
   "execution_count": 5,
   "id": "93c0c8e6",
   "metadata": {},
   "outputs": [],
   "source": [
    "def visualize_graph(G, color):\n",
    "    plt.figure(figsize=(7,7))  # 그림의 크기는 (7, 7) 입니다\n",
    "    plt.xticks([])\n",
    "    plt.yticks([])\n",
    "    nx.draw_networkx(\n",
    "        G,  # 함수로 입력된 networkx 그래프 개체 G를\n",
    "        pos=nx.spring_layout(G, seed=42),  # spring layout으로 점의 위치를 계산하고\n",
    "        with_labels=False,  # 레이블은 표기하지 않은채로\n",
    "        node_color=color,  # 지정된 노드 정보로\n",
    "        cmap=\"Set2\"  # 색칠합니다\n",
    "    )\n",
    "    plt.show()\n",
    "\n",
    "\n",
    "def visualize_embedding(h, color, epoch=None, loss=None):\n",
    "    plt.figure(figsize=(7,7))\n",
    "    plt.xticks([])\n",
    "    plt.yticks([])\n",
    "    h = h.detach().cpu().numpy()  # 만약 GPU에 있는 값이면 CPU로 옮김\n",
    "    plt.scatter(h[:, 0], h[:, 1], s=140, c=color, cmap=\"Set2\")\n",
    "    if epoch is not None and loss is not None:\n",
    "        plt.xlabel(f'Epoch: {epoch}, Loss: {loss.item():.4f}', fontsize=16)\n",
    "    plt.show()\n"
   ]
  },
  {
   "cell_type": "markdown",
   "id": "0e209601",
   "metadata": {},
   "source": [
    "## Undirected Graph G"
   ]
  },
  {
   "cell_type": "markdown",
   "id": "e5c35f1a",
   "metadata": {},
   "source": [
    "기본적인 G를 하나 만듭니다"
   ]
  },
  {
   "cell_type": "code",
   "execution_count": 6,
   "id": "e1f26595",
   "metadata": {},
   "outputs": [
    {
     "data": {
      "image/png": "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\n",
      "text/plain": [
       "<Figure size 640x480 with 1 Axes>"
      ]
     },
     "metadata": {},
     "output_type": "display_data"
    }
   ],
   "source": [
    "G = nx.Graph()\n",
    "edgelist = [(0,1),(0,2),(0,3),(1,2)]\n",
    "G.add_edges_from(edgelist)\n",
    "\n",
    "fig = plt.figure()\n",
    "ax = fig.add_subplot(1,1,1)\n",
    "option = {'font_family':'serif', 'font_size':'15', 'font_weight':'semibold'}\n",
    "nx.draw_networkx(G, node_size=400, **option, node_color='white')\n",
    "plt.show()"
   ]
  },
  {
   "cell_type": "markdown",
   "id": "8d370d52",
   "metadata": {},
   "source": [
    "이 그래프를 PyG에 넣어서 GNN을 돌려 보겠습니다"
   ]
  },
  {
   "cell_type": "markdown",
   "id": "87ba04c8",
   "metadata": {},
   "source": [
    "# PyG (PyTorch Geometric)"
   ]
  },
  {
   "cell_type": "markdown",
   "id": "af940ab2",
   "metadata": {},
   "source": [
    "정답 데이터를 자동으로 생성하기 위해서 네트워크 커뮤니티 계산 알고리즘을 사용할 겁니다.  \n",
    "만약 community 라이브러리가 없다면 다음과 같이 설치해 주세요\n",
    "> pip install python-louvain"
   ]
  },
  {
   "cell_type": "code",
   "execution_count": 7,
   "id": "912d50b7",
   "metadata": {},
   "outputs": [],
   "source": [
    "import torch\n",
    "from torch_geometric.data import Data\n",
    "import community as community_louvain"
   ]
  },
  {
   "cell_type": "markdown",
   "id": "802f54b7",
   "metadata": {},
   "source": [
    "G를 행렬로 구성하겠습니다."
   ]
  },
  {
   "cell_type": "code",
   "execution_count": 8,
   "id": "8a10d5ea",
   "metadata": {},
   "outputs": [],
   "source": [
    "# Returns a 2-D tensor with ones on the diagonal and zeros elsewhere\n",
    "x = torch.eye(G.number_of_nodes(), dtype=torch.float)\n",
    "\n",
    "# Returns the graph adjacency matrix as a SciPy sparse array\n",
    "# to COOrdinate representation\n",
    "# https://docs.scipy.org/doc/scipy/reference/generated/scipy.sparse.coo_array.html#scipy.sparse.coo_array\n",
    "adj = nx.to_scipy_sparse_array(G).tocoo()"
   ]
  },
  {
   "cell_type": "code",
   "execution_count": 9,
   "id": "e701e609",
   "metadata": {},
   "outputs": [
    {
     "data": {
      "text/plain": [
       "tensor([[1., 0., 0., 0.],\n",
       "        [0., 1., 0., 0.],\n",
       "        [0., 0., 1., 0.],\n",
       "        [0., 0., 0., 1.]])"
      ]
     },
     "execution_count": 9,
     "metadata": {},
     "output_type": "execute_result"
    }
   ],
   "source": [
    "x"
   ]
  },
  {
   "cell_type": "code",
   "execution_count": 10,
   "id": "c3ea2d31",
   "metadata": {},
   "outputs": [
    {
     "data": {
      "text/plain": [
       "array([[0, 1, 1, 1],\n",
       "       [1, 0, 1, 0],\n",
       "       [1, 1, 0, 0],\n",
       "       [1, 0, 0, 0]])"
      ]
     },
     "execution_count": 10,
     "metadata": {},
     "output_type": "execute_result"
    }
   ],
   "source": [
    "adj.toarray()"
   ]
  },
  {
   "cell_type": "markdown",
   "id": "2d2ba1f1",
   "metadata": {},
   "source": [
    "희소 행렬(Sparse Matrix)의 정보들을 변수로 구성하겠습니다"
   ]
  },
  {
   "cell_type": "code",
   "execution_count": 11,
   "id": "94be7e41",
   "metadata": {},
   "outputs": [],
   "source": [
    "# numpy.ndarray로부터 Tensor 만들기\n",
    "row = torch.from_numpy(adj.row.astype(np.int64)).to(torch.long)\n",
    "# numpy.ndarray로부터 Tensor 만들기\n",
    "col = torch.from_numpy(adj.col.astype(np.int64)).to(torch.long)\n",
    "\n",
    "# 텐서의 시퀀스를 새로운 디멘전으로 Concatenate 하기\n",
    "edge_index = torch.stack([row, col], dim=0)"
   ]
  },
  {
   "cell_type": "code",
   "execution_count": 12,
   "id": "1e5dbca5",
   "metadata": {},
   "outputs": [
    {
     "data": {
      "text/plain": [
       "tensor([0, 0, 0, 1, 1, 2, 2, 3])"
      ]
     },
     "execution_count": 12,
     "metadata": {},
     "output_type": "execute_result"
    }
   ],
   "source": [
    "row  # 행 정보"
   ]
  },
  {
   "cell_type": "code",
   "execution_count": 13,
   "id": "9c912354",
   "metadata": {},
   "outputs": [
    {
     "data": {
      "text/plain": [
       "tensor([1, 2, 3, 0, 2, 0, 1, 0])"
      ]
     },
     "execution_count": 13,
     "metadata": {},
     "output_type": "execute_result"
    }
   ],
   "source": [
    "col  # 열 정보"
   ]
  },
  {
   "cell_type": "code",
   "execution_count": 14,
   "id": "5245b144",
   "metadata": {},
   "outputs": [
    {
     "data": {
      "text/plain": [
       "array([1, 1, 1, 1, 1, 1, 1, 1])"
      ]
     },
     "execution_count": 14,
     "metadata": {},
     "output_type": "execute_result"
    }
   ],
   "source": [
    "adj.data"
   ]
  },
  {
   "cell_type": "code",
   "execution_count": 15,
   "id": "f6f66932",
   "metadata": {},
   "outputs": [
    {
     "data": {
      "text/plain": [
       "tensor([[0, 0, 0, 1, 1, 2, 2, 3],\n",
       "        [1, 2, 3, 0, 2, 0, 1, 0]])"
      ]
     },
     "execution_count": 15,
     "metadata": {},
     "output_type": "execute_result"
    }
   ],
   "source": [
    "edge_index"
   ]
  },
  {
   "cell_type": "markdown",
   "id": "46846b2a",
   "metadata": {},
   "source": [
    "community 알고리즘으로 파티션된 `y` 값을 만들어 보겠습니다."
   ]
  },
  {
   "cell_type": "code",
   "execution_count": 16,
   "id": "1a4c3c17",
   "metadata": {},
   "outputs": [],
   "source": [
    "# Compute the partition of the graph nodes which maximises the modularity (or try..) using the Louvain heuristices\n",
    "# https://github.com/taynaud/python-louvain\n",
    "partition = community_louvain.best_partition(G)\n",
    "\n",
    "# 정답 array `y` 만들기\n",
    "# https://pytorch.org/docs/stable/tensors.html#torch-tensor\n",
    "y = torch.tensor([partition[i] for i in range(G.number_of_nodes())])"
   ]
  },
  {
   "cell_type": "code",
   "execution_count": 17,
   "id": "539225fa",
   "metadata": {},
   "outputs": [
    {
     "data": {
      "text/plain": [
       "{0: 0, 1: 1, 2: 1, 3: 0}"
      ]
     },
     "execution_count": 17,
     "metadata": {},
     "output_type": "execute_result"
    }
   ],
   "source": [
    "partition"
   ]
  },
  {
   "cell_type": "code",
   "execution_count": 18,
   "id": "38b816b7",
   "metadata": {},
   "outputs": [
    {
     "data": {
      "text/plain": [
       "tensor([0, 1, 1, 0])"
      ]
     },
     "execution_count": 18,
     "metadata": {},
     "output_type": "execute_result"
    }
   ],
   "source": [
    "y"
   ]
  },
  {
   "cell_type": "markdown",
   "id": "44b352e9",
   "metadata": {},
   "source": [
    "노드 중 학습할 데이터를 선택합니다"
   ]
  },
  {
   "cell_type": "code",
   "execution_count": 19,
   "id": "03c6a83d",
   "metadata": {},
   "outputs": [],
   "source": [
    "# 학습할 데이터 선택\n",
    "train_mask = torch.zeros(y.size(0), dtype=torch.bool)"
   ]
  },
  {
   "cell_type": "code",
   "execution_count": 20,
   "id": "058ceeb8",
   "metadata": {},
   "outputs": [
    {
     "data": {
      "text/plain": [
       "tensor([False, False, False, False])"
      ]
     },
     "execution_count": 20,
     "metadata": {},
     "output_type": "execute_result"
    }
   ],
   "source": [
    "train_mask"
   ]
  },
  {
   "cell_type": "code",
   "execution_count": 21,
   "id": "50688a93",
   "metadata": {},
   "outputs": [],
   "source": [
    "for i in range(int(G.number_of_nodes()/2)):\n",
    "    train_mask[(y == i).nonzero(as_tuple=False)[0]] = True"
   ]
  },
  {
   "cell_type": "code",
   "execution_count": 22,
   "id": "bb67bd50",
   "metadata": {},
   "outputs": [
    {
     "data": {
      "text/plain": [
       "tensor([ True,  True, False, False])"
      ]
     },
     "execution_count": 22,
     "metadata": {},
     "output_type": "execute_result"
    }
   ],
   "source": [
    "train_mask"
   ]
  },
  {
   "cell_type": "markdown",
   "id": "2b182602",
   "metadata": {},
   "source": [
    "직접 골라서 선택 입력해도 좋습니다"
   ]
  },
  {
   "cell_type": "code",
   "execution_count": 23,
   "id": "03a7594d",
   "metadata": {},
   "outputs": [],
   "source": [
    "train_mask[0] = False"
   ]
  },
  {
   "cell_type": "code",
   "execution_count": 24,
   "id": "da5b1ff9",
   "metadata": {},
   "outputs": [
    {
     "data": {
      "text/plain": [
       "tensor([False,  True, False, False])"
      ]
     },
     "execution_count": 24,
     "metadata": {},
     "output_type": "execute_result"
    }
   ],
   "source": [
    "train_mask"
   ]
  },
  {
   "cell_type": "code",
   "execution_count": 25,
   "id": "53397991",
   "metadata": {},
   "outputs": [],
   "source": [
    "train_mask[0] = True"
   ]
  },
  {
   "cell_type": "code",
   "execution_count": 26,
   "id": "8b00e8c4",
   "metadata": {},
   "outputs": [
    {
     "data": {
      "text/plain": [
       "tensor([ True,  True, False, False])"
      ]
     },
     "execution_count": 26,
     "metadata": {},
     "output_type": "execute_result"
    }
   ],
   "source": [
    "train_mask"
   ]
  },
  {
   "cell_type": "markdown",
   "id": "1326ad21",
   "metadata": {},
   "source": [
    "## PyG Data"
   ]
  },
  {
   "cell_type": "markdown",
   "id": "f2b1827a",
   "metadata": {},
   "source": [
    "이제 PyG의 Data로 구성해 보겠습니다"
   ]
  },
  {
   "cell_type": "code",
   "execution_count": 27,
   "id": "ab84321c",
   "metadata": {},
   "outputs": [],
   "source": [
    "dataset = Data(x=x, edge_index=edge_index, y=y, train_mask=train_mask)"
   ]
  },
  {
   "cell_type": "markdown",
   "id": "aa1cc805",
   "metadata": {},
   "source": [
    "테스트 데이터셋도 구성해 보겠습니다"
   ]
  },
  {
   "cell_type": "markdown",
   "id": "8d14fc84",
   "metadata": {},
   "source": [
    "학습 마스크 위치는 다음과 같았습니다"
   ]
  },
  {
   "cell_type": "code",
   "execution_count": 28,
   "id": "d6a2719f",
   "metadata": {},
   "outputs": [
    {
     "data": {
      "text/plain": [
       "tensor([0, 1])"
      ]
     },
     "execution_count": 28,
     "metadata": {},
     "output_type": "execute_result"
    }
   ],
   "source": [
    "# view는 기본적으로 변경 전과 변경 후의 텐서 안의 원소의 개수가 유지되어야 합니다.\n",
    "# 파이토치의 view는 사이즈가 -1로 설정되면 다른 차원으로부터 해당 값을 유추합니다.\n",
    "dataset.train_mask.nonzero().view(-1)"
   ]
  },
  {
   "cell_type": "markdown",
   "id": "1eb39ec0",
   "metadata": {},
   "source": [
    "학습 마스크 위치가 아닌 걸 선택합니다"
   ]
  },
  {
   "cell_type": "code",
   "execution_count": 29,
   "id": "42aba50c",
   "metadata": {},
   "outputs": [
    {
     "data": {
      "text/plain": [
       "tensor([[-1],\n",
       "        [-2]])"
      ]
     },
     "execution_count": 29,
     "metadata": {},
     "output_type": "execute_result"
    }
   ],
   "source": [
    "~dataset.train_mask.nonzero(as_tuple=False)"
   ]
  },
  {
   "cell_type": "code",
   "execution_count": 30,
   "id": "ee039ab9",
   "metadata": {},
   "outputs": [
    {
     "data": {
      "text/plain": [
       "tensor([-1, -2])"
      ]
     },
     "execution_count": 30,
     "metadata": {},
     "output_type": "execute_result"
    }
   ],
   "source": [
    "~dataset.train_mask.nonzero(as_tuple=False).view(-1)"
   ]
  },
  {
   "cell_type": "code",
   "execution_count": 31,
   "id": "9e4c6206",
   "metadata": {},
   "outputs": [],
   "source": [
    "remaining = ~dataset.train_mask.nonzero(as_tuple=False).view(-1)"
   ]
  },
  {
   "cell_type": "code",
   "execution_count": 32,
   "id": "5ae3b4ec",
   "metadata": {},
   "outputs": [
    {
     "data": {
      "text/plain": [
       "tensor([-1, -2])"
      ]
     },
     "execution_count": 32,
     "metadata": {},
     "output_type": "execute_result"
    }
   ],
   "source": [
    "remaining"
   ]
  },
  {
   "cell_type": "markdown",
   "id": "2c567040",
   "metadata": {},
   "source": [
    "테스트셋으로 구성할 크기는 다음과 같습니다"
   ]
  },
  {
   "cell_type": "code",
   "execution_count": 33,
   "id": "df976b08",
   "metadata": {},
   "outputs": [
    {
     "data": {
      "text/plain": [
       "2"
      ]
     },
     "execution_count": 33,
     "metadata": {},
     "output_type": "execute_result"
    }
   ],
   "source": [
    "# 0 차원 사이즈 확인\n",
    "remaining.size(0)"
   ]
  },
  {
   "cell_type": "markdown",
   "id": "ae4915d8",
   "metadata": {},
   "source": [
    "이걸 랜덤하게 섞어주죠"
   ]
  },
  {
   "cell_type": "code",
   "execution_count": 34,
   "id": "bd72106d",
   "metadata": {},
   "outputs": [
    {
     "data": {
      "text/plain": [
       "tensor([1, 0])"
      ]
     },
     "execution_count": 34,
     "metadata": {},
     "output_type": "execute_result"
    }
   ],
   "source": [
    "# random permutation\n",
    "torch.randperm(remaining.size(0))"
   ]
  },
  {
   "cell_type": "code",
   "execution_count": 35,
   "id": "5d89a6fb",
   "metadata": {},
   "outputs": [
    {
     "data": {
      "text/plain": [
       "4"
      ]
     },
     "execution_count": 35,
     "metadata": {},
     "output_type": "execute_result"
    }
   ],
   "source": [
    "y.size(0)"
   ]
  },
  {
   "cell_type": "code",
   "execution_count": 36,
   "id": "33deb232",
   "metadata": {},
   "outputs": [],
   "source": [
    "# train_mask가 아닌 것 선택\n",
    "remaining = (~dataset.train_mask).nonzero(as_tuple=False).view(-1)\n",
    "# 랜덤하게 셔플\n",
    "remaining = remaining[torch.randperm(remaining.size(0))]\n",
    "\n",
    "# y 개수만큼 0으로 구성된 벡터 만들기\n",
    "dataset.test_mask = torch.zeros(y.size(0), dtype=torch.bool)\n",
    "# 전부 False로 채우기\n",
    "dataset.test_mask.fill_(False)\n",
    "\n",
    "# tensor([False, False,  True,  True])\n",
    "dataset.test_mask[remaining[:]] = True"
   ]
  },
  {
   "cell_type": "code",
   "execution_count": 37,
   "id": "215c4b56",
   "metadata": {},
   "outputs": [
    {
     "data": {
      "text/plain": [
       "['y', 'test_mask', 'edge_index', 'train_mask', 'x']"
      ]
     },
     "execution_count": 37,
     "metadata": {},
     "output_type": "execute_result"
    }
   ],
   "source": [
    "dataset.keys"
   ]
  },
  {
   "cell_type": "code",
   "execution_count": 38,
   "id": "f8beec4f",
   "metadata": {},
   "outputs": [
    {
     "data": {
      "text/plain": [
       "{'x': tensor([[1., 0., 0., 0.],\n",
       "         [0., 1., 0., 0.],\n",
       "         [0., 0., 1., 0.],\n",
       "         [0., 0., 0., 1.]]),\n",
       " 'edge_index': tensor([[0, 0, 0, 1, 1, 2, 2, 3],\n",
       "         [1, 2, 3, 0, 2, 0, 1, 0]]),\n",
       " 'y': tensor([0, 1, 1, 0]),\n",
       " 'train_mask': tensor([ True,  True, False, False]),\n",
       " 'test_mask': tensor([False, False,  True,  True])}"
      ]
     },
     "execution_count": 38,
     "metadata": {},
     "output_type": "execute_result"
    }
   ],
   "source": [
    "dataset.to_dict()"
   ]
  },
  {
   "cell_type": "markdown",
   "id": "6c275954",
   "metadata": {},
   "source": [
    "이제 구성된 데이터셋의 정보를 출력해 보겠습니다."
   ]
  },
  {
   "cell_type": "code",
   "execution_count": 39,
   "id": "3296abac",
   "metadata": {},
   "outputs": [
    {
     "name": "stdout",
     "output_type": "stream",
     "text": [
      "노드의 개수: 4\n",
      "엣지의 개수: 8\n",
      "평균 노드 도수: 2.00\n",
      "학습할 노드의 개수: 2\n",
      "학습할 노드의 비율: 0.50\n",
      "고립된 노드가 존재하는가: False\n",
      "자가연결(self-loops) 노드가 존재하는가: False\n",
      "비방향성 그래프인가: True\n"
     ]
    }
   ],
   "source": [
    "print(f'노드의 개수: {dataset.num_nodes}')\n",
    "print(f'엣지의 개수: {dataset.num_edges}')\n",
    "print(f'평균 노드 도수: {dataset.num_edges / dataset.num_nodes:.2f}')\n",
    "print(f'학습할 노드의 개수: {dataset.train_mask.sum()}')\n",
    "print(f'학습할 노드의 비율: {int(dataset.train_mask.sum()) / dataset.num_nodes:.2f}')\n",
    "print(f'고립된 노드가 존재하는가: {dataset.has_isolated_nodes()}')\n",
    "print(f'자가연결(self-loops) 노드가 존재하는가: {dataset.has_self_loops()}')\n",
    "print(f'비방향성 그래프인가: {dataset.is_undirected()}')"
   ]
  },
  {
   "cell_type": "code",
   "execution_count": 40,
   "id": "3db7f15a",
   "metadata": {},
   "outputs": [
    {
     "name": "stdout",
     "output_type": "stream",
     "text": [
      "tensor([[0, 1],\n",
      "        [0, 2],\n",
      "        [0, 3],\n",
      "        [1, 0],\n",
      "        [1, 2],\n",
      "        [2, 0],\n",
      "        [2, 1],\n",
      "        [3, 0]])\n",
      "총 엣지 개수 : 8\n"
     ]
    }
   ],
   "source": [
    "edge_index = dataset.edge_index\n",
    "\n",
    "print(edge_index.t())\n",
    "print(\"총 엣지 개수 :\", len(edge_index.t()))"
   ]
  },
  {
   "cell_type": "markdown",
   "id": "306385da",
   "metadata": {},
   "source": [
    "# PyG 구성"
   ]
  },
  {
   "cell_type": "code",
   "execution_count": 41,
   "id": "45b9a75a",
   "metadata": {},
   "outputs": [],
   "source": [
    "import torch\n",
    "from torch.nn import Linear\n",
    "import torch.nn.functional as F\n",
    "from torch_geometric.nn import GCNConv"
   ]
  },
  {
   "cell_type": "markdown",
   "id": "2009e437",
   "metadata": {},
   "source": [
    "`torch.nn.Module` 클래스에서 네트워크 아키텍처를 정의하여 GNN을 만들어 보겠습니다.  \n",
    "\n",
    "먼저 `__init__`에서 모든 빌딩 블록을 초기화하고 `forward`에서 네트워크의 계산 흐름을 정의합니다.  \n",
    "여기서 2개의 그래프 컨볼루션 레이어를 정의하고 스택(stack)합니다.  \n",
    "이는 각 노드 주변의 2홉 이웃 정보를 집계하는 것을 의미합니다.  \n",
    "\n",
    "원한다면 conv3를 정의하거나 활성화 함수 relu를 tanh으로 바꾸는 등 자유롭게 변형해 보세요."
   ]
  },
  {
   "cell_type": "code",
   "execution_count": 42,
   "id": "117befe7",
   "metadata": {},
   "outputs": [
    {
     "name": "stdout",
     "output_type": "stream",
     "text": [
      "GCN(\n",
      "  (conv1): GCNConv(4, 4)\n",
      "  (conv2): GCNConv(4, 2)\n",
      "  (classifier): Linear(in_features=2, out_features=2, bias=True)\n",
      ")\n"
     ]
    }
   ],
   "source": [
    "class GCN(torch.nn.Module):\n",
    "    def __init__(self):\n",
    "        super().__init__()\n",
    "        torch.manual_seed(1234)\n",
    "        self.conv1 = GCNConv(in_channels=dataset.num_features, out_channels=4)\n",
    "        self.conv2 = GCNConv(in_channels=4, out_channels=2)\n",
    "        # self.conv3 = GCNConv(4, 2)\n",
    "        # self.classifier = Linear(2, dataset.num_classes)\n",
    "        self.classifier = Linear(2, 2)\n",
    "\n",
    "    def forward(self, x, edge_index):\n",
    "        h = self.conv1(x, edge_index)\n",
    "        h = h.relu()\n",
    "        h = F.dropout(h)\n",
    "        h = self.conv2(h, edge_index)\n",
    "        h = h.tanh()\n",
    "        # h = self.conv3(h, edge_index)\n",
    "        # h = h.tanh()  # Final GNN embedding space.\n",
    "        \n",
    "        # Apply a final (linear) classifier.\n",
    "        out = self.classifier(h)\n",
    "\n",
    "        return out, h\n",
    "\n",
    "model = GCN()\n",
    "print(model)"
   ]
  },
  {
   "cell_type": "markdown",
   "id": "61fa1e77",
   "metadata": {},
   "source": [
    "# GNN model"
   ]
  },
  {
   "cell_type": "markdown",
   "id": "5f5c8307",
   "metadata": {},
   "source": [
    "이제 데이터를 모델에 넣어보겠습니다"
   ]
  },
  {
   "cell_type": "code",
   "execution_count": 43,
   "id": "857d8b61",
   "metadata": {},
   "outputs": [
    {
     "name": "stdout",
     "output_type": "stream",
     "text": [
      "Embedding shape: [4, 2]\n"
     ]
    },
    {
     "data": {
      "image/png": "iVBORw0KGgoAAAANSUhEUgAAAjcAAAIzCAYAAAD8uTi4AAAAOXRFWHRTb2Z0d2FyZQBNYXRwbG90bGliIHZlcnNpb24zLjUuMywgaHR0cHM6Ly9tYXRwbG90bGliLm9yZy/NK7nSAAAACXBIWXMAAA9hAAAPYQGoP6dpAAAQ00lEQVR4nO3dX29Ud37H8e+MzWAcbEMCZmNwIEkJNH9os92qq61QmmykVmq1N6ut1IfQqpWqPoNetddVpUqrPoiqait1LzZJtVGkSI3YJtlkoVEDJsOKkJDYYGyMZ3pBoYkg/scxY3/8et2FOefH9yIXb37zm3Na/X6/XwAAIdqDHgAAoEniBgCIIm4AgCjiBgCIIm4AgCjiBgCIIm4AgCjDG72x1+tVt9utsbGxarVaTc4EAPA1/X6/5ubmampqqtrtlfdmNhw33W63pqenN3o7AMC6zczM1JEjR1a8ZsNxMzY2dvcvGR8f3+gyAACrmp2drenp6bv9sZINx82dr6LGx8fFDQDwUKzlKIwDxQBAFHEDAEQRNwBAFHEDAEQRNwBAFHEDAEQRNwBAFHEDAEQRNwBAFHEDAEQRNwBAFHEDAETZ8IszN9P1pcW6vDBXi8u3avfQcB0c2Vt7d40MeiwAYBvYMnHT7/fro9kr9fqls/Wfn16oXvXvftauVv3mgSP18uPP1PGJyTW9ERQA2Jm2RNxcX1qsf/jFf9S52U+r3Wp9LWyqqnrVrzNXLtY7V2bqybHH6s+efanGO3ZyAIB7DfzMzbWlhfrbMz+pj2avVFVVr9+/73V3guf83Of1N2f+vb68eeOhzQgAbB8DjZtev1d///4bdWXh2j27Nd94T/Xri8X5+rv3XqtbveVNnhAA2G4GGjfvft6t/5n7bM1hc0ev+nXx+hd15rOLmzQZALBdDTRuXu+erXZt7HBwq6pe655tdiAAYNsbWNx8euNa/eKLX6171+aOflX99+yn1b3+ZbODAQDb2sDiZub61YbW+byRdQCADAOLmxu3bja0zlIj6wAAGQYWN52hZh6x09Q6AECGgcXNgZFHGlnnsd3NrAMAZBhY3Bzb+1gd2jP2QGs8uvuROj4x2dBEAECCgcVNq9Wql6dObPz+qnp56plqe88UAPAVA33OzXcnn6xHhjvVWuezblrVqt1Du+p7h57apMkAgO1qoHGzZ3hX/cXzv1dDrbXnTauqWq2qP3/updq7a/dmjgcAbEMDf3Hmk2MH6q9Ofb9GhnatuoPTrlZ1hobrL59/xVkbAOC+tsTvqJ8eP1h//Z0/qjcunas3uufq2q3Fav/fbk6/br8pfHS4Uy89frxeevx47d89OuiRAYAtakvETVXVRGdP/eDoqfrD6efr559/Upfmv6yF5aUaGdpVh/aM1W88dqR2tYcGPSYAsMVtmbi5Y6jdrm8fmK6q6UGPAgBsQwM/cwMA0CRxAwBEETcAQBRxAwBEETcAQBRxAwBEETcAQBRxAwBEETcAQBRxAwBEETcAQBRxAwBEETcAQBRxAwBEETcAQBRxAwBEETcAQBRxAwBEETcAQBRxAwBEETcAQBRxAwBEETcAQBRxAwBEETcAQBRxAwBEETcAQBRxAwBEETcAQBRxAwBEETcAQBRxAwBEETcAQBRxAwBEETcAQBRxAwBEETcAQBRxAwBEETcAQBRxAwBEETcAQBRxAwBEETcAQBRxAwBEETcAQBRxAwBEETcAQBRxAwBEETcAQBRxAwBEETcAQBRxAwBEETcAQBRxAwBEETcAQBRxAwBEETcAQBRxAwBEETcAQBRxAwBEETcAQBRxAwBEETcAQBRxAwBEETcAQBRxAwBEETcAQBRxAwBEETcAQBRxAwBEETcAQBRxAwBEETcAQBRxAwBEETcAQBRxAwBEETcAQBRxAwBEETcAQBRxAwBEETcAQBRxAwBEETcAQBRxAwBEETcAQBRxAwBEETcAQBRxAwBEETcAQBRxAwBEETcAQBRxAwBEETcAQBRxAwBEETcAQBRxAwBEETcAQBRxAwBEETcAQBRxAwBEETcAQBRxAwBEETcAQBRxAwBEETcAQBRxAwBEETcAQBRxAwBEETcAQBRxAwBEETcAQBRxAwBEETcAQBRxAwBEETcAQBRxAwBEETcAQBRxAwBEETcAQBRxAwBEETcAQBRxAwBEETcAQBRxAwBEETcAQBRxAwBEETcAQBRxAwBEETcAQBRxAwBEETcAQBRxAwBEETcAQBRxAwBEETcAQBRxAwBEETcAQBRxAwBEETcAQBRxAwBEETcAQBRxAwBEETcAQBRxAwBEETcAQBRxAwBEETcAQBRxAwBEETcAQBRxAwBEETcAQBRxAwBEETcAQBRxAwBEETcAQBRxAwBEETcAQBRxAwBEETcAQBRxAwBEETcAQBRxAwBEETcAQBRxAwBEETcAQBRxAwBEETcAQBRxAwBEETcAQBRxAwBEETcAQBRxAwBEETcAQBRxAwBEETcAQBRxAwBEETcAQBRxAwBEETcAQBRxAwBEETcAQBRxAwBEETcAQBRxAwBEETcAQBRxAwBEETcAQBRxAwBEETcAQBRxAwBEETcAQBRxAwBEETcAQBRxAwBEETcAQBRxAwBEETcAQBRxAwBEETcAQBRxAwBEETcAQBRxAwBEETcAQBRxAwBEETcAQBRxAwBEETcAQBRxAwBEETcAQBRxAwBEETcAQBRxAwBEETcAQBRxAwBEETcAQBRxAwBEETcAQBRxAwBEETcAQBRxAwBEETcAQBRxAwBEETcAQBRxAwBEETcAQBRxAwBEETcAQBRxAwBEETcAQBRxAwBEETcAQBRxAwBEETcAQBRxAwBEETcAQBRxAwBEETcAQBRxAwBEETcAQBRxAwBEETcAQBRxAwBEETcAQBRxAwBEETcAQBRxAwBEETcAQBRxAwBEETcAQBRxAwBEETcAQBRxAwBEETcAQBRxAwBEETcAQBRxAwBEETcAQBRxAwBEETcAQBRxAwBEETcAQBRxAwBEETcAQBRxAwBEETcAQBRxAwBEETcAQBRxAwBEETcAQBRxAwBEETcAQBRxAwBEETcAQBRxAwBEETcAQBRxAwBEETcAQBRxAwBEETcAQBRxAwBEETcAQBRxAwBEETcAQBRxAwBEETcAQBRxAwBEETcAQBRxAwBEETcAQBRxAwBEETcAQBRxAwBEETcAQBRxAwBEETcAQBRxAwBEETcAQBRxAwBEETcAQBRxAwBEETcAQBRxAwBEETcAQBRxAwBEETcAQBRxAwBEETcAQBRxAwBEETcAQBRxAwBEETcAQBRxAwBEETcAQBRxAwBEETcAQBRxAwBEETcAQBRxAwBEETcAQBRxAwBEETcAQBRxAwBEETcAQBRxAwBEETcAQBRxAwBEETcAQBRxAwBEETcAQBRxAwBEETcAQBRxAwBEETcAQBRxAwBEETcAQBRxAwBEETcAQBRxAwBEETcAQBRxAwBEETcAQBRxAwBEETcAQBRxAwBEETcAQBRxAwBEETcAQBRxAwBEETcAQBRxAwBEETcAQBRxAwBEETcAQBRxAwBEETcAQBRxAwBEETcAQBRxAwBEETcAQBRxAwBEETcAQBRxAwBEETcAQBRxAwBEETcAQBRxAwBEETcAQBRxAwBEETcAQBRxAwBEETcAQBRxAwBEETcAQBRxAwBEETcAQBRxAwBEETcAQBRxAwBEETcAQBRxAwBEETcAQBRxAwBEETcAQBRxAwBEETcAQBRxAwBEETcAQBRxAwBEETcAQBRxAwBEETcAQBRxAwBEETcAQBRxAwBEETcAQBRxAwBEETcAQBRxAwBEETcAQBRxAwBEETcAQBRxAwBEGR70AADA9tTr9WpmZqYuX75ct27dqna7XaOjo3X8+PEaGRkZ2FziBgBYl5s3b9b7779fly5dql6vd8/n58+fr/Hx8Tp58mRNTk4+9PnEDQCwZlevXq233nrrvlHzVbOzs/X222/X0aNH64UXXnhI090mbgCANZmdna0333xzXfecP3+++v1+nTp1apOmupcDxQDAqnq93rrD5o4LFy5Ut9tteKJvJm4AgFVdvHixlpeXN3z/hx9+2OA0KxM3AMCqzp0790D3z8/P17Vr1xqaZmXiBgBY0cLCQt24ceOB13lYuzfiBgBY0ezsbCPrzM/PN7LOasQNALCipaWlRtZZ7efjTRE3AMCKOp1OI+sMDQ01ss5qxA0AsKKJiYkttc5qxA0AsKJOp9NImJw8ebKBaVYnbgCAVT1omOzbt6+xr7dWI24AgFUdPHiw9uzZs+H7n3vuuQanWZm4AQDW5PTp0zU8vP7XUp46dar279+/CRPdn7gBANak0+nUK6+8UiMjI2u+58UXX6wnnnhiE6e6l7eCAwBr1ul06tVXX61PPvmkzp49W9evX7/nmqGhoTp8+HCdPHnyoZ2z+SpxAwCs2+HDh+vw4cM1Pz9fly9frsXFxRoeHq6xsbGanJwc6GziBgDYsNHR0Tp27Nigx/gaZ24AgCjiBgCIIm4AgCjiBgCIIm4AgCjiBgCIIm4AgCjiBgCIIm4AgCjiBgCIIm4AgCjiBgCIIm4AgCjiBgCIIm4AgCjiBgCIIm4AgCjiBgCIIm4AgCjiBgCIIm4AgCjiBgCIIm4AgCjiBgCIIm4AgCjiBgCIIm4AgCjiBgCIIm4AgCjiBgCIIm4AgCjiBgCIIm4AgCjiBgCIIm4AgCjiBgCIIm4AgCjiBgCIIm4AgCjiBgCIIm4AgCjiBgCIIm4AgCjiBgCIIm4AgCjiBgCIIm4AgCjiBgCIMjzoAQDYGvr9fl1emKu5mwu13O/X6HCnpkYnaqjt38FsL+IGYIdbXL5Vb1/+uH7a/WV157/82mdju3bXS48/U6e/9XTt2z06oAlhfcQNwA72/tVu/fiDN2theala9/l8bmmx/vXCe/VvF96rHxw7VX9w5Nlqte53JWwd4gZgh3rnyoX68Qc/u/vf/W+4rl/96lfVP33885q9uVB//NS3BQ5bmi9SAXagj+c+q3/88M3q1zdHzf38tPvLev3S2c0aCxohbgB2oH85/27111M1X/HP5/+rlnrLzQ4EDRI3ADvMlYVr9e7VbvXWtWfz/+ZvLdU7Vy40PBU0R9wA7DA/+9VH1b7v8eG1aVXVa11fTbF1iRuAHeb8tc83vGtTdfuMzsy1q80NBA0TNwA7zPzS4gOvcavfq+Ver4FpoHniBmCH6Qw9+FNA2tWqtp+Ds0WJG4AdZnLP2AOduamq2r971LNu2LLEDcAO871DTz3QmZtWVZ1+/NeaGwgaJm4Adpinxg7U1OjEhvduWtWq3z30dKMzQZPEDcAO02q16venn93Q3k2rqr576Mka74w0PRY0RtwA7EC/c/BYvTL1zLruaVerntj7aP3J09/ZpKmgGV6cCbADtVqt+tFTv1XD7aH6ycUPql2tbzyH06rbz7Y5PjFZf/rs6UZ+bQWbyf+hADtUu9WqHz75Yj2/f6pe656tM5/N3P3zqqpe//YbwY/ufbRePnyifvvA0Rpq2/Bn6xM3ADvciX2H6sS+Q3V1cb7OfDZTczcXa7nfq9Fdnfr1fd+qJ/Y+OugRYV3EDQBVdfvZNS9PnRj0GPDA7C8CAFHEDQAQRdwAAFHEDQAQRdwAAFHEDQAQRdwAAFHEDQAQRdwAAFHEDQAQRdwAAFHEDQAQRdwAAFE2/Fbwfr9fVVWzs7ONDQMAcD93euNOf6xkw3EzNzdXVVXT09MbXQIAYF3m5uZqYmJixWta/bUk0H30er3qdrs1NjZWrVZrQwMCAKxFv9+vubm5mpqaqnZ75VM1G44bAICtyIFiACCKuAEAoogbACCKuAEAoogbACCKuAEAoogbACCKuAEAoogbACCKuAEAoogbACCKuAEAovwvpX786B0S7zwAAAAASUVORK5CYII=\n",
      "text/plain": [
       "<Figure size 700x700 with 1 Axes>"
      ]
     },
     "metadata": {},
     "output_type": "display_data"
    }
   ],
   "source": [
    "model = GCN()\n",
    "\n",
    "out, h = model(dataset.x, dataset.edge_index)  # 데이터셋의 x와 edge_index를 모델에 넣음. 노드 임베딩 h가 반환됨.\n",
    "print(f'Embedding shape: {list(h.shape)}')  # h의 형태를 출력함\n",
    "\n",
    "visualize_embedding(h, color=dataset.y)  # h의 값을 시각화함"
   ]
  },
  {
   "cell_type": "markdown",
   "id": "156e43a6",
   "metadata": {},
   "source": [
    "학습을 진행하지 않은 상태라 초록색이 뭉쳐지지 않은 모습을 볼 수 있습니다"
   ]
  },
  {
   "cell_type": "code",
   "execution_count": 44,
   "id": "23582079",
   "metadata": {},
   "outputs": [
    {
     "data": {
      "text/plain": [
       "tensor([[0.2322, 0.3330],\n",
       "        [0.2430, 0.3425],\n",
       "        [0.2430, 0.3425],\n",
       "        [0.2415, 0.3562]], grad_fn=<AddmmBackward0>)"
      ]
     },
     "execution_count": 44,
     "metadata": {},
     "output_type": "execute_result"
    }
   ],
   "source": [
    "out"
   ]
  },
  {
   "cell_type": "code",
   "execution_count": 45,
   "id": "c653bc2a",
   "metadata": {},
   "outputs": [
    {
     "data": {
      "text/plain": [
       "tensor([0, 1, 1, 0])"
      ]
     },
     "execution_count": 45,
     "metadata": {},
     "output_type": "execute_result"
    }
   ],
   "source": [
    "y"
   ]
  },
  {
   "cell_type": "code",
   "execution_count": 46,
   "id": "9e920202",
   "metadata": {},
   "outputs": [
    {
     "data": {
      "text/plain": [
       "tensor([[ 0.0202, -0.0889],\n",
       "        [ 0.0331, -0.0804],\n",
       "        [ 0.0331, -0.0804],\n",
       "        [-0.0121, -0.0274]], grad_fn=<TanhBackward0>)"
      ]
     },
     "execution_count": 46,
     "metadata": {},
     "output_type": "execute_result"
    }
   ],
   "source": [
    "h"
   ]
  },
  {
   "cell_type": "code",
   "execution_count": 47,
   "id": "402abb9e",
   "metadata": {},
   "outputs": [
    {
     "data": {
      "text/plain": [
       "tensor([0, 1, 1, 0])"
      ]
     },
     "execution_count": 47,
     "metadata": {},
     "output_type": "execute_result"
    }
   ],
   "source": [
    "dataset.y"
   ]
  },
  {
   "cell_type": "markdown",
   "id": "e7636b77",
   "metadata": {},
   "source": [
    "# 학습 시작"
   ]
  },
  {
   "cell_type": "code",
   "execution_count": 49,
   "id": "0072b414",
   "metadata": {},
   "outputs": [
    {
     "data": {
      "image/png": "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\n",
      "text/plain": [
       "<Figure size 700x700 with 1 Axes>"
      ]
     },
     "metadata": {},
     "output_type": "display_data"
    }
   ],
   "source": [
    "model = GCN()\n",
    "criterion = torch.nn.CrossEntropyLoss()  # Define loss criterion.\n",
    "optimizer = torch.optim.Adam(model.parameters(), lr=0.01)  # Define optimizer.\n",
    "\n",
    "def train(data):\n",
    "    optimizer.zero_grad()  # Clear gradients.\n",
    "    out, h = model(data.x, data.edge_index)  # Perform a single forward pass.\n",
    "    loss = criterion(out[data.train_mask], data.y[data.train_mask])  # Compute the loss solely based on the training nodes.\n",
    "    loss.backward()  # Derive gradients.\n",
    "    optimizer.step()  # Update parameters based on gradients.\n",
    "    return loss, out, h\n",
    "\n",
    "list_loss = []\n",
    "for epoch in range(401):\n",
    "    loss, out, h = train(dataset)\n",
    "    list_loss.append(loss.detach().cpu().numpy())\n",
    "    if epoch % 10 == 0:\n",
    "        visualize_embedding(h, color=dataset.y, epoch=epoch, loss=loss)\n",
    "        time.sleep(0.3)\n",
    "        clear_output(wait=True)"
   ]
  },
  {
   "cell_type": "markdown",
   "id": "0f748d61",
   "metadata": {},
   "source": [
    "시각화 결과물에서는 잘 학습이 된 것 같네요!  \n",
    "\n",
    "학습된 결과를 살펴 볼까요?"
   ]
  },
  {
   "cell_type": "code",
   "execution_count": 50,
   "id": "709d62f3",
   "metadata": {},
   "outputs": [
    {
     "data": {
      "text/plain": [
       "[<matplotlib.lines.Line2D at 0x7f91e4f52bb0>]"
      ]
     },
     "execution_count": 50,
     "metadata": {},
     "output_type": "execute_result"
    },
    {
     "data": {
      "image/png": "iVBORw0KGgoAAAANSUhEUgAAAiMAAAGdCAYAAADAAnMpAAAAOXRFWHRTb2Z0d2FyZQBNYXRwbG90bGliIHZlcnNpb24zLjUuMywgaHR0cHM6Ly9tYXRwbG90bGliLm9yZy/NK7nSAAAACXBIWXMAAA9hAAAPYQGoP6dpAACyM0lEQVR4nO2deZwcVbn3f9WzT5KZyWSSyTYhCSFADCQhISEgAhKIAaOo98oFFATFF4QrGDeisqnXuMFFvSgvIIJXEZBXQCWyBcIaloQMawhkI+tM1tn37nr/6K6qU6fOqTpVXdVdPfN8+YSprjpbVXXXeerZjqbrug6CIAiCIIg8kcj3AAiCIAiCGNqQMEIQBEEQRF4hYYQgCIIgiLxCwghBEARBEHmFhBGCIAiCIPIKCSMEQRAEQeQVEkYIgiAIgsgrJIwQBEEQBJFXivM9ABVSqRR2796NESNGQNO0fA+HIAiCIAgFdF1He3s7xo8fj0RCrv8oCGFk9+7daGhoyPcwCIIgCIIIwI4dOzBx4kTp8YIQRkaMGAEgfTJVVVV5Hg1BEARBECq0tbWhoaHBnMdlFIQwYphmqqqqSBghCIIgiALDy8WCHFgJgiAIgsgrJIwQBEEQBJFXSBghCIIgCCKvkDBCEARBEEReIWGEIAiCIIi8QsIIQRAEQRB5hYQRgiAIgiDyCgkjBEEQBEHkFd/CyHPPPYelS5di/Pjx0DQNDz/8sGed3t5efP/738dhhx2GsrIyTJ48GXfddVeQ8RIEQRAEMcjwnYG1s7MTs2bNwiWXXILPfvazSnU+//nPo7m5Gb///e8xbdo07NmzB6lUyvdgCYIgCIIYfPgWRpYsWYIlS5Yol3/sscfw7LPPYsuWLaitrQUATJ482W+3BEEQBEEMUiL3Gfn73/+OefPm4ec//zkmTJiA6dOn41vf+ha6u7uldXp7e9HW1mb7RxAEQRDE4CTyhfK2bNmCF154AeXl5XjooYewf/9+fO1rX8OBAwfwhz/8QVhnxYoVuPHGG6MeGkEQBEHElg8PdOKxt5vwhRMOw7CygljXNjCRa0ZSqRQ0TcOf//xnzJ8/H2eddRZuvvlm3HPPPVLtyPLly9Ha2mr+27FjR9TDJAiCIIhY8etVm7DiX+/hX2835XsokRO5qDVu3DhMmDAB1dXV5r6jjz4auq5j586dOOKIIxx1ysrKUFZWFvXQCIIgCCK2dPYO2P4OZiLXjJx00knYvXs3Ojo6zH3vv/8+EokEJk6cGHX3BEEQBFGQ6NDTf3U9zyOJHt/CSEdHBxobG9HY2AgA2Lp1KxobG7F9+3YAaRPLhRdeaJY///zzMWrUKFx88cV499138dxzz+Hb3/42LrnkElRUVIRzFgRBEAQxyDBkkMEvigQQRtauXYs5c+Zgzpw5AIBly5Zhzpw5uO666wAAe/bsMQUTABg+fDiefPJJtLS0YN68ebjggguwdOlS/PrXvw7pFAiCIAiCKGR8+4yceuqpriqju+++27HvqKOOwpNPPum3K4IgCIIYshgz7RCw0tDaNARBEATB0tLVh9+u3oTdLfJ8WLmAzDQEQRAEMUR5cN1O/Pyxjfj9C1vzPBJyYCUIgiCIIUlnbxIA0NWX35DaISCDmJAwQhAEQRAMVkhtvseR+TsEhBISRgiCIAiCwfTVyLcwkhmAPgS8RkgYIQiCIAgir5AwQhAEQRAMpnkkzxqJIGYaXddx7cNv4668O9/6Y3AvA0gQBEEQftFj4jMSILR356Fu/O/LH6KqvBiXfHRKJOOKAtKMEARBEASDzv3NF0E0I/3JFAAgmcr36P1BwghBEARBMBSyA2tcBCm/kDBCEARBEAxmaG9MpnR/PiP+68QBEkYIgiAIgkGPiXohmEARL0FKFRJGCIIgCIIhJrJIIEgzQhAEQRCDAGtCz3dor/+1aQpVkCJhhCAIgiBiSBAtR6FpRAxIGCEIgiAIBsuBNc/jCJBnxKoc5kiih4QRgiAIgmCJid9FkAX74hYJpAoJIwRBEATBEBe/C0sz4sNnJCaClF9IGCEIgiAIBjPZWN4dWDN/g+QZCX000ULCCEEQBEEwFOqEDgSLwIkDJIwQBEEQBIPu2MgTAYSiQhWkSBghCIIgCIYgvhqRjCMLT9oCU4yQMEIQBEEQcSSIlqPQhBADEkYIgiAIgiFISG0048j8DRDaW2iQMEIQBEEQDHEJjzWjegKE9rL1CwESRgiCIAhCQL61DEE0I7b6hSOLkDBCEARBECxWnpE8DyQAumQ77pAwQhAEQRAM8cvA6qeOLtyOOySMEARBEARDbHxGjL++HFjF23GHhBGCIAiCYNDjohvJ2oHVfqxvIBXGqCKBhBGCIAiCiCHBMsEyZhpm++n3mjHzhsfxt9d3hjG00CFhhCAIgiAYYmOmyTLpGbu9fnsL+gZSWL+9JYyhhY5vYeS5557D0qVLMX78eGiahocffli57osvvoji4mLMnj3bb7cEQRAEkRNiYqQJtOidrGRcUtzL8C2MdHZ2YtasWbj11lt91WtpacGFF16I008/3W+XBEEQBJEzLM1InvOMBOheVieuQohBsd8KS5YswZIlS3x3dNlll+H8889HUVGRL20KQRAEQeQWnfl//vEVTWML7XW2kW/Tk4yc+Iz84Q9/wJYtW3D99dcrle/t7UVbW5vtH0EQBEHkgrhM3IF8RmzbumN/TGWR6IWRDz74ANdccw3+9Kc/obhYTRGzYsUKVFdXm/8aGhoiHiVBEARBpAkiBERBmOng4yJgyYhUGEkmkzj//PNx4403Yvr06cr1li9fjtbWVvPfjh07IhwlQRAEQVgEcRyNZBzZ5hlh98dcN+LbZ8QP7e3tWLt2LdavX48rr7wSAJBKpaDrOoqLi/HEE0/g4x//uKNeWVkZysrKohwaQRAEQQiJm/bAXwZW93TwcTs3g0iFkaqqKrz11lu2fb/97W/x9NNP48EHH8SUKVOi7J4gCIIgCpZAgoNEM4KYm2l8CyMdHR3YtGmT+Xnr1q1obGxEbW0tJk2ahOXLl2PXrl344x//iEQigZkzZ9rqjxkzBuXl5Y79BEEQBBEHsvXVCIsg4bg204xAMIlriK9vYWTt2rU47bTTzM/Lli0DAFx00UW4++67sWfPHmzfvj28ERIEQRBEDolbgjBfSc9keUYM/5N4nJID38LIqaee6nph7r77btf6N9xwA2644Qa/3RIEQRBETrAcWPM8jkChvWI7TVwihGTQ2jQEQRAEwRIT/4og5iK7aUaQZySm0ggJIwRBEATBEBf/ikChvbb6zu18n5MMEkYIgiAIgiEu/hXBNCNObUh6O952GhJGCIIgCIIhNunBspQfROvU5P2cJJAwQhAEQRAxJMs0I8L6+c4qK4OEEYIgCIJg0GOjGknjS34Q+Imkt+O1EjEPCSMEQRCEMm/ubMGLm/bnexiREjcHVj8ihD2ChqJpCIIgiEHIJXe/hovuehVtPf35HkpkFLYDq6ABkM8IQRAEMYg41NWPgZSOzt4BpfKvbTuIz/3uJby1szXikYVHXKw0pgARVBhh98dkJWIZJIwQBEEQyvjVGtzw93ew7sNDWPo/L0Q4qpAxhYA8m2kMASJonhF2mzQjBEEQxGDBr9agrNiaZjoUtSn5xhIC8jyOQJoRZzgvwJxLvk9KAgkjBEEQhDK6T63B0eOqzO1VG5qjGFLoBBECohyHrzq2bVGekXhKIySMEARBEL5RnSjZYoM9CicqfEX2SkJ7YfqMhDGi8CFhhCAIglAiiA8FW6c/GdOZkCNu/hX+LrskHXxMtD0ySBghCIIglJC/davWielMyGGt4xKPPCNBTSvidPDxvAckjBAEQRBKpGyLsKlNakInypgTF81IEKdTmcCok5mGIAiCGAzIlqd3ryOO7ogzcclWGkQokpWNi4Alg4QRgiAIQgl2ck4pztSFrRmJSZ4RH1KRPOmZ+/F8Q8IIQRAEoYRorRPvOsx2XGdCB/EwaQQL7ZXkGYl5ohESRgiCIAglsnZgDXc4kRG3yJPAob2CRfPick48JIwQBEEQAVA009je1GM6E3LEZm0a468fB1Z2W5AbPt/nJIOEEYIgCEKJIJoR0cqxhBqBHFhtEU9wbMdVICRhhCAIglAie5+RUIcTGdZigPkecHbjsOcZMXKWxBMSRggipuxt78Hf39iNvoFUvodCEACC+oz4z02Sb+IyymCaEWYbzu28y1cSSBghiJiy9Dcv4Ot/WY/bnt2c76EQBAD5ImzKdWI6EfLExYE1UNIzj2iauN4CEkYIIqY0t/UCAJ4qkJVOicGPbHl69zrMdsjjiQrLgTUe6eCzaMGxlX/TkxgSRggi5sT02UEMQVJBzDTsdoF8ly2fkTyPw/wbQtKzfJ+MBySMEARBEGpIcli4VhHFlxYIcRmtr9BeicBIPiMEQRDEoCDIOjOFqRkx/ubbTGP/q1RHsm3lGYnnTSBhhCAIglAi0NxcgD4jccEKx/VjppE4sFIGVoIgsiGubzLE0COIlqMwM7DGIydH1hlYBZqsuN4C38LIc889h6VLl2L8+PHQNA0PP/ywa/m//e1vOOOMMzB69GhUVVVh4cKFePzxx4OOlyAIgsgTQXKGFGQ0TczywfsahsxnZLCZaTo7OzFr1izceuutSuWfe+45nHHGGVi5ciXWrVuH0047DUuXLsX69et9D5YgiGj411t7cNovV+PtXa35HgoRYwJpRgowHXxccnIEs4oVppmm2G+FJUuWYMmSJcrlb7nlFtvnn/zkJ3jkkUfwj3/8A3PmzPHbPUEMOXLx8Hjy3WZs3d+JFzftx8wJ1dF3SBQk7HcxpfjFZMup1sk31sSdbwdW/wKEdNXemAhYMnLuM5JKpdDe3o7a2tpcd00QhARjkuhPpvBI4y40tfbkeUREHMl2bZpCIX4Ttw8HVnZbZCKLz0nZ8K0ZyZZf/vKX6OjowOc//3lpmd7eXvT29pqf29racjE0ghiS6Lo1xTz93l68vr0F58wej1v+gzSXBEeQpGeFaKYx/sYl6VkI4xh0PiPZcO+99+LGG2/EAw88gDFjxkjLrVixAtXV1ea/hoaGHI6SIIYO333wTZz882fQ2TsAADjU1Q8AaOnuz+ewiJiiu3xSqRXXidBBTCbubBfK4454HM8vORNG7rvvPnzlK1/BAw88gEWLFrmWXb58OVpbW81/O3bsyNEoCWJo8ez7+7DzUDc27e0AACRT8X5gEfmF9fkYzJqRuBDEd6VQF8rLiZnmL3/5Cy655BLcd999OPvssz3Ll5WVoaysLAcjI4j4E+UD3JhcjDVHrM9xfWQR+SRImG5BZmCNiRYhW82IyMcn3065MnwLIx0dHdi0aZP5eevWrWhsbERtbS0mTZqE5cuXY9euXfjjH/8IIG2aueiii/CrX/0KCxYsQFNTEwCgoqIC1dXktU8Q+cR4LJlCSCqeDyoiHgQL7S08M01cEoQFC+1ltm2akXgkcpPh20yzdu1azJkzxwzLXbZsGebMmYPrrrsOALBnzx5s377dLH/77bdjYGAAV1xxBcaNG2f+u+qqq0I6BYIggsI/dJOkGSFcsKcaV0x6Zqsf8oAiIjbDDCIU6U5tCLsd13vgWzNy6qmnun4J7777btvn1atX++2CIIgcoXPCRzJl7M/XiIg4E8hME6BOvrHye8RjxL5kEXZb4OMTjzNyQmvTEMQQxngwGY6rKfMhnKcBEVnx/Af7cN0jb6OnPxl5X0FW7Y3tTMihc3/zRSAHVonwp4sKxAgSRggi5kT56OA1I+TAWtj8ZtUm/HHNh1iz+UAk7cucI93rkM9ItuPwV0cWTTPIfEYIghg8WA6s6b9maG9+hkNkSW/GztZn2NtCxiZMBJoowxtLlFiakTznGTH++hiGVy6YuN4DEkYIIuZEabdOycwzMX1gEe5E7eswVHxGEBNzpaXNCGamUdkfF0gYIYghDO8zwvuOAMCqDc24+YmNQy7sd8u+Djzz3t58D8MXUZsXAoX22pJwDa3vULZke7WEq/bGVCTM+do0BEHECEloL/u4+vI9awEAx0yswRkz6nM4uPxy1X2NeGtXK5751qk4rLYSiYSW7yF5Yk04EbUfwP/DvtJv2COKhrgoCIMIl0Kn1YBt5RLSjBDEEMbyGbGr90UOrAc6eh37BjMHO/sAAH94cStm3fgEntkYfy1JLDUjBWimidvE7UsYkTqw+m8rl5AwQhBDGD56xm1tmrKSofm4+OOaD9HeO4CL//Ba7E1Vxn2LKhqKnehU+7A7vcb7+hnosdGNpAlqWhFpsuJxRk6G5tOFIAgAzOSVCb4w5lrLi996dJUXF+VuYDHAmGxHDSs19z3xbnO+hqOEqeGKqP2h4sAaBy2CTMPhXY/ZFuyPq98OCSMEMYQx3paS3APKeGCxIaKDUTPSuKMFV923Hrtbuh3HjEsyvNxyrXth075cDS0rIoumkX5QqxPTedBBHLKVBhXipKv2Zj+kSBl8TxeCGGRE+QCXqfWNjz19ljAyGDUjf375QzzSuBv/ervJccwU1BjTTLJAzDS5aF/ZdBCkTp4RaQbzNQbnB496susdA22PGySMEMQQRqaONh5iPQNWWvFCiCbxy0BGuBgQJAmzTFiMn0Q0ucRCw7hvkfmMSN663UgFNDfkkzhkKw0qCMmEmLiH9pIwQhAxR4tQBpA9mIxJt7vPEkYKZSLxg+XAKzoGx7G4PsgNUhG//YqiMzzrSOoT7thDdNUvnFfSs7jeAxJGCCLm5MJM49if+dvNLLgW94k4CJZvgOjcnFqGuD7IDawMrFG1z2wr12EjOgqLuNxvf3lGxNc7XvFBTkgYIYghjOzBZEwgrDAS26dYFli+AYJjAn+auF+CqCecINlU7ZqRuF/BNHGIPAnD+VS4UF5M7wEJIwQRc6LUSMh8C0wHVkYYibnvZiD4ZG8sxh7WaTX2qxlHPIlmG9pbKMQhJ0fQNPoyB1bSjBAEEVvkZpqMA+sgN9O4RRgI/UlifgncND2h9zWIfUb0GMzc4WtGsmwsYkgYIQjCgTEBdzOhvYUykfjB7Q24EM00VtKz6DUjylcjwHo2+SZu83bgdPDsfsG+OEHCCEEMUdxUv8Yxu2Zk8OEWYWCu0yMw0/x29SY88NqOyMfnl6gjJoI487LFCsXUFwf/iqBdi/xE2ANx9RmhVXsJYojiNjGIomli7y8RAH5tHhbTZ4SbgPd39OLnj21ERUkRPn98Qy6GqUzkq/ZKtl3ryCbHGBMHLYIsKsa7nvt2XO8AaUYIIuZEF6bpphlJ/+0Z7NE0hibB5Zg9zwjQN5A2XfUJEqXlG1lG3fDaD6IZKRwzV2wJ6MBqS3oWsdYsW0gYIYghitszyQzt7RvcDqzmGYk0IwK1tq7rrtqUfBP1hGOf59Q6kU2OsSYGE3cYa9OI9sf1d0zCCEEMUdwetMYhNh18DOferHFL+22aaVKsMBLvN8yo05gHysAaQlRIrrFMGnn0GWG3fTmwsm04NVlx/N4CJIwQxJDF7c0+ZWpGUsy+yIeUc9zMGmIzjR5rHwg3TU/IPShrhuyTaryul4yoM9n6GQPgTyiSCTEkjBAEUXAYDyxbOnjBU6yjd8DuV1JgmG/Agge0TECJc3p4kQAVRfv+6hSez0gcnD2DakYg+X7G/dqTMEIQMScXKnfZsV6X0N7uviRmXv845v/XU+EPLkeomGlYUrr9HTVuD3jTLyAqB1Z2O5BgEtpQIiUOCcLCuFYirVRctVMkjBDEEMVN9Stam4Z/iG3e1wEAaOsZiO0DzgtrZV7B+EW7OM1I3JxYzVV7I2pf5o8Qdp18EwtnzwD+OVw112UO4gYJIwQRc6Ka6P3mGeGHUVpsPT56B+IX5qqC7thgj4kf5EGcOHNF5NE02Yb2xux6yYiDf0XgPCMS00wczskNEkYIYojiJuRYDqxyM01J0SAQRlzMNCJhLR1NE8yxMDekxxNZnhF2W1UYibHw5kVchutroTyJ8BcLbY8LJIwQxBDF7ZFkJj0bkK9NU5zQzO3egcJ0YrXeFkXOquJ92fpNREnU4wniEBmzS6REHO5r0DHY6zkFkzicmwgSRghiiKKUZ6RPng6e/djbX6CaEVOTIDom3hfnaBpzobycmGnUOkkFqBMX8ro2jW0c2deLgU+uKySMEEQEPLNxL87872fx5s6WUNvdsq8Dhzr7QmlLZaG8bpdoGnaSKVwzjf2v6Jh9nz3PSNwcWK0JJwdmmgCV4nW15ESdPM7PGNLj8GGmkRSNQ+4UN3wLI8899xyWLl2K8ePHQ9M0PPzww551Vq9ejeOOOw5lZWWYNm0a7r777gBDJYjC4Yl3mvF+cwdWb9yXdVvGs2P7gS58/KZnMedHT2bdJuChGTHMNC7RNOyngjfTcA97maDm0IxENbCA5DTPiLIDq0XchDcZplCXVwfWoPXE38/4fmvT+BZGOjs7MWvWLNx6661K5bdu3Yqzzz4bp512GhobG3H11VfjK1/5Ch5//HHfgyWIQsFcfj7Ep9m67QdDawvw8BnJ/O12SWg2GDQjMrOG7LaldN4hM9j9TaV03PD3d/DQ+p2B6suI+u3XPtGpdRIkAiffxGGcgR1/ZfVi7jNS7LfCkiVLsGTJEuXyt912G6ZMmYKbbroJAHD00UfjhRdewH//939j8eLFfrsniIIg7s5igFo0DasZcfqMMMJIwfqMZP66aH1s+x1mmmD9bmxux90vbcOEmgp8Zs7EYI0IiNxME2CCDGTayTP2iBQdmqa5lM7BGHzVc28jrvcgcp+RNWvWYNGiRbZ9ixcvxpo1a6R1ent70dbWZvtHEH7ZfqALLV3h+Ff4xXrjDu+nH7Zg45pnRE+PvT8pf6u1ObAWqJnGfFvkd7v504TgBNGX0ST1J8MV4iLPMyLZdq0T9A0/j8RtzL5CeyWaqCGfgbWpqQn19fW2ffX19Whra0N3d7ewzooVK1BdXW3+a2hoiHqYxCBjT2s3PvaLZzD7h+H4V/jF+LnHeXE5t7fnFKcBAJwP5ZRNGClUzYjYrCG7bylddyycF6xf+9+wiHrCyTbpWXzfy+3EYsQhOP6KziOudyCW0TTLly9Ha2ur+W/Hjh35HhJRYLyxoyWv/ZuakTB++lG97Xo4jTi0BY7Pg8FnxPjLm2kkDqy6fUIOKmxG5dsRteOlzATgWidmWoZCQZd+8Kgn8WmKu+nYt8+IX8aOHYvm5mbbvubmZlRVVaGiokJYp6ysDGVlZVEPjSCiw5zk8jsMNzxkEccE7fjMyB+9BbpyryyEUx4eab+ngR1YzYkh3C+IFR0UEUF8RkJ4w881zgk9Dz4jAa+b1N/J1ALG8y5ELowsXLgQK1eutO178sknsXDhwqi7JoYw+f69hZl8asv+Tpxz64sYX1OefWMMbpE+IjMN/5QbDNE0fjUJ6Qd69poRo42wv6aRJz3jHDt918/3D1MZXbCV6xEENAFKBMbIBdUs8W2m6ejoQGNjIxobGwGkQ3cbGxuxfft2AGkTy4UXXmiWv+yyy7BlyxZ85zvfwXvvvYff/va3eOCBB/CNb3wjnDMgCpabn3wfi25+Fq3d/fkeSuiE/ebbuKMFK99qcux/aP1OnPqLZ/B+c7vvNr3yjKiaLoDCFUYsYcJdC8SWD8NnxHW14CywfJWi8hlx9uVdJ/8Tu1/iYFoKGkLuZmLMFIglvoWRtWvXYs6cOZgzZw4AYNmyZZgzZw6uu+46AMCePXtMwQQApkyZgkcffRRPPvkkZs2ahZtuugl33nknhfUS+PWqD7BpbwfueWlbvocSOrn63T/xTjO2HejCms0HfNd1N9M4jzqdPFnNSGGaaYyTSqWEuwXluWOBfUY8+glKxG+/qQCTtO1yxXQi5AniGxPtGHzU8xCW43oLfJtpTj31VFcpTZRd9dRTT8X69ev9dkUMEZJxdqwISMqc5KI9t2xCiN3zjIh8RpxlDAo+zwj3iHazu7PXJejtNb8foWtGovVSDLI2TdA3/HwSt0RtQcdAob0EMdQx1fDRdmOagwLUdX0m8RoACCbsweAzIpm7ZQ9sRwbWbO36IX8/ovYLCPK2HjR5Vz6JwziDr00jFqRibqUhYYQYnOT7BxdqaK8LxsMmiNDjJoyk82nwwgdfxtouVDONpaHg94vLpzOwZv/WHMVyAWx7kTmwBjHThGDWyjXx8xnxUU+2Ha3SLGtIGCHyTh4yLUdOrn742ahe3QQlHc55w836XPCaEf7sZMIIdyioMBHVW6rRXnQL0vnXchSgLBI7fAkjErOYGdob07tAwggxKBH9ePuTKWzY05YTm2kU6eDd+/Ff1z2aRofucOqU+5AUus+IUxYRXxw+yijo7Y3MZyRqM00A/w+2WMGs2hvQRBLuGEJoQ9BeXG8BCSPEkOGmJ97Hkl89j8ffafYunCXWG2qu+vHfkXueEZGPCFeGOblCNdP4T3rGpYMPbKbJrr64zeyFJM8+sqwV14mQRzSJ534MQa+2wFGE2YzrLSBhhMg7WgTZDUU/5J2HugAAu1rEayKF2n+OfEaycmBVbNss78g7YlHoZhqvbLNmeYTz1hyFb0cYjrW++gjgMxJXE4ED8Xye2yEE0EI56okEwZjeAhJGiLwTtc8Ivw5ILsw02TiWqrVvNwMF0Yx4VfEO7VXzGWnc0YINe+K58rZsoTzZpdH1cJwbrXkhvC9ILt7m7ZEximYadjumEyGPfcz5H7SfEcjLks8IQeQV/u03F3brXEU1ZKfud6/E50hxlLb5jIjNNF19Azj3/67BBXe+EmB80SPzsZCaaTL/GQT+LkVupomPZsTmYxPyeKIiDlljgwpxsnsUd5+RyNemIYh8Y76FRqytEPcZ0aSQ+ZuNo6zXdUg6QnvlmhKZZqSjdwC9Ayn0DvRB13VoMQudkgmosrfHVMqerTXo3Y1CMM6NZkS87VonSKU8EwdtTnBzoFiQirmVhjQjRP6JYnoSefDnVjNi79svXsIFfy5hR9MA3plx2XPrkWhGwjBpRInu2Mh8lGpGwpmoooh6sfsKREMQJ9k4RKb4JQ4CVPiakeAvLrmAhBEi70TvM5L+ay1eF21/6T6yM9N41eNVroGSnnmaabjPLg6sfRLNiD11egwfgqZQwGuBJMV1ezK4oA/2KMx4ubjWQZxR46BlyIZCC+2VOrByf+MGCSPEoIT9wfGmjKjXi0n3ZfQdsL7HcX4yC/LA9NSMOMw04jEAcjMNe/5+r8Whzj78ZOUGbGzyvyKxKjKhwC3PSBgaCPsEHf73MScOrMp2GuFmrImHBkdsbvGuJb5HcfcZIWGEGDJYKdqjJ9tsh6pvtrJ05mH0wZtpHKWZHbI8I6zg5/dtfeXbe3D7c1tw+3NbfNXzgzEir9T3Vnl7OvgwzHBhyca50fix20E0IzGdCTniYF4MOgaZsBz3a0/CCJF3NE1DS1cfbnpiI7bu7wylTdGEIZt4osAwcURlpuHPKdiqvV7HfWhGJBlYZQ/U5rYefPfBN/H2rlZp/919aQGnJ8KEarK3RWmeET1cn5H0djjfR/sbcQ7MNIpdxCEyxS+6ZDt/qI/CVlJy7eMomJAwQsSCv7+xG795elMkb8G8ySQX0TTZpoP30qhY5xS+74EBb6ZxyzsiN9OwD0Nr+1t/fQP3r92BT/7mBWn/ZtUI75elwZL07SgfVjp48XY2RNEmT5BJOgzhLedEICxmMYSs89nwH+J4H0gYIWJBV+YtuLtvIPS2ecEgJ0nPzL4D1lfUjGQTtZNtNA17HfuSKaEvjt2p0tr/noIfSC6in/xqsFK6LozU8kuQ5GGebeYgaiVYNI28jbgicvzM+Rgk5hZf9QK2kQ9IGCFigarvw6HOPvz7bS/h3le2K7fNm2dyYaaRrXkSWvtWR4H78boOfDSNW54RIC2Q8LBF2P5UAqiyDY/2g/Pc5KqRMMYTxvo2PLnQQNg1I2qdqEYqxYlY+IwENLvJna/zL2C5QcIIkRfYH4amOc0OMm59ZhNe23YI33voLfW+MnOkMbnmJOlZlhOppz8Hdy6BNCMex72iafgHpMhvxPYA9Ll8jfFQjfJ++V4oT7Gcar/ZtOFsk9kOp0lBJ+L+XKvw35vwRhMZQYSu0McQtFuJickurMbvLpAwQuQF2cTmNal2SZJrufbFRbbkNh18sL68xug4lwDdeI2NN9M4Fs7jyrf39jvasPsx+Buk5VwaoZlG0oesx5RuzzMShrAZ2vdRMgmFSRDzhVOAi99EyKPnRLLzGkOwIeiy7fyfkiskjBB5QeYMyZsGeIoTahnS7A97+99cPAuNLkJxPBPAn0sUmhGvFOn88XUfHnJtw+8YDR+USDUjEu2LbMLU9XAe6lH4JIThWOuFrV1l1YjrR0JCoJwukGvdgraXK0gYIfICawLQoCn7cxSpCiMCe2vQpGcr39qDl7cc8FUn6nTwvCYpSDeeKef5PCOOCdv++fkP9gvaYLaZ8ipZd2VaizCRKZZkXxEdelbaHrMeu75NSOcXRE7Iqg/lOu7fozgS5DxDH0NATZeaZiR+N4GEESIv6NzEpBp2W1Kk9pV104z4kUUOdPTiintfx5X3vq5eiRlA7jQjAfrwqOPwGXGMwb7n+Q/2uTqC+p10s0nopoqlwXIYE8Tl9XD8Pdhq4SU9Y7Ut0Vy0INoXp89I/CZCnjg4sLL4MtNIhJhcCKvZQMIIkRecGS/t2gsZqpqRlOAHGSSapqsvCV0H2nv8hRxnm9PE04E1BD8YT4HHI5rG+Hj85JEoK06gua0Xm/d1CMuo9OcYX4D75Rc3c4xsv/1YCJqvsIQRZjuyPCMB3q4dYl4MJ0I3YiE8+THThNBGPiBhhMgL/MPSmHD4t3EeVZ+RlOCNIIhDZFAziPUAi0Y1ko1GhG9Dhmc0TWaQ5SVFmFBTAQA42Gl3YpX5jGgKwb258PGR+dzIutR13TY5hSFshiVs5cRnhN1W1ozEfBbk8Mo8nLtxMNu+6om/B+QzQhAC+JwTqpoEZZ8RwSRovWn7Gae9DeV6WYYRe0bTcOMKMqF55hnxcmDNnKOmaaYPiNMxOfjEnYu8MLygyvctKh9GjpBIkmoF0Fr478P/uAtNM+IUuvNDGPdQumheDNUkJIwQeYF3jlQNhVX1GRFNGOabto8fYtAJ0SgdPEOnO3xIbzAHVo8+vBxYM38TGpDISCNuKeP9Og7nIumZdNVeRTNN8NBt5xiyRZd+CI9gmhG+jfhNhCxO4Sk/4w3DgVW2P44CIQkjRF7gIytk6nIeVjPi9gMVmQeCOEQGNYfokknOb33p8czfbLQHXpOCV54Ro8+Eppn3xTmM4KrhbK+hWh/pv6qr9jrzjGTXr1tf2bQZlQDn9+1a9D2O40TIEhszjWTbT0WZQBPHW0DCCJEXHG/QRk4JH3lGBlxmAtHDPkioqN3+6qee0WdEmhEuB0egXrw0Ix5mGuN6aEibakR1ZBoAtdDeXAgjmT74/bJoGvCTRFDNSLDvlRu5WE/Fr+Ot6NTiOBHGkaBRW7LvgV0zEr+7QMIIkRd4Zzvjk5cDK6sZ6ReshWK16fwhW3lG/IxTvO1dL7sfu7IK3IiqCeQz4n7ccXklpgxN05AwfUa4PpgdcVybRndsZD5KukybaYJre0TdhXV2Uax3w8M2q3JfRCXiOBGyxHF0foRemdYtqENsriBhhMgLdpWyus9IMeMz0j8gL2t7MJsTtnFM/acY9A3WKBnGqq4iUpxgFchnxMtM4+KMmv6c/qup+oz4HGNOHFhNzZKaal7XdekD3l+/YiEtG3Khhvd77kIzTYjjiQJV/6HIxxFwDCqmtDjKgySMEHmB9+lQ9c1gg2lEq8SK27fvC6rhCFIv+GSldjybXBxeVbwcWC2fEeu+OO3twXUAQf11/PUh/k64mWnsYeMBhc0ItBg58RmRbKuUN/f5XDAx1zgE0zyJT0E1GaIIGodQSMIIQaRhnSN1xilQNaQVcDfTuCU9C+L7oTI2e8UAdST9ujQvDU1V6sPjOO/Aypc3Pic0zfIZ4W6JTDOiKTiNZLvYoArW9VPXjGSj7bHqha8ZsRHRJfNrohL7jMRwJmSIi2Yk6E0UXnNFYTufBBJGbr31VkyePBnl5eVYsGABXn31Vdfyt9xyC4488khUVFSgoaEB3/jGN9DT0xNowMTggH8ztMwOXsKIdVzVZySbReWCvsFmrRlRNdME0Pbwbagedz6k0zs0RjPinmfE3yDNa+irlj9kfbjlGQnq1GxrJwLNSBgaGy9UTAC28oIycTQRuJGv4QZVKtqqSb7fcbwHvoWR+++/H8uWLcP111+P119/HbNmzcLixYuxd+9eYfl7770X11xzDa6//nps2LABv//973H//ffje9/7XtaDJwoX3vyhmvSMPeyuGXH+knXzWNBxqlfMNnuoqpkmq8XkPKq4CRbsGNIOrIbPiLwNP47DbFs58RlR1GKnUpzPSMB+o8iWGoWA4+jDZ6i2WDMSb2RCd87HYdvO7gXKofnLYlxR4VsYufnmm3HppZfi4osvxowZM3DbbbehsrISd911l7D8Sy+9hJNOOgnnn38+Jk+ejDPPPBPnnXeepzaFGNzwIZ+qvg+s5qRP0YHV6TPiR6gIJoxks2ZMur7HcU7zEqQX7zwj7vXZPCOGMOJm7vCdOM7Ulvmq5q8Pri+rb3l50YrQ2Y0hnKnB/kYcSpPOPkJoN/7RNPGYuIMLlwJtlKPt+N0DX8JIX18f1q1bh0WLFlkNJBJYtGgR1qxZI6xz4oknYt26dabwsWXLFqxcuRJnnXWWtJ/e3l60tbXZ/hGDCz5KRTV9OntcVTPCm2cCuH44tr0wo1x81LH16+U7w5WLwoHVuTYNrylJ/03nGbHvs8oE1wBY34kIH5xSYU4ujYSSDj4CLUYUETqOPiT9ScsXoGaEJw7zduDniPFXUfOXT4r9FN6/fz+SySTq6+tt++vr6/Hee+8J65x//vnYv38/PvrRj0LXdQwMDOCyyy5zNdOsWLECN954o5+hEQUGq+HQoe6syD5kB1xemUVv5EEmN5t/QIA39KgcWHktT5BuPAU/LwdWUzMiD+3NSjOC4Oemiuz6ya6NDv6csuuX386GoIKzrz5YIUqlfAH6jMRlfNkmXGS3VUPX80nk0TSrV6/GT37yE/z2t7/F66+/jr/97W949NFH8aMf/UhaZ/ny5WhtbTX/7dixI+phEjmGN9MYn/kIDjfczDSuSc8C+H74r5fdRKrqM2IUC6YZ8TLT8JoQ8QNN0zQkEuIy2TmwBqvnB9n1k3XJp4MP7MAq2c6GMJKxefYRis9IDGdCBmUtWcQE/Y7Y64mfQ3G8B740I3V1dSgqKkJzc7Ntf3NzM8aOHSusc+211+KLX/wivvKVrwAAjjnmGHR2duKrX/0qvv/97yORcMpDZWVlKCsr8zM0Io+09fRjxcr3cM7s8VgwdZRSHd6BVdXHgj2uGtrLR0z09Kfwv2u24dQjx6ChttK9P0kGUS9kjmPK9VWjaVL2c/PXhzue0TSZFtikZ24aBvaQr3Tw3kUDI1v/RnbfwlJ3R5IO3tZMNFfNrhnx7kNYIn7zoI3YrE0T+EVGQWCM4T3wpRkpLS3F3LlzsWrVKnNfKpXCqlWrsHDhQmGdrq4uh8BRVFQEIJ5ONIR/fvn4Rvzl1e049/aXles40sHr1rZ7PWtbPZrGvu/Z9/fh2kfewc1Pvq8wTvG2d73sJlJlzUgWQo+nz4iHmcY4bMsz4uJn4neMvK9PFOjcX36/s7xuNzGGYIYLzWeE2Y4yUZzZn5JmJC56BnVUvwtR41cLZdVzbg86nxEAWLZsGS666CLMmzcP8+fPxy233ILOzk5cfPHFAIALL7wQEyZMwIoVKwAAS5cuxc0334w5c+ZgwYIF2LRpE6699losXbrUFEqIwmbLvk7fdewPY/WkZ9loRvgHdHtPv/c4A0ZOyNT/futLjxtCCPfZVx+e11rcp3U8oxkB5GvTcMLcvvZerPvwoGc+Gbb9KN9ZZMKc7L6ltXjO+v77tWsGw4D/TUWB35TzojJxfwd1asnyM46gEoMu+IIWgs+Ib2Hk3HPPxb59+3DdddehqakJs2fPxmOPPWY6tW7fvt2mCfnBD34ATdPwgx/8ALt27cLo0aOxdOlS/Nd//Vd4Z0HklSD2R96XQDnPCHO8Lykv7OYzYqDinxLUWVGm/vdbX3qcM2sF8hnxOO6m5Uh/Tv9N2PKMyCf1VErHin9twN9e36U0vqh9RlzV2S7q7ZTPCVncN9tkOOcXxri88KvRKUSfEX54eUsHz3/WdaXMxWqakfjdA9/CCABceeWVuPLKK4XHVq9ebe+guBjXX389rr/++iBdEQVAkLkiafPFsB6kXgKCLQPrgOraNGLNiIpwETSrpWViUK5ir+9xnJ+og2lG3I87zDSON8aMZsRlbRreN+hgZ5/y+KJeKM9NIJDLIjonoAYbm01jFFIelShMP44+XD55VUhoGc1S/OZBG3HVIui6mq+V8EVM0FbcoLVphiDvNbXhR/9819fE4EaQLzafq8HSJLg3pu4zwrRv9qOmipe1E2yhvGC/ek/NCCeEBBF6vJOe8VOP+CGt2XxG+HGy27qvcUad9MwtB4rs8rPfVbdyXtjMfyG9pbLt5ESAU5JFrEIy7VnciIuZJkw/j0LIwBpIM0IUNp+45XkAQN9ACj86Z2bW7QV5mPIJmtSTnjGaEeWkZzLNiPe4beP0MZPK1KPK9T2vg71cEKHHz7UWjclyYFVdm8bfNYwy8ypgfyB7pb5n97vVUyWMxGk8uZg0/YZqs0XSwoiet8m90HAK/zrSHloe9QQaP6dmJH43gTQjQ5jtB7tCaSfYIm3WdtBVe919Rpx98W379Rnx8/s1Jt2oHFiNEtlE7fjPMwLuc3qHZkt6xvdhLx8kV0tuzDTcMVmdsMYTgnZFsflw2/XZB1tEkMUhlji/C/mZuEPRunEvLdm2HSUF8vUgwqKrb8DcnlI3LJxGAwkj3BuzorkhyKq9sh+kypt38LVp7H/9oqwZMT+H/3RxCBYSjwG3tWl4p8ogCeeiS20ul0bc8oyE4ZsRNJmee5vstY5KGrHfTy/YMcly0cSN2OQZ8fjsq42YX3OAhJEhxwfNHeb2iPJwrHSBomlS9gen8kJ5zGF3B1Z2W9y2f58RH8JIlhOp1zXl2w/SjbfA45BGuPoZzQiYtWlcnF7ZqCm18Rn3Tb2OH4JoRoBwBAm7z0g42K51RCYu35oRpoxhYIhjJAdLXEYXVCgSCctxdcplIWFkiLGxud3c7vNallWRIF9s3jE0/Dwj3poRfiE4z3Y8S1vo1lMgEKqCQjZCj1cd76RnGWHEFtor70PXdanGwW180eXMcPZlHZP36eb4qgpvpgwDm6AQ0ZQq8kdwLc+U0QpGM+L+OWfjcHxWG4jKPYqjQEjCyBBjYxMjjLhoFvwQ5GvtmKSM/V6hvcy2qs+ITOui8sYtakeFbE0MKr4z2U5iXtVV16ZJm2nEZfgQVn8RSc42wsQtw6XbteEXeQzUNyeMh0Gu16ZROvlMGU1jNSPxxmmOjMeIlTUjgnsUFwHLDYqmGWK8z2hG3DQLKmw/0IUHX9+JQwFChO3JsJzRISr1lDUjxl/+rV3JgZUZpx8Tg+lgql7H3q/XcbvJIzdJz/jj6b/ua9Potu04ObDaw7/V1dhJ7pyCYO8vnPOTrQMUJm6mLWH5zF/N/F90mq7QiMvEHcKzQ+f+Ztl0pJAwMsRo7bZSoGerGfnMb1/EgYC5SnhVoqrPCHt4QFEYyYfPiOVgGpG6nBtPMJ8R90peZhrj3BIalNamYR2V1cZn/xs2bpoEty5TIcz6UWhG2MFEZtpitxX6MIpomlZAmhH3z7kiqJ+H6B45/U/idxfITDPEGGBMG/0uZg4VggoigCiaJv3Zy4+DnQjczDSiPA5BQnt5DY4q2SbsUtEQufk8hNWH22exmYZvgy0fzGckumgaZttFo8MTimYkApOKLvjOh41/zUi6VNrJuTB8RuJC4Osk+B7ERcByg4SRIcYAMzuG5TMSBHs6eD9Jz6xt1dBeWS4OlR87WyRINE1QVKJpstaMePThENb4Cdu008iza8qEThWiXijPzR/I1Wcke8VIJKG9umQ7TPyuJGtpRthU5nGcCi2c/hX5Ga9TW6c2DlG5QvAZIWFkkJFK6djT2i09zmpGwoqmCQKvuVCNnGB/aK4+I8whHcZbub2MSjRN0DfYbN/qPX1GfJYP0oevPCMJo01eGLHX96MpyulCec6j0no2B9aAQ4tCi+EmXIWGb81IGg2MmSaGEyGL6jpF0Y+D+6w4ELHPSPx1IySMFCC6rmPDnjahZuMXT2zEwhVP47n39wnr9sdEM2Kf5C1Bwc+qva6aEYjbZ1HzGWEnLB+aEbNv5SrSfmXHgyZkM/Cq4ZYzhO2TVcE7M7AG14zA/E5EJYxY217OuiwDqeyuO18vLMGB10JFgd9xs4spmmaaaIYWGnHRIgRdT8amIdMFO5G/c3JjyAsjfQMprN64FzsPhZMaPRfc++p2LPnV8/jWX99wHHt7VysA4IO9HY5jAJC0+YzEQzPiZ9Ve9mHYN+Dy9irRvNjKqPiMMJcoiPNlZOng9ezNBZ55RgL5jMgndZlQ6DW+6EJ7mW2HoCWvFzT3jMo4smony+9DFH3YzDSCNuKIHy1ZLgkitErXpglhPGEzpIWRjt4BXHTXq/jSH17DR3/2DH7x+HvmsZ7+JLr7kr7bXLvtIN7Z3arkHBmU36zaBAD4+xu7HccOdaWdSnv6xWPvZx1A86gZcQv5VE04pRraK4viULlFQbQP7up/NbxNKDpEfjFh9uGIppFoPRIua9OEEdob1ZPTTahw04KleEk3y77D8xnJflzefcg+uKNBk0ZcxY1CTwevshRGHG/BkA3tTaV0XPyHV/HatkPmvluf2Yxbn9mMw0cPw+6WHgykUvjiCZPxnx+fhpHDSj3bfGDtDnznwTcBAKdMH417LpkfydjdfD0OdaZDd2XCCBsOm1/NiH0i4DUlRZLFKZXNNPwbueCnrLRQnq1NtV9wONk13evpvGYkQDdeVRxaDsfxzIbr2jTMdipYeHROFsrz8bBOct/VsPsOTM41Iwq/H1Yzotn3xRXHdyE/wwgsQIiKxTWRG8uQ1YwkEhouWHAYaoeV4pErTsLFJ002j23e14nu/iT6kzruenErTvnFM/jfNduweV8HXty0Hx8e6ETvQBK9A0m8vasVjzTuQltPP37+2EazjWff34fGHS2RjL1XImgAwMFOd80Ia+/ujYlmhA/5dJt8VKNpeM2IqEk/Nm++77DrONtwP85rRgIJPV5mGi/NiC3PiLgOrwHw5TJimmmiesuXXz+3Hu0OrPHRjEQRocPjO5qGDe0VtFEI5E94CtYx/yLG7xN9jgNDVjMCAOfMmYCPHz0GVeUlOGrcCNRWlqJmWCkOrxuGqooSHOzsw09WbsB7Te249pF3HPU1zbqpk0dVYn9HLyaPqsQxE2vwjzd245xbX8T8ybWABtzxxXmoriwJZdwyzUhPfxLdGSGkp19cZiAuPiMp+zb723B7kLIPf9U8I4DYPKC2Ng07ztxpRrxq6cjeR8DrdPivh0zroUG+Ng2vMhbdB13XTRW+qP3ILJ4u10/VVBhY2JRsZ4NfQSFQHz4FHkszohWMZoQnLqG9ql8U0XfL+f0ONqYoGdLCCABUlacFhLLiIvzn6Uc4jp80rQ7/u2Yb7npxGw509KJuRBl2HupGMmV/y9t2IO0Ae93SGRhXXYF/ZPw5Xt12EADw4Os78aUTJ2NjUzsmjKxAdUVwwUSWrMzwFwHcNCOsmSZ/30g3XwK38E+bz4jrqr32CUM0aajIYkEmHnZSCDpZea7Rw1+zQD4j3n3YPjuOp/+mfUbEdfi3dZEAqOtsDgp7eXYsIoElG9yERlczTShr02SvXXG2Kd6OCjXNSJq0ZiTc+xcVcZmonbKIsmrWsen8LcfkJBmGvDDiRVFCw5dOmoIvnTTF3Nfe04+BpI7+VAoaNHztz+vw2rZD+NSs8fj4UfUAgDsvnIeNze1Y+dYevLO7DX9++UM80rgLb+5sRUmRhu+fdbStTZ49rd0YPbwMxUXqlrSDTEbUbgUzTX5De5lt8FErbpoRa1s16ZnbG7m/car9gEVqUr94akZ0fjINvw9ecJCllE4kNKWkZ/x9ZsskBBOVqh9RUNyERv5es1rQMMJyoxAcotC2OPrg7qdy+ULyGYlLnhGHllGxXoht5RISRgIwotyu1fjtBXPx6Ju78e/zGsx9i2bUY9GMepw/fxLm/+QpbNnfaR7rT+r448sfCoWR3S3duPq+Rry67SA+d9xE3PT5WcrjMpxXAbGZhtfmxMaB1cdbvrLPCCfciJqMKulZGBONt89I9hoYrz681qZh75MszwivGRFN3rKxO7UH4UojbkIjP8yEppnfF5tmJIT7G9bEEEXuEh6bwONbM2Lsi+FMyBCXiTuoUBTkBSoODFkH1jAZPaIMXzppCoaVOWW7kcNK8dk5EwEAZx0zFo9dfTIAYMu+TnPRupue2IjP/e4ltHb348F1O03Tzvodhxzt8YvDsQ/Gg4yZpnfAqRnhJ++8poPnzB92W7S8HvuQdTMz8W/kwklQaW0acZvudUJQ43tF00B3nUxVUEmsZv/MjSHz2T3PiP0+i0OsxeOIOomX233i+0swchD7tQv6sI/CgTUHkb1cu+qaxbTPSGGsTcMPLy4TuupvXOQ7FBcByw3SjOSAH39mJr5xxnSMrS4HAEyqrcT2g114c2cLBlI6fvN0Om/IU+82Y/M+K1nZ/vZeR1vsqrsA0NU3YGpqDnW6+4zwb7pxSQcfNM+I2/jtb3B6SHlGvMvzfQeeaBQ0I9muTeMFb1KROrAyeUbcHnq8BsxqRyaMeJfJBluTjnHbd6Qn0vS+UNLBy7sOjG0SimgC9e8kmy7EuvvEcB604Xj+5EszEnAYvAk8/ZfXssTvLpBmJAeUFCVMQQQAZjXUAABe2LQf3/vbW+b+17YdtAkjbT0D+Ppf1uP7D71l/kBaHMKIJXSwDqwin5EBTpPQl0yFrs5VjThx8+lwy/9hm+jdyin4jKilg/dXni8XVQZWPptpJEnPPArYk56Jx2F3TPYnFEYtbMn6ApzXP53y3lk2sINyBCaVKEw/PH6z/jJrKTI+I/GbCFmcmpH8EFirKvgeFIJmhISRPDBrYjUA4P8+uwV7WntQVpy+Da9uO4gt+zptZf/+xm78+ZXtZnr3FkbgAIDO3gFz264ZcWoN+rlXXV1XS/zlB+UJm1vfQ9VMoyocuGleDJSSngWYNMKYFLyuIy9gBenG6+3Ia20a42NCk2fX5J1QxT4j4nFkK2x5IXqDlO1gtT/2aJrsVSOhWWl8CgpZ96EwcLuZJrMvgnGFSVwm7nAywerM//m98YKEkTxw/ORa2+dfnzcHQNqPpKsvieKEhgk1FbYyT21oBmB3UgXsmpGDXawDq7dmBAjfVKPiFAo4I0GCmGnchAnH26ugqJIDXoBJI+hKv7J+hceRvWbEM88Io/kQ9cF+VskzIhMKdclXMBK/Ckn7fPN8f+yqs2FobKLwh4n6eqXxJwDbk54Vhs8If2ZxMWkoR/Ox26ZmhBds4nFOLCSM5IFZDTW4+fOzcMlJU3DLubOx+CNjMb1+uHl80qhKhzDyjzf2QNd1mykG4Mw0HpoRI8dIMeON1++y2FwQVL/jzjwj7DG39tUe4nwOCWGeESUzjf9Jw/6GGuz6etVKpdx9HpT68KhjaEa8/EFYB1anX4l94g7qwBrFo9N++fgJyI4sy2wYodthTXa69EN4+BXOLc0I6zcSv4kwjjiubxYvQ6QZIaR89riJuG7pDJwzZwIAYOmx481jIytLMaaqzFZ+w542fPRnz2DTPvtqvJ19lpmGzTMiShlvaEbKihPmg6E36X8xQDdUzT7OSUrtrU5VGxAfnxGlKg48E5I5+vHfkdckaGpGEsbS72JBI6FZZXinV7uPgU8HVqYtmfYkG9wEW35Ims0UJS+niqrw7Yecm2l8lWc1S+GOKWxiY6YJId+JuWpvzK85QMJIbPjqKVPN7bmHjUR9VbmjzK6Wbjz5brNtX1evJUy0eDmwGpqRogRKMsnUwg7vDWKm4X1GVM0vquVkk6Cuq0z6/t+Cc5EO3hGBFKQPj0qGBa/IQzPC+gO4OrDq4j5V8oxEY6ZhO+OP2XeweTLCFjbDU5lH0Sbfg78+TDONS8RV3IirFkHdTCzcG6itXELCSEwoKy7Cc98+Df/nY1PxlZOnoJ7RjNz7lQVYdHQ6s+vW/XYHV5tmhBFGBlK6IyeJkX21pEhDWUYY+ejPnsEf12wL7TxU32B5zYiqn4XqW6k96Zm8rNdkYtfEuJc16yD7yco7nMZeJIp08IaZpighEUbAaEakPiP2MfrJhBv9wm92gVV8JIPMTBPUDBeCdoUnCm0Lj9+xmgKr+b94+iuwOIXu/IxX9nvzrKeQZyQ+IpYFCSMxYtKoSiw/62iMGVGOUcMsYeSwumGYPKoSgPNL1ZWJpunuSzr8RHo4rYdhpilOJFBSbN366wSLAAZFVTPC+1WoTjzsg8GtL6ewIy7nZVbio35UCONh5hnpovOr9vruwttnRLfeakVjMgU+Xz4jzk5VQnujmFxdBU1unAnNcmENJQNrBDlBwvBV8uxD0p8XmsZmYI03cU0HH6Sezv3Ntu0oIWEkprBJgsZVlWMc59A6tW4YAKArY44xtCIlzAIefESNkYG1uEhDqY81b/yg7DOSsk80ofuMwF5OxUlSfFy87UYYNme3xQIBw2ckuz68qhjCnj/NiFwYkecZEY/EPvGF//R0a5/vTbMtBpj9uPhVq8Mg16v2qgg8Rnk2/DuOEyGLY3x5Gm9QAUIkMDp/u/Ej0Ix06623YvLkySgvL8eCBQvw6quvupZvaWnBFVdcgXHjxqGsrAzTp0/HypUrAw14qHD60fWoryrDp2aNRyKhYXy13Ydkev0IAJbPiBFJM7KyFOUl6dvKCyOGoFCc0FBSHM0KmqoP5yQnfKhO+m7mHdk4dMgnPM98HoF8RuQTsipeNXg/m0DaFy/NiGGm8cghkpA4d/J9+M8zYr+HYeOaDp47kXTSroxmJIRx2TUj4RCF6cfRh0+Bxx7a62wjjgQ1j4Q/jmAaGvvvRrf9tcpkNbRI8J0O/v7778eyZctw2223YcGCBbjllluwePFibNy4EWPGjHGU7+vrwxlnnIExY8bgwQcfxIQJE/Dhhx+ipqYmjPEPWqorSvDSNaebb6WsZqSkSMPkjGbE8BkxQn5rh5WiL5lCT39KoBnJCCNFCRRF9G0M5sBq/wGpJjMD0gJWsWA5V5XQXqO+6jiDvJmIPiu14SUkObRJ/vvwEpKc0TTiMWpwy0Vi7080ThV/nsiTnnm8OWqaBi2zN4jpzr3vcM4tak0S34nKuZs+I4yTc8xlkdhM3LLfm696Ms1IDKUR38LIzTffjEsvvRQXX3wxAOC2227Do48+irvuugvXXHONo/xdd92FgwcP4qWXXkJJSXoNlcmTJ2c36iFCEZMPZByjGZlQU4ER5elbZ2hGDjKakZaufgD9Dh8Se56RaDQjqmYanZsJVM00Xou3icq5aVC8HVj9Tzz8W3UUmhFe2xOJ9iXz9RGZJ9jP6Twjsogbu2ZJ9P1Q0VpF7TOS/qxLTQnsTybJfbeCEEZ4ME/UmiS+XTXNiIWZ9CzUEQ1iXLSMfpsYdGaavr4+rFu3DosWLbIaSCSwaNEirFmzRljn73//OxYuXIgrrrgC9fX1mDlzJn7yk58g6ZLfore3F21tbbZ/Q5264WVmsrKJIytRWVoEgNGMdFqaEZmZxoimKS7SzBT0QZGbR9Tq8xON7S3Yhw1ddZE12bC81tIJJ4wz/Dr82jSBhualGeHMNHxp89qork2joAGx7Wc1EBFII471aFyvpyb0iwk+KraNkDQjEQg4PH7P3dSeMdFIMXwptyETugsGgdYtLtoeN3zNSPv370cymUR9fb1tf319PZqamoR1tmzZggcffBDJZBIrV67Etddei5tuugk//vGPpf2sWLEC1dXV5r+GhgY/wxyUFCU0M/fIxJEVGFaa1ox09xkOrOlU8DWVJSgvSQsqDs0IG02TpQNrULOHqD7vYOpPMyITiuxvr+E4sKqeWxg/fPdKaW0P+zl8zYjDTKPkMyLXXA1Ivhsqa9Pk4uFpf+u3d8hOpvaw8WADiyTpWQQCjqMP20VSKJ/5a1+1N4YzoQv5Gm1QAUJ0i+LiB+NG5NE0qVQKY8aMwe233465c+fi3HPPxfe//33cdttt0jrLly9Ha2ur+W/Hjh1RD7MgGF9jCSMVrpqR9DE+8ZmRd6SkSFMWRg509OLKe1/HCx/st+2XCR3BFsqz/1hchRFOa6IyjpSuS7Ut3ivTsttq5xbGD99rgnIkPQvwbPEUxDzzjKRxyzNiT1InvglyE5qagBoUvkm368kaNgdsqWGD9p3dvRO3aW1HlmfEtu3diaU8K9xomrjkGVGvp/DdiuE98OUzUldXh6KiIjQ327OANjc3Y+zYscI648aNQ0lJCYqKisx9Rx99NJqamtDX14fS0lJHnbKyMpSVlTn2D3UWHl6HdR8ewoKpo8zVelu7B6DrOvZ39AJwj6YZYCYXkdOniJ/+6z388809+Oebe7Dtp2eb+7MWRjhfAlVziLLPiCMtuffbt/i4/0lDdYzu/XofZ4sES3rmftxK9y5OB8+q4GV5RtiPcs2IrH+mHfehBsLtzZM/xvrFhDGuKJxzo/BD4fH/e7C+IwXivxqfPCOOz4ovQ6J9kheJOOFLM1JaWoq5c+di1apV5r5UKoVVq1Zh4cKFwjonnXQSNm3ahBQzO7z//vsYN26cUBAh5Cw7YzrevGExjp9ci7rhaWFtb1sPlvzqefzr7bSZjNWMOIURQzOSQC+TEM0QXkTsbu0W7pdpFFQXAeYfnKqaEf6IzJeAf6uWNekdTaMmJLE4HiKBTCje48o6HbzHcePa+HFgddeM+BNgo9aMOMKQXcJW7WYaZlwBVRAiVXq22L9n0Uw3fntg3IoYn5E4ToUWcfEZCToOke/ToPMZAYBly5bhjjvuwD333IMNGzbg8ssvR2dnpxldc+GFF2L58uVm+csvvxwHDx7EVVddhffffx+PPvoofvKTn+CKK64I7yyGEMPL0sosQxg50NmH95razeMjh5WivDgjjHAZWM3Q3oRm+pp4UZwQf0WSyfA0I06Tg4swouwzYt+WTe5R+IzIfCv8oNKVLdInQCfempH0X8NMIxM03NemsbZlmhGZkJKtT4wXblocfkga8/9Q8owoft99tWlrP5QmXTtRW5smDfsdieE8aMM5vvyMOKiGRpQbqRB8RnyH9p577rnYt28frrvuOjQ1NWH27Nl47LHHTKfW7du3I8FMYA0NDXj88cfxjW98A8ceeywmTJiAq666Ct/97nfDO4shyKjhYq3SyMoSU9PBr9xrOLAWJRK2NW36JYIFYM/oamtLYv9XD+21tnnNhbuZhutPJowwPzY+WsfWnlem0wATYhg2Z68ajqRnvnvwHpelGZE5sGaEESj6jEi+Z7JhRB7a6zIO/mGdnkzT+9jveDh5RgI1IWjU2oxmLR9uolMpz2hGZN+juOEmpOZ2HPxn/88fnfsrazsO+BZGAODKK6/ElVdeKTy2evVqx76FCxfi5ZdfDtIVIaGkKIGRlSU4lImiAYCPjK/C9PoRlgNrH5+B1XJgZY8lU+n8D2xeEwPRPkAuBATyGeE+q67GC8iFiRQ3sQSPpvE/IbplIVVFLelZln14HDejaTTxd8BmpkkY+xyvYCZ+o2ly7cDqZaYRp4MP1ncU5xZFVldHHz7PnQ3/Nn1GYjgRuhGX4SprRmwqMmNfMC1LLqG1aQoYw1QDAGcdMxaPfv1klJcUWT4jA/IMrIYDrEHfgHhWL5ZE3cjt/2pj5xcbUw/t5T97T2RpnxRxOe9oGv+ThmNBuSCaEY8q/Ho+wdLBewhiXtE0xjyjujaN9F5J+mff9ENav4XFzxtw2gHTuVBe8L7V+vVDbhxYmW0f5dOr9hZINE2+B5AhDG2GlQ6ebysuZ2lBwkgBwwojRg4SIB1RAwB723pt5U0H1oTmCPvtk3ielsg0Iz7t/zxuacJdfyfcQVV/A5XEWt7jdC3KtMmNRa0aV8dDSIK6aUvahkcdPs+II38KDM2JtW6LWxSTH82I800uAs2Iyzica9NYPg/8ukpBiEQzwn3no8B2H5R8RtJl0un0jX3xRiZ055zAJkCnhs9FYRkbSBgpYOpGWMLIWEYYmV4/HADwfnO7rTwb2sv7iYSnGVHUHrg8jP1oRlT9DeTl3McZRPuQC80Ir+0J0od3Kvz03yKJ46FRX9M0pbVp/OQZCcPU5YXbA5rvLsGYGVKcVi9Q38GqebSZ/bg8+/CpGTEKFVI0DX9meVsoT2GPZxtmlfhLIySMFDB1jBMrqxmZPja9ou/7zR22B+cAY6a5+fOzbG31yzQjjAMrW0b6lqusGbHK8Y6NfvKMqPiu8NE6tvoe47VNUIo/YEe5CLQWvLYnCu2LgR8HVjenuwFpBJZoX/YCnReu6eC57jRJltmgE1XUSc+immv8moKMIgWVZyQmmpGg47AL1bq4rRjeBRJGChiZmeaw2kqUFifQ3Z/EjkNd5n42A+tnj5uIN2840wwVlmpGmMgo1rQjEzqCrNrLCzZuAo2yzwibJFNX8y0REWihPBftgCpeVVI6/yYcvvbFQL5qb+a4smZEXYAN4xp64SY0OqJpwOQZYQ6FsV5ReGaa7L4Pir0wW959WD4jBZSB1eNzrgjqdCq6vrLfbpwgYaSAGc0II2OZVX2LixKYNjptqtnI5CBhzTQAUFVegtLMgnkynxHWZYRNoibXjKiNnZ2A+EnKNekZP0lJfUbsD2YVc454nGxZ16JMf/76ELfhJSTlxmERYBbKk2g9NNZnxEWj4ScDaxjX0As3c5pjTEzSM1sbQYURyXY2RNGmow/fmhHmO8LsjTNu2r2cjoP/rKwZcWrd4qLtcSNQaC8RD+pGsGYae/r8I8eOwLt72vDO7jb878sf4vDRw03Bg12XxjDDyDQj/cxTuafPKhNmOnhem+I26fPNy800TB2XcfnxGQm8UJ5SLTteXflZXNCtDRWKJAvlGZ/smhG+D2tb7mzsrRmJZEJwqK5tHdqOsVlmwxhX1A6s0eUZYftQKG9oRtikZzGcCFni6tOinA6ee/al92X/TIoa0owUMGNGpLUhVeXFqCy1y5XT69N+I//v9Z14/oP9uPulbdjT2gMgnYHVwBBQ/u9zW/DY286VlwcYjQlrppFG0wQw0/jRjKjmGbEnPQueDt72tql4bnypQNlRPaNp7B1FIfAYyDJnWhlY3damYTUj4pulohmJYn5wOsmyJgg77EJ59jrB+varYVBr0/lGHDZ+TUFGifT1E5v74kZQjUTYhOIzojv3pffH7y6QZqSAmTGuCufNb8BHxlc7jhkr/O48ZK0t8/SG9AKHNmEkoyX5xxu78Y83dtsWwwPsTofdCmYa1S+5W5IztzZUHRt5E4Y8bbz7eAOtTRPCD92rCX5xwSBdqr5pFUlCew3ZQnPVjMjvs6iMbF80GVjlb4v8kFhTlFsbyn1H4N+hS7bDxG+7rCkPBaIZiQtBL5P9+uqCffEUCEkYKWASCQ0rPnus8NjoEc5VjzszWVeLbWYau3JM13XbQ9dmpmEdWCVPFNWF8tjqvGDj1obs7dzZvl2ICKwZCfAGG4rPiEIfojd70YTp1oYKUp+RzN+EBugSB1a3+2wgFka8y2SL233i+9OgQRPclcAOrC7jCIptLJFpRsTb0vKZv/ZomjhOhRbO73l+xhs8Lb3zJWVQLpRHFAascytPMROuW1Zs/wr0cr4jMjONLExTNemZbX0PXw6sav2pp4N3H2cwnxH750BaC4VxZbsgn2r5hDQDa+atF9mt2is6V9UFEbPB0aYu3ARgX7XXViXgsKJYd8duZopmtrHLO+rSCJs0Lo4TIUtcJ+5sfEacVWNyUgwkjAxSRJoRA5HPiEFXnziFPAD09HlrRoKYaRyhvb7MNN7lRFoElb749tUXqsp+IlXxGXHzeVDtRYUiibbFOK+EJndytYVw+1jpOSdJz1w+O800WshmmuzbcCMKsxbg3y/FHk1TGD4jDsfmPA04HJ8R3bHPT1u5hISRQUp1RYl0xV02dwhvpunqs69ZwzodqviMBHFg5XFrQtlnxJYl06lF8KrP1rXKuhaVlgvyu1fR2GSrGVE208jSwRtvvUykhFsUjJ/1jHKR9Iy/MW7JzMJ2YA0jV4nbWHLhoKjSg/kdAeSLKcYMNyE1l4Tij2Tu49uOHySMDFI0TbMlRWNhhRReM+Jc6ZfRjPRbgok06Znik9WPk6q9HldWQfWfctGM+PEZCbpQXqCHr6cHq7r/TNAuDGTqdXs0jcxMY23Lo2lEmpHoVeVu6niRA2uYob26W2cBSQkmobDxK/CYRTTN0ozEcSZkkJkj8z+OLNqKqemJhYSRQYzMVMM6sJY6NCNJPPrmHnzlnrVo7eq3pYBXi6ZRG5vbxOkmIDh8RjI7OnsH8PKWA2Zd1VV7vc00/jUjzklbrZ6tDYXj2WoLfOcZkUSfsDk43DQafvKMuDmXhoXbgob8mBKM9sc+rmB988JyGNjHH06bPH4FHlMWARsiHsOZkMEtyiqfKPuMsNu6/a/ftnIJCSODGHu6eGu7iPEZKRH4jFxx7+t4akMzbntus83O32PLMyJ+yw2yai+PLzNNZhgX3fUq/uP2l/GHF7c62udXBRbVV+kviAOZ6HOQNnhSKec5+daMKJaTZ2BN/03Y8ozwY7K2/WRgzY1mhPvs4g8hC1IKOixblsyQJoZcvNHbmlRo3hbaK2ojhjjGl6fxBv5usdorSVtxvAckjAxi2IiaaWOGm9usmaaM04x091s+Iy1d/Y7Q3m/c34gv3PmKzWTDou4zIi/nz4E1/Xnth4cAAPe9tgOA8wEvDUX29BkRb7sRhr+DZzp4QRm/3aiWTyRkJhhropGlg7f53MQutFd+/fje0m/2YWZgFW9nQy5U8XYhSqV8Gvb6xXEijCNBX2pEOWwKIQMr5RkZxLDp4g8fPRwvbjoAwN2Btb3HEkaGlRbZQnvbewbw0PpdAICK0iJhn0GiaZzH5PXYt/GULkglb5pp7H0FT3rmbNuLMN5CvKqIssr614yolbcUaeLJTtM007kzyNo0Im2aM9xbaai+cIvYcVxLTUNCcw4i6MQa9aq9QDQTTlCfEfY7EseJkMWpGMnPiIOai0Tl3LSAcYE0I4MYQzNSU1li05K4hfZu299lO8aaaVq6+sztZ97bK+xTNemZm3nETVthTCCGQCULo1V92MvGq+s63tzZYosuUo+mCUMz4n082zVwlDUjkjdaUzPClOHvK/vZX54RcV/hwl8/+XcmIcszEjTiIYQ2HG26aKXCQpdse9Ww+YzEcCJkyVbjGN44+M+qqhFBG/G+5ABIMzKoGZ1Zu2bUsFLUVJaY+20OrJwwsnV/h7nd2TuAfmY2OdjVb277yabpt5zbj844VlykoS/pFCaMYalqRmT7X9i0H1/8/avKY7YPUq2YGyohx46HlaIgyLahgpn0zFE/c5xxYHVTB/vLwJoDk4ND4JGXZddWcWsjSN9RaUYiyTXic9zGGOwZWOONUzMSD4JoRgxBl6JpiLxy/JSRmFRbiU/NmoCaSstkw2Zg5c00W/d3mtvtPQNSzYgM5fBXl2Ju5hCjfel6Kbru2K9DromRjXcXs6aP2U5AQSsSfwdBu37fsFVLF3n4gyRseUYgLANkl2ck6rd8vg++P00aTRNQM+LSV1ByYV7w63hrmmnAJI2L4URow/EdztMwAgrkIq2w04QXv5tAmpFBzJgR5XjuO6cBAF74YL+5381Ms4URRtp6Bmw+Iwc7vYUR5XTwQX1GMn+Nc+AFF113ag34ReXsfYn3i97ig4b2BvIZ8agj9hkJtw+DIkk6ePatVyW011+eEffPYeBm5uL7kzuwBu1b3ldQwvje+elDpX1z0iuktWlczHf5RfFFj92WCSNxOSUG0owMEWxmGsaBlV+bhnVgbe+xR9O0MGYaGUH9KpSPpQzNSELYXzIlMF/o8h+fzGdkQHBA9aEUis+IR1+67izjtx/V8jJbP5vq2/hKuQkR/vKM5EC75PKA5q9tQhMZabLIM+LinxKUaPxq7IgmOtfylixSOGvTxGTiDsMEaO4Lqe0oIWFkiDBymMxMI1/ltb1nwDaBdPQOSMsaqEacuBVTycBqjNsRTSPQgqR0XTq5R6EZCeOt3lsz4h4NotSHYjkzz4hgDAC/UJ6bZkR2D7z3RWXqsn0WqLdNJA6sQW0OrJIorHNz3p8oBDhduC0tn/mbvnaFsTaN06SRH8IQIEyfERctYFwgYWSIUFNhaUb6mZV5+QysLO299gysKqjmGXFPBy+vZzxgDYFKFAIqmqTlSc/EB0Rv8eq2fcdjRLGenxpOocu374FicZmZxvQZSVjhv26Op7Lh5c+BVf6AFsgiknTwoQ8rOLm4ZpJtaXmBX1GsrpkKeRpwUKFIpHVzE7zjAgkjQ4RKJi9IO6PhYLOx8vAOrCqEEU3jqhnJ/C02zTTOCVm0sq/cZ0Tcj1Azohq2HIJmxDNNfSr7NzjlPCOSFXmNjwlmRVuncOjdh5IDaxTOmG5mGocDq3ihvKDaB/syA9FoRqKYbvz6jBhomlxgjRtxGV3QCBi7uVFcNy7nyEIOrEME1vluev0Ic7vPRdjo6BmQpsGWoWymcZnY3X50fDQNr8EQaWbSAoq4PZkmRySEBY0UisKBVYdo1V6fgqOicGWmeufrZ/pjtQZOJ1cFHY/wnnHt+AxbVsHNUZHvPy1wCcYZtO+Ak7pqm+nPEZtp/EbTFIyZJh4mjaD3Uxd+iL80QsLIEOLFaz6O/e29mFI3zNznZoaR2fjdUE56puCkKq6X/lssi/BICcwXkP+Q5WYa54nkMumZdx9h+IyoVZCuTZP5q2ma9K1XRYgQ3YMgQo1f3AQe/lhaMxJmNE34mhGRRjBsbGYahfZZJ2fzxabANCN5c2D1+KxS0fIZ4YvE7x6QmWYIMaGmArMaamz7+gacs8XEkRW+NSIGYZhp3PxO2KRnorIi/xBRGKzXOESCWJBVM40x+cVzbRrdWcZ3OnjF4glZTpeUNdFYDqx8HyGZaSJ4djrG6pJDI50nQ9RGsIHpku1scLQThTAiMAGoli+YNCM50DAFQdlMo+QzEs6YwoSEkSGOSDMyqbYSw8uCKc3UhZFgx4zmiyQ+I6JomrSAItOA+BBGVB8G2TqWKvQlMj3514yoIYumsfuMpLeDpKhXcWDN9UJ5jjwj0mia7PsOLelZDt5+/YYkm2YajTHTxHAitBMPM03QC1WoPiMkjAxx2NV8DRpGVqKqvMS2T+bneslJU/DUso/hooWHAQhHM+IeaZPRjEiSnqV0ONKip1x8RmRdhekzEii0V+E4P56e/iS+8+AbeOKdJrU+FM8nIXEaMT4mtGx9Rpz7cpH0zO1t0Wmm0YRmmuAZWOV9BSUnq/ba2lS4t5m/TGRvbDQNMsLw+QplHI7P/jWz5qq9OfhuZAsJI0OcpceOx7WfnIFbzp1t7muorcCIcrtmhE0nP4rJWVJSpGHamBHmejeqPiMqTqriY+m/bg6sfnxGZCYhN5+RJ95pwsd/uRpv7myRjJHv3/8v3zOaRnD89y9sxQNrd+Kr/7tOqQ9lM41HDhH3PCPe7YvORZZgLUzc+nCaaSQL5QUclm25grCEkQCCYDZ9qGlGMt8RWpvGN47rG0AzK9eMxO8uBBJGbr31VkyePBnl5eVYsGABXn31Ve9KAO677z5omoZzzjknSLdEBCQSGr780SlYMLXW3NdQW2kTRjQNqGI+1zLCiPHWLFsrRoZb2ni5FsM6YCQ9E/koqIT7Wn2pm2mMso+/04wt+zvxPJNi394fX09YzBVvM41z7LtanOvpuLahWM5IRSPTJLiFbQb3GfEuky2ub8ACM02YeUbYaqGF9gYwkfnuw2f7rGZEk2jP4k6+NDnOaC/Vet774ngPfAsj999/P5YtW4brr78er7/+OmbNmoXFixdj717xkvIG27Ztw7e+9S2cfPLJgQdLREdlqSVsjK0qxwjGTFOSSGBYmVgYMcwlps+AcgZWF2FEIVOn3GdEHGUidWCV+YwIzDTGQ8nws5FFIoWxyJtXDZHpSXVdILMPVTONZEVe4zwTCSbPSAAhQi3pWQRv+S6f+f5lmpFQzDSBWnBvU/Q5nD504ba8QvqPxqTTj+E8aCMuE3XQ+ynSXsUlXNkN38LIzTffjEsvvRQXX3wxZsyYgdtuuw2VlZW46667pHWSySQuuOAC3HjjjZg6dWpWAyaigU2KxmtGios0mzAyajijGck8oQ0nR/UMrPJjsgc8+4Mqdlm1VzRpSjOwSva7JT0zhBBZQrhQ3kI8KumCIn6FEdXiZgZWfgzGRAO7TxF7/YPmGZFF7oSJm1mD702kFRGVUyU3Sc+inXLUNCMZMw3kaxzFjbiYMMK4n9IaMbwHvoSRvr4+rFu3DosWLbIaSCSwaNEirFmzRlrvhz/8IcaMGYMvf/nLSv309vaira3N9o+IlpKiBG7+/Cys+OwxGF9j9xkpTmgYwQojw8psxwDGTBOGZkRBcCg2fUb4tzXxpOk3mkbkM2I8DPozQki/JIlGGP4OXjXE5qhw+zCQpoPPtJDQNNtkbVuRVuH7ICoShqnLu1/59XM6sMrMNCHYaUI6t9xoRvy1z5ryQgxGipS4OLDyZPNS4/ztxg9f8Zv79+9HMplEfX29bX99fT3ee+89YZ0XXngBv//979HY2Kjcz4oVK3DjjTf6GRoRAp89bqK5PbyMWeW3KCHVjBQVGWYasZpeRpB08Ox+c20agdZDZLqRTRqy/W4L5XlqRvjxBMgequIzwo9dVStltaFWns3eq+u6417zE3VK11HkI4xTJBDmJLTXZY+zP0kG1oDDykXSs0iEEVtor4LWy9zSCsZnJNcaJuk4AnQrM8cM+Wia9vZ2fPGLX8Qdd9yBuro65XrLly9Ha2ur+W/Hjh0RjpIQwWtGbMII4zNSFNBMo5JLxG2/uTZNSscAN9s72w4nHTzvMzIg9Rnhe/eP1wQl8oPxa6ZRpcgmjLBjyKjgNUBjniR+J1qxmSbAQP0iEFrNQ1xR2Zt90GFGoBgR9BF+y27XSDgGgWYkLmYQGW75Z3I6jgAOrDKtjnN//O6BL81IXV0dioqK0NzcbNvf3NyMsWPHOspv3rwZ27Ztw9KlS819qczEUVxcjI0bN+Lwww931CsrK0NZWZljP5E72OiZkqIEhpdZPiW1jJnGCrXNfFZem0ZeTjapsj9Oy2fEWV6Ye0TSnS+fEU4z0q8wTgB4a2cLTjx8lE2g88LrKqpohLxQLc8u7MzWMPrnzTRss2oOrN5jiyqlPoutC+5YQrNriLIdl11gC9SEg1xMorxJ1At2/aJC0Yzw5G24AQQImVanEMw0vjQjpaWlmDt3LlatWmXuS6VSWLVqFRYuXOgof9RRR+Gtt95CY2Oj+e9Tn/oUTjvtNDQ2NqKhoSH7MyAigY2mKS7SbGYbNpqmdyAJgDXT6OjpT6KDWRlYhIqZ5sf/fBcX3vWqKWzYo2ksTUw/p8XgBQnX0F5fa9MYmpH0X1XNyK+f3oTP/e4lYVkZnmYaZD9hqxbnTTDpuqwC3u7AancE9e5EJc9INKG9zu+Jue3IM6IJE/8FdhkRaJiyxTkRhY9NXvMxObIZbHOi9cqCuPiMBLmfMoE05pccQICF8pYtW4aLLroI8+bNw/z583HLLbegs7MTF198MQDgwgsvxIQJE7BixQqUl5dj5syZtvo1NTUA4NhPxAunmaZIeKw3s7ZNEeNQ+un/eRF7Wrvx8vdOt4UMs6ikg7/zha0AgJe3HMBJ0+rEPiMp3aEZ6elPOtqTJj3zkQ5e1WdE9PR6r6ldXFaC1ySu684Sfn1TgggjIrWvqwNrUM2IIItu2Lg97Pn+NTaFqEsbyn3r4u1syEUEEnvCSq2bmhGtcMw0DvNIfsbreGYpDMPxnTZ/r9FrzbLFtzBy7rnnYt++fbjuuuvQ1NSE2bNn47HHHjOdWrdv345EghK7Fjq2PCNFCdtaNRVMGHBvf0YYyUxGHb392Nicnnjf2tmKBVNHCdv3SgfP/ngMwYBN817M5BnhfUZ6ucX/0loEcV9SM41KnhGFfCiB8dKMCAQse1ZPXWhWsHehaqZhhBEYWipGM8Kt28KPwwuV0N5oTA7yPh2aEcnaNEG1Gm7ZXoOSiwnGrhlRL89evzhOhHHEKYuo/JYk+z0+x4FAq6FdeeWVuPLKK4XHVq9e7Vr37rvvDtIlkWP4PCPDmc/lJYwwYppp0p+b2nrNY4e6+qTtuz2QkindJlBYC7VZlVgzjZdmJEgGVpHGxCjqbabJ/qfu1YJoQUB2zAMp3cxSK29DbSyJhFMzwtbVeJ8R5rIET3rGfY7gLd/Rr4u2Ip20S/6d8N83sx0g2kqE7K04TNxMWeLy6b8Jydo+cSQuZhoeNeGP1+rwG0ZbMTkpBlJhEELsZpqELSlahU0YsZtpmlt7zGM7DsrTk3ulgzc0LgBgKNpEeUZ03anFcGhGdPnkLk8H7+YzYmRgFdcN43fuNfnqgn7YyCCpCYlvRAFRNA370GMXygP8R9OI84xIHqoRoku2AcMvJsyF8qLXjESzaq+8P2F5M5ymgJKexWR4QYYhi5qJu2kMIGGEkDCijDXT2N98XYWRdksY2XmoS9q+LJU6kP4BdTPaDUMuYB/8Rn6TZEp3+Hf0OnxG5JoRfz4jdmFEJLDw4wyKt2bEPRpElpDN3ofaOG3ZVQXe+WnNCDs2o4zuK+LCvs+7TLa4vQHzE6amaSEvlJd9G054s11Y7TI9sONWKZ/5a8/AGvKgQsapYcrPgMPU0MRV28NCwgghZDinGSlm/IDKiq3taaOHAxCH7e04JNaMDCRTwsneIMUJI33JpLk/3Zf1tp7SdUfki1AzIunOj8+I5cCqS8uEhdfDgverAezCkcrYlB1YBWYauwOrPew1JSjjdxy8oJSLDKxuK+kmZD4joYwjhEbgNPdEs56PP2nEVIxoGgwH4BjOgzbi4uwZdKE8Wx1Tk+nedhwI5DNCDH6KEhqGlRahsy+J4iINY6vLzWOJhIZ/XPlRPLmhGf/nlPRaQ0WCJ7VMM9LDCAvlJQn09Nufoind7vfRZ5S3NL629PO8YOOMptHli++ldKzeuBcr39qD2mFl+O4njoSmaRKfkYxmZMDfQnlB8I6mcT5g+gdYM423ZkQ5zwhrphHUNXwBEpo9ckm1fRXNSK4XyhOZaUQOwYEWQXTUCclME8Lk5dmHTRZREHgzfwtaM5KXUchNLr7qyPKMxPAekDBCSBlRXoLOviRKihKYNmY4fv65Y1E3Ip1j5JiJ1ThmYrVZtkigY9txsFsY1cEKCxUlRQ5hJMlpRgxNB5tky2gzqetKPiOyt8/+ZAqX/WmdOYals8bhI+OrhWYOUzOSMsw04kbD+KF7akbgFLD6GAFEFuljb0MNNpomJRA0jNub0DRbMrZslgZwixQKC7eHvdBME5IDa5CVjVXIxYRjN2WplLe0mYUS2ut09szPMHjUzGJirU4uBNVsIWGEkDKivBhNbdZk9Pnj5UnqRG+N3f1JHOjsQ91wezZdQxgpLU7YJjoDXdeFmhFzyXpNY8w0Tr8PRzRN5j8RHb0DNmGooyedrM1VM+Iz6VkUpFLOflhfGRXNiOpDlr21IrWv4U+U/qsLBRY31DKwqo3VD27rdfD9STUjAR7rbsnWssHxRh/xLOqn9cLSjPATd34GHMRc5NSMSPbH8B6QzwghxYio8QoRBcRmGgDYJfAbMSb/8uKEOMV2ijPTJO3CSHphNqOsd54Rt3TwfKZYo67MZyTJJFmTRtOE8PDymkhEAhZ73rKx2dtQo8juwZr+w1xi4xZaGTb9nb8wz4jD/8FXk4r9cp9tuT/spDUjToIISVFpRhy5WcJpVtqHH7OBxoT2xnAedCU+E7f/37QVTcOXi81JmZBmhJBiJD4rVkhiJyvS2t3v2GcIGuUlRUKnwHRKeWs2MjQj1oPNcqpMKZlp5NE0nZwwYoxNphlh/URk0TRhPLy8JiiRgMWajWRjY1F9c7b7jOi2vwCvGbHGpawZEQzVmfQsCjON/M3TaaaBJB18AM1IVCrzXJtpVMpnSrGakRjN7kLiMrwgw5B+H2PilOsGaUYIKYZmpFhBM8LnYDhsVCUA52QPWInSykuKhImQUjrQ3ec00xg/oISm2dLP84KDM7RXPjHymhHDuVacZ4Sb8KV5RkLQjHg9inT3fqKKphH5gxiHE5xmJDufEe8y2eJHdS13YA2j34jMNJHkGWE1IwrljTI2n5F447yO+SGIaUU29rhfc4CEEcIF00yjoBlhVfmaBkyqTQsjogXzTDNNSUL4tukI7RX4jBj1dF2QZ8RHOvjOXrvgYmhGZHlG+llTiDTPiLgvP3g9eESr9rL0qfiMKOcZYUN7DUHDqqtxmhFLYFHUjAiK5cZnRN4n3z/rgOnWhlK/EWkwHE6/IWV2tffhs3zmrwbL6TwKwTJMnMFO+RlvEA2aLFArKgE4TEgYIaSYZhqfmpHRw8tQVZGuK9KM2M004qyWrM/I/778IU766dN4P7PmjcZk/BSlgzc0LwZuybccPiOGmUbiM2Iz00SUgfX/PrsZf35lu2P/ObPH47PHTUj3AfeHeqiaEafLiM1kZsD7jOiKk6F4bRr+c/gPTzcfC767hEQaCfJQz3a1ZRm50Yxwn718m5jvSeE6sOZpHEGEVr6OWZfMNEQBc9ykGiQ04FgmhFcGK4yMr6nA8MxqvZ19SUdZQ3NRXlwk9DXh84zsbe/FrpZuvLhpPwB7am5eQADsqeQBZJKeKZpp+uVhu7qu28NnJRO+dB0cxdf7/3l6k3D/Lf8xB4s/Mtbsw601tTwjSsOxZR9ls6sC9vk5Yabod2pP3Mch1kKx5MSBVZcfYwVgliAam6hevN0y8oaF03zmUZ71GSkQB9a4RJ4EES6dEWK6pK34QQ6shJRPzByHt25YjGFl3l8T1kwzoabCrCM206QFjbKShNBnROccWA3aM2G3iYRmS3rmCO0dUE8Hz2NoVUQ+I7pu1zhIHVglbfenUihLFEmOWvDjZ2GdRN3eSpXyjCheE0MpoAPmyRk12Qk6qJlGJNNFFf5qa9OlT+eDX5JnJMBjPTLNSE5mTdF9kWtOC1Mzwn/Ok5kmBKGI12Rm01bUkDBCuKIiiAB2Vf646nJUZBbWE5tpDJ+RIiWfEYO2nv5MX5bPiHhtGvWkZ7KxSX1GlMw04v1uiwOydd3CcjWmnJtPgIpmRBUzyRyjjWH9d6xy9mPZOLBGFf7K4rYYnyPPiCwdfJAJQqJKzxa+nZw4/SrWY9fsjWNYqY3YmDT8m4tkQkdcBCw3SBghQoGNuBhfU2GaM9w0I2lhxPmET6Ykwkh3RjPChfaGqRnp6U8ilRL7mKQcZhp/ob0quT+8yhhmLR3uDxSlPCOqZhqkr3mSqWNecpvPiKGtMtpX60DsMxKN9sDer8tn7hi/MrGsDbV+I9L65MJMw3/2MtMY5jxWmIvfPOhKIQ1XJnSQzwgxZCjifEYMjYpQM2KE9hYnJHlGnFlUAUszAmiMScBbMwJA+YnSM5CURsnoun2Sl6WDl02cKtoKPgrmhKm1mFBTgXsvXQDAsrt7RdOo5BlRneATTMIq3meE1WwF1owI84y4fw4Dt0yb/LF0NIigjQBP9ahU5rlIeubUJrn3Yty3tDBSID4j+R5AhiARMKpCR1zOkYU0I0QosG+NE2oq0N2fFkL40FnAbqZho2lKixPoG0hhIJkSCiOmz4gGWzp4fpLPTjOSkppT0gnWrL6SqfTKuXxEkKwnFTNNPxeWfMr0Mbj81MPNz6zdPetoGs8STJ9Gv0ZdY5JhVCN80jNVVbDK2jTRJD3jxyE/lj61cBxYoxIagkxevvvw6NNR3jyu2UyMcSYu/hXZ+Ih4thXDe0CaESIU2AfsuJpyDCuVO7D2mmYae56R4RltSldfUujA2tZt+YwYk7LIZ6S7jw/t9Z40KjM+Lj39SReNh1NzITKHyIQEFadS3vTDv41r7ITv0pzMhMTi14GVrWP5jFjlWG1V+q9S84p5RsJ/eLqtDOzIMwKJz0gAUYKvEV5oL3/NQmnW3qbPRs1oGlagjd88aMOv9ieycTichRXqSASpuIQru0HCCBEK+9p7ze1Rw0pNwcIrzwirUTGSrHX1JR0CBQC09zKaERefkbYee58qmpGRlenViHsHUsIcI0D6B80LH7KoGxEqZho+YRvv4MuaQlw1I1ms2sv3qTFmMfPhphtl7cnujLEB6hOXSp6RaPwf5I3yRzTGadpWLsjba0Tn5mwnPpqRhFZAob2eO3KD01lY5TcteXbFRNvjBgkjRCiMr6kwtzVNM31GPtjbgTNufhbrtx8yj8vMNJZmZMA1vFVj0sGLfEZau/oz7ae/3jq8f3y1w0ozY5P7jKRSTjOKLB+JCBUBwaEZ4UwD7GdXn5EsVu3lV1JOJJxhmaYgJNSMuLfPo5JnJJKVkF0e0CIzjWzpAt/dRmSCyokm3ucEaRxlfW7iOBGyRBXt5JdA91Oi7XO0FUORkHxGiFA4YWotbv78LBw5dgQAe0jwB3s78M8392DOpJEALJ+OsuKE7fHO5iYRaUYMWGe49Cq69onXMKVUlBShpz+Vzsnh8eOrqUxnjH39w0P45gNvCMukU89zwogkU6sIFT8OXvPCmwZYzYhba2rRNOIyaaHCOiYKy9RtZe1j4005mahgKaLrlQv/BzdTkEMzAg2aJhpD9maasM7MLVQ5LHxPkGw0jdlG/CZCFuc55slME0CbIftuFYJmhIQRIhQ0TcNnj5tofh7O5SfZur/T3LaZaRjd3IhMnZ7+FDr7nOYdg4Sm2RxYZRNvRUkRDqHfMycHYJlpOvuSeP6D/cIyaZ8Rzkwj0EBIzTQKES59Ax5lVB1YVVbtlex3aEY0zlcF1gNa7DOCzN/0RpGmYcBlrCoOrLkO7RWt2itK7RVkWNElPeP6iUCd5FfgsTQjBZT0TDEiJY6QzwhBcAwrs2catQsjbNIzxkxTbgkwhzr7ISOd8yG9zWZgLSu2f52NxGtuq/YaGGYaN/iF8gCxU6o8tNf7EcA7yPKROmyIrWsG1izyjPD5NGzZMzP7rJBNF5+RTBleuJGN48MDnXhjR4utrkEuFspjP/PXhhXIWIIIEpH5jHh8jqQPj8HrzPdElKelEMifmca/ACELVy8EzQgJI0QkGNE0BjsOdpn+ED1MNA37eCovLjInLlEUjkFC02xJzwxfDF4bYwgjOtxzcgCWZsQN0To4fjKdGtqKlq4+vLO7VVjG6TNiJ8EIBW4PFJVoGtlE6nBg1SwzjZVnxFmWj6YxJqpiD2HEKH/RXa/ic797CQc6evOS9MxupuE1I5I8IwH6jcofJhdv9H79KdjryH+HCA9CMFXKqsTRVEbCCBEJCW4CGkjp2HmoG3tau3Ggsw9AWvhg3zYTCc0MsXWFyYaZ1GH6jPCp6ytL0p9TKe8fcu2wEs9udV13aEL8hPYampEr712Ps3/9Ajbt7XCU4c00IsEAALbs68S/3m6SjnUgqeORxl342WPvSc9d1YFVg9NMY52jPM+IqmbEaGtXSzcGUjr2dfQ6o2lcWwiG4z7ZzDT2Q+nIVIFmJIAkEZU/jPOaRSDA+Qw3tTQjMFVncZdF4qJFCKLpkn2lHd+xGN4DEkaInLFqQzNO/tkz5iTMr02T0JwaFREJTUORkRad0Yzwwkg5I9h4/fZGKphpdIiiafz4jKQPbD/YBSA9+fI484w4/TdU6E+l8KN/vovfrd6Md/e0qVUy++D7ZLUCcs2I00yT0YwUuT9mXt5yEL9/Yasp2HX1JR0+KblwImQnWoeMoYmvfZBR5cxMkwPNiNcFsETWwlmbxi0zb07HEUCAkH0HCkAWIWGEyB0/fnSDLbw1nfTM/mbN+5qIYO33yZRuahyGc3UrSwyfESsnx9JZ41FTWYLbvjDXZtZRM9PoAjONumaEN1P1CrLMeic98xwmgLSGxdBA7WVywLBIo2l4zYgm0noYwoJTM8KH9nppRgDgpic2mts9fUlLkMl4OCv44/rGzazBH0tIzDRBnupRTXY5MdM4Pqv6jBSSA6v755yNw/HZeyBSLahiuXxCwgiRN9J5RqzPCU1tlWA+miYp0YxYDqyWz8hpR47G+mvPwCdmjsW0McPNskZorxuplFMYEflmyH7mxjhNYUQQOcPv4+c/kROliP0dfeZDdL9EGJFZGIpEmhGujk39bpRLGGXsmhG+PYOSIg1/ufQEAGltiEF3f9Jh4slFBlY3iwtrqrLX8T+uXDjnAhG90fscu5mBFQWc9CxPBArtdZTRhftjKIuQMEJED+9YalBWnOCiMRR9RsBMUikr9wffT3lGM6Lr1psAm6Nk8qhKs6xKNI2uC0J7fSQ9M8wQPRmBQySMOHxQHNE0auxt6zG393f0CcvIJiuRIsOKptFtf0WaETPREmPKES8yBxw+Zphjf1oYMTQjdm1LmLgulCe4DSEpRqJLepaDCcexro6n00j6T2FrRmI+YBcotJcgAFyz5ChUV5Tg4StOxLETqx3HeZ8RjfMZGV9dLmzXtjaNboX28sJIpSC0l508G2otYUTVTMNHzwg1I5JfurGwnuGkKsop4h1NoyaOsOn593fIzDTiuryZJv1Z7JzKYgh5hknFSnomD+sU+Qh19yUtQSZhF3DCxG3ydq5Nowk1I0GGFZVzbk5W7fX4LCvPRmTFcyq0iMvE7fdaA24OrO7l4gAJI0RkXHbK4Wi87gxMGzMCt55/HOYdNhKjR5SZx8sEPiOVjEAxjkkxz5JIsKv2Wj4jDjNNiaFl0W35DgwmjrTaLy/x1siIQ3vVfUYGUimbNqRXkPLeGU3j9N9QYa+KMCKpK4qmSXBvtaZwxzxBEoyACFian5Ii8bouAHuPLLr7k2aUiqEZycnEagvttSPT7gQzH0Xj2+EWqhwWfv1STI0kClkzkq9x+P+eOKOdDE2me7k4EEgYufXWWzF58mSUl5djwYIFePXVV6Vl77jjDpx88skYOXIkRo4ciUWLFrmWJwYXxuTfUFuJBy8/Ed86c7p5TOgzwphpxrloRhI2M42Xz4h4ldmPH1UPAJha5zQViEg7sPJmGnXNSH9SN/1FAJmZxt2BVVUzwuZpkWtGuLd/TdwHq4ly5hmRm2kOZPodNbxMrFVAWvPBCyTdfZbPSCJCnxG3bKIOTYwmCuwNaqZxH0dQHBNM9C4jyg6sYMyjcRdGePK3aq//cUijZnLg3JwtvoWR+++/H8uWLcP111+P119/HbNmzcLixYuxd+9eYfnVq1fjvPPOwzPPPIM1a9agoaEBZ555Jnbt2pX14InCY1w1o40oLnJqRhi1PatFYdFgj9wwhJEREs2IzjiwslPK6BFleO37i/D3//yo0th1ODOkivOMiOsnUykz+ywA9PY7hRFHBlalkbmzv13iM8KN09A2OXObOHNssG+8Bta6OZl+M8JI3fBS15BkPoKquz+J7v60MDWMESjDxu0NmO+OfbMHLO1REEEiKgdW50QUvWnLT2ivtS+GM2EcCaChcWr7xPvjiG9h5Oabb8all16Kiy++GDNmzMBtt92GyspK3HXXXcLyf/7zn/G1r30Ns2fPxlFHHYU777wTqVQKq1atynrwROExe1INgPQkU1KkORxY2fDcuuESYYRZzp1dKK+8JGEzMbA+I6K1VIC0QCJzsOXRBT4jIjON7GHr1Ix4m2mCakZYDnSqmWmMtis4J2JNc5ppLBNMgiln12IYjrN1w8tczWCVnN9Id38SbT1pYaS6oiTTb/aP02fe22vL7eKmoRA5sIoXBfQ/juhCe90/R4Gnz4hpHi0kM008tAhh+K7wzuT8/jjhSxjp6+vDunXrsGjRIquBRAKLFi3CmjVrlNro6upCf38/amtr/Y2UGBRUlZfgte8vwovXfNwmVADpBzzrM1I3XOxUmtDsb6aGQFCUSKCcWZ/GTAfPakayWB9DtCifr6RnSd5nRMWBNZjPCMvBzj7Tydc+Tvu+2Q01KE5oOPHwOscYeEGjrTu9dpAhLAByzcio4WUYUe4U+Iz++Qiqnr4kOjLCSFWm/WzNNKs2NOPiu1/D4v9+ztznlpZdmGeE+wwEmyD4r0xYOVT4yStsbZJoAvMOpmF8RgoltDd6a5cSTi2UiplGLMDExSnXDV/CyP79+5FMJlFfX2/bX19fj6YmeWpqlu9+97sYP368TaDh6e3tRVtbm+0fMXgYPaIMNZnoFX4iYn1GRg2zNCNVzGSWYKIz2Gia4oRmewOvYEJ7uzN5LFQzmIpI6bqSmUb21jGQ8taMOEN77R9FmhF2F79YIJCelA52Ok01/GS1aMYYvH3jYnzxhMO4Pq1to0qrUBixmy4MYWT08FIML3PmcTHa4r8D3f1JtPek2zeFkSwn7Eff2gPA7kvjZnEQmWnYC51N/pOozBRRv/2KmhuUSc/4zzEfL4tsqHFxynUjp9E0P/3pT3HffffhoYceQnm52DkRAFasWIHq6mrzX0NDQw5HSeSSL390irnd05+yqezrGJ+RaiYpGasyT+nWyrlFvDCSmeTaewfw7p42JDTgIxOqA49V1wXp4AWhvbI3UocwIvIZ8Ux65myXTSomC1EWObE6HFiRvn682YpdJM6o4yaM7DjYhavvW4/VG/cBkGtGDHjH466+pCk0VJVnzDTQ8de1O/DAazsc9Tt7B3D5n9bhkUa5H9o+QeI3/2Ya63ORKXhJu5QSVdSLT3eOrNsHFDQjTEh9LlP7Z4NzePkZbxANjcynx7k7fvfAlzBSV1eHoqIiNDc32/Y3Nzdj7NixrnV/+ctf4qc//SmeeOIJHHvssa5lly9fjtbWVvPfjh3OBxAxOJh7WC3+5/w5OHpcFT49e7ztLXkUk4ispsLa1jTNlvTM8BkpLtJQVsKYaTg/hTNm1GOCJFwYAH5w9tG2RGgiHJoRgeQhm1ySKd1MeAaIzTR8+87IFme7bBlZJtn9Hb2OCdnx9p9pppJzKE0wwp8hLBnCSBUjjJRnrv0vn3gfDzfuNs+vbniZw7mYxWGm6U+i3TTTpOt90NyBbz/4Jr7z/97EE+/YtbB3Pr8V/3q7CVfd1yjtQyiMuDyQHXlGNM1mMmO/Z34n16jeUqP2dRCaabzqZP4WlJkmotDr3IxDYqYZbJqR0tJSzJ071+Z8ajijLly4UFrv5z//OX70ox/hsccew7x58zz7KSsrQ1VVle0fMXj55LHj8a+rTsashhqbVqFueJk5uZ4zZ4K5P8G8pSZ13dQwFCcSKC+2JjbeafILnPmB5ysnT8Xqb5/mWobXXIg0I7LfeX8yZdOMCJOeeTiwiuJrWAGGF0aMXCorVr6H4//rKfzp5Q+lAzX8Qkq5he3SPiPp7XNvfxnPvb8PbT1OYWREuVgQqhte6q4ZETiwdnAOrAcYM9P3HnoL2/Z3mp+3HbC2f/zPd3HD399x9CHKQuumoRBpRth7wWpz/D7Ynb4q4cwMjmRqYZtpRPs8+rBCe53atbgSl4k7iNlNVmfQ+YwAwLJly3DHHXfgnnvuwYYNG3D55Zejs7MTF198MQDgwgsvxPLly83yP/vZz3DttdfirrvuwuTJk9HU1ISmpiZ0dDiXTyeIrj7Lpl9RWoRnvnkqHr7iJCw6eoy5n80z0tLVj7UfHgJgmGmsrzT/xn3EmBFZj68zYz4wfDOE0TQynxGVaBrPPCPu4+PT2h83aSQAmCv3/uDht81jziyjRp/23B9awi4Cffme19DabRcWAEgFjlHDyzBc6MCa/stH73T2JtHRZzfTsOzv6MO5t68xU953M+va3PnCVtz90jaHjwxrpjKchP1oEjTOlZi9Pka1xh0tOPnnT+NfGf8UGVGZUyI304h8Rnw4sFr7Cov45BnJok5MBCw3fAsj5557Ln75y1/iuuuuw+zZs9HY2IjHHnvMdGrdvn079uyxfoy/+93v0NfXh3/7t3/DuHHjzH+//OUvwzsLYtDw8aPSQsfshhoAwMhhpZjdUGPzY+DDLA1YnxFNA8o4zYjKYnheHOpKawSMsON+P9E0Kd1mmtnV0o0/vLgVrZk2AZVoGndppIbxGakqL8bcw0bajrPXUWamAewCgsb125/UhT4jMmGkqrxYqjUBnD4jBzp7zWvItj+hpgIvLz8d08YMR3NbL37z9CYAMLU0LJ29A3j2/X047/aX8ebOFtsxY1E+VwdWQUI4Nk0+O2ZDqLvsf9dhx8FuXP7n123tpDiVhe/1XVSJ2EwTyFnX5sBaGEnP4jK8IBoaWR3/Brbco5ZggePKK6/ElVdeKTy2evVq2+dt27YF6YIYoowaXoY3bzgTlZwgMZyLphGtBDtxZIWpsSgrTti0COUlCaWU714c6jJyZ5RiV0u3TTPyt9d34kBHnzwdfDKFXkYz8n5zB278x7t4ZctB3PbFuQCAvgHnJGj77DG+kYzAdezEGkwdbc8uy2a1ZScKXYf0zZ/NwGogFkbEAkc6f4y6z8jetrQWo6RIw/wptZg2Zjim1A3D8iVHYWx1OX706Zk4746Xcd9r23HZqYdj+8EuR5ttPf24/7XtWLPlAO54fqvtWE9/EtUVJYLkYzqzzZ0D177ITLO3vQc8X75nLbYd6MS/rjoZZcVFtvJ8/WzJh5Oit2YkDatZit80yBGTPCMy/w/3GnydjJkmNuckJ5AwQhBRIlLNlxUXobQogb5kyhbdAaRNE3+8ZD6OHldlChzpRfi8o0z8YjhWjspoRgyfkWRKx7IH3gAATK8fLqybjqZxalIeYxwyeTMNj0gjNHFkBXYeSifzYh19j51YjSlcqnv2OhgPqiJNw4Cu27QfNs2I5pyM2w0HVkZIdPML8eMzYmiPRpSXoL6qHE8tO8V2fOHho7BgSi1e2XoQD6/fhd1MIjNzfD0DpsD0zq5W2zFTM+LygOYf6mmBzNrHhqAbZXkBJpnS8czGvdD1dITRtIyZkO83PJ8Rvt1QmjUJL7Q3hjMhQ9TmriiRakYGo5mGIPKFoR1hk54BwBFjhmNmJmTXFEaKi2wTaE1IwoiBEeljRNMcYHwSDnU5zQZAOkEa6zMigndgdVso70snTsYjV5yEEw8fZe6r4TQj46srUMrkHulkfHL49V/YtlltRXoito+jxdCMMP2JhMhLTkqHbrsJI7zPiIFbnZOPSCdme/LdZuGk29EzgLaMXwvr4ApYfkluz2NxaK/YTCN7sLd195vHTMFodyv+7TZ7gsjQfEYid2C12rOSDnrXAoxoGnZPfInLxB2KAyv319ofv7tAwghRMBiqfg32iYEN1zUcWMtLErYJtKZC3V/k/3xsquvxhGZN+oZmpLnNEkZausRrwQwkdfQInFZZvBbKYz+PrS7HrIYam18JO7HPaqhGIqHZwpUNB9z9Hb1mNI8h17HXizdp8ZoRw0HUzWfk/12+ENd+8mgAECY9M+DXpjFwM+3MGJ+OsGvc0SI83t7bb/qS8MKKKRC6POxFj2r2Gtg0I5LnuiGwAWlHawC48t71jnIRuYyEDtu+lW3Xj2bEUI1EMLgQiSpdv/9xhNhWTAQsN0gYIQoGY3JKR9NY+8czwohhl+dXBB45TF0Y+fbiI/H/Lj8R582fJDxeXVFirsliZExtbrP8BYx947lVhwdSujDRGYtzoTy5A6uR+j7JPFmm11sRQ2Or0v1PG2OZjTp6k9jT2o2P/3K1uc8Q7NieKjkzjWxNHDefkTEjys3xumk5+LVprPZchJFx1dJjQNpM09Yt1lAZZhrf6eBZzZHNEVgXvrWyQqmhGdnKhCRnk8VVhOPtN2wzDbNtOqN61TGFESa0N+bSiCxxWK4J4uchW7nZjGqKsTxIwghRMBhmGo1zYB1v04ykJ9G0A6tVptqHZqS4KIG5h40UplY32irOCCPG2jTNAufFr59+BB68bCG+vfjIdNlkSqoZ2dveg2RKV1goz9o2zpUNh548ahhWfv1kvJRZ+wcA/vPjR+CMGelot47efvzp5Q/NhejSbTrNNF4OrEA6/T5brooTHtgcJG5aDt5nxKojv2f1VWU2k9SsTPSVQXvPgO0cWSyfEft+m8+IwEzDCoasZiSlw9FXMqULNSMsRSHPDPxikGEJOXz7bB+qob0AY6aJ40zIEBNZJJBpxWmm0W37rSUbsh1d+JAwQhQMI8osnxFW0BhbbaWNN8w0ZSV2n5HqCv8+I7Io2uqKEnPiNSI/WDONQVFCw7zJtebE1S9xYAWA+f+1Clff3ygI7eXGJDDJdPZaAk5pcQIzxlfZBLSjx1XhZ59LZz3u6U9h5Vv2DKammUZi7tHgNB8B6evAamp4zQgrgIj8SUR9sfDCDYumaTbNx0ULD7Mdb2rtES4OCFhmGufbotNMo5nXhvepYX1GdEeG146eAaFmhMXQ7smEhr6BFL5892v47yffFx7nMZpR9+fwB9uc9ftTN9MgxhMhS9S+N8HHoV5Xtg5QQvBdjwskjBAFg+XAqtlyPoytcmpG+GgaP5oRA5lpoqqiBMdOrAEArN/RAl3XzQRcovqGFiXJJT3j+ccbux1mmqTDXGBtGyYpNumXDNYvgzUVANbk5aYZ6RL0wV9T1qwyoqzY5mQsSnomGhuLWx0AuDTj23PGjHqM5UxiuwQRNgaWmSb92dBQsLJLytQyGNfG7sTLjjmlO9f+aevpt2lDWrv7HflQvFb+fWHTPqx6by9+teoDoTDIYwlXaiYUv9h9RtQEC1Oos4X2xm8ijCO8QKxy1RwaEHO//bsRx1tAob1EwWBEMGhaOgeFwcRaSxgxfB0qShLQGFHbWOPED+zEXzus1Oa0eezEahQnNOxr78Wulm6bz4hBcWaMxZmGBlIpDKTcM4X0c3lGHG/3XO4UwL4SrQw2NJpHxWekWyBE8fsqS4tQlNCQTOkOfw9VM01xQsNA5pzdfEYA4OsfPwJH1o/AkpnjUFacwHnzJ+HFTfux/WCXMNy3vqoMzW29DjNNIqEBKR0DyRSuf+RtnDitztIyaBqS0JHgwpttidp059o3ImFk+wF7PhQjhFmmGWG1KVv2deLIse4ZhK2JyPjsbLc9M66GWvc1mMQdWJuqcxqrGYmziYCF1Zjpeh7NNIYAAfUxGGNPaECSacOon4ivLEKaEaJwGME4sFaWFuO2LxyHOy6cZzMBnHbkGCycOgr/cfwke2hvADMNqxk5nEkeVl1RgvKSIjOi4/XtLUIzzWGj0nWKGWdXUQp4Ftb/w6gjG5PIZ8QNmQbCeFti27alg+c0I/Mn1wKAI7urpmmmAMGbbEol/jfpcVkT+0gmnb2bz4hR77PHTURFaRESCQ0rPnsMrjxtGgBg1yGnMDK2Oi20Wtopu4/FK1sP4p41H+Lnj71n+V8Yw+b8ZlgBSofu0IyweU6AtDPrDi45myFoyibn3S2WgPvunlZxIQajGbcVhRf/93M4+efPOAQjFViNhrpmxJpQjesXdv6T0ImZf4WfzLWswzDAakbSf2Xa3jhAwghRMAxnNCMA8ImZ40zHTIOG2kr85asn4LSjxmRtpmHV8mxEitGWse7L3xt3Y2Nzu6O+UcfQjCQVommcjpByHxLDwbaj19tMA9jNHocx4b7munismYZzKmUda++9dAHuvHAebvjURxx9GMKIH01U7bBSXHzSZFxx2uG2+xTknhn9twu0ReMy0UVmnhHOTGNot/a19zJvkpbWiP0+sZqjDXvaceM/3rX11dbdb2brBdJajg8FmWLZcfDsPGSVf2dXm7gQg2laMnxGBO+/u1vT5/js+3s923O2b20r+x4wmhGN3xlT4qZF8OPn4Rg7F01jCVj5PisnJIwQBcOEzAq0/GJwMtiXgGDCiLV9+GinMHLC1LSG4KkNzQ5zyvjqclN4Msw1/S7RNDLcNCOGz4iyZoQRMBZMqXUcl5lpeIqLElg0o95cn4dlREab4bYWjdkf0+H1Sz+Cby8+Cp88dhxGDSvFmTPqceZH6uWVJbj1O67GEEbsob3G5G2YWtp6BpgcLJY/jU0zwmhzfrJyg6Ov9p4Bh5lmzeYDwnEZE0VrVz+ee3+fOVHsZLQ7xkKHrni80bN+J32CBR5FvNfUhs/ftgZrNh/gomkC+IwoROA0tfY41vLJNbx/Rb4dWP1pRuxCh7OtzOdQRhguJIwQBcMnjx2P274wF8vOmO67bpBF8lifkcMFmpEzZ4zFL/99lmP9FwCYyggvxQkjDNjdgVXEgEsStLKMz4jIuVQE67fBmliMCdyWDj7gOj6mZkTg7/Ffn5mJ048ag1+fNwdjRpTh3q+c4Chz9aLpWHftGbj9wnlCYUe1f57S4oSZCt+KpkljPLjZRQx7uYRwCY1btZcR1jbvS69Aft78SVh0dFqAau/pt4X2bt7XiWff3ydcddmYe3/4z3dx4V2vmtFOuzhhxGtS9HqjZ4Uj1e/hlfeux6vbDuK8O162R9MoRuxYE7sVrSWr8sx7e3HCilX44T/fxYqVG/DAazuUxhg2Dt+bvIzC7v+hXicNW0XXdcd3PYaKEXJgJQqH0uIEPjFzrHL5ipIinDGjHsmUjokjK7wrcLC5TKYxwoUZ1ZPQ8G9zJ+Izcybg0bf2oLayFF/4/SsAgNEjrInUcmCVh/bKGODeEtkpsbTI37sEa6YZV12BV793OgZSOi7949pM2xaycFsvDMFGpKG4YMFhuGBBOgT3U7PGB2rfC1kETk1FiantcTiwujzszVT5sAtrlaVFpoOj0d7Vi47ALU+lw3DbegbQKsjEe9Yx4/DEu802s5cxYb+8Ja05eXXrASyZORY7GSfclq5+7OvoxZgR9qghFv6tmHeMZUOND3SIswTzsAIR25xqZEyKfbt3cawFgJszIcx3v7TN3DdnUg2OqHd33A0bfuLOX9Iz+zj8aGj45RviImC5QZoRYtCiaRruuHAe7vrS8Y4fpwpnzEgLPqOGldpSzvMCRVFCw6dmjcdHM+ulAHZTkmGmeWNHi3CFWTd4YYQN9TU0IxdmcmycO6/BtS3WtDCmqgxjqsoxvqbC1LawWW1lmhGvt7Qq04E1P+85sn6rK0pMAeuRxt34zoNvmJN1kctJFTFmGtYUV1lSbBPeSosTGD28zBTC2nv6hWsUXXTiZMfSBCk9vbaREY78zu42M11/QrOWO9iyr9PRHos5iUq0Fux4RCsMiyhmotZsCcw8TC6Pvd2EP67ZZntTtwQYMfVVTk3Yzx7bqDTOMHGGx+bXTONHm8GbY6x98fcZIc0IQUg4ZmI1Vn3zFNRXlSOREThe2LQfpx81RlqnvCSBnv4UzmQca0t8ajBYeDMN68thRAj94OwZOOuYcZgzqca1LTajLPuGbTlpWk+wuhFiE4ksdbvBx6aPxpPvNuPEw+tcy0WFLLlaTWWJ7do9sHanOcm7RRhYmhHNZtqoKE3nsTEEmoaRFUgkNFMYa+ly5hUB0k7PNZUl2MuFAr/FrCy8YU+bKbSOq67AEfXDsaulG1v3d+KEqaMgwxSuJHlGWM0IH4osw6Z9szmjyq+Zruv41l/fQEfvgGkOTPvcuE+qvNM0kPbH6ugdME2Mnb0D9rDqCDGFp3xpRphIJD+1APt3Woc8yiZOkDBCEC6wjqu/+o/ZGEjprsLFk984BdsOdGIBM2nwb95sLg0RR4+rwoaMwyLvwFpeUoTnv3MaNM0Kly0tTrhOUgbsZMq+nRujY+fkWROr8ZWPTrFlcgW8zTfnzJmAT80ab0tKl0vKihMoKdIc1626otSh7TE0Ea7CSOYQn2ulpEjD5Lph2LQ37S9i5O0wNCN/XbfT0dbMCVUoSmjCMPM3d1rCSGdfEr9dvRkAcET9cEypG4bVG/dhS8Y3RYbD7OQw01jCkaowwn7XjRw1bJiuaKLu6B0wc980ZaJ3VDQjhzrFpqM9Ld04on4EHlq/E8seeAM3/fsszGqowbjqck/hOAimJiQuUbA+TCsi06Ou64LvRliDCw8y0xCEIpqmeWo5GmorcfIRo237WNv9j8+ZiT99ZYH5uW54KS49eQq+/vFp5r5PHjvO3B5IOX1MGmorMXGk/6RVrKOrTVgQTMaapuEHn5yBSz46xbbfLcpG2HaO0TTNlvrfMNukzTTiiUvNTKPZzHOapuGj0yztz6SMMMI7Sl980mRz2zCjVQucqW/mUr4//V469PbLH51iOkN7mmk83n4PBdCMsHz0Z88ASJuV3HxGWH8Uox92obzn3t+H7z30lqPeQUYYSWhAQyaZoRGOnI7oAe58fitOv+lZfOHOV3yfgwpxWcclkJkG9jrsPltbMZRGSBghiIiZNmY4SosTmFRbiQsWTLJpMeqryvH9s2dgDhPdsvRYy7lz3mHOENygdEnykViaEW8hImiUTS65etER5hvgSRlz0cSRFVJBKuHyFGQdWPkIlJMYYaQhIxx+/KgxWDJzLD41azzuuHAerl/6ETx8xUn48Tkz8YUT0r493z/raIwoL8blpx6OKXX2SCzW1HbcpBp8dFodpmbKrHpvL0766dO479XtrjZ/czVgTvvG+oy09w4oLSMgWlNn6uhhriaXA52WoGNqU7jQ6Htf2e5IvMYKI9PrR5hayT0ZDVZTJrGgEeb8+vYWAMAvH9+IS+5+zXekmhd+8ns8/8E+bNvvLiz6xRkdpZBnhBNIjX18ZE4MXUbITEMQUTNmRDle+O5pGFZa7JjwDU3LcZNGor6qDMdNGolJoyrx4jUfx/tN7Tj1yNGiJgOxYGotXt120CFQsIvBeaGiGck3XzjhMJx1zDjsbunGlLphOOu9cTjtyNH4UJJ11N1MYzmw8pOdkWcGsKJ4RpSX4HdfmGsrN7uhBrOZVYUn1w1D43Vnoiih4RuLpqO5rQcHO/tQUpTA8LJi/O7ZTRheVowvnjAZmqbZQsd3tXTjmr+9hYfW78Kvz5uD+irL94d3yL3hH+/io0eMNpPvtXbbzSB723vMLMEievqTjpT/sxtqcNeXjsfS37xg65NlX7vT3JI209iv84PrdmDZmekVrXVdN4WR8+ZPwrnHN+D+TGivoRlpanVm1d28rwP/88wmAMDqjft8RduxvN/cjp7+JI6dWOOISvKauNd9eBBf/P2r0DRg64qzzf37O3qx8q09+PTsCYHyHAXJBMuv3JxuRndqzbi21n14CL0DSRw1tko5j1PYkGaEIHLAmBHlNsc7Q8VvqPGrK0rw8vLTcev5xwFIR1CcdtSYQFFAMq44bRqu++QMPHb1ybb9xsNOJVV00JDfXFM7rBQzJ1RjWFkxPjVrPEaUl0hT0qv4jCQ0zTExjygvwWfmTMDIyhJHJmAvDIGhtDiBhtpKzGqowYzxVZg0qhIrPnssvn/2DEzKZMkdywgc8w4biYqSIryy9SC+9dc3bBoSY5ON/Prt6k3m9qFOu5bjwXU7XROMibQi/zZ3ImqHlZraJFFtVjNiwqXTB9JOxO0ZJ9/OvqSpRbnukzMwu6EG4zOLH/561QdYdPOzeL/Z6TNz5/NbzO13drc6jquQSuk49/+uwb/ftgZtPf3MAnVqzp6GSU3X7VEqtz+3Bdc98g7+9PKHgcYVZOFDoZlGZyOt0n97BpI4+9fP4yv3pMP6f7XqA5x/xyt4akNzoLGGAWlGCCIP3HnRPGzZ14mjx1k5FDTBAztMykuKHD4ggNiBVcb8yd6OsnHliDHDccVph+Ow2mH476fexx7DudItz4iLZgQAbv78rMzx6G6cpmn4zXlzsGlvB/7z49OwdX8nzv71C3j+g/340T834DNzJuCYidXm5PXtxUdiev0I3PXiVryy5aDZziEu78lvnt6ECTUV+I/5k4T98uWBtHM1wCQwE5lpBDlMRFenqa0HV93XiNu/OBcHM3XKSxKmwDuOEaoMR2Gev7xqJUZb9+EhYRkvDnT2mSasnQe7BQsOutc/yAh5nX1JM/LnwwNps43XOkADyRSe+2AfZk6otkW5eTkkixCF9trbSh9Yv70Frd39eGd3G3Yc7DK1TuOq5XlsooY0IwSRB4yF9qKcxFQxHv7GKsAiHr/6Y1i+5ChcdurUXA0rdDRNw7cXH4XPH9+AG5l1dWorLbX0VM6Hg3XGZbPqsm3m4h4unTUe3zhjOoqLEjiifgT+zynp+3DXi1ux9H9ewL/97iVzscbiIg3fPHM6ihMadrV0mwv0GZqO7591NMZkQrcfe6dJ2N+GPW34ycr3HPuPyqwcbJ2yyIHVqRnRNPvb+hWnHY6y4gSefm8vTv75M7jkntcAAKOGWSHl431OjC9tPoDvPPgG9gpW0HaDXXG7qa3bsY6Ll06CXUOIdQw2wre9cro83Lgbl9y9FvP/axW+9ud1eHHTfluvfr5ezrGL97Nar5c278eezKKM46r9J4cMC9KMEMQQ5xtnTMesiTWuuUGOHDvCcwn7QuLMj4zFXy49AS9t3o9/n9uA25/fjGGlxfj3eRPxlXvWYtuBLhw/eSTGVVdg094O1FeVY9HR9UjpOs6aOc67g4i5etF0NNRWYvXGvXjq3b1Yy2gFihIahpUV49iJ1Xh9ewt++th7+OrJU3Eg45Ox8PBR+Nj00Vh8y3NYs/kAevqT5grQBt984A3hejiGqdHtZX2/IESXXZsGAM4+ZjzmNIzEZX9aZ2qoAGDkMMu3YqyiMHLEmOH4IKM5eWDtTnT2JXHr+cehdyCJr9yzFpNHDcOPzpkprd/E9M+ORWUtHSDtb2Kwr73XdEre22YII+6RS2z9lW81Yd2Hh/DK9xaZ+xI+zDQQaEZ03QrrHi7I0fL4O83mwpL51IyQMEIQQ5zjJo00VyAeSiw8fBQWHp42O/34nGPM/au+eSr6kymUlxShracfF504GcdNqoGmaVi+5Oh8DddGUULD5+c14PPzGtDU2oNbnnofjTtaMHFkhbl0wYKpo/D69hY8+uYePPrmHrNuTWUJJtRUYFx1Ofa09uDFTftx+tGWz8uOg102QaS+qgwHOvpw0YmTzX2i9XwMZJoRNpqrobYCM8ZX4Z5L5uPq+xtNjUItoxlRfUv/z9OPwOr39uJv63cBAB59cw8uP6UV7T0DeP6D/Xhh0358d8lRwokYAJoZzUVTa49l6sjsW/XeXry9qxUzJ1Q76rZ09ZkaKcDSjOi6bm57CSOGZuXUI0dj9cZ9aG7rRWfvgLWuT6YcKxR19g5A0+RJCG3CCHQzR83ho4fZEuwBls9LVXlxzhLKiSAzDUEQBENRQjM1BVXlJZh72MhYmNNkjK0ux08/dyweu/pjuPOi41GcidD697kTMbVuGI6sH2HmP6mvKsOYEeXQNA2nHpnOJHz5n17H3B89iSvufR1b9nXg0bf22No/8fA6rL/uDPzgbEsQOyrj62SYFFhkPiOsOcNIDnfStDo8+Y2Pmfvbmay1Xs7SIytLMKuhBmcfMw6//PdZaLzuDHx6djos/n/XfIi3M5OurgMbm+SrHjdzmhHegRUAvv6X9cK6vFPtvoxg09LVbzrkHujodazqzWKs/3P+/Elm1M2OQ10CR9r0nraefpz538/hjJufc/gxiRxY+wZS2JHp43CBqdGAT3CYa0gzQhAEMQiZOno4nv7WqQDSb+q7WrpRXWFFFX399Gl4Z3cr3tzZigOdfQ4NisGHBzodCx8u/shYrHyrCY+/04TvfOIoc7J9afN+02TComnixRMBoIbx2eEn7cev/hgOdvbhvDtetu0/auwIPHzFSQCsyKSaylJ89riJeKRxN57/YJ8t+und3W2YK8nZ09Rm14wY2XTZ/DNb9neiraffsdwAH8Fzwz/exft7O/DFTE4ZILP2UKe1yOE/39yNd3e34fwFkzBxZCV2ZgSFCSMr0FBbgdZd/djBOtIakUuZz7c+s8nMHvz8B/vNSK4Ne9pwQSYRHCuMfHigC8mUjmGlRbZQ8LLiBKbXjzA1JapmsaggYYQgCGKQo2maI2vvuOoKPHLFSdiyvxP72nvxq6c+wNoPD6I/qaNueBlauvowkNIxb7JzEj/tqDEoKdKweV8n5v34Kezv6MXwsmIzDTxgX/ZAg4YLTpiEHYe6sPgjzlwg93/1BNzwj3fxw0/bfTsMP6VZE6vxxs5WTKipwK6WboyrLnf4uQDA/Mm1KC1OYHdrD/7+xm5z/7WPvIMHX9+Fey4+3ib8ALCZWfa0dpuZX3kn0I1N7TieuxZGGn92CYJ7X9luC8cG0v4jY0aUo7sviWUPvIG+gRR+/8JW/OM/P2r68kwcWYmGkZV4e1c6woXXcuhIm4H+8OI2s93H32nCGTPqoes6rn/kHXP/xJEV2JpJwrY5Y6KZOno46hmBY/6UWkyps8w2+XReBUgYIQiCGLJomobDRw/H4aOH44SvjkLfQApdfemF6Vq6+/HQ67twwQnO0N+q8hJ8/KgxePydZuzP+Iiwgkh5SQJHjq3CGztaAKTf+itLix3ChsGCqaPwr6tOFh4DgD9cPB+vbj2Ao8dV4bpH3sGXTnKGqANp086CKbV4/gOn+eiNHS2468VtuPjEyfjruh2YOaEacw8baYum2cP4jPDCyIY9bQ5h5I2d6fM7/ah6W2QSKwgBli/Jug8PoS/jZ9M7kMIdz6XzpIwoK0Z1RYmpldlxqMtUhbBJz558t9msDwCrNjTjrhe24of/fNfcd9O/z8IpR47GvB8/BQD4R2YsU0cPw8nT6nDvVxZgIKXj+Mm1GZNcOg+K3+ilsCFhhCAIggCQTsJWWpzWHNQNL8OlH5OHcv/8c7Pw+XkHMWZEOcZUlWFfey8mjarEk+80Y+SwEkypG45XthzAzAnVQudPP9QOK8UnMlFM91wy37XsKdNHm8JIWXHC5mT761Uf4PfPb0FnJhV+UUKzmYa6+pLC1ZYBYMOedtvn9p5+c72g048eYxNG+LwoRnjvmi12IclYUHHCyLRWoiHzd8fBbstnJPP3tmc3m6soLztjOu5+aRsOdvbhR49agsiyM6bjc3Mn2gSWZzbuAwBMrRuORELDicwyBsdOtO5LfRUJIwRBEESBUV1ZYovCMSazz82daO7j197JBf8xfxKa23qweV8nPjNnAn7z9Afo7E2ipEjDtgNdpiBSWVpkWzyytCiBvmQKK99KCxWGY6nBq1sP4G+v7zQzmhpJzSbUVOCosVWuY9rb1gtd1/HEO+kMp5edcjhue3azedwwoU3MaEZ2HuoyfXtYBY3hFLtk5lhUlhbhx49ugK4Do0eU4f6vnmBeb5G/9ZFjnc6rrENrmUueoVxAwghBEAQxaBheVozvnz3D/Lxk5lgMpHQc6OzDHc9twZ7WbnzrzCMxbcxw3PH8Fvxk5XuoKi/GJ2eNx72vbDfrGRO/weZ9nVj2wBuO/mY1VGNMlRWSzAo5I8qK0d47gF8//QFuf26Lmc/jCydMwt8bd5nr7kw0NSNpYWRjc7tpntnMrdY8tW4Ypo0Zjsl1w/DXtTuxsbkdNyz9iC0pHyuLnDRtFE6ZPtomOBoUJTQsO2M6Xty0H2fOCLauT1iQMEIQBEEMWoqLEiguSmswbmAy7wLApSdPxYSaStQNL8W8ybU4Ysxw/OnlD7G/ow8/Pmcmfrt6My5ceBh2HOwyHT01TUNCS0/45SVFuOK0aaivKscPP/0RVJYWY39HL257djN0HfjGoiPw40c3oD+poz85gNLiBM6d14CJIyvxb3Mn4tdPb8LEkRVmSHJDbQVGDSvFgc4+JHUdNZUlWDxjLO5fuwOjhpXia6dNw/zJtdA0DSVFGv586QJ80Nxh5ssxKEpomD+lFq1d/bj9i/Nc84d8/fQj8PXTjwj3ogdA093WopZw66234he/+AWampowa9Ys/OY3v8H8+XI73l//+ldce+212LZtG4444gj87Gc/w1lnnaXcX1tbG6qrq9Ha2oqqKnd1GEEQBEFkg67rWeeWMdpo6+lHa1c/egeSGFddYRMMOnsHHILC3rYebD/YhTEjylFfXYbuviT++eYefHr2eGl4tIxkSjdDn/OF6vzt20h0//33Y9myZbj++uvx+uuvY9asWVi8eDH27t0rLP/SSy/hvPPOw5e//GWsX78e55xzDs455xy8/fbbfrsmCIIgiMgJI8md0UZVeTpKZtqYEQ7BQ6SxGFNVjnmTazFpVCXKiotQU1mKL5xwmG9BBEDeBRE/+NaMLFiwAMcffzz+53/+BwCQSqXQ0NCA//zP/8Q111zjKH/uueeis7MT//znP819J5xwAmbPno3bbrtNqU/SjBAEQRBE4RGJZqSvrw/r1q3DokXMIj6JBBYtWoQ1a9YI66xZs8ZWHgAWL14sLQ8Avb29aGtrs/0jCIIgCGJw4ksY2b9/P5LJJOrr7V659fX1aGoSL0Xd1NTkqzwArFixAtXV1ea/hoYGP8MkCIIgCKKAiOVCecuXL0dra6v5b8eOHfkeEkEQBEEQEeErtLeurg5FRUVobm627W9ubsbYseIY5bFjx/oqDwBlZWUoKyuTHicIgiAIYvDgSzNSWlqKuXPnYtWqVea+VCqFVatWYeHChcI6CxcutJUHgCeffFJaniAIgiCIoYXvpGfLli3DRRddhHnz5mH+/Pm45ZZb0NnZiYsvvhgAcOGFF2LChAlYsWIFAOCqq67CKaecgptuuglnn3027rvvPqxduxa33357uGdCEARBEERB4lsYOffcc7Fv3z5cd911aGpqwuzZs/HYY4+ZTqrbt29HImEpXE488UTce++9+MEPfoDvfe97OOKII/Dwww9j5kzx6o0EQRAEQQwtAmVgzTWUZ4QgCIIgCo/IMrASBEEQBEGECQkjBEEQBEHkFRJGCIIgCILIKySMEARBEASRV3xH0+QDw8eW1qghCIIgiMLBmLe9YmUKQhhpb28HAFqjhiAIgiAKkPb2dlRXV0uPF0RobyqVwu7duzFixAhomhZau21tbWhoaMCOHTsGbcjwYD9HOr/CZ7Cf42A/P2DwnyOdX3B0XUd7ezvGjx9vy0HGUxCakUQigYkTJ0bWflVV1aD8grEM9nOk8yt8Bvs5DvbzAwb/OdL5BcNNI2JADqwEQRAEQeQVEkYIgiAIgsgrQ1oYKSsrw/XXX4+ysrJ8DyUyBvs50vkVPoP9HAf7+QGD/xzp/KKnIBxYCYIgCIIYvAxpzQhBEARBEPmHhBGCIAiCIPIKCSMEQRAEQeQVEkYIgiAIgsgrQ1oYufXWWzF58mSUl5djwYIFePXVV/M9pEDccMMN0DTN9u+oo44yj/f09OCKK67AqFGjMHz4cHzuc59Dc3NzHkfsznPPPYelS5di/Pjx0DQNDz/8sO24ruu47rrrMG7cOFRUVGDRokX44IMPbGUOHjyICy64AFVVVaipqcGXv/xldHR05PAs3PE6xy996UuOe/qJT3zCVibO57hixQocf/zxGDFiBMaMGYNzzjkHGzdutJVR+V5u374dZ599NiorKzFmzBh8+9vfxsDAQC5PRYjK+Z166qmOe3jZZZfZysT1/ADgd7/7HY499lgzEdbChQvxr3/9yzxeyPcP8D6/Qr9/PD/96U+haRquvvpqc1+s7qE+RLnvvvv00tJS/a677tLfeecd/dJLL9Vramr05ubmfA/NN9dff73+kY98RN+zZ4/5b9++febxyy67TG9oaNBXrVqlr127Vj/hhBP0E088MY8jdmflypX697//ff1vf/ubDkB/6KGHbMd/+tOf6tXV1frDDz+sv/HGG/qnPvUpfcqUKXp3d7dZ5hOf+IQ+a9Ys/eWXX9aff/55fdq0afp5552X4zOR43WOF110kf6JT3zCdk8PHjxoKxPnc1y8eLH+hz/8QX/77bf1xsZG/ayzztInTZqkd3R0mGW8vpcDAwP6zJkz9UWLFunr16/XV65cqdfV1enLly/PxynZUDm/U045Rb/00ktt97C1tdU8Hufz03Vd//vf/64/+uij+vvvv69v3LhR/973vqeXlJTob7/9tq7rhX3/dN37/Ar9/rG8+uqr+uTJk/Vjjz1Wv+qqq8z9cbqHQ1YYmT9/vn7FFVeYn5PJpD5+/Hh9xYoVeRxVMK6//np91qxZwmMtLS16SUmJ/te//tXct2HDBh2AvmbNmhyNMDj8RJ1KpfSxY8fqv/jFL8x9LS0tellZmf6Xv/xF13Vdf/fdd3UA+muvvWaW+de//qVrmqbv2rUrZ2NXRSaMfPrTn5bWKbRz3Lt3rw5Af/bZZ3VdV/terly5Uk8kEnpTU5NZ5ne/+51eVVWl9/b25vYEPODPT9fTkxn74OcppPMzGDlypH7nnXcOuvtnYJyfrg+e+9fe3q4fccQR+pNPPmk7p7jdwyFppunr68O6deuwaNEic18ikcCiRYuwZs2aPI4sOB988AHGjx+PqVOn4oILLsD27dsBAOvWrUN/f7/tXI866ihMmjSpIM9169ataGpqsp1PdXU1FixYYJ7PmjVrUFNTg3nz5pllFi1ahEQigVdeeSXnYw7K6tWrMWbMGBx55JG4/PLLceDAAfNYoZ1ja2srAKC2thaA2vdyzZo1OOaYY1BfX2+WWbx4Mdra2vDOO+/kcPTe8Odn8Oc//xl1dXWYOXMmli9fjq6uLvNYIZ1fMpnEfffdh87OTixcuHDQ3T/+/AwGw/274oorcPbZZ9vuFRC/32BBLJQXNvv370cymbRdYACor6/He++9l6dRBWfBggW4++67ceSRR2LPnj248cYbcfLJJ+Ptt99GU1MTSktLUVNTY6tTX1+Ppqam/Aw4C4wxi+6dcaypqQljxoyxHS8uLkZtbW3BnPMnPvEJfPazn8WUKVOwefNmfO9738OSJUuwZs0aFBUVFdQ5plIpXH311TjppJMwc+ZMAFD6XjY1NQnvs3EsLojODwDOP/98HHbYYRg/fjzefPNNfPe738XGjRvxt7/9DUBhnN9bb72FhQsXoqenB8OHD8dDDz2EGTNmoLGxcVDcP9n5AYPj/t133314/fXX8dprrzmOxe03OCSFkcHGkiVLzO1jjz0WCxYswGGHHYYHHngAFRUVeRwZEZT/+I//MLePOeYYHHvssTj88MOxevVqnH766XkcmX+uuOIKvP3223jhhRfyPZRIkJ3fV7/6VXP7mGOOwbhx43D66adj8+bNOPzww3M9zEAceeSRaGxsRGtrKx588EFcdNFFePbZZ/M9rNCQnd+MGTMK/v7t2LEDV111FZ588kmUl5fnezieDEkzTV1dHYqKihxew83NzRg7dmyeRhUeNTU1mD59OjZt2oSxY8eir68PLS0ttjKFeq7GmN3u3dixY7F3717b8YGBARw8eLAgzxkApk6dirq6OmzatAlA4ZzjlVdeiX/+85945plnMHHiRHO/yvdy7NixwvtsHIsDsvMTsWDBAgCw3cO4n19paSmmTZuGuXPnYsWKFZg1axZ+9atfDZr7Jzs/EYV2/9atW4e9e/fiuOOOQ3FxMYqLi/Hss8/i17/+NYqLi1FfXx+rezgkhZHS0lLMnTsXq1atMvelUimsWrXKZi8sVDo6OrB582aMGzcOc+fORUlJie1cN27ciO3btxfkuU6ZMgVjx461nU9bWxteeeUV83wWLlyIlpYWrFu3zizz9NNPI5VKmQ+UQmPnzp04cOAAxo0bByD+56jrOq688ko89NBDePrppzFlyhTbcZXv5cKFC/HWW2/ZhK4nn3wSVVVVpio9X3idn4jGxkYAsN3DuJ6fjFQqhd7e3oK/fzKM8xNRaPfv9NNPx1tvvYXGxkbz37x583DBBReY27G6h6G6wxYQ9913n15WVqbffffd+rvvvqt/9atf1Wtqamxew4XCN7/5TX316tX61q1b9RdffFFftGiRXldXp+/du1fX9XT41qRJk/Snn35aX7t2rb5w4UJ94cKFeR61nPb2dn39+vX6+vXrdQD6zTffrK9fv17/8MMPdV1Ph/bW1NTojzzyiP7mm2/qn/70p4WhvXPmzNFfeeUV/YUXXtCPOOKI2IS96rr7Oba3t+vf+ta39DVr1uhbt27Vn3rqKf24447TjzjiCL2np8dsI87nePnll+vV1dX66tWrbaGRXV1dZhmv76URVnjmmWfqjY2N+mOPPaaPHj06FqGTXue3adMm/Yc//KG+du1afevWrfojjzyiT506Vf/Yxz5mthHn89N1Xb/mmmv0Z599Vt+6dav+5ptv6tdcc42uaZr+xBNP6Lpe2PdP193PbzDcPxF8hFCc7uGQFUZ0Xdd/85vf6JMmTdJLS0v1+fPn6y+//HK+hxSIc889Vx83bpxeWlqqT5gwQT/33HP1TZs2mce7u7v1r33ta/rIkSP1yspK/TOf+Yy+Z8+ePI7YnWeeeUYH4Ph30UUX6bqeDu+99tpr9fr6er2srEw//fTT9Y0bN9raOHDggH7eeefpw4cP16uqqvSLL75Yb29vz8PZiHE7x66uLv3MM8/UR48erZeUlOiHHXaYfumllzoE5Tifo+jcAOh/+MMfzDIq38tt27bpS5Ys0SsqKvS6ujr9m9/8pt7f35/js3HidX7bt2/XP/axj+m1tbV6WVmZPm3aNP3b3/62LU+Frsf3/HRd1y+55BL9sMMO00tLS/XRo0frp59+uimI6Hph3z9ddz+/wXD/RPDCSJzuoabruh6uroUgCIIgCEKdIekzQhAEQRBEfCBhhCAIgiCIvELCCEEQBEEQeYWEEYIgCIIg8goJIwRBEARB5BUSRgiCIAiCyCskjBAEQRAEkVdIGCEIgiAIIq+QMEIQBEEQRF4hYYQgCIIgiLxCwghBEARBEHmFhBGCIAiCIPLK/wd60BpbHE6LZwAAAABJRU5ErkJggg==\n",
      "text/plain": [
       "<Figure size 640x480 with 1 Axes>"
      ]
     },
     "metadata": {},
     "output_type": "display_data"
    }
   ],
   "source": [
    "plt.plot(list_loss)"
   ]
  },
  {
   "cell_type": "code",
   "execution_count": 51,
   "id": "14a2fd11",
   "metadata": {},
   "outputs": [
    {
     "data": {
      "text/plain": [
       "tensor([[ 0.9925, -0.9950],\n",
       "        [-0.1571,  0.3387],\n",
       "        [-0.1571,  0.3387],\n",
       "        [ 0.9994, -0.9997]], grad_fn=<TanhBackward0>)"
      ]
     },
     "execution_count": 51,
     "metadata": {},
     "output_type": "execute_result"
    }
   ],
   "source": [
    "h"
   ]
  },
  {
   "cell_type": "code",
   "execution_count": 52,
   "id": "fb95e05c",
   "metadata": {},
   "outputs": [
    {
     "data": {
      "text/plain": [
       "tensor([[ 3.5359, -3.0013],\n",
       "        [-0.4804,  1.3137],\n",
       "        [-0.4804,  1.3137],\n",
       "        [ 3.5563, -3.0202]], grad_fn=<AddmmBackward0>)"
      ]
     },
     "execution_count": 52,
     "metadata": {},
     "output_type": "execute_result"
    }
   ],
   "source": [
    "out"
   ]
  },
  {
   "cell_type": "code",
   "execution_count": 53,
   "id": "7eab4dbf",
   "metadata": {},
   "outputs": [
    {
     "data": {
      "text/plain": [
       "tensor([0, 1, 1, 0])"
      ]
     },
     "execution_count": 53,
     "metadata": {},
     "output_type": "execute_result"
    }
   ],
   "source": [
    "dataset.y"
   ]
  },
  {
   "cell_type": "markdown",
   "id": "fb796507",
   "metadata": {},
   "source": [
    "작은 데이터이지만 학습이 성공적으로 이루어 졌다는 것을 확인할 수 있습니다. 🤗"
   ]
  }
 ],
 "metadata": {
  "kernelspec": {
   "display_name": "gnn",
   "language": "python",
   "name": "gnn"
  },
  "language_info": {
   "codemirror_mode": {
    "name": "ipython",
    "version": 3
   },
   "file_extension": ".py",
   "mimetype": "text/x-python",
   "name": "python",
   "nbconvert_exporter": "python",
   "pygments_lexer": "ipython3",
   "version": "3.8.13"
  }
 },
 "nbformat": 4,
 "nbformat_minor": 5
}
.
