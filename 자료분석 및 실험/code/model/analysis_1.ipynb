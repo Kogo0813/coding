{
 "cells": [
  {
   "cell_type": "code",
   "execution_count": 1,
   "metadata": {
    "vscode": {
     "languageId": "r"
    }
   },
   "outputs": [
    {
     "data": {
      "text/html": [
       "'/Users/kyeongtae/Library/CloudStorage/Dropbox/GitHub/coding/자료분석 및 실험/code/model'"
      ],
      "text/latex": [
       "'/Users/kyeongtae/Library/CloudStorage/Dropbox/GitHub/coding/자료분석 및 실험/code/model'"
      ],
      "text/markdown": [
       "'/Users/kyeongtae/Library/CloudStorage/Dropbox/GitHub/coding/자료분석 및 실험/code/model'"
      ],
      "text/plain": [
       "[1] \"/Users/kyeongtae/Library/CloudStorage/Dropbox/GitHub/coding/자료분석 및 실험/code/model\""
      ]
     },
     "metadata": {},
     "output_type": "display_data"
    }
   ],
   "source": [
    "getwd()"
   ]
  },
  {
   "cell_type": "code",
   "execution_count": 2,
   "metadata": {
    "vscode": {
     "languageId": "r"
    }
   },
   "outputs": [
    {
     "name": "stderr",
     "output_type": "stream",
     "text": [
      "Warning message:\n",
      "“패키지 ‘dplyr’는 R 버전 4.2.3에서 작성되었습니다”\n",
      "\n",
      "다음의 패키지를 부착합니다: ‘dplyr’\n",
      "\n",
      "\n",
      "The following objects are masked from ‘package:stats’:\n",
      "\n",
      "    filter, lag\n",
      "\n",
      "\n",
      "The following objects are masked from ‘package:base’:\n",
      "\n",
      "    intersect, setdiff, setequal, union\n",
      "\n",
      "\n",
      "── \u001b[1mAttaching packages\u001b[22m ─────────────────────────────────────── tidyverse 1.3.1 ──\n",
      "\n",
      "\u001b[32m✔\u001b[39m \u001b[34mggplot2\u001b[39m 3.3.6     \u001b[32m✔\u001b[39m \u001b[34mpurrr  \u001b[39m 0.3.5\n",
      "\u001b[32m✔\u001b[39m \u001b[34mtibble \u001b[39m 3.2.1     \u001b[32m✔\u001b[39m \u001b[34mstringr\u001b[39m 1.4.0\n",
      "\u001b[32m✔\u001b[39m \u001b[34mtidyr  \u001b[39m 1.2.1     \u001b[32m✔\u001b[39m \u001b[34mforcats\u001b[39m 0.5.1\n",
      "\u001b[32m✔\u001b[39m \u001b[34mreadr  \u001b[39m 2.1.4     \n",
      "\n",
      "Warning message:\n",
      "“패키지 ‘tibble’는 R 버전 4.2.3에서 작성되었습니다”\n",
      "Warning message:\n",
      "“패키지 ‘readr’는 R 버전 4.2.2에서 작성되었습니다”\n",
      "── \u001b[1mConflicts\u001b[22m ────────────────────────────────────────── tidyverse_conflicts() ──\n",
      "\u001b[31m✖\u001b[39m \u001b[34mdplyr\u001b[39m::\u001b[32mfilter()\u001b[39m masks \u001b[34mstats\u001b[39m::filter()\n",
      "\u001b[31m✖\u001b[39m \u001b[34mdplyr\u001b[39m::\u001b[32mlag()\u001b[39m    masks \u001b[34mstats\u001b[39m::lag()\n",
      "\n"
     ]
    }
   ],
   "source": [
    "library(dplyr)\n",
    "library(tidyverse)\n",
    "# load csv\n",
    "rcp_26 <- read.csv(\"../../data/rcp_array.csv\")\n",
    "rcp_45 <- read.csv(\"../../data/rcp_45array.csv\")\n",
    "rcp_60 <- read.csv(\"../../data/rcp_60array.csv\")\n",
    "cnt <- read.csv(\"../../data/cnt.csv\")"
   ]
  },
  {
   "cell_type": "code",
   "execution_count": 9,
   "metadata": {
    "vscode": {
     "languageId": "r"
    }
   },
   "outputs": [],
   "source": [
    "rcp_45 = rcp_45[,2]\n",
    "rcp_60 = rcp_60[,2]"
   ]
  },
  {
   "cell_type": "code",
   "execution_count": 10,
   "metadata": {
    "vscode": {
     "languageId": "r"
    }
   },
   "outputs": [],
   "source": [
    "cnt = cnt[,2]"
   ]
  },
  {
   "cell_type": "code",
   "execution_count": 11,
   "metadata": {
    "vscode": {
     "languageId": "r"
    }
   },
   "outputs": [],
   "source": [
    "# 합이 조건부인 n개의 난수 추출\n",
    "\n",
    "# 비가 오는 날 무작위 추출\n",
    "\n",
    "# 1월에 대해서만 우선적으로 해보자\n",
    "k = sample(c(1:31), size = 2, replace = F)\n",
    "\n",
    "a_1 = runif(1, 0, rcp_26[1])\n",
    "a_2 = runif(1, 0, rcp_45[1])\n",
    "a_3 = runif(1, 0, rcp_60[1])\n",
    "\n",
    "b_1 = rcp_26[1] - a_1\n",
    "b_2 = rcp_45[1] - a_2\n",
    "b_3 = rcp_60[1] - a_3"
   ]
  },
  {
   "cell_type": "code",
   "execution_count": 12,
   "metadata": {
    "vscode": {
     "languageId": "r"
    }
   },
   "outputs": [],
   "source": [
    "sampling_r = function(n ,m, c=0){ # n : cnt, m : rcp[1]\n",
    "    c = c + 1\n",
    "    k = sort(sample(c(1:31), size = n, replace = F))\n",
    "    r = numeric(n)\n",
    "    for (i in 1:n){\n",
    "        r[i] = runif(1, 0, m)\n",
    "        if (i == n-1){\n",
    "            r[i+1] = m - r[i]\n",
    "        }\n",
    "        else {\n",
    "            m = m - r[i]\n",
    "            \n",
    "        }\n",
    "    }\n",
    "    return (r)\n",
    "\n",
    "}\n",
    "sampling_k = function(n ,m, c=0){ # n : cnt, m : rcp[1]\n",
    "    c = c + 1\n",
    "    k = sort(sample(c(1:31), size = n, replace = F))\n",
    "    r = numeric(n)\n",
    "    for (i in 1:n){\n",
    "        r[i] = runif(1, 0, m)\n",
    "        if (i == n-1){\n",
    "            r[i+1] = m - r[i]\n",
    "        }\n",
    "        else {\n",
    "            m = m - r[i]\n",
    "            \n",
    "        }\n",
    "    }\n",
    "    return (k)\n",
    "\n",
    "}"
   ]
  },
  {
   "cell_type": "code",
   "execution_count": 13,
   "metadata": {
    "vscode": {
     "languageId": "r"
    }
   },
   "outputs": [
    {
     "data": {
      "text/html": [
       "55"
      ],
      "text/latex": [
       "55"
      ],
      "text/markdown": [
       "55"
      ],
      "text/plain": [
       "[1] 55"
      ]
     },
     "metadata": {},
     "output_type": "display_data"
    }
   ],
   "source": [
    "cnt %>% sum\n",
    "cnt_lst <- numeric(55)\n",
    "for (i in 1:12){\n",
    "    cnt\n",
    "}"
   ]
  },
  {
   "cell_type": "code",
   "execution_count": 22,
   "metadata": {
    "vscode": {
     "languageId": "r"
    }
   },
   "outputs": [
    {
     "data": {
      "text/html": [
       "<ol class=list-inline>\n",
       "\t<li>0.0106316599487259</li>\n",
       "\t<li>0.000450999624717514</li>\n",
       "\t<li>0.000298760191138374</li>\n",
       "\t<li>7</li>\n",
       "\t<li>18</li>\n",
       "\t<li>27</li>\n",
       "</ol>\n"
      ],
      "text/latex": [
       "\\begin{enumerate*}\n",
       "\\item 0.0106316599487259\n",
       "\\item 0.000450999624717514\n",
       "\\item 0.000298760191138374\n",
       "\\item 7\n",
       "\\item 18\n",
       "\\item 27\n",
       "\\end{enumerate*}\n"
      ],
      "text/markdown": [
       "1. 0.0106316599487259\n",
       "2. 0.000450999624717514\n",
       "3. 0.000298760191138374\n",
       "4. 7\n",
       "5. 18\n",
       "6. 27\n",
       "\n",
       "\n"
      ],
      "text/plain": [
       "[1] 1.063166e-02 4.509996e-04 2.987602e-04 7.000000e+00 1.800000e+01\n",
       "[6] 2.700000e+01"
      ]
     },
     "metadata": {},
     "output_type": "display_data"
    }
   ],
   "source": [
    "sampling(cnt[3], rcp[3], 0)"
   ]
  },
  {
   "cell_type": "code",
   "execution_count": 17,
   "metadata": {
    "vscode": {
     "languageId": "r"
    }
   },
   "outputs": [],
   "source": [
    "for (i in 1:12){\n",
    "    assign(paste0(\"k_\", i), sampling_k(cnt[i], rcp_45[i], 0))\n",
    "}\n",
    "\n",
    "for (i in 1:12){\n",
    "    assign(paste0(\"r_\", i), sampling_r(cnt[i], rcp_45[i], 0))\n",
    "}"
   ]
  },
  {
   "cell_type": "code",
   "execution_count": 18,
   "metadata": {
    "vscode": {
     "languageId": "r"
    }
   },
   "outputs": [],
   "source": [
    "r_lst = c(r_1, r_2, r_3, r_4, r_5, r_6, r_7, r_8, r_9, r_10, r_11, r_12)\n",
    "k_lst = c(k_1, k_2, k_3, k_4, k_5, k_6, k_7, k_8, k_9, k_10, k_11, k_12)"
   ]
  },
  {
   "cell_type": "code",
   "execution_count": 19,
   "metadata": {
    "vscode": {
     "languageId": "r"
    }
   },
   "outputs": [
    {
     "data": {
      "text/html": [
       "<table class=\"dataframe\">\n",
       "<caption>A data.frame: 55 × 2</caption>\n",
       "<thead>\n",
       "\t<tr><th scope=col>k_lst</th><th scope=col>r_lst</th></tr>\n",
       "\t<tr><th scope=col>&lt;int&gt;</th><th scope=col>&lt;dbl&gt;</th></tr>\n",
       "</thead>\n",
       "<tbody>\n",
       "\t<tr><td>12</td><td>5.812758e-03</td></tr>\n",
       "\t<tr><td>21</td><td>9.764268e-03</td></tr>\n",
       "\t<tr><td>16</td><td>6.984821e-02</td></tr>\n",
       "\t<tr><td>17</td><td>3.705062e-02</td></tr>\n",
       "\t<tr><td>26</td><td>3.324780e-02</td></tr>\n",
       "\t<tr><td> 2</td><td>0.000000e+00</td></tr>\n",
       "\t<tr><td> 5</td><td>0.000000e+00</td></tr>\n",
       "\t<tr><td> 7</td><td>0.000000e+00</td></tr>\n",
       "\t<tr><td> 4</td><td>0.000000e+00</td></tr>\n",
       "\t<tr><td> 6</td><td>0.000000e+00</td></tr>\n",
       "\t<tr><td> 9</td><td>0.000000e+00</td></tr>\n",
       "\t<tr><td>12</td><td>0.000000e+00</td></tr>\n",
       "\t<tr><td>24</td><td>0.000000e+00</td></tr>\n",
       "\t<tr><td> 5</td><td>5.819238e-02</td></tr>\n",
       "\t<tr><td>14</td><td>1.590048e-01</td></tr>\n",
       "\t<tr><td>20</td><td>3.443971e-03</td></tr>\n",
       "\t<tr><td>29</td><td>2.671398e-04</td></tr>\n",
       "\t<tr><td>31</td><td>7.080420e-03</td></tr>\n",
       "\t<tr><td> 8</td><td>2.461569e-01</td></tr>\n",
       "\t<tr><td>23</td><td>1.600272e-02</td></tr>\n",
       "\t<tr><td>28</td><td>3.648561e-02</td></tr>\n",
       "\t<tr><td>29</td><td>1.093300e-01</td></tr>\n",
       "\t<tr><td> 3</td><td>6.209532e-01</td></tr>\n",
       "\t<tr><td> 6</td><td>2.838408e-01</td></tr>\n",
       "\t<tr><td> 7</td><td>8.534371e-02</td></tr>\n",
       "\t<tr><td>18</td><td>7.254534e-03</td></tr>\n",
       "\t<tr><td>20</td><td>1.955911e-03</td></tr>\n",
       "\t<tr><td>23</td><td>5.115993e-04</td></tr>\n",
       "\t<tr><td>27</td><td>1.120631e-04</td></tr>\n",
       "\t<tr><td>29</td><td>2.189512e-06</td></tr>\n",
       "\t<tr><td>31</td><td>8.872540e-07</td></tr>\n",
       "\t<tr><td> 2</td><td>4.276218e-01</td></tr>\n",
       "\t<tr><td> 3</td><td>1.650662e-02</td></tr>\n",
       "\t<tr><td> 4</td><td>2.154000e-01</td></tr>\n",
       "\t<tr><td> 9</td><td>2.359667e-03</td></tr>\n",
       "\t<tr><td>15</td><td>2.630588e-03</td></tr>\n",
       "\t<tr><td>16</td><td>5.220671e-04</td></tr>\n",
       "\t<tr><td>17</td><td>5.375484e-04</td></tr>\n",
       "\t<tr><td>18</td><td>7.018053e-05</td></tr>\n",
       "\t<tr><td>23</td><td>1.180596e-05</td></tr>\n",
       "\t<tr><td>27</td><td>4.333568e-05</td></tr>\n",
       "\t<tr><td>29</td><td>1.294762e-05</td></tr>\n",
       "\t<tr><td> 6</td><td>2.963204e-02</td></tr>\n",
       "\t<tr><td> 8</td><td>1.190927e-01</td></tr>\n",
       "\t<tr><td>11</td><td>1.265696e-01</td></tr>\n",
       "\t<tr><td>24</td><td>9.059596e-04</td></tr>\n",
       "\t<tr><td>26</td><td>1.735130e-03</td></tr>\n",
       "\t<tr><td> 6</td><td>1.593506e-01</td></tr>\n",
       "\t<tr><td>26</td><td>2.375714e-02</td></tr>\n",
       "\t<tr><td> 5</td><td>2.970740e-02</td></tr>\n",
       "\t<tr><td>19</td><td>3.525816e-02</td></tr>\n",
       "\t<tr><td>28</td><td>5.450740e-03</td></tr>\n",
       "\t<tr><td>31</td><td>1.685494e-03</td></tr>\n",
       "\t<tr><td> 7</td><td>2.567696e-02</td></tr>\n",
       "\t<tr><td>23</td><td>4.605937e-02</td></tr>\n",
       "</tbody>\n",
       "</table>\n"
      ],
      "text/latex": [
       "A data.frame: 55 × 2\n",
       "\\begin{tabular}{ll}\n",
       " k\\_lst & r\\_lst\\\\\n",
       " <int> & <dbl>\\\\\n",
       "\\hline\n",
       "\t 12 & 5.812758e-03\\\\\n",
       "\t 21 & 9.764268e-03\\\\\n",
       "\t 16 & 6.984821e-02\\\\\n",
       "\t 17 & 3.705062e-02\\\\\n",
       "\t 26 & 3.324780e-02\\\\\n",
       "\t  2 & 0.000000e+00\\\\\n",
       "\t  5 & 0.000000e+00\\\\\n",
       "\t  7 & 0.000000e+00\\\\\n",
       "\t  4 & 0.000000e+00\\\\\n",
       "\t  6 & 0.000000e+00\\\\\n",
       "\t  9 & 0.000000e+00\\\\\n",
       "\t 12 & 0.000000e+00\\\\\n",
       "\t 24 & 0.000000e+00\\\\\n",
       "\t  5 & 5.819238e-02\\\\\n",
       "\t 14 & 1.590048e-01\\\\\n",
       "\t 20 & 3.443971e-03\\\\\n",
       "\t 29 & 2.671398e-04\\\\\n",
       "\t 31 & 7.080420e-03\\\\\n",
       "\t  8 & 2.461569e-01\\\\\n",
       "\t 23 & 1.600272e-02\\\\\n",
       "\t 28 & 3.648561e-02\\\\\n",
       "\t 29 & 1.093300e-01\\\\\n",
       "\t  3 & 6.209532e-01\\\\\n",
       "\t  6 & 2.838408e-01\\\\\n",
       "\t  7 & 8.534371e-02\\\\\n",
       "\t 18 & 7.254534e-03\\\\\n",
       "\t 20 & 1.955911e-03\\\\\n",
       "\t 23 & 5.115993e-04\\\\\n",
       "\t 27 & 1.120631e-04\\\\\n",
       "\t 29 & 2.189512e-06\\\\\n",
       "\t 31 & 8.872540e-07\\\\\n",
       "\t  2 & 4.276218e-01\\\\\n",
       "\t  3 & 1.650662e-02\\\\\n",
       "\t  4 & 2.154000e-01\\\\\n",
       "\t  9 & 2.359667e-03\\\\\n",
       "\t 15 & 2.630588e-03\\\\\n",
       "\t 16 & 5.220671e-04\\\\\n",
       "\t 17 & 5.375484e-04\\\\\n",
       "\t 18 & 7.018053e-05\\\\\n",
       "\t 23 & 1.180596e-05\\\\\n",
       "\t 27 & 4.333568e-05\\\\\n",
       "\t 29 & 1.294762e-05\\\\\n",
       "\t  6 & 2.963204e-02\\\\\n",
       "\t  8 & 1.190927e-01\\\\\n",
       "\t 11 & 1.265696e-01\\\\\n",
       "\t 24 & 9.059596e-04\\\\\n",
       "\t 26 & 1.735130e-03\\\\\n",
       "\t  6 & 1.593506e-01\\\\\n",
       "\t 26 & 2.375714e-02\\\\\n",
       "\t  5 & 2.970740e-02\\\\\n",
       "\t 19 & 3.525816e-02\\\\\n",
       "\t 28 & 5.450740e-03\\\\\n",
       "\t 31 & 1.685494e-03\\\\\n",
       "\t  7 & 2.567696e-02\\\\\n",
       "\t 23 & 4.605937e-02\\\\\n",
       "\\end{tabular}\n"
      ],
      "text/markdown": [
       "\n",
       "A data.frame: 55 × 2\n",
       "\n",
       "| k_lst &lt;int&gt; | r_lst &lt;dbl&gt; |\n",
       "|---|---|\n",
       "| 12 | 5.812758e-03 |\n",
       "| 21 | 9.764268e-03 |\n",
       "| 16 | 6.984821e-02 |\n",
       "| 17 | 3.705062e-02 |\n",
       "| 26 | 3.324780e-02 |\n",
       "|  2 | 0.000000e+00 |\n",
       "|  5 | 0.000000e+00 |\n",
       "|  7 | 0.000000e+00 |\n",
       "|  4 | 0.000000e+00 |\n",
       "|  6 | 0.000000e+00 |\n",
       "|  9 | 0.000000e+00 |\n",
       "| 12 | 0.000000e+00 |\n",
       "| 24 | 0.000000e+00 |\n",
       "|  5 | 5.819238e-02 |\n",
       "| 14 | 1.590048e-01 |\n",
       "| 20 | 3.443971e-03 |\n",
       "| 29 | 2.671398e-04 |\n",
       "| 31 | 7.080420e-03 |\n",
       "|  8 | 2.461569e-01 |\n",
       "| 23 | 1.600272e-02 |\n",
       "| 28 | 3.648561e-02 |\n",
       "| 29 | 1.093300e-01 |\n",
       "|  3 | 6.209532e-01 |\n",
       "|  6 | 2.838408e-01 |\n",
       "|  7 | 8.534371e-02 |\n",
       "| 18 | 7.254534e-03 |\n",
       "| 20 | 1.955911e-03 |\n",
       "| 23 | 5.115993e-04 |\n",
       "| 27 | 1.120631e-04 |\n",
       "| 29 | 2.189512e-06 |\n",
       "| 31 | 8.872540e-07 |\n",
       "|  2 | 4.276218e-01 |\n",
       "|  3 | 1.650662e-02 |\n",
       "|  4 | 2.154000e-01 |\n",
       "|  9 | 2.359667e-03 |\n",
       "| 15 | 2.630588e-03 |\n",
       "| 16 | 5.220671e-04 |\n",
       "| 17 | 5.375484e-04 |\n",
       "| 18 | 7.018053e-05 |\n",
       "| 23 | 1.180596e-05 |\n",
       "| 27 | 4.333568e-05 |\n",
       "| 29 | 1.294762e-05 |\n",
       "|  6 | 2.963204e-02 |\n",
       "|  8 | 1.190927e-01 |\n",
       "| 11 | 1.265696e-01 |\n",
       "| 24 | 9.059596e-04 |\n",
       "| 26 | 1.735130e-03 |\n",
       "|  6 | 1.593506e-01 |\n",
       "| 26 | 2.375714e-02 |\n",
       "|  5 | 2.970740e-02 |\n",
       "| 19 | 3.525816e-02 |\n",
       "| 28 | 5.450740e-03 |\n",
       "| 31 | 1.685494e-03 |\n",
       "|  7 | 2.567696e-02 |\n",
       "| 23 | 4.605937e-02 |\n",
       "\n"
      ],
      "text/plain": [
       "   k_lst r_lst       \n",
       "1  12    5.812758e-03\n",
       "2  21    9.764268e-03\n",
       "3  16    6.984821e-02\n",
       "4  17    3.705062e-02\n",
       "5  26    3.324780e-02\n",
       "6   2    0.000000e+00\n",
       "7   5    0.000000e+00\n",
       "8   7    0.000000e+00\n",
       "9   4    0.000000e+00\n",
       "10  6    0.000000e+00\n",
       "11  9    0.000000e+00\n",
       "12 12    0.000000e+00\n",
       "13 24    0.000000e+00\n",
       "14  5    5.819238e-02\n",
       "15 14    1.590048e-01\n",
       "16 20    3.443971e-03\n",
       "17 29    2.671398e-04\n",
       "18 31    7.080420e-03\n",
       "19  8    2.461569e-01\n",
       "20 23    1.600272e-02\n",
       "21 28    3.648561e-02\n",
       "22 29    1.093300e-01\n",
       "23  3    6.209532e-01\n",
       "24  6    2.838408e-01\n",
       "25  7    8.534371e-02\n",
       "26 18    7.254534e-03\n",
       "27 20    1.955911e-03\n",
       "28 23    5.115993e-04\n",
       "29 27    1.120631e-04\n",
       "30 29    2.189512e-06\n",
       "31 31    8.872540e-07\n",
       "32  2    4.276218e-01\n",
       "33  3    1.650662e-02\n",
       "34  4    2.154000e-01\n",
       "35  9    2.359667e-03\n",
       "36 15    2.630588e-03\n",
       "37 16    5.220671e-04\n",
       "38 17    5.375484e-04\n",
       "39 18    7.018053e-05\n",
       "40 23    1.180596e-05\n",
       "41 27    4.333568e-05\n",
       "42 29    1.294762e-05\n",
       "43  6    2.963204e-02\n",
       "44  8    1.190927e-01\n",
       "45 11    1.265696e-01\n",
       "46 24    9.059596e-04\n",
       "47 26    1.735130e-03\n",
       "48  6    1.593506e-01\n",
       "49 26    2.375714e-02\n",
       "50  5    2.970740e-02\n",
       "51 19    3.525816e-02\n",
       "52 28    5.450740e-03\n",
       "53 31    1.685494e-03\n",
       "54  7    2.567696e-02\n",
       "55 23    4.605937e-02"
      ]
     },
     "metadata": {},
     "output_type": "display_data"
    }
   ],
   "source": [
    "data.frame(k_lst, r_lst)"
   ]
  },
  {
   "cell_type": "code",
   "execution_count": 23,
   "metadata": {
    "vscode": {
     "languageId": "r"
    }
   },
   "outputs": [],
   "source": [
    "# 반복 function\n",
    "rep = function(p = 12){\n",
    "    for (i in 1:p){\n",
    "    assign(paste0(\"k_\", i), sampling_k(cnt[i], rcp_60[i], 0))\n",
    "    }\n",
    "\n",
    "    for (i in 1:p){\n",
    "        assign(paste0(\"r_\", i), sampling_r(cnt[i], rcp_60[i], 0))\n",
    "    }\n",
    "\n",
    "    r_lst = c(r_1, r_2, r_3, r_4, r_5, r_6, r_7, r_8, r_9, r_10, r_11, r_12)\n",
    "    k_lst = c(k_1, k_2, k_3, k_4, k_5, k_6, k_7, k_8, k_9, k_10, k_11, k_12)\n",
    "\n",
    "    return (data.frame(k_lst, r_lst))\n",
    "}"
   ]
  },
  {
   "cell_type": "code",
   "execution_count": 24,
   "metadata": {
    "vscode": {
     "languageId": "r"
    }
   },
   "outputs": [],
   "source": [
    "# csv로 변환\n",
    "write.csv(rep(12), \"../../data/scenario_60.csv\")"
   ]
  },
  {
   "cell_type": "code",
   "execution_count": 71,
   "metadata": {
    "vscode": {
     "languageId": "r"
    }
   },
   "outputs": [
    {
     "data": {
      "text/html": [
       "<ol class=list-inline>\n",
       "\t<li>21</li>\n",
       "\t<li>28</li>\n",
       "\t<li>26</li>\n",
       "</ol>\n"
      ],
      "text/latex": [
       "\\begin{enumerate*}\n",
       "\\item 21\n",
       "\\item 28\n",
       "\\item 26\n",
       "\\end{enumerate*}\n"
      ],
      "text/markdown": [
       "1. 21\n",
       "2. 28\n",
       "3. 26\n",
       "\n",
       "\n"
      ],
      "text/plain": [
       "[1] 21 28 26"
      ]
     },
     "metadata": {},
     "output_type": "display_data"
    }
   ],
   "source": [
    "k_2"
   ]
  },
  {
   "cell_type": "code",
   "execution_count": 67,
   "metadata": {
    "vscode": {
     "languageId": "r"
    }
   },
   "outputs": [
    {
     "data": {
      "text/html": [
       "<ol class=list-inline>\n",
       "\t<li>4</li>\n",
       "\t<li>21</li>\n",
       "</ol>\n"
      ],
      "text/latex": [
       "\\begin{enumerate*}\n",
       "\\item 4\n",
       "\\item 21\n",
       "\\end{enumerate*}\n"
      ],
      "text/markdown": [
       "1. 4\n",
       "2. 21\n",
       "\n",
       "\n"
      ],
      "text/plain": [
       "[1]  4 21"
      ]
     },
     "metadata": {},
     "output_type": "display_data"
    }
   ],
   "source": [
    "k_1"
   ]
  },
  {
   "cell_type": "code",
   "execution_count": 73,
   "metadata": {
    "vscode": {
     "languageId": "r"
    }
   },
   "outputs": [
    {
     "data": {
      "text/html": [
       "<ol class=list-inline>\n",
       "\t<li>13</li>\n",
       "\t<li>19</li>\n",
       "\t<li>6</li>\n",
       "\t<li>5</li>\n",
       "</ol>\n"
      ],
      "text/latex": [
       "\\begin{enumerate*}\n",
       "\\item 13\n",
       "\\item 19\n",
       "\\item 6\n",
       "\\item 5\n",
       "\\end{enumerate*}\n"
      ],
      "text/markdown": [
       "1. 13\n",
       "2. 19\n",
       "3. 6\n",
       "4. 5\n",
       "\n",
       "\n"
      ],
      "text/plain": [
       "[1] 13 19  6  5"
      ]
     },
     "metadata": {},
     "output_type": "display_data"
    }
   ],
   "source": [
    "sampling_k(4, rcp[1], 0)"
   ]
  },
  {
   "cell_type": "code",
   "execution_count": null,
   "metadata": {
    "vscode": {
     "languageId": "r"
    }
   },
   "outputs": [],
   "source": []
  }
 ],
 "metadata": {
  "kernelspec": {
   "display_name": "R",
   "language": "R",
   "name": "ir"
  },
  "language_info": {
   "codemirror_mode": "r",
   "file_extension": ".r",
   "mimetype": "text/x-r-source",
   "name": "R",
   "pygments_lexer": "r",
   "version": "4.2.1"
  },
  "orig_nbformat": 4
 },
 "nbformat": 4,
 "nbformat_minor": 2
}
