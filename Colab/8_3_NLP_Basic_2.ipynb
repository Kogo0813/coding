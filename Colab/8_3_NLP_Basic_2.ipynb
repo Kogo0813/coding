{
  "nbformat": 4,
  "nbformat_minor": 0,
  "metadata": {
    "colab": {
      "provenance": []
    },
    "kernelspec": {
      "name": "python3",
      "display_name": "Python 3"
    },
    "language_info": {
      "name": "python"
    }
  },
  "cells": [
    {
      "cell_type": "code",
      "execution_count": null,
      "metadata": {
        "colab": {
          "base_uri": "https://localhost:8080/"
        },
        "id": "CM94PylEm8OB",
        "outputId": "8332fcf7-f8c7-4eba-b5b2-7819b70727b1"
      },
      "outputs": [
        {
          "output_type": "stream",
          "name": "stdout",
          "text": [
            "나는 돈을 모아서 인생 드라마인 나의 아저씨 대본집을 샀다\n",
            "['나는', '돈을', '모아서', '인생', '드라마인', '나의', '아저씨', '대본집을', '샀다']\n"
          ]
        }
      ],
      "source": [
        "import numpy\n",
        "import tensorflow as tf\n",
        "from numpy import array\n",
        "from keras.preprocessing.text import Tokenizer, text_to_word_sequence\n",
        "from keras.preprocessing.sequence import pad_sequences\n",
        "from keras.models import Sequential\n",
        "\n",
        "\n",
        "text = '나는 돈을 모아서 인생 드라마인 나의 아저씨 대본집을 샀다'\n",
        "\n",
        "result = tf.keras.preprocessing.text.text_to_word_sequence(text)\n",
        "print(text)\n",
        "print(result)"
      ]
    },
    {
      "cell_type": "code",
      "source": [
        "docs = ['우리가 인공지능을 공부하는 것은 인공지능 모델을 만드는 것이다',\n",
        "       '인공지능 모델을 만드는 것은 많은 학습을 거쳐야지 만들 수 있다.',\n",
        "       '학습을 많이 할 수록 인공지능 모델의 성능은 좋아지고 더 좋은 인공지능 모델을 만들수 있다.',\n",
        "       ]\n",
        " \n",
        "token = Tokenizer()             # 토큰화 함수 지정\n",
        "token.fit_on_texts(docs)       # 토큰화 함수에 문장 적용\n",
        " \n",
        "print('1 : ',token.word_counts) # 단어 갯수 출력\n",
        "print('2 : ', token.document_count) #document 갯수 출력\n",
        "print('3 : ', token.word_docs) #단어별 포함된 문장의 갯수 출력\n",
        "print('3 : ',  token.word_index) #단어별 인덱스"
      ],
      "metadata": {
        "colab": {
          "base_uri": "https://localhost:8080/"
        },
        "id": "hT3W9mKdnid0",
        "outputId": "1e779402-705e-476b-b97d-e1b8dc24610a"
      },
      "execution_count": null,
      "outputs": [
        {
          "output_type": "stream",
          "name": "stdout",
          "text": [
            "1 :  OrderedDict([('우리가', 1), ('인공지능을', 1), ('공부하는', 1), ('것은', 2), ('인공지능', 4), ('모델을', 3), ('만드는', 2), ('것이다', 1), ('많은', 1), ('학습을', 2), ('거쳐야지', 1), ('만들', 1), ('수', 1), ('있다', 2), ('많이', 1), ('할', 1), ('수록', 1), ('모델의', 1), ('성능은', 1), ('좋아지고', 1), ('더', 1), ('좋은', 1), ('만들수', 1)])\n",
            "2 :  3\n",
            "3 :  defaultdict(<class 'int'>, {'것이다': 1, '인공지능을': 1, '우리가': 1, '만드는': 2, '것은': 2, '공부하는': 1, '인공지능': 3, '모델을': 3, '수': 1, '있다': 2, '학습을': 2, '거쳐야지': 1, '많은': 1, '만들': 1, '할': 1, '많이': 1, '수록': 1, '모델의': 1, '좋아지고': 1, '성능은': 1, '좋은': 1, '더': 1, '만들수': 1})\n",
            "3 :  {'인공지능': 1, '모델을': 2, '것은': 3, '만드는': 4, '학습을': 5, '있다': 6, '우리가': 7, '인공지능을': 8, '공부하는': 9, '것이다': 10, '많은': 11, '거쳐야지': 12, '만들': 13, '수': 14, '많이': 15, '할': 16, '수록': 17, '모델의': 18, '성능은': 19, '좋아지고': 20, '더': 21, '좋은': 22, '만들수': 23}\n"
          ]
        }
      ]
    },
    {
      "cell_type": "code",
      "source": [
        "from keras.layers import Dense,Flatten,Embedding\n",
        "\n",
        "docs = [\"너무 재밌네요\",\"최고예요\",\"참 잘 만든 영화예요\",\"추천하고 싶은 영화입니다\",\"한번 더 보고싶네요\",\n",
        "        \"글쎄요\",\"별로예요\",\"생각보다 지루하네요\",\"연기가 어색해요\",\"재미없어요\"]\n",
        "\n",
        "# 긍정 리뷰는 1, 부정 리뷰는 0으로 클래스를 지정합니다.\n",
        "classes = array([1,1,1,1,1,0,0,0,0,0])\n",
        "\n",
        "# 토큰화 \n",
        "token = Tokenizer()\n",
        "token.fit_on_texts(docs)\n",
        "print('1 : ',token.word_index)\n",
        "print('2 : ',token.texts_to_sequences(docs)) #토큰 인덱스를 이용하여 텍스트의 리스트 생성\n",
        "\n",
        "x = token.texts_to_sequences(docs)\n",
        "# 패딩, 서로 다른 길이의 데이터를 4로 맞추어 줍니다.\n",
        "padded_x =pad_sequences(x, 4)  \n",
        "print(\"3 : \", padded_x) #행렬의 행과 렬을 맞추기 위하여 4개의 원소로 표현\n",
        " \n",
        "#임베딩에 입력될 단어의 수를 지정합니다.\n",
        "word_size = len(token.word_index)+1\n",
        " \n",
        "#단어 임베딩을 포함하여 딥러닝 모델을 만들고 결과를 출력합니다.\n",
        "model = Sequential()\n",
        "model.add(Embedding(word_size, 10, input_length=4))\n",
        "model.add(Flatten())\n",
        "model.add(Dense(1, activation='sigmoid'))\n",
        "model.compile(optimizer='adam', loss='binary_crossentropy', metrics=['accuracy'])\n",
        "model.fit(padded_x, classes, epochs=20, verbose=0)\n",
        "print(\"\\n Accuracy: %.4f\" % (model.evaluate(padded_x, classes)[1]))"
      ],
      "metadata": {
        "colab": {
          "base_uri": "https://localhost:8080/"
        },
        "id": "dPWk4lZap7qr",
        "outputId": "bd93961c-2403-4080-8a95-25e69b129fe0"
      },
      "execution_count": null,
      "outputs": [
        {
          "output_type": "stream",
          "name": "stdout",
          "text": [
            "1 :  {'너무': 1, '재밌네요': 2, '최고예요': 3, '참': 4, '잘': 5, '만든': 6, '영화예요': 7, '추천하고': 8, '싶은': 9, '영화입니다': 10, '한번': 11, '더': 12, '보고싶네요': 13, '글쎄요': 14, '별로예요': 15, '생각보다': 16, '지루하네요': 17, '연기가': 18, '어색해요': 19, '재미없어요': 20}\n",
            "2 :  [[1, 2], [3], [4, 5, 6, 7], [8, 9, 10], [11, 12, 13], [14], [15], [16, 17], [18, 19], [20]]\n",
            "3 :  [[ 0  0  1  2]\n",
            " [ 0  0  0  3]\n",
            " [ 4  5  6  7]\n",
            " [ 0  8  9 10]\n",
            " [ 0 11 12 13]\n",
            " [ 0  0  0 14]\n",
            " [ 0  0  0 15]\n",
            " [ 0  0 16 17]\n",
            " [ 0  0 18 19]\n",
            " [ 0  0  0 20]]\n",
            "1/1 [==============================] - 0s 119ms/step - loss: 0.6336 - accuracy: 0.9000\n",
            "\n",
            " Accuracy: 0.9000\n"
          ]
        }
      ]
    }
  ]
}