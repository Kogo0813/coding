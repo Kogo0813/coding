{
  "nbformat": 4,
  "nbformat_minor": 0,
  "metadata": {
    "colab": {
      "provenance": []
    },
    "kernelspec": {
      "name": "python3",
      "display_name": "Python 3"
    },
    "language_info": {
      "name": "python"
    }
  },
  "cells": [
    {
      "cell_type": "code",
      "execution_count": 1,
      "metadata": {
        "id": "zodvLCaFt5fM"
      },
      "outputs": [],
      "source": [
        "def set_initial_state(rooms = 6):\n",
        "  import numpy as np\n",
        "  return np.random.randint(0, rooms)"
      ]
    },
    {
      "cell_type": "code",
      "source": [
        "import os\n",
        "import pandas as pd\n",
        "import numpy as np\n",
        "import random\n",
        "os.getcwd()"
      ],
      "metadata": {
        "colab": {
          "base_uri": "https://localhost:8080/",
          "height": 35
        },
        "id": "yNLnTGCvuFbM",
        "outputId": "96951d4c-6ea3-4e75-bf7d-ee76128cd3ad"
      },
      "execution_count": 11,
      "outputs": [
        {
          "output_type": "execute_result",
          "data": {
            "text/plain": [
              "'/content'"
            ],
            "application/vnd.google.colaboratory.intrinsic+json": {
              "type": "string"
            }
          },
          "metadata": {},
          "execution_count": 11
        }
      ]
    },
    {
      "cell_type": "code",
      "source": [
        "rewards= np.array([\n",
        "    [-1, -1, -1, -1, 0, -1],\n",
        "    [-1, -1, -1, 0, -1, 100],\n",
        "    [-1, -1, -1, 0, -1, -1],\n",
        "    [-1, 0, 0, -1, 0, -1],\n",
        "    [0, -1 ,-1, 0, -1, 100],\n",
        "    [-1, 0, -1, -1, 0, 100]\n",
        "])"
      ],
      "metadata": {
        "id": "lnTo1S2K0hI6"
      },
      "execution_count": 12,
      "outputs": []
    },
    {
      "cell_type": "code",
      "source": [
        "q_matrix = np.zeros((6,6))\n"
      ],
      "metadata": {
        "id": "vTy1r9S70hsf"
      },
      "execution_count": 13,
      "outputs": []
    },
    {
      "cell_type": "code",
      "source": [
        "def get_action(current_state, reward_matrix): # 입력값 : 현재 상태, 보상 행렬\n",
        "  import random\n",
        "  valid_actions = [] # 빈 행렬 생성\n",
        "  for action in enumerate(reward_matrix[current_state]): # 현재 상태에 해당하는 보상에서 행동마다\n",
        "    if action[1] != -1: # 보상이 -1이 아니라면\n",
        "      valid_actions += [action[0]] # 유효행동행렬에 행동을 추가함\n",
        "  return random.choice(valid_actions)  # 유효행동 중 무작위로 반환함"
      ],
      "metadata": {
        "id": "4y2QHlHJuOPb"
      },
      "execution_count": 3,
      "outputs": []
    },
    {
      "cell_type": "code",
      "source": [
        "def take_action(current_state, reward_matrix, gamma, verbose = False): # 입력값 : 현재 상태, 보상 행렬, 감마 # verbose = False : 상세 정보 출력 X\n",
        "  action = get_action(current_state, reward_matrix) # 유효행동 중 하나 반환\n",
        "  sa_reward = reward_matrix[current_state, action] # 현재 상태와 그에 해당하는 행동을 보상 행렬에 추가\n",
        "  ns_reward = max(q_matrix[action, ]) # 다음 상태의 상태-행동 보상값\n",
        "  q_current_state = sa_reward + (gamma * ns_reward) # 현재 보상값에 다음 보상값에 gamma를 곱함\n",
        "  q_matrix[current_state, action] = q_current_state # 다음 행동-보상값 정의\n",
        "  new_state = action # 다음의 행동 정의\n",
        "  if verbose:\n",
        "    print(q_matrix)\n",
        "    print(f\"Old state: {current_state} | New state: {new_state}\\n\\n\")\n",
        "    if new_state == 5: # 5에 도달한다면 종료\n",
        "      print(f\"Agent has reached it's goal!\")\n",
        "  return new_state\n",
        "\n"
      ],
      "metadata": {
        "id": "FDfc9GKfwA3v"
      },
      "execution_count": 4,
      "outputs": []
    },
    {
      "cell_type": "code",
      "source": [
        "def initialize_episode(reward_matrix, initial_state, gamma, verbose = False):\n",
        "  current_state = initial_state # 에이전트가 목표 상태가 될때까지 시뮬레이션\n",
        "  while True:\n",
        "    current_state = take_action(current_state, reward_matrix, gamma, verbose)\n",
        "    if current_state == 5:\n",
        "      break"
      ],
      "metadata": {
        "id": "3ZntXUVbytT3"
      },
      "execution_count": 5,
      "outputs": []
    },
    {
      "cell_type": "code",
      "source": [
        "def train_agent(iterations, reward_matrix, gamma, verbose = False):\n",
        "  print(\"Training in progress..\") # 지정된 수의 에피소드를 실행한 후 행렬을 정규화\n",
        "  for episode in range(iterations):\n",
        "    initial_state = set_initial_state()\n",
        "    initialize_episode(reward_matrix, initial_state, gamma, verbose)\n",
        "  print(\"Training complete!\")\n",
        "  return q_matrix"
      ],
      "metadata": {
        "id": "bCHCNDXUzYUM"
      },
      "execution_count": 6,
      "outputs": []
    },
    {
      "cell_type": "code",
      "source": [
        "def normalize_matrix(q_matrix):\n",
        "  normalized_q = q_matrix / max(q_matrix[q_matrix.nonzero()]) * 100\n",
        "  return normalized_q.astype(int)"
      ],
      "metadata": {
        "id": "YwiDDI9_z-lC"
      },
      "execution_count": 7,
      "outputs": []
    },
    {
      "cell_type": "code",
      "source": [
        "gamma = 0.1\n",
        "initial_state = 2 # 2번방에서 시작\n",
        "initial_action = get_action(initial_state, rewards)\n",
        "initialize_episode(rewards, initial_state, gamma, True)"
      ],
      "metadata": {
        "colab": {
          "base_uri": "https://localhost:8080/"
        },
        "id": "qG1tsltw0LGu",
        "outputId": "13028c80-525c-4110-dd52-1f51818e1ea5"
      },
      "execution_count": 16,
      "outputs": [
        {
          "output_type": "stream",
          "name": "stdout",
          "text": [
            "[[  0.   0.   0.   0.   0.   0.]\n",
            " [  0.   0.   0.   0.   0. 100.]\n",
            " [  0.   0.   0.   0.   0.   0.]\n",
            " [  0.   0.   0.   0.   0.   0.]\n",
            " [  0.   0.   0.   0.   0. 100.]\n",
            " [  0.   0.   0.   0.   0.   0.]]\n",
            "Old state: 2 | New state: 3\n",
            "\n",
            "\n",
            "[[  0.   0.   0.   0.   0.   0.]\n",
            " [  0.   0.   0.   0.   0. 100.]\n",
            " [  0.   0.   0.   0.   0.   0.]\n",
            " [  0.  10.   0.   0.   0.   0.]\n",
            " [  0.   0.   0.   0.   0. 100.]\n",
            " [  0.   0.   0.   0.   0.   0.]]\n",
            "Old state: 3 | New state: 1\n",
            "\n",
            "\n",
            "[[  0.   0.   0.   0.   0.   0.]\n",
            " [  0.   0.   0.   0.   0. 100.]\n",
            " [  0.   0.   0.   0.   0.   0.]\n",
            " [  0.  10.   0.   0.   0.   0.]\n",
            " [  0.   0.   0.   0.   0. 100.]\n",
            " [  0.   0.   0.   0.   0.   0.]]\n",
            "Old state: 1 | New state: 5\n",
            "\n",
            "\n",
            "Agent has reached it's goal!\n"
          ]
        }
      ]
    },
    {
      "cell_type": "code",
      "source": [
        "gamma = 0.8\n",
        "initial_state = set_initial_state()\n",
        "initial_action = get_action(initial_state, rewards)\n",
        "\n",
        "pd.DataFrame(train_agent(2000, rewards, gamma, False))"
      ],
      "metadata": {
        "colab": {
          "base_uri": "https://localhost:8080/",
          "height": 273
        },
        "id": "9scg0uBN0dR8",
        "outputId": "a3434a52-2324-43cf-f909-4b566d775eef"
      },
      "execution_count": 18,
      "outputs": [
        {
          "output_type": "stream",
          "name": "stdout",
          "text": [
            "Training in progress..\n",
            "Training complete!\n"
          ]
        },
        {
          "output_type": "execute_result",
          "data": {
            "text/plain": [
              "       0      1      2      3      4      5\n",
              "0    0.0    0.0    0.0    0.0  400.0    0.0\n",
              "1    0.0    0.0    0.0  320.0    0.0  500.0\n",
              "2    0.0    0.0    0.0  320.0    0.0    0.0\n",
              "3    0.0  400.0  256.0    0.0  400.0    0.0\n",
              "4  320.0    0.0    0.0  320.0    0.0  500.0\n",
              "5    0.0  400.0    0.0    0.0  400.0  500.0"
            ],
            "text/html": [
              "\n",
              "  <div id=\"df-4db677d3-9f79-41f4-8a31-9655722da077\">\n",
              "    <div class=\"colab-df-container\">\n",
              "      <div>\n",
              "<style scoped>\n",
              "    .dataframe tbody tr th:only-of-type {\n",
              "        vertical-align: middle;\n",
              "    }\n",
              "\n",
              "    .dataframe tbody tr th {\n",
              "        vertical-align: top;\n",
              "    }\n",
              "\n",
              "    .dataframe thead th {\n",
              "        text-align: right;\n",
              "    }\n",
              "</style>\n",
              "<table border=\"1\" class=\"dataframe\">\n",
              "  <thead>\n",
              "    <tr style=\"text-align: right;\">\n",
              "      <th></th>\n",
              "      <th>0</th>\n",
              "      <th>1</th>\n",
              "      <th>2</th>\n",
              "      <th>3</th>\n",
              "      <th>4</th>\n",
              "      <th>5</th>\n",
              "    </tr>\n",
              "  </thead>\n",
              "  <tbody>\n",
              "    <tr>\n",
              "      <th>0</th>\n",
              "      <td>0.0</td>\n",
              "      <td>0.0</td>\n",
              "      <td>0.0</td>\n",
              "      <td>0.0</td>\n",
              "      <td>400.0</td>\n",
              "      <td>0.0</td>\n",
              "    </tr>\n",
              "    <tr>\n",
              "      <th>1</th>\n",
              "      <td>0.0</td>\n",
              "      <td>0.0</td>\n",
              "      <td>0.0</td>\n",
              "      <td>320.0</td>\n",
              "      <td>0.0</td>\n",
              "      <td>500.0</td>\n",
              "    </tr>\n",
              "    <tr>\n",
              "      <th>2</th>\n",
              "      <td>0.0</td>\n",
              "      <td>0.0</td>\n",
              "      <td>0.0</td>\n",
              "      <td>320.0</td>\n",
              "      <td>0.0</td>\n",
              "      <td>0.0</td>\n",
              "    </tr>\n",
              "    <tr>\n",
              "      <th>3</th>\n",
              "      <td>0.0</td>\n",
              "      <td>400.0</td>\n",
              "      <td>256.0</td>\n",
              "      <td>0.0</td>\n",
              "      <td>400.0</td>\n",
              "      <td>0.0</td>\n",
              "    </tr>\n",
              "    <tr>\n",
              "      <th>4</th>\n",
              "      <td>320.0</td>\n",
              "      <td>0.0</td>\n",
              "      <td>0.0</td>\n",
              "      <td>320.0</td>\n",
              "      <td>0.0</td>\n",
              "      <td>500.0</td>\n",
              "    </tr>\n",
              "    <tr>\n",
              "      <th>5</th>\n",
              "      <td>0.0</td>\n",
              "      <td>400.0</td>\n",
              "      <td>0.0</td>\n",
              "      <td>0.0</td>\n",
              "      <td>400.0</td>\n",
              "      <td>500.0</td>\n",
              "    </tr>\n",
              "  </tbody>\n",
              "</table>\n",
              "</div>\n",
              "      <button class=\"colab-df-convert\" onclick=\"convertToInteractive('df-4db677d3-9f79-41f4-8a31-9655722da077')\"\n",
              "              title=\"Convert this dataframe to an interactive table.\"\n",
              "              style=\"display:none;\">\n",
              "        \n",
              "  <svg xmlns=\"http://www.w3.org/2000/svg\" height=\"24px\"viewBox=\"0 0 24 24\"\n",
              "       width=\"24px\">\n",
              "    <path d=\"M0 0h24v24H0V0z\" fill=\"none\"/>\n",
              "    <path d=\"M18.56 5.44l.94 2.06.94-2.06 2.06-.94-2.06-.94-.94-2.06-.94 2.06-2.06.94zm-11 1L8.5 8.5l.94-2.06 2.06-.94-2.06-.94L8.5 2.5l-.94 2.06-2.06.94zm10 10l.94 2.06.94-2.06 2.06-.94-2.06-.94-.94-2.06-.94 2.06-2.06.94z\"/><path d=\"M17.41 7.96l-1.37-1.37c-.4-.4-.92-.59-1.43-.59-.52 0-1.04.2-1.43.59L10.3 9.45l-7.72 7.72c-.78.78-.78 2.05 0 2.83L4 21.41c.39.39.9.59 1.41.59.51 0 1.02-.2 1.41-.59l7.78-7.78 2.81-2.81c.8-.78.8-2.07 0-2.86zM5.41 20L4 18.59l7.72-7.72 1.47 1.35L5.41 20z\"/>\n",
              "  </svg>\n",
              "      </button>\n",
              "      \n",
              "  <style>\n",
              "    .colab-df-container {\n",
              "      display:flex;\n",
              "      flex-wrap:wrap;\n",
              "      gap: 12px;\n",
              "    }\n",
              "\n",
              "    .colab-df-convert {\n",
              "      background-color: #E8F0FE;\n",
              "      border: none;\n",
              "      border-radius: 50%;\n",
              "      cursor: pointer;\n",
              "      display: none;\n",
              "      fill: #1967D2;\n",
              "      height: 32px;\n",
              "      padding: 0 0 0 0;\n",
              "      width: 32px;\n",
              "    }\n",
              "\n",
              "    .colab-df-convert:hover {\n",
              "      background-color: #E2EBFA;\n",
              "      box-shadow: 0px 1px 2px rgba(60, 64, 67, 0.3), 0px 1px 3px 1px rgba(60, 64, 67, 0.15);\n",
              "      fill: #174EA6;\n",
              "    }\n",
              "\n",
              "    [theme=dark] .colab-df-convert {\n",
              "      background-color: #3B4455;\n",
              "      fill: #D2E3FC;\n",
              "    }\n",
              "\n",
              "    [theme=dark] .colab-df-convert:hover {\n",
              "      background-color: #434B5C;\n",
              "      box-shadow: 0px 1px 3px 1px rgba(0, 0, 0, 0.15);\n",
              "      filter: drop-shadow(0px 1px 2px rgba(0, 0, 0, 0.3));\n",
              "      fill: #FFFFFF;\n",
              "    }\n",
              "  </style>\n",
              "\n",
              "      <script>\n",
              "        const buttonEl =\n",
              "          document.querySelector('#df-4db677d3-9f79-41f4-8a31-9655722da077 button.colab-df-convert');\n",
              "        buttonEl.style.display =\n",
              "          google.colab.kernel.accessAllowed ? 'block' : 'none';\n",
              "\n",
              "        async function convertToInteractive(key) {\n",
              "          const element = document.querySelector('#df-4db677d3-9f79-41f4-8a31-9655722da077');\n",
              "          const dataTable =\n",
              "            await google.colab.kernel.invokeFunction('convertToInteractive',\n",
              "                                                     [key], {});\n",
              "          if (!dataTable) return;\n",
              "\n",
              "          const docLinkHtml = 'Like what you see? Visit the ' +\n",
              "            '<a target=\"_blank\" href=https://colab.research.google.com/notebooks/data_table.ipynb>data table notebook</a>'\n",
              "            + ' to learn more about interactive tables.';\n",
              "          element.innerHTML = '';\n",
              "          dataTable['output_type'] = 'display_data';\n",
              "          await google.colab.output.renderOutput(dataTable, element);\n",
              "          const docLink = document.createElement('div');\n",
              "          docLink.innerHTML = docLinkHtml;\n",
              "          element.appendChild(docLink);\n",
              "        }\n",
              "      </script>\n",
              "    </div>\n",
              "  </div>\n",
              "  "
            ]
          },
          "metadata": {},
          "execution_count": 18
        }
      ]
    },
    {
      "cell_type": "code",
      "source": [],
      "metadata": {
        "id": "JcxsRQiL1i3J"
      },
      "execution_count": null,
      "outputs": []
    }
  ]
}