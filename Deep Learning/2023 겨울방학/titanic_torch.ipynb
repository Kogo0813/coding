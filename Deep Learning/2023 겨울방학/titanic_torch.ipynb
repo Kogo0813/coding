{
 "cells": [
  {
   "cell_type": "code",
   "execution_count": 1,
   "metadata": {},
   "outputs": [],
   "source": [
    "import torch\n",
    "import torch.nn as nn\n",
    "from torch import optim\n",
    "\n",
    "from torch.utils.data import TensorDataset, DataLoader\n",
    "\n",
    "import numpy as np\n",
    "import pandas as pd\n",
    "import matplotlib.pyplot as plt"
   ]
  },
  {
   "cell_type": "code",
   "execution_count": 11,
   "metadata": {},
   "outputs": [],
   "source": [
    "train = pd.read_csv('D:\\\\Dropbox\\\\GitHub\\\\deepstudy\\\\ko\\\\data\\\\train.csv')\n",
    "X_test = pd.read_csv('D:\\\\Dropbox\\\\GitHub\\\\deepstudy\\\\ko\\\\data\\\\test (1).csv')\n",
    "y_test = pd.read_csv('D:\\\\Dropbox\\\\GitHub\\\\deepstudy\\\\ko\\\\data\\\\y_test.csv')"
   ]
  },
  {
   "cell_type": "code",
   "execution_count": 12,
   "metadata": {},
   "outputs": [],
   "source": [
    "train.Pclass = train.Pclass.astype('category')\n",
    "train.Embarked = train.Embarked.astype('category')\n",
    "train.Age = train.Age.astype('float32')\n",
    "train.drop(['PassengerId', 'Name', 'Ticket', 'Cabin'], axis=1, inplace=True)"
   ]
  },
  {
   "cell_type": "code",
   "execution_count": 13,
   "metadata": {},
   "outputs": [],
   "source": [
    "test = pd.concat([X_test, y_test], axis=1)\n",
    "test.Pclass = test.Pclass.astype('category')\n",
    "test.Age = test.Age.astype('float32')\n",
    "test.Embarked = test.Embarked.astype('category')\n",
    "\n",
    "test.drop(['PassengerId', 'Name', 'Ticket', 'Cabin'], axis=1, inplace=True)"
   ]
  },
  {
   "cell_type": "code",
   "execution_count": 14,
   "metadata": {},
   "outputs": [],
   "source": [
    "from sklearn.impute import SimpleImputer\n",
    "imputer = SimpleImputer(strategy='most_frequent')\n",
    "train[['Age', 'Embarked']] = imputer.fit_transform(train[['Age', 'Embarked']])\n",
    "test[['Age', 'Embarked']] = imputer.transform(test[['Age', 'Embarked']])"
   ]
  },
  {
   "cell_type": "code",
   "execution_count": 15,
   "metadata": {},
   "outputs": [],
   "source": [
    "add_train = pd.get_dummies(train[['Pclass', 'Sex', 'Embarked']])\n",
    "add_test = pd.get_dummies(test[['Pclass', 'Sex', 'Embarked']])\n",
    "\n",
    "train = pd.concat([train, add_train], axis=1)\n",
    "test = pd.concat([test, add_test], axis=1)\n",
    "\n",
    "train.drop(['Pclass', 'Sex', 'Embarked'], axis=1, inplace=True)\n",
    "test.drop(['Pclass', 'Sex', 'Embarked'], axis = 1, inplace = True)"
   ]
  },
  {
   "cell_type": "code",
   "execution_count": 16,
   "metadata": {},
   "outputs": [],
   "source": [
    "X = train.drop('Survived', axis = 1)\n",
    "y = train.Survived\n",
    "\n",
    "from sklearn.model_selection import train_test_split\n",
    "X_train, X_val, y_train, y_val = train_test_split(X, y ,test_size = 0.2, random_state=2023)"
   ]
  },
  {
   "cell_type": "code",
   "execution_count": 19,
   "metadata": {},
   "outputs": [],
   "source": [
    "X_train.Age = X_train.Age.astype('float32')\n",
    "X_train.Fare = X_train.Fare.astype('float32')\n",
    "\n",
    "X_val.Age = X_val.Age.astype('float32')\n",
    "X_val.Fare = X_val.Fare.astype('float32')"
   ]
  },
  {
   "cell_type": "code",
   "execution_count": 21,
   "metadata": {},
   "outputs": [],
   "source": [
    "X_train = torch.Tensor(X_train.values)\n",
    "X_val = torch.Tensor(X_val.values)\n",
    "y_train = torch.Tensor(y_train.values)\n",
    "y_val = torch.Tensor(y_val.values)"
   ]
  },
  {
   "cell_type": "code",
   "execution_count": 23,
   "metadata": {},
   "outputs": [],
   "source": [
    "train_set = TensorDataset(X_train, y_train)\n",
    "val_set = TensorDataset(X_val, y_val)\n",
    "\n",
    "train_loader = DataLoader(train_set, batch_size=32, shuffle=True)\n",
    "val_loader = DataLoader(val_set, batch_size=32, shuffle=True)"
   ]
  },
  {
   "cell_type": "code",
   "execution_count": 26,
   "metadata": {},
   "outputs": [],
   "source": [
    "class DNN(nn.Module):\n",
    "    def __init__(self, input_size, output_size):\n",
    "        super(DNN, self).__init__()\n",
    "\n",
    "        self.input_size = input_size\n",
    "        self.output_size = output_size\n",
    "\n",
    "        self.fc = nn.Sequential(\n",
    "            nn.Flatten(),\n",
    "            nn.Linear(input_size, 500),\n",
    "            nn.ReLU(),\n",
    "            nn.Dropout(0.2),\n",
    "            nn.Linear(500, 500),\n",
    "            nn.ReLU(),\n",
    "            nn.Dropout(0.2),\n",
    "            nn.Linear(500, 1),\n",
    "            nn.Sigmoid()\n",
    "        )\n",
    "\n",
    "    def forward(self, x):\n",
    "        x = self.fc(x)\n",
    "        return x"
   ]
  },
  {
   "cell_type": "code",
   "execution_count": 28,
   "metadata": {},
   "outputs": [],
   "source": [
    "model = DNN(X_train.shape[1], 1)\n",
    "\n",
    "loss_func = nn.BCELoss()\n",
    "optimizer = optim.Adam(model.parameters(), lr=0.001)"
   ]
  },
  {
   "cell_type": "code",
   "execution_count": 30,
   "metadata": {},
   "outputs": [
    {
     "name": "stdout",
     "output_type": "stream",
     "text": [
      "Epoch: 0, Loss: 1.1276934146881104\n",
      "Epoch: 100, Loss: 0.13266286253929138\n",
      "Epoch: 200, Loss: 0.3687034845352173\n",
      "Epoch: 300, Loss: 0.4183879494667053\n",
      "Epoch: 400, Loss: 0.12913432717323303\n"
     ]
    },
    {
     "data": {
      "text/plain": [
       "[<matplotlib.lines.Line2D at 0x23d4e5e0c10>]"
      ]
     },
     "execution_count": 30,
     "metadata": {},
     "output_type": "execute_result"
    },
    {
     "data": {
      "image/png": "[encoded data removed]",
      "text/plain": [
       "<Figure size 432x288 with 1 Axes>"
      ]
     },
     "metadata": {
      "needs_background": "light"
     },
     "output_type": "display_data"
    }
   ],
   "source": [
    "num_epochs = 500\n",
    "train_loss_list = []\n",
    "\n",
    "for epoch in range(num_epochs):\n",
    "    for X, y in train_loader:\n",
    "        optimizer.zero_grad()\n",
    "        y_pred = model(X)\n",
    "        loss = loss_func(y_pred, y.unsqueeze(1))\n",
    "        loss.backward()\n",
    "        optimizer.step()\n",
    "\n",
    "    train_loss_list.append(loss.item())\n",
    "\n",
    "    if epoch % 100 == 0:\n",
    "        print(f'Epoch: {epoch}, Loss: {loss.item()}')\n",
    "\n",
    "plt.plot(train_loss_list)\n"
   ]
  },
  {
   "cell_type": "code",
   "execution_count": 32,
   "metadata": {},
   "outputs": [],
   "source": [
    "torch.save(model.state_dict(), 'weights.pt')"
   ]
  },
  {
   "cell_type": "code",
   "execution_count": 34,
   "metadata": {},
   "outputs": [
    {
     "data": {
      "text/plain": [
       "DNN(\n",
       "  (fc): Sequential(\n",
       "    (0): Flatten(start_dim=1, end_dim=-1)\n",
       "    (1): Linear(in_features=12, out_features=500, bias=True)\n",
       "    (2): ReLU()\n",
       "    (3): Dropout(p=0.2, inplace=False)\n",
       "    (4): Linear(in_features=500, out_features=500, bias=True)\n",
       "    (5): ReLU()\n",
       "    (6): Dropout(p=0.2, inplace=False)\n",
       "    (7): Linear(in_features=500, out_features=1, bias=True)\n",
       "    (8): Sigmoid()\n",
       "  )\n",
       ")"
      ]
     },
     "execution_count": 34,
     "metadata": {},
     "output_type": "execute_result"
    }
   ],
   "source": [
    "model.load_state_dict(torch.load('weights.pt'))\n",
    "model"
   ]
  },
  {
   "cell_type": "code",
   "execution_count": 84,
   "metadata": {},
   "outputs": [
    {
     "name": "stdout",
     "output_type": "stream",
     "text": [
      "Accuracy: 0.90625\n",
      "Accuracy: 0.84375\n",
      "Accuracy: 0.6875\n",
      "Accuracy: 0.59375\n",
      "Accuracy: 0.90625\n",
      "Accuracy: 0.8947368264198303\n",
      "Average Accuracy: 0.8053727746009827\n"
     ]
    }
   ],
   "source": [
    "y_pred_lst = []\n",
    "acc_lst = []\n",
    "with torch.no_grad():\n",
    "    model.eval()\n",
    "    for X, y in val_loader:\n",
    "        y_pred = model(X)\n",
    "        y_pred = (y_pred > 0.5).float()\n",
    "        y_pred_lst.append(y_pred)\n",
    "        acc = (y_pred == y.unsqueeze(1)).float().mean()\n",
    "        acc_lst.append(acc)\n",
    "        print(f'Accuracy: {acc.item()}')\n",
    "\n",
    "print(f'Average Accuracy: {sum(acc_lst)/len(acc_lst)}')\n",
    "    \n"
   ]
  },
  {
   "cell_type": "code",
   "execution_count": 88,
   "metadata": {},
   "outputs": [],
   "source": [
    "test.Age = test.Age.astype('float32')\n",
    "X_test = test.drop('Survived', axis=1)\n",
    "y_test = test.Survived\n",
    "\n",
    "X_test = torch.Tensor(X_test.values)\n",
    "y_test = torch.Tensor(y_test.values)\n",
    "\n"
   ]
  },
  {
   "cell_type": "code",
   "execution_count": 90,
   "metadata": {},
   "outputs": [
    {
     "name": "stdout",
     "output_type": "stream",
     "text": [
      "Accuracy: 0.8468899726867676\n"
     ]
    }
   ],
   "source": [
    "model.eval()\n",
    "with torch.no_grad():\n",
    "    y_pred = model(X_test)\n",
    "    y_pred = (y_pred > 0.5).float()\n",
    "    acc = (y_pred == y_test.unsqueeze(1)).float().mean()\n",
    "    print(f'Accuracy: {acc.item()}')\n",
    "    "
   ]
  },
  {
   "cell_type": "code",
   "execution_count": null,
   "metadata": {},
   "outputs": [],
   "source": []
  }
 ],
 "metadata": {
  "kernelspec": {
   "display_name": "base",
   "language": "python",
   "name": "python3"
  },
  "language_info": {
   "codemirror_mode": {
    "name": "ipython",
    "version": 3
   },
   "file_extension": ".py",
   "mimetype": "text/x-python",
   "name": "python",
   "nbconvert_exporter": "python",
   "pygments_lexer": "ipython3",
   "version": "3.9.12"
  },
  "orig_nbformat": 4,
  "vscode": {
   "interpreter": {
    "hash": "896dec041192bff481558047fad7d0e197250d6ee1a43bc027cd6e5b5fb3edf9"
   }
  }
 },
 "nbformat": 4,
 "nbformat_minor": 2
}
