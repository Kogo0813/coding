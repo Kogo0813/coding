{
 "cells": [
  {
   "cell_type": "code",
   "execution_count": 1,
   "metadata": {},
   "outputs": [],
   "source": [
    "import numpy as np\n",
    "import torch\n",
    "import torch.nn as nn\n",
    "import torch.autograd as grad\n",
    "\n",
    "from torch.utils.data import TensorDataset, DataLoader\n",
    "from torchvision import datasets, transforms\n",
    "import torchvision.datasets as dsets"
   ]
  },
  {
   "cell_type": "code",
   "execution_count": 2,
   "metadata": {},
   "outputs": [],
   "source": [
    "# load data\n",
    "mnist_train = dsets.MNIST(root='data/', train=True, transform=transforms.ToTensor(), download=True)\n",
    "mnist_test = dsets.MNIST(root='data/', train=False, transform=transforms.ToTensor(), download=True)"
   ]
  },
  {
   "cell_type": "code",
   "execution_count": 8,
   "metadata": {},
   "outputs": [
    {
     "name": "stdout",
     "output_type": "stream",
     "text": [
      "torch.Size([60000, 28, 28]) torch.Size([60000])\n",
      "torch.Size([10000, 28, 28]) torch.Size([10000])\n"
     ]
    }
   ],
   "source": [
    "print(mnist_train.data.shape, mnist_train.targets.shape)\n",
    "print(mnist_test.data.shape, mnist_test.targets.shape)"
   ]
  },
  {
   "cell_type": "code",
   "execution_count": 9,
   "metadata": {},
   "outputs": [],
   "source": [
    "# fix random seed\n",
    "torch.manual_seed(2023)\n",
    "\n",
    "# set parameters\n",
    "num_epochs = 15\n",
    "learning_rate = 0.001\n",
    "batch_size = 100\n"
   ]
  },
  {
   "cell_type": "code",
   "execution_count": 10,
   "metadata": {},
   "outputs": [],
   "source": [
    "data_loader = DataLoader(dataset = mnist_train, batch_size = batch_size, shuffle = True, drop_last = True)"
   ]
  },
  {
   "cell_type": "code",
   "execution_count": 11,
   "metadata": {},
   "outputs": [],
   "source": [
    "# define model\n",
    "\n",
    "class CNN(nn.Module):\n",
    "    def __init__(self, num_classes):\n",
    "        super(CNN, self).__init__()\n",
    "        self.num_classes = num_classes\n",
    "        \n",
    "        # 합성곱층, 활성화함수, 풀링층을 하나의 층으로 정의해버린다.\n",
    "        self.layer_1 = nn.Sequential(\n",
    "            nn.Conv2d(1, 32, kernel_size = 3, padding = 1, stride = 1),\n",
    "            nn.ReLU(),\n",
    "            nn.MaxPool2d(2) # 커널 사이즈, 스트라이드 = 2\n",
    "        )\n",
    "        self.layer_2 = nn.Sequential(\n",
    "            nn.Conv2d(32, 64, kernel_size = 3, padding = 1, stride = 1),\n",
    "            nn.ReLU(),\n",
    "            nn.MaxPool2d(2)\n",
    "        )\n",
    "        self.fc = nn.Linear(7 * 7 * 64, num_classes, bias = True)\n",
    "        nn.init.xavier_uniform_(self.fc.weight) # 전결합층 한정 가중치를 초기화 한다.\n",
    "        \n",
    "        \n",
    "    def forward(self, x):\n",
    "        out = self.layer_1(x)\n",
    "        out = self.layer_2(out)\n",
    "        out = out.view(out.size(0), -1)\n",
    "        out = self.fc(out)\n",
    "        return out"
   ]
  },
  {
   "cell_type": "code",
   "execution_count": 12,
   "metadata": {},
   "outputs": [],
   "source": [
    "# define loss function and optimizer\n",
    "model = CNN(10)\n",
    "\n",
    "loss_func = nn.CrossEntropyLoss()\n",
    "optimizer = torch.optim.Adam(model.parameters(), lr = learning_rate)"
   ]
  },
  {
   "cell_type": "code",
   "execution_count": 13,
   "metadata": {},
   "outputs": [
    {
     "name": "stdout",
     "output_type": "stream",
     "text": [
      "총 배치의 수 : 600\n"
     ]
    }
   ],
   "source": [
    "total_batch = len(data_loader)\n",
    "print('총 배치의 수 : {}'.format(total_batch))"
   ]
  },
  {
   "cell_type": "code",
   "execution_count": 14,
   "metadata": {},
   "outputs": [
    {
     "name": "stdout",
     "output_type": "stream",
     "text": [
      "Epoch : 0001, Cost : 0.212866664\n",
      "Epoch : 0002, Cost : 0.061608903\n",
      "Epoch : 0003, Cost : 0.044519044\n",
      "Epoch : 0004, Cost : 0.037997745\n",
      "Epoch : 0005, Cost : 0.029879838\n",
      "Epoch : 0006, Cost : 0.025223691\n",
      "Epoch : 0007, Cost : 0.022161689\n",
      "Epoch : 0008, Cost : 0.017780701\n",
      "Epoch : 0009, Cost : 0.014811752\n",
      "Epoch : 0010, Cost : 0.013788257\n",
      "Epoch : 0011, Cost : 0.010522249\n",
      "Epoch : 0012, Cost : 0.009566001\n",
      "Epoch : 0013, Cost : 0.008549294\n",
      "Epoch : 0014, Cost : 0.005482315\n",
      "Epoch : 0015, Cost : 0.005549218\n"
     ]
    }
   ],
   "source": [
    "# train\n",
    "for epoch in range(num_epochs):\n",
    "    avg_cost = 0\n",
    "    \n",
    "    for X, y in data_loader:\n",
    "        optimizer.zero_grad()\n",
    "        y_pred = model(X)\n",
    "        \n",
    "        cost = loss_func(y_pred, y)\n",
    "        cost.backward()\n",
    "        optimizer.step()\n",
    "        \n",
    "        avg_cost += cost / total_batch\n",
    "        \n",
    "    print('Epoch : {:04d}, Cost : {:.9f}'.format(epoch + 1, avg_cost))\n",
    "        "
   ]
  },
  {
   "cell_type": "code",
   "execution_count": 19,
   "metadata": {},
   "outputs": [
    {
     "name": "stdout",
     "output_type": "stream",
     "text": [
      "Accuracy :  0.9865999817848206\n"
     ]
    }
   ],
   "source": [
    "# test model\n",
    "model.eval()\n",
    "\n",
    "with torch.no_grad():\n",
    "    X_test = mnist_test.data.view(len(mnist_test), 1, 28, 28).float()\n",
    "    y_test = mnist_test.targets\n",
    "    \n",
    "    pred = model(X_test)\n",
    "    correct_prediction = torch.argmax(pred, 1) == y_test\n",
    "    accuracy = correct_prediction.float().mean()\n",
    "    print('Accuracy : ', accuracy.item())"
   ]
  },
  {
   "cell_type": "code",
   "execution_count": 18,
   "metadata": {},
   "outputs": [
    {
     "data": {
      "text/plain": [
       "tensor([7, 2, 1,  ..., 4, 5, 6])"
      ]
     },
     "execution_count": 18,
     "metadata": {},
     "output_type": "execute_result"
    }
   ],
   "source": [
    "mnist_test.targets"
   ]
  },
  {
   "cell_type": "code",
   "execution_count": null,
   "metadata": {},
   "outputs": [],
   "source": []
  }
 ],
 "metadata": {
  "kernelspec": {
   "display_name": "aarch",
   "language": "python",
   "name": "aarch"
  },
  "language_info": {
   "codemirror_mode": {
    "name": "ipython",
    "version": 3
   },
   "file_extension": ".py",
   "mimetype": "text/x-python",
   "name": "python",
   "nbconvert_exporter": "python",
   "pygments_lexer": "ipython3",
   "version": "3.10.9"
  },
  "orig_nbformat": 4
 },
 "nbformat": 4,
 "nbformat_minor": 2
}
