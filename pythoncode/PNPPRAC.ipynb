{
 "cells": [
  {
   "cell_type": "code",
   "execution_count": 5,
   "id": "cf625548",
   "metadata": {},
   "outputs": [],
   "source": [
    "def f() :\n",
    "    a = 5\n",
    "    b = 6\n",
    "    c = 7\n",
    "    return {'a' : a, 'b' : b, 'c' : c}"
   ]
  },
  {
   "cell_type": "code",
   "execution_count": 6,
   "id": "f6208f52",
   "metadata": {},
   "outputs": [],
   "source": [
    "a,b,c = f()"
   ]
  },
  {
   "cell_type": "code",
   "execution_count": 7,
   "id": "5388edf0",
   "metadata": {},
   "outputs": [
    {
     "data": {
      "text/plain": [
       "{'a': 5, 'b': 6, 'c': 7}"
      ]
     },
     "execution_count": 7,
     "metadata": {},
     "output_type": "execute_result"
    }
   ],
   "source": [
    "f()"
   ]
  },
  {
   "cell_type": "code",
   "execution_count": 37,
   "id": "69ab6db1",
   "metadata": {},
   "outputs": [],
   "source": [
    "string = ['aLaknv!', 'akdjiDKdkf?', '?dkjSdk']"
   ]
  },
  {
   "cell_type": "code",
   "execution_count": null,
   "id": "637201cf",
   "metadata": {},
   "outputs": [],
   "source": [
    "# strings의 문자열을 첫문자를 제외한 문자를 소문자로 만들어라"
   ]
  },
  {
   "cell_type": "code",
   "execution_count": 27,
   "id": "b7f1959e",
   "metadata": {},
   "outputs": [],
   "source": [
    "def clean_strings(strings):\n",
    "    result = []\n",
    "    for value in strings:\n",
    "        value = value.strip()\n",
    "        value = re.sub('[!#?]', '', value )\n",
    "        value = value.title()\n",
    "        result.append(value)\n",
    "    return result"
   ]
  },
  {
   "cell_type": "code",
   "execution_count": 17,
   "id": "8a2a525b",
   "metadata": {},
   "outputs": [],
   "source": [
    "import re"
   ]
  },
  {
   "cell_type": "code",
   "execution_count": 29,
   "id": "c5958f33",
   "metadata": {},
   "outputs": [
    {
     "data": {
      "text/plain": [
       "['Alaknv', 'Akdjidkdkf', 'Dkjsdk']"
      ]
     },
     "execution_count": 29,
     "metadata": {},
     "output_type": "execute_result"
    }
   ],
   "source": [
    "clean_strings(string)"
   ]
  },
  {
   "cell_type": "code",
   "execution_count": 30,
   "id": "c217f48d",
   "metadata": {},
   "outputs": [],
   "source": [
    "def move_punc(value):\n",
    "    return re.sub('[!#?]', '', value)"
   ]
  },
  {
   "cell_type": "code",
   "execution_count": 33,
   "id": "a6d6fb25",
   "metadata": {},
   "outputs": [],
   "source": [
    "clean_ops = [str.strip, str.title, move_punc]"
   ]
  },
  {
   "cell_type": "code",
   "execution_count": 42,
   "id": "a114caf3",
   "metadata": {},
   "outputs": [],
   "source": [
    "def clean_stirngs(string, ops):\n",
    "    result = []\n",
    "    for value in string:\n",
    "        for func in clean_ops:\n",
    "            value = func(value)\n",
    "        result.append(value)\n",
    "    return result"
   ]
  },
  {
   "cell_type": "code",
   "execution_count": 43,
   "id": "ad48e949",
   "metadata": {},
   "outputs": [
    {
     "data": {
      "text/plain": [
       "['Alaknv', 'Akdjidkdkf', 'Dkjsdk']"
      ]
     },
     "execution_count": 43,
     "metadata": {},
     "output_type": "execute_result"
    }
   ],
   "source": [
    "clean_stirngs(string, clean_ops)"
   ]
  },
  {
   "cell_type": "markdown",
   "id": "fb4bb30e",
   "metadata": {},
   "source": []
  },
  {
   "cell_type": "code",
   "execution_count": 45,
   "id": "08ff4a53",
   "metadata": {},
   "outputs": [],
   "source": [
    "equiv_anon = lambda x : x*2"
   ]
  },
  {
   "cell_type": "code",
   "execution_count": 48,
   "id": "04989f0a",
   "metadata": {},
   "outputs": [
    {
     "data": {
      "text/plain": [
       "8"
      ]
     },
     "execution_count": 48,
     "metadata": {},
     "output_type": "execute_result"
    }
   ],
   "source": [
    "equiv_anon(4)"
   ]
  },
  {
   "cell_type": "code",
   "execution_count": 49,
   "id": "fd580289",
   "metadata": {},
   "outputs": [],
   "source": [
    "strings = ['foo', 'card', 'bar', 'aaaa', 'abab']"
   ]
  },
  {
   "cell_type": "code",
   "execution_count": 50,
   "id": "d5915739",
   "metadata": {},
   "outputs": [],
   "source": [
    "strings.sort(key = lambda x : len(set(list(x))))"
   ]
  },
  {
   "cell_type": "code",
   "execution_count": 51,
   "id": "4e7c331c",
   "metadata": {},
   "outputs": [
    {
     "data": {
      "text/plain": [
       "['aaaa', 'foo', 'abab', 'bar', 'card']"
      ]
     },
     "execution_count": 51,
     "metadata": {},
     "output_type": "execute_result"
    }
   ],
   "source": [
    "strings"
   ]
  },
  {
   "cell_type": "code",
   "execution_count": 52,
   "id": "440d83b0",
   "metadata": {},
   "outputs": [],
   "source": [
    "def add_numbers(x, y):\n",
    "    return x + y"
   ]
  },
  {
   "cell_type": "code",
   "execution_count": 53,
   "id": "1d792e0c",
   "metadata": {},
   "outputs": [],
   "source": [
    "add_five = lambda y : add_numbers(5, y\n",
    "                    )"
   ]
  },
  {
   "cell_type": "code",
   "execution_count": 55,
   "id": "a78fa2f8",
   "metadata": {},
   "outputs": [
    {
     "data": {
      "text/plain": [
       "55"
      ]
     },
     "execution_count": 55,
     "metadata": {},
     "output_type": "execute_result"
    }
   ],
   "source": [
    "add_five(50)"
   ]
  },
  {
   "cell_type": "code",
   "execution_count": 57,
   "id": "33bf0047",
   "metadata": {},
   "outputs": [],
   "source": [
    "from functools import partial\n",
    "add_five = partial(add_numbers, 5)"
   ]
  },
  {
   "cell_type": "code",
   "execution_count": 59,
   "id": "654c8acd",
   "metadata": {},
   "outputs": [],
   "source": [
    "some_dict = {'a' : 1, 'b' : 2, 'c' : 3}"
   ]
  },
  {
   "cell_type": "code",
   "execution_count": 60,
   "id": "0b508a12",
   "metadata": {},
   "outputs": [],
   "source": [
    "dict_iterater = iter(some_dict)"
   ]
  },
  {
   "cell_type": "code",
   "execution_count": 61,
   "id": "78bf1bb1",
   "metadata": {},
   "outputs": [
    {
     "data": {
      "text/plain": [
       "<dict_keyiterator at 0x1e84dee3180>"
      ]
     },
     "execution_count": 61,
     "metadata": {},
     "output_type": "execute_result"
    }
   ],
   "source": [
    "dict_iterater"
   ]
  },
  {
   "cell_type": "code",
   "execution_count": 62,
   "id": "8a98cba9",
   "metadata": {},
   "outputs": [],
   "source": [
    "def squa( n = 10):\n",
    "    print('generating squa from 1 to {0}'.format(n**2))\n",
    "    for i in range(1, n + 1):\n",
    "        yield i ** 2"
   ]
  },
  {
   "cell_type": "code",
   "execution_count": 64,
   "id": "697d7e3b",
   "metadata": {},
   "outputs": [],
   "source": [
    "gen = squa()"
   ]
  },
  {
   "cell_type": "code",
   "execution_count": 65,
   "id": "bbf22397",
   "metadata": {},
   "outputs": [
    {
     "data": {
      "text/plain": [
       "<generator object squa at 0x000001E84DEDD200>"
      ]
     },
     "execution_count": 65,
     "metadata": {},
     "output_type": "execute_result"
    }
   ],
   "source": [
    "gen"
   ]
  },
  {
   "cell_type": "code",
   "execution_count": 66,
   "id": "97b267dd",
   "metadata": {},
   "outputs": [
    {
     "name": "stdout",
     "output_type": "stream",
     "text": [
      "generating squa from 1 to 100\n",
      "1 4 9 16 25 36 49 64 81 100 "
     ]
    }
   ],
   "source": [
    "for x in gen:\n",
    "    print(x , end = ' ')"
   ]
  },
  {
   "cell_type": "code",
   "execution_count": 67,
   "id": "dc92259a",
   "metadata": {},
   "outputs": [],
   "source": [
    "gen = (x ** 2 for x in range(100))"
   ]
  },
  {
   "cell_type": "code",
   "execution_count": 68,
   "id": "c20c0f93",
   "metadata": {},
   "outputs": [
    {
     "data": {
      "text/plain": [
       "<generator object <genexpr> at 0x000001E84DEDD580>"
      ]
     },
     "execution_count": 68,
     "metadata": {},
     "output_type": "execute_result"
    }
   ],
   "source": [
    "gen"
   ]
  },
  {
   "cell_type": "code",
   "execution_count": 69,
   "id": "6a44e4e1",
   "metadata": {},
   "outputs": [
    {
     "ename": "NameError",
     "evalue": "name 'square' is not defined",
     "output_type": "error",
     "traceback": [
      "\u001b[1;31m---------------------------------------------------------------------------\u001b[0m",
      "\u001b[1;31mNameError\u001b[0m                                 Traceback (most recent call last)",
      "\u001b[1;32m~\\AppData\\Local\\Temp/ipykernel_19068/1291548297.py\u001b[0m in \u001b[0;36m<module>\u001b[1;34m\u001b[0m\n\u001b[1;32m----> 1\u001b[1;33m \u001b[0msquare\u001b[0m\u001b[1;33m(\u001b[0m\u001b[1;33m)\u001b[0m\u001b[1;33m\u001b[0m\u001b[1;33m\u001b[0m\u001b[0m\n\u001b[0m",
      "\u001b[1;31mNameError\u001b[0m: name 'square' is not defined"
     ]
    }
   ],
   "source": [
    "square()"
   ]
  },
  {
   "cell_type": "code",
   "execution_count": 79,
   "id": "60345299",
   "metadata": {},
   "outputs": [],
   "source": [
    "def number_generator():\n",
    "    yield 1\n",
    "    yield 2\n",
    "    yield 3"
   ]
  },
  {
   "cell_type": "code",
   "execution_count": 77,
   "id": "dd0b9113",
   "metadata": {},
   "outputs": [
    {
     "data": {
      "text/plain": [
       "<generator object number_generator at 0x000001E84DEE8040>"
      ]
     },
     "execution_count": 77,
     "metadata": {},
     "output_type": "execute_result"
    }
   ],
   "source": [
    "number_generator()"
   ]
  },
  {
   "cell_type": "code",
   "execution_count": 72,
   "id": "4e861a95",
   "metadata": {},
   "outputs": [],
   "source": [
    "g = number_generator()"
   ]
  },
  {
   "cell_type": "code",
   "execution_count": 74,
   "id": "5e078093",
   "metadata": {},
   "outputs": [
    {
     "data": {
      "text/plain": [
       "2"
      ]
     },
     "execution_count": 74,
     "metadata": {},
     "output_type": "execute_result"
    }
   ],
   "source": [
    "g.__next__()"
   ]
  },
  {
   "cell_type": "code",
   "execution_count": 75,
   "id": "9e1e66e9",
   "metadata": {},
   "outputs": [
    {
     "data": {
      "text/plain": [
       "3"
      ]
     },
     "execution_count": 75,
     "metadata": {},
     "output_type": "execute_result"
    }
   ],
   "source": [
    "g.__next__()"
   ]
  },
  {
   "cell_type": "code",
   "execution_count": 84,
   "id": "04f0c227",
   "metadata": {},
   "outputs": [
    {
     "name": "stdout",
     "output_type": "stream",
     "text": [
      "1\n",
      "2\n",
      "3\n"
     ]
    }
   ],
   "source": [
    "for i in number_generator():\n",
    "        print(i)"
   ]
  },
  {
   "cell_type": "code",
   "execution_count": 85,
   "id": "1c237211",
   "metadata": {},
   "outputs": [],
   "source": [
    "import itertools"
   ]
  },
  {
   "cell_type": "code",
   "execution_count": 86,
   "id": "ca3fb4d0",
   "metadata": {},
   "outputs": [],
   "source": [
    "first_letter = lambda x : x[0]"
   ]
  },
  {
   "cell_type": "code",
   "execution_count": 88,
   "id": "f8bc6eb3",
   "metadata": {},
   "outputs": [],
   "source": [
    "names = ['alan', 'adam' , 'wes', 'will', 'albert', 'steven']"
   ]
  },
  {
   "cell_type": "code",
   "execution_count": 92,
   "id": "09dc2c48",
   "metadata": {},
   "outputs": [
    {
     "name": "stdout",
     "output_type": "stream",
     "text": [
      "a ['alan', 'adam']\n",
      "w ['wes', 'will']\n",
      "a ['albert']\n",
      "s ['steven']\n"
     ]
    }
   ],
   "source": [
    "for letter, names in itertools.groupby(names, first_letter):\n",
    "    print(letter, list(names))"
   ]
  },
  {
   "cell_type": "code",
   "execution_count": 105,
   "id": "72b5af7d",
   "metadata": {},
   "outputs": [],
   "source": [
    "path = 'C:/Users/KO/Documents/qq.txt'"
   ]
  },
  {
   "cell_type": "code",
   "execution_count": 119,
   "id": "32a4de4c",
   "metadata": {},
   "outputs": [],
   "source": [
    "f = open(path, 'r')"
   ]
  },
  {
   "cell_type": "code",
   "execution_count": 107,
   "id": "90261261",
   "metadata": {},
   "outputs": [],
   "source": [
    "f.close()"
   ]
  },
  {
   "cell_type": "code",
   "execution_count": 111,
   "id": "9750f1a0",
   "metadata": {},
   "outputs": [],
   "source": [
    "f = open('C:/Users/KO/Documents/tt.txt', 'w')\n",
    "for i in range(1, 11):\n",
    "    data = \"%d번째 줄입니다.\\n\" % i\n",
    "    f.write(data)\n",
    "f.close()"
   ]
  },
  {
   "cell_type": "code",
   "execution_count": 116,
   "id": "c3ede77a",
   "metadata": {},
   "outputs": [],
   "source": [
    "line = f.readline()"
   ]
  },
  {
   "cell_type": "code",
   "execution_count": 117,
   "id": "f02ab30a",
   "metadata": {},
   "outputs": [
    {
     "name": "stdout",
     "output_type": "stream",
     "text": [
      "dfg\n",
      "\n"
     ]
    }
   ],
   "source": [
    "print(line)"
   ]
  },
  {
   "cell_type": "code",
   "execution_count": 120,
   "id": "609deeef",
   "metadata": {},
   "outputs": [
    {
     "name": "stdout",
     "output_type": "stream",
     "text": [
      "dfgdf\n",
      "\n",
      "dfgsdfg\n",
      "\n",
      "dfg\n",
      "\n",
      "dsfgdg\n"
     ]
    }
   ],
   "source": [
    "while True:\n",
    "    line = f.readline()\n",
    "    if not line :\n",
    "        break\n",
    "    print(line)\n",
    "f.close()"
   ]
  },
  {
   "cell_type": "code",
   "execution_count": 1,
   "id": "cb4d74e4",
   "metadata": {},
   "outputs": [],
   "source": [
    "import numpy as np"
   ]
  },
  {
   "cell_type": "code",
   "execution_count": 2,
   "id": "2885b21f",
   "metadata": {},
   "outputs": [],
   "source": [
    "my_arr = np.arange(1000000)"
   ]
  },
  {
   "cell_type": "code",
   "execution_count": 4,
   "id": "3c5fd3a6",
   "metadata": {},
   "outputs": [],
   "source": [
    "my_list = list(range(1000000))"
   ]
  },
  {
   "cell_type": "code",
   "execution_count": 5,
   "id": "9017827c",
   "metadata": {},
   "outputs": [
    {
     "name": "stdout",
     "output_type": "stream",
     "text": [
      "Wall time: 19.9 ms\n"
     ]
    }
   ],
   "source": [
    "%time for _ in range(10) : my_arr2 = my_arr * 2"
   ]
  },
  {
   "cell_type": "code",
   "execution_count": 6,
   "id": "392db824",
   "metadata": {},
   "outputs": [
    {
     "name": "stdout",
     "output_type": "stream",
     "text": [
      "Wall time: 857 ms\n"
     ]
    }
   ],
   "source": [
    "%time for _ in range(10) : my_list2 = [x * 2 for x in my_list]\n"
   ]
  },
  {
   "cell_type": "code",
   "execution_count": 7,
   "id": "83fe8ae0",
   "metadata": {},
   "outputs": [],
   "source": [
    "data = np.random.randn(2, 3)"
   ]
  },
  {
   "cell_type": "code",
   "execution_count": 8,
   "id": "7f06a05a",
   "metadata": {},
   "outputs": [
    {
     "data": {
      "text/plain": [
       "array([[ 0.01971585,  0.38004109,  0.28332439],\n",
       "       [ 0.10565309, -1.00016761, -1.0765312 ]])"
      ]
     },
     "execution_count": 8,
     "metadata": {},
     "output_type": "execute_result"
    }
   ],
   "source": [
    "data"
   ]
  },
  {
   "cell_type": "code",
   "execution_count": 10,
   "id": "bd2763f8",
   "metadata": {},
   "outputs": [
    {
     "data": {
      "text/plain": [
       "(2, 3)"
      ]
     },
     "execution_count": 10,
     "metadata": {},
     "output_type": "execute_result"
    }
   ],
   "source": [
    "data.shape"
   ]
  },
  {
   "cell_type": "code",
   "execution_count": 11,
   "id": "3e752fd5",
   "metadata": {},
   "outputs": [
    {
     "data": {
      "text/plain": [
       "dtype('float64')"
      ]
     },
     "execution_count": 11,
     "metadata": {},
     "output_type": "execute_result"
    }
   ],
   "source": [
    "data.dtype"
   ]
  },
  {
   "cell_type": "code",
   "execution_count": 12,
   "id": "0e7c1dd8",
   "metadata": {},
   "outputs": [],
   "source": [
    "data = [6, 7.5, 8, 0, 1]"
   ]
  },
  {
   "cell_type": "code",
   "execution_count": 13,
   "id": "00aac008",
   "metadata": {},
   "outputs": [],
   "source": [
    "arr1 = np.array(data)"
   ]
  },
  {
   "cell_type": "code",
   "execution_count": 14,
   "id": "30912d67",
   "metadata": {},
   "outputs": [
    {
     "data": {
      "text/plain": [
       "array([6. , 7.5, 8. , 0. , 1. ])"
      ]
     },
     "execution_count": 14,
     "metadata": {},
     "output_type": "execute_result"
    }
   ],
   "source": [
    "arr1"
   ]
  },
  {
   "cell_type": "code",
   "execution_count": 15,
   "id": "d8fe1207",
   "metadata": {},
   "outputs": [],
   "source": [
    "# 같은 길이를 가지고 있는 리스트는 다차원 배열로 변환가능"
   ]
  },
  {
   "cell_type": "code",
   "execution_count": 16,
   "id": "10e2cb46",
   "metadata": {},
   "outputs": [],
   "source": [
    "data = [(1, 2, 3, 4), (5, 6, 7, 8)]"
   ]
  },
  {
   "cell_type": "code",
   "execution_count": 17,
   "id": "5e200c0d",
   "metadata": {},
   "outputs": [],
   "source": [
    "arr2 = np.array(data)"
   ]
  },
  {
   "cell_type": "code",
   "execution_count": 18,
   "id": "34dffde5",
   "metadata": {},
   "outputs": [
    {
     "data": {
      "text/plain": [
       "array([[1, 2, 3, 4],\n",
       "       [5, 6, 7, 8]])"
      ]
     },
     "execution_count": 18,
     "metadata": {},
     "output_type": "execute_result"
    }
   ],
   "source": [
    "arr2"
   ]
  },
  {
   "cell_type": "code",
   "execution_count": 19,
   "id": "c2d70716",
   "metadata": {},
   "outputs": [
    {
     "data": {
      "text/plain": [
       "2"
      ]
     },
     "execution_count": 19,
     "metadata": {},
     "output_type": "execute_result"
    }
   ],
   "source": [
    "arr2.ndim"
   ]
  },
  {
   "cell_type": "code",
   "execution_count": 20,
   "id": "b78e9e87",
   "metadata": {},
   "outputs": [
    {
     "data": {
      "text/plain": [
       "array([0., 0., 0., 0., 0., 0., 0., 0., 0., 0.])"
      ]
     },
     "execution_count": 20,
     "metadata": {},
     "output_type": "execute_result"
    }
   ],
   "source": [
    "np.zeros(10)"
   ]
  },
  {
   "cell_type": "code",
   "execution_count": 21,
   "id": "1a8d88ba",
   "metadata": {},
   "outputs": [
    {
     "data": {
      "text/plain": [
       "array([1., 1., 1., 1., 1., 1., 1., 1., 1., 1.])"
      ]
     },
     "execution_count": 21,
     "metadata": {},
     "output_type": "execute_result"
    }
   ],
   "source": [
    "np.ones(10)"
   ]
  },
  {
   "cell_type": "code",
   "execution_count": 23,
   "id": "10fe9c48",
   "metadata": {},
   "outputs": [
    {
     "data": {
      "text/plain": [
       "array([0, 1, 2, 3, 4, 5, 6, 7, 8, 9])"
      ]
     },
     "execution_count": 23,
     "metadata": {},
     "output_type": "execute_result"
    }
   ],
   "source": [
    "np.arange(10)"
   ]
  },
  {
   "cell_type": "code",
   "execution_count": 25,
   "id": "54fe6a6b",
   "metadata": {},
   "outputs": [],
   "source": [
    "arr = np.array([1, 2, 3, 4, 5])"
   ]
  },
  {
   "cell_type": "code",
   "execution_count": 26,
   "id": "f8911f03",
   "metadata": {},
   "outputs": [
    {
     "data": {
      "text/plain": [
       "dtype('int32')"
      ]
     },
     "execution_count": 26,
     "metadata": {},
     "output_type": "execute_result"
    }
   ],
   "source": [
    "arr.dtype"
   ]
  },
  {
   "cell_type": "code",
   "execution_count": 27,
   "id": "5017525d",
   "metadata": {},
   "outputs": [],
   "source": [
    "float_arr = arr.astype(np.float64)"
   ]
  },
  {
   "cell_type": "code",
   "execution_count": 28,
   "id": "51091c0a",
   "metadata": {},
   "outputs": [
    {
     "data": {
      "text/plain": [
       "dtype('float64')"
      ]
     },
     "execution_count": 28,
     "metadata": {},
     "output_type": "execute_result"
    }
   ],
   "source": [
    "float_arr.dtype"
   ]
  },
  {
   "cell_type": "code",
   "execution_count": 29,
   "id": "0ef0ffd4",
   "metadata": {},
   "outputs": [],
   "source": [
    "arr = np.array([1,2.3, 3.4, 4.5])"
   ]
  },
  {
   "cell_type": "code",
   "execution_count": 30,
   "id": "34a06b83",
   "metadata": {},
   "outputs": [],
   "source": [
    "int_arr = arr.astype(np.int32)"
   ]
  },
  {
   "cell_type": "code",
   "execution_count": 31,
   "id": "30b66ef3",
   "metadata": {},
   "outputs": [
    {
     "data": {
      "text/plain": [
       "array([1, 2, 3, 4])"
      ]
     },
     "execution_count": 31,
     "metadata": {},
     "output_type": "execute_result"
    }
   ],
   "source": [
    "int_arr"
   ]
  },
  {
   "cell_type": "code",
   "execution_count": 35,
   "id": "a69f0875",
   "metadata": {},
   "outputs": [],
   "source": [
    "arr = np.array([[1. , 2. , 3. ], [4. ,5., 6 ]])"
   ]
  },
  {
   "cell_type": "code",
   "execution_count": 37,
   "id": "7d8b1547",
   "metadata": {},
   "outputs": [
    {
     "data": {
      "text/plain": [
       "array([[1., 2., 3.],\n",
       "       [4., 5., 6.]])"
      ]
     },
     "execution_count": 37,
     "metadata": {},
     "output_type": "execute_result"
    }
   ],
   "source": [
    "arr"
   ]
  },
  {
   "cell_type": "code",
   "execution_count": 43,
   "id": "0bf659dd",
   "metadata": {},
   "outputs": [],
   "source": [
    "names = np.array(['bob' ,'joe', 'will', 'bob', 'will', 'joe', 'joe'])"
   ]
  },
  {
   "cell_type": "code",
   "execution_count": 39,
   "id": "ce91b734",
   "metadata": {},
   "outputs": [],
   "source": [
    "data = np.random.randn(7,4)"
   ]
  },
  {
   "cell_type": "code",
   "execution_count": 40,
   "id": "f224a5f5",
   "metadata": {},
   "outputs": [
    {
     "data": {
      "text/plain": [
       "array(['bob', 'joe', 'will', 'bob', 'will', 'joe', 'joe'], dtype='<U4')"
      ]
     },
     "execution_count": 40,
     "metadata": {},
     "output_type": "execute_result"
    }
   ],
   "source": [
    "names"
   ]
  },
  {
   "cell_type": "code",
   "execution_count": 41,
   "id": "55bfaa20",
   "metadata": {},
   "outputs": [
    {
     "data": {
      "text/plain": [
       "array([[-0.06789253, -0.33487792,  0.59936283,  1.22851813],\n",
       "       [-1.09707089, -0.47491419,  0.14932562,  0.22076909],\n",
       "       [-0.06045231,  0.75116666,  0.04223738,  1.90603084],\n",
       "       [-0.03013089, -0.18276972,  0.742283  ,  1.945172  ],\n",
       "       [ 1.23026183, -1.14458577, -0.15275491,  0.01935548],\n",
       "       [-0.04978281,  0.20836286,  1.45510395, -1.14955795],\n",
       "       [ 0.47897196,  0.23778392,  0.66894327, -0.72766061]])"
      ]
     },
     "execution_count": 41,
     "metadata": {},
     "output_type": "execute_result"
    }
   ],
   "source": [
    "data"
   ]
  },
  {
   "cell_type": "code",
   "execution_count": 44,
   "id": "274685bf",
   "metadata": {},
   "outputs": [
    {
     "data": {
      "text/plain": [
       "array([ True, False, False,  True, False, False, False])"
      ]
     },
     "execution_count": 44,
     "metadata": {},
     "output_type": "execute_result"
    }
   ],
   "source": [
    "names == 'bob'"
   ]
  },
  {
   "cell_type": "code",
   "execution_count": 46,
   "id": "0bb63876",
   "metadata": {},
   "outputs": [
    {
     "data": {
      "text/plain": [
       "array([[0.59936283, 1.22851813],\n",
       "       [0.742283  , 1.945172  ]])"
      ]
     },
     "execution_count": 46,
     "metadata": {},
     "output_type": "execute_result"
    }
   ],
   "source": [
    "data[names == 'bob', 2:]"
   ]
  },
  {
   "cell_type": "code",
   "execution_count": 47,
   "id": "60d0eaba",
   "metadata": {},
   "outputs": [],
   "source": [
    "arr = np.empty((8,4))"
   ]
  },
  {
   "cell_type": "code",
   "execution_count": 48,
   "id": "fd54f812",
   "metadata": {},
   "outputs": [
    {
     "data": {
      "text/plain": [
       "array([[1.21655878e-311, 1.03259720e-321, 0.00000000e+000,\n",
       "        0.00000000e+000],\n",
       "       [0.00000000e+000, 5.02034658e+175, 8.23907265e-067,\n",
       "        2.73885895e-057],\n",
       "       [1.46582663e-075, 1.42697677e-071, 6.81451388e-067,\n",
       "        2.16385130e+190],\n",
       "       [1.94918964e-153, 5.30581644e+180, 4.32453723e-096,\n",
       "        2.14027814e+161],\n",
       "       [1.47762371e+248, 4.30625279e-096, 4.82337723e+228,\n",
       "        1.53259891e-047],\n",
       "       [9.72163476e-072, 3.79228090e+179, 4.31394783e-033,\n",
       "        4.26140842e-096],\n",
       "       [1.16097020e-028, 1.26071127e-076, 2.42196513e-028,\n",
       "        9.15781210e-072],\n",
       "       [1.04917183e-153, 9.08366791e+223, 6.14415221e-144,\n",
       "        4.05174788e-317]])"
      ]
     },
     "execution_count": 48,
     "metadata": {},
     "output_type": "execute_result"
    }
   ],
   "source": [
    "arr"
   ]
  },
  {
   "cell_type": "code",
   "execution_count": 49,
   "id": "31961d0d",
   "metadata": {},
   "outputs": [],
   "source": [
    "for i in range(8):\n",
    "    arr[i] = i"
   ]
  },
  {
   "cell_type": "code",
   "execution_count": 50,
   "id": "b319fa9e",
   "metadata": {},
   "outputs": [
    {
     "data": {
      "text/plain": [
       "array([[0., 0., 0., 0.],\n",
       "       [1., 1., 1., 1.],\n",
       "       [2., 2., 2., 2.],\n",
       "       [3., 3., 3., 3.],\n",
       "       [4., 4., 4., 4.],\n",
       "       [5., 5., 5., 5.],\n",
       "       [6., 6., 6., 6.],\n",
       "       [7., 7., 7., 7.]])"
      ]
     },
     "execution_count": 50,
     "metadata": {},
     "output_type": "execute_result"
    }
   ],
   "source": [
    "arr"
   ]
  },
  {
   "cell_type": "code",
   "execution_count": 51,
   "id": "5cdf94cd",
   "metadata": {},
   "outputs": [
    {
     "name": "stderr",
     "output_type": "stream",
     "text": [
      "C:\\Users\\KO\\AppData\\Local\\Temp/ipykernel_2384/3740665160.py:1: FutureWarning: Using a non-tuple sequence for multidimensional indexing is deprecated; use `arr[tuple(seq)]` instead of `arr[seq]`. In the future this will be interpreted as an array index, `arr[np.array(seq)]`, which will result either in an error or a different result.\n",
      "  arr[[[-3, -5, -7]]]\n"
     ]
    },
    {
     "data": {
      "text/plain": [
       "array([[5., 5., 5., 5.],\n",
       "       [3., 3., 3., 3.],\n",
       "       [1., 1., 1., 1.]])"
      ]
     },
     "execution_count": 51,
     "metadata": {},
     "output_type": "execute_result"
    }
   ],
   "source": [
    "arr[[[-3, -5, -7]]]"
   ]
  },
  {
   "cell_type": "code",
   "execution_count": 52,
   "id": "35269338",
   "metadata": {},
   "outputs": [],
   "source": [
    "arr = np.arange(15).reshape((3,5))"
   ]
  },
  {
   "cell_type": "code",
   "execution_count": 53,
   "id": "1e7bfa4b",
   "metadata": {},
   "outputs": [
    {
     "data": {
      "text/plain": [
       "array([[ 0,  1,  2,  3,  4],\n",
       "       [ 5,  6,  7,  8,  9],\n",
       "       [10, 11, 12, 13, 14]])"
      ]
     },
     "execution_count": 53,
     "metadata": {},
     "output_type": "execute_result"
    }
   ],
   "source": [
    "arr"
   ]
  },
  {
   "cell_type": "code",
   "execution_count": 55,
   "id": "a67e0469",
   "metadata": {},
   "outputs": [
    {
     "data": {
      "text/plain": [
       "array([[ 0,  5, 10],\n",
       "       [ 1,  6, 11],\n",
       "       [ 2,  7, 12],\n",
       "       [ 3,  8, 13],\n",
       "       [ 4,  9, 14]])"
      ]
     },
     "execution_count": 55,
     "metadata": {},
     "output_type": "execute_result"
    }
   ],
   "source": [
    "arr.T"
   ]
  },
  {
   "cell_type": "code",
   "execution_count": 56,
   "id": "b0df8a8f",
   "metadata": {},
   "outputs": [],
   "source": [
    "arr = np.random.randn(6, 3)"
   ]
  },
  {
   "cell_type": "code",
   "execution_count": 57,
   "id": "9c3d5124",
   "metadata": {},
   "outputs": [
    {
     "data": {
      "text/plain": [
       "array([[-0.48062864,  1.02718723,  0.62104759],\n",
       "       [-1.08591575, -0.79720897, -0.87024299],\n",
       "       [ 0.97428085,  0.3815597 , -0.59290785],\n",
       "       [ 0.16558598,  0.19203638,  0.13501006],\n",
       "       [ 0.94154051,  0.70828242, -2.43721836],\n",
       "       [-0.67140079,  1.21005477,  1.13441093]])"
      ]
     },
     "execution_count": 57,
     "metadata": {},
     "output_type": "execute_result"
    }
   ],
   "source": [
    "arr"
   ]
  },
  {
   "cell_type": "code",
   "execution_count": 58,
   "id": "e6b23cef",
   "metadata": {},
   "outputs": [
    {
     "data": {
      "text/plain": [
       "array([[ 3.72413634,  0.62999588, -2.96516989],\n",
       "       [ 0.62999588,  3.83901804,  0.77785521],\n",
       "       [-2.96516989,  0.77785521,  8.73971189]])"
      ]
     },
     "execution_count": 58,
     "metadata": {},
     "output_type": "execute_result"
    }
   ],
   "source": [
    "np.dot(arr.T, arr)"
   ]
  },
  {
   "cell_type": "code",
   "execution_count": 59,
   "id": "0a008fb8",
   "metadata": {},
   "outputs": [],
   "source": [
    "arr = np.arange(16).reshape((2,2,4))"
   ]
  },
  {
   "cell_type": "code",
   "execution_count": 60,
   "id": "6638c711",
   "metadata": {},
   "outputs": [
    {
     "data": {
      "text/plain": [
       "array([[[ 0,  1,  2,  3],\n",
       "        [ 4,  5,  6,  7]],\n",
       "\n",
       "       [[ 8,  9, 10, 11],\n",
       "        [12, 13, 14, 15]]])"
      ]
     },
     "execution_count": 60,
     "metadata": {},
     "output_type": "execute_result"
    }
   ],
   "source": [
    "arr"
   ]
  },
  {
   "cell_type": "raw",
   "id": "9a6cbb36",
   "metadata": {},
   "source": []
  },
  {
   "cell_type": "code",
   "execution_count": 61,
   "id": "50ca7e79",
   "metadata": {},
   "outputs": [
    {
     "data": {
      "text/plain": [
       "array([[[ 0,  1,  2,  3],\n",
       "        [ 8,  9, 10, 11]],\n",
       "\n",
       "       [[ 4,  5,  6,  7],\n",
       "        [12, 13, 14, 15]]])"
      ]
     },
     "execution_count": 61,
     "metadata": {},
     "output_type": "execute_result"
    }
   ],
   "source": [
    "arr.transpose((1, 0 ,2))"
   ]
  },
  {
   "cell_type": "raw",
   "id": "41615bb9",
   "metadata": {},
   "source": []
  },
  {
   "cell_type": "code",
   "execution_count": 62,
   "id": "79624be6",
   "metadata": {},
   "outputs": [
    {
     "data": {
      "text/plain": [
       "array([[[ 0,  4],\n",
       "        [ 1,  5],\n",
       "        [ 2,  6],\n",
       "        [ 3,  7]],\n",
       "\n",
       "       [[ 8, 12],\n",
       "        [ 9, 13],\n",
       "        [10, 14],\n",
       "        [11, 15]]])"
      ]
     },
     "execution_count": 62,
     "metadata": {},
     "output_type": "execute_result"
    }
   ],
   "source": [
    "arr.swapaxes(1, 2)"
   ]
  },
  {
   "cell_type": "code",
   "execution_count": 63,
   "id": "b4b49bd5",
   "metadata": {},
   "outputs": [
    {
     "data": {
      "text/plain": [
       "array([[[ 0,  1,  2,  3],\n",
       "        [ 4,  5,  6,  7]],\n",
       "\n",
       "       [[ 8,  9, 10, 11],\n",
       "        [12, 13, 14, 15]]])"
      ]
     },
     "execution_count": 63,
     "metadata": {},
     "output_type": "execute_result"
    }
   ],
   "source": [
    "arr"
   ]
  },
  {
   "cell_type": "code",
   "execution_count": 64,
   "id": "fbfc27c6",
   "metadata": {},
   "outputs": [],
   "source": [
    "arr = np.arange(10)"
   ]
  },
  {
   "cell_type": "code",
   "execution_count": 65,
   "id": "78c6a4b9",
   "metadata": {},
   "outputs": [
    {
     "data": {
      "text/plain": [
       "array([0.        , 1.        , 1.41421356, 1.73205081, 2.        ,\n",
       "       2.23606798, 2.44948974, 2.64575131, 2.82842712, 3.        ])"
      ]
     },
     "execution_count": 65,
     "metadata": {},
     "output_type": "execute_result"
    }
   ],
   "source": [
    "np.sqrt(arr)"
   ]
  },
  {
   "cell_type": "code",
   "execution_count": 66,
   "id": "b0bd0875",
   "metadata": {},
   "outputs": [],
   "source": [
    "x = np.random.randn(8)\n",
    "y = np.random.randn(8)"
   ]
  },
  {
   "cell_type": "code",
   "execution_count": 67,
   "id": "6466fcdd",
   "metadata": {},
   "outputs": [
    {
     "data": {
      "text/plain": [
       "array([ 0.8653142 ,  0.65797326,  1.13444686, -0.36021283,  0.13069129,\n",
       "        0.14019269, -0.0603222 ,  0.40302088])"
      ]
     },
     "execution_count": 67,
     "metadata": {},
     "output_type": "execute_result"
    }
   ],
   "source": [
    "np.maximum(x, y)"
   ]
  },
  {
   "cell_type": "code",
   "execution_count": 68,
   "id": "fb1e8114",
   "metadata": {},
   "outputs": [],
   "source": [
    "points = np.arange(-5, 5, 0.01)"
   ]
  },
  {
   "cell_type": "code",
   "execution_count": 69,
   "id": "74eebb54",
   "metadata": {},
   "outputs": [],
   "source": [
    "xs, ys = np.meshgrid(points, points)"
   ]
  },
  {
   "cell_type": "code",
   "execution_count": 70,
   "id": "f40e0f2e",
   "metadata": {},
   "outputs": [
    {
     "data": {
      "text/plain": [
       "array([[-5.  , -5.  , -5.  , ..., -5.  , -5.  , -5.  ],\n",
       "       [-4.99, -4.99, -4.99, ..., -4.99, -4.99, -4.99],\n",
       "       [-4.98, -4.98, -4.98, ..., -4.98, -4.98, -4.98],\n",
       "       ...,\n",
       "       [ 4.97,  4.97,  4.97, ...,  4.97,  4.97,  4.97],\n",
       "       [ 4.98,  4.98,  4.98, ...,  4.98,  4.98,  4.98],\n",
       "       [ 4.99,  4.99,  4.99, ...,  4.99,  4.99,  4.99]])"
      ]
     },
     "execution_count": 70,
     "metadata": {},
     "output_type": "execute_result"
    }
   ],
   "source": [
    "ys"
   ]
  },
  {
   "cell_type": "code",
   "execution_count": 71,
   "id": "3a71e409",
   "metadata": {},
   "outputs": [
    {
     "data": {
      "text/plain": [
       "array([[-5.  , -4.99, -4.98, ...,  4.97,  4.98,  4.99],\n",
       "       [-5.  , -4.99, -4.98, ...,  4.97,  4.98,  4.99],\n",
       "       [-5.  , -4.99, -4.98, ...,  4.97,  4.98,  4.99],\n",
       "       ...,\n",
       "       [-5.  , -4.99, -4.98, ...,  4.97,  4.98,  4.99],\n",
       "       [-5.  , -4.99, -4.98, ...,  4.97,  4.98,  4.99],\n",
       "       [-5.  , -4.99, -4.98, ...,  4.97,  4.98,  4.99]])"
      ]
     },
     "execution_count": 71,
     "metadata": {},
     "output_type": "execute_result"
    }
   ],
   "source": [
    "xs"
   ]
  },
  {
   "cell_type": "code",
   "execution_count": 72,
   "id": "d22df3e9",
   "metadata": {},
   "outputs": [],
   "source": [
    "z = np.sqrt(xs ** 2 + ys ** 2)"
   ]
  },
  {
   "cell_type": "code",
   "execution_count": 73,
   "id": "f81c8edf",
   "metadata": {},
   "outputs": [
    {
     "data": {
      "text/plain": [
       "array([[7.07106781, 7.06400028, 7.05693985, ..., 7.04988652, 7.05693985,\n",
       "        7.06400028],\n",
       "       [7.06400028, 7.05692568, 7.04985815, ..., 7.04279774, 7.04985815,\n",
       "        7.05692568],\n",
       "       [7.05693985, 7.04985815, 7.04278354, ..., 7.03571603, 7.04278354,\n",
       "        7.04985815],\n",
       "       ...,\n",
       "       [7.04988652, 7.04279774, 7.03571603, ..., 7.0286414 , 7.03571603,\n",
       "        7.04279774],\n",
       "       [7.05693985, 7.04985815, 7.04278354, ..., 7.03571603, 7.04278354,\n",
       "        7.04985815],\n",
       "       [7.06400028, 7.05692568, 7.04985815, ..., 7.04279774, 7.04985815,\n",
       "        7.05692568]])"
      ]
     },
     "execution_count": 73,
     "metadata": {},
     "output_type": "execute_result"
    }
   ],
   "source": [
    "z"
   ]
  },
  {
   "cell_type": "code",
   "execution_count": 74,
   "id": "11c45974",
   "metadata": {},
   "outputs": [],
   "source": [
    "import matplotlib.pyplot as plt"
   ]
  },
  {
   "cell_type": "code",
   "execution_count": 75,
   "id": "8b998911",
   "metadata": {},
   "outputs": [],
   "source": [
    "xarr = np.array([1.1 ,1.2, 1.3, 1.4, 1.5])\n",
    "yarr = np.array([2.1, 2.2, 2.3, 2.4, 2.5])\n",
    "cond = np.array([True, False, True, True, False])"
   ]
  },
  {
   "cell_type": "code",
   "execution_count": 76,
   "id": "7648e615",
   "metadata": {},
   "outputs": [
    {
     "ename": "NameError",
     "evalue": "name 'c' is not defined",
     "output_type": "error",
     "traceback": [
      "\u001b[1;31m---------------------------------------------------------------------------\u001b[0m",
      "\u001b[1;31mNameError\u001b[0m                                 Traceback (most recent call last)",
      "\u001b[1;32m~\\AppData\\Local\\Temp/ipykernel_2384/6186090.py\u001b[0m in \u001b[0;36m<module>\u001b[1;34m\u001b[0m\n\u001b[1;32m----> 1\u001b[1;33m result = [(x if c else y)\n\u001b[0m\u001b[0;32m      2\u001b[0m          for x, y, z in zip(xarr, yarr, cond)]\n",
      "\u001b[1;32m~\\AppData\\Local\\Temp/ipykernel_2384/6186090.py\u001b[0m in \u001b[0;36m<listcomp>\u001b[1;34m(.0)\u001b[0m\n\u001b[1;32m----> 1\u001b[1;33m result = [(x if c else y)\n\u001b[0m\u001b[0;32m      2\u001b[0m          for x, y, z in zip(xarr, yarr, cond)]\n",
      "\u001b[1;31mNameError\u001b[0m: name 'c' is not defined"
     ]
    }
   ],
   "source": [
    "result = [(x if c else y)\n",
    "         for x, y, z in zip(xarr, yarr, cond)]"
   ]
  },
  {
   "cell_type": "code",
   "execution_count": null,
   "id": "62935250",
   "metadata": {},
   "outputs": [],
   "source": []
  },
  {
   "cell_type": "code",
   "execution_count": null,
   "id": "8ff50c38",
   "metadata": {},
   "outputs": [],
   "source": []
  },
  {
   "cell_type": "code",
   "execution_count": null,
   "id": "c87682e3",
   "metadata": {},
   "outputs": [],
   "source": []
  },
  {
   "cell_type": "code",
   "execution_count": null,
   "id": "21b67cc5",
   "metadata": {},
   "outputs": [],
   "source": []
  },
  {
   "cell_type": "code",
   "execution_count": null,
   "id": "80db201b",
   "metadata": {},
   "outputs": [],
   "source": []
  },
  {
   "cell_type": "code",
   "execution_count": null,
   "id": "db26a663",
   "metadata": {},
   "outputs": [],
   "source": []
  },
  {
   "cell_type": "code",
   "execution_count": null,
   "id": "c0acc3fa",
   "metadata": {},
   "outputs": [],
   "source": []
  },
  {
   "cell_type": "code",
   "execution_count": null,
   "id": "0317541d",
   "metadata": {},
   "outputs": [],
   "source": []
  },
  {
   "cell_type": "code",
   "execution_count": null,
   "id": "e5405097",
   "metadata": {},
   "outputs": [],
   "source": []
  },
  {
   "cell_type": "code",
   "execution_count": null,
   "id": "129112cb",
   "metadata": {},
   "outputs": [],
   "source": []
  },
  {
   "cell_type": "code",
   "execution_count": null,
   "id": "e02c4b9b",
   "metadata": {},
   "outputs": [],
   "source": []
  },
  {
   "cell_type": "code",
   "execution_count": null,
   "id": "93a7366c",
   "metadata": {},
   "outputs": [],
   "source": []
  },
  {
   "cell_type": "code",
   "execution_count": null,
   "id": "cab1313c",
   "metadata": {},
   "outputs": [],
   "source": []
  },
  {
   "cell_type": "code",
   "execution_count": null,
   "id": "8b0092ae",
   "metadata": {},
   "outputs": [],
   "source": []
  },
  {
   "cell_type": "code",
   "execution_count": null,
   "id": "e8a85d43",
   "metadata": {},
   "outputs": [],
   "source": []
  },
  {
   "cell_type": "code",
   "execution_count": null,
   "id": "a882e15e",
   "metadata": {},
   "outputs": [],
   "source": []
  },
  {
   "cell_type": "code",
   "execution_count": null,
   "id": "e65f1ffe",
   "metadata": {},
   "outputs": [],
   "source": []
  },
  {
   "cell_type": "code",
   "execution_count": null,
   "id": "7b27b3e2",
   "metadata": {},
   "outputs": [],
   "source": []
  },
  {
   "cell_type": "code",
   "execution_count": null,
   "id": "c6bc805e",
   "metadata": {},
   "outputs": [],
   "source": []
  },
  {
   "cell_type": "code",
   "execution_count": null,
   "id": "990d6cd1",
   "metadata": {},
   "outputs": [],
   "source": []
  },
  {
   "cell_type": "code",
   "execution_count": null,
   "id": "26b72609",
   "metadata": {},
   "outputs": [],
   "source": []
  },
  {
   "cell_type": "code",
   "execution_count": null,
   "id": "d99a6021",
   "metadata": {},
   "outputs": [],
   "source": []
  },
  {
   "cell_type": "code",
   "execution_count": null,
   "id": "cd55f7df",
   "metadata": {},
   "outputs": [],
   "source": []
  },
  {
   "cell_type": "code",
   "execution_count": null,
   "id": "963430c9",
   "metadata": {},
   "outputs": [],
   "source": []
  },
  {
   "cell_type": "code",
   "execution_count": null,
   "id": "3a8634f4",
   "metadata": {},
   "outputs": [],
   "source": []
  },
  {
   "cell_type": "code",
   "execution_count": null,
   "id": "f53e4edf",
   "metadata": {},
   "outputs": [],
   "source": []
  },
  {
   "cell_type": "code",
   "execution_count": null,
   "id": "f5cf6f13",
   "metadata": {},
   "outputs": [],
   "source": []
  },
  {
   "cell_type": "code",
   "execution_count": null,
   "id": "d3e1e528",
   "metadata": {},
   "outputs": [],
   "source": []
  },
  {
   "cell_type": "code",
   "execution_count": null,
   "id": "ca7ed9e4",
   "metadata": {},
   "outputs": [],
   "source": []
  },
  {
   "cell_type": "code",
   "execution_count": null,
   "id": "b26b5856",
   "metadata": {},
   "outputs": [],
   "source": []
  },
  {
   "cell_type": "code",
   "execution_count": null,
   "id": "04a91653",
   "metadata": {},
   "outputs": [],
   "source": []
  },
  {
   "cell_type": "code",
   "execution_count": null,
   "id": "3d444648",
   "metadata": {},
   "outputs": [],
   "source": []
  },
  {
   "cell_type": "code",
   "execution_count": null,
   "id": "74203261",
   "metadata": {},
   "outputs": [],
   "source": []
  },
  {
   "cell_type": "code",
   "execution_count": null,
   "id": "1f235d8d",
   "metadata": {},
   "outputs": [],
   "source": []
  },
  {
   "cell_type": "code",
   "execution_count": null,
   "id": "5ae5847b",
   "metadata": {},
   "outputs": [],
   "source": []
  }
 ],
 "metadata": {
  "kernelspec": {
   "display_name": "Python 3 (ipykernel)",
   "language": "python",
   "name": "python3"
  },
  "language_info": {
   "codemirror_mode": {
    "name": "ipython",
    "version": 3
   },
   "file_extension": ".py",
   "mimetype": "text/x-python",
   "name": "python",
   "nbconvert_exporter": "python",
   "pygments_lexer": "ipython3",
   "version": "3.9.7"
  }
 },
 "nbformat": 4,
 "nbformat_minor": 5
}
